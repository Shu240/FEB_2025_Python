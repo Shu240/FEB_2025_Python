{
 "cells": [
  {
   "cell_type": "markdown",
   "id": "664d5084-e6b3-4ced-ace1-ef6df9e7dd91",
   "metadata": {},
   "source": [
    "- variables\n",
    "- eval input\n",
    "- basic python questions\n",
    "- packages\n",
    "- if-else\n",
    "- try-except"
   ]
  },
  {
   "cell_type": "markdown",
   "id": "719721fc-f965-4b1c-a08a-f1697bacf384",
   "metadata": {},
   "source": [
    "- **try-except**\n",
    "  - try and except is a concept of exception handling\n",
    "  - there are two blocks\n",
    "    - 1. try block\n",
    "    - 2. except block\n",
    "  - original code will run under try block\n",
    "  - if any error occurs in try block the error will be catched by the except block\n",
    "  - usecase\n",
    "    - 1. the code should catch the error automatically\n",
    "    - 2. the code should continue even though we got error"
   ]
  },
  {
   "cell_type": "code",
   "execution_count": 7,
   "id": "a5710ca0-fa71-46e5-8ee0-cb533478d357",
   "metadata": {},
   "outputs": [
    {
     "ename": "ZeroDivisionError",
     "evalue": "division by zero",
     "output_type": "error",
     "traceback": [
      "\u001b[1;31m---------------------------------------------------------------------------\u001b[0m",
      "\u001b[1;31mZeroDivisionError\u001b[0m                         Traceback (most recent call last)",
      "Cell \u001b[1;32mIn[7], line 3\u001b[0m\n\u001b[0;32m      1\u001b[0m a\u001b[38;5;241m=\u001b[39m\u001b[38;5;241m10\u001b[39m\n\u001b[0;32m      2\u001b[0m b\u001b[38;5;241m=\u001b[39m\u001b[38;5;241m0\u001b[39m\n\u001b[1;32m----> 3\u001b[0m c\u001b[38;5;241m=\u001b[39ma\u001b[38;5;241m/\u001b[39mb \u001b[38;5;66;03m# this is not a important line\u001b[39;00m\n\u001b[0;32m      4\u001b[0m       \u001b[38;5;66;03m# even though i am getting an error nothing will happen\u001b[39;00m\n\u001b[0;32m      5\u001b[0m       \u001b[38;5;66;03m# my python code should not stop here\u001b[39;00m\n\u001b[0;32m      6\u001b[0m       \u001b[38;5;66;03m# i want to create a log in that  wnt to catch the error\u001b[39;00m\n\u001b[0;32m      7\u001b[0m \u001b[38;5;28mprint\u001b[39m(\u001b[38;5;124m'\u001b[39m\u001b[38;5;124mhello\u001b[39m\u001b[38;5;124m'\u001b[39m)\n",
      "\u001b[1;31mZeroDivisionError\u001b[0m: division by zero"
     ]
    }
   ],
   "source": [
    "a=10\n",
    "b=0\n",
    "c=a/b # this is not a important line\n",
    "      # even though i am getting an error nothing will happen\n",
    "      # my python code should not stop here\n",
    "      # i want to create a log in that  wnt to catch the error\n",
    "print('hello')"
   ]
  },
  {
   "cell_type": "code",
   "execution_count": 9,
   "id": "91fa7114-b8d6-4c11-8d6f-6d06e21b8d11",
   "metadata": {},
   "outputs": [
    {
     "name": "stdout",
     "output_type": "stream",
     "text": [
      "Error coming in try block\n",
      "zero division error\n"
     ]
    }
   ],
   "source": [
    "try:\n",
    "    a=10\n",
    "    b=0\n",
    "    c=a/b\n",
    "except:\n",
    "    print('Error coming in try block')\n",
    "    print('zero division error')"
   ]
  },
  {
   "cell_type": "code",
   "execution_count": 11,
   "id": "cd415840-f6ae-4435-8a83-584fba897b27",
   "metadata": {},
   "outputs": [
    {
     "name": "stdout",
     "output_type": "stream",
     "text": [
      "1.0\n"
     ]
    }
   ],
   "source": [
    "try:\n",
    "    a=10\n",
    "    b=10\n",
    "    c=a/b\n",
    "    print(c)\n",
    "except:\n",
    "    print('Error coming in try block')\n",
    "    print('zero division error')"
   ]
  },
  {
   "cell_type": "markdown",
   "id": "b7f5b9c3-ef1b-41ee-8b1b-de1ae3816b20",
   "metadata": {},
   "source": [
    "**Note:**\n",
    "- except block will run when we got the error in try block\n",
    "- if the code is correct only try block will execute"
   ]
  },
  {
   "cell_type": "markdown",
   "id": "4ad96fe6-a52b-4069-814f-99d94d9a21f8",
   "metadata": {},
   "source": [
    "- Syntax error\n",
    "- attribute error\n",
    "- name error\n",
    "- type error\n",
    "- indentation error\n",
    "- module not found error\n",
    "- zero division error\n",
    "- object not callable error"
   ]
  },
  {
   "cell_type": "code",
   "execution_count": 15,
   "id": "503c06cf-fa83-4b28-a292-abb14b0dafd8",
   "metadata": {},
   "outputs": [
    {
     "ename": "SyntaxError",
     "evalue": "incomplete input (2075387570.py, line 2)",
     "output_type": "error",
     "traceback": [
      "\u001b[1;36m  Cell \u001b[1;32mIn[15], line 2\u001b[1;36m\u001b[0m\n\u001b[1;33m    print(a\u001b[0m\n\u001b[1;37m           ^\u001b[0m\n\u001b[1;31mSyntaxError\u001b[0m\u001b[1;31m:\u001b[0m incomplete input\n"
     ]
    }
   ],
   "source": [
    "a=10\n",
    "print(a"
   ]
  },
  {
   "cell_type": "markdown",
   "id": "14934af2-1f37-449d-b264-533c5d6b0292",
   "metadata": {},
   "source": [
    "- syntax error will not catch\n",
    "- minimum expectation evry one should write a code without syntax error"
   ]
  },
  {
   "cell_type": "code",
   "execution_count": 18,
   "id": "9d5cf498-c09a-43f3-b11b-e2ad5e8b42df",
   "metadata": {},
   "outputs": [
    {
     "ename": "ModuleNotFoundError",
     "evalue": "No module named 'nareshit'",
     "output_type": "error",
     "traceback": [
      "\u001b[1;31m---------------------------------------------------------------------------\u001b[0m",
      "\u001b[1;31mModuleNotFoundError\u001b[0m                       Traceback (most recent call last)",
      "Cell \u001b[1;32mIn[18], line 1\u001b[0m\n\u001b[1;32m----> 1\u001b[0m \u001b[38;5;28;01mimport\u001b[39;00m \u001b[38;5;21;01mnareshit\u001b[39;00m\n",
      "\u001b[1;31mModuleNotFoundError\u001b[0m: No module named 'nareshit'"
     ]
    }
   ],
   "source": [
    "import nareshit"
   ]
  },
  {
   "cell_type": "code",
   "execution_count": 20,
   "id": "e584b8a1-6944-4977-ae0e-0817b4c112a8",
   "metadata": {},
   "outputs": [
    {
     "ename": "AttributeError",
     "evalue": "module 'random' has no attribute 'pushpa2'",
     "output_type": "error",
     "traceback": [
      "\u001b[1;31m---------------------------------------------------------------------------\u001b[0m",
      "\u001b[1;31mAttributeError\u001b[0m                            Traceback (most recent call last)",
      "Cell \u001b[1;32mIn[20], line 2\u001b[0m\n\u001b[0;32m      1\u001b[0m \u001b[38;5;28;01mimport\u001b[39;00m \u001b[38;5;21;01mrandom\u001b[39;00m\n\u001b[1;32m----> 2\u001b[0m random\u001b[38;5;241m.\u001b[39mpushpa2\n",
      "\u001b[1;31mAttributeError\u001b[0m: module 'random' has no attribute 'pushpa2'"
     ]
    }
   ],
   "source": [
    "import random\n",
    "random.pushpa2"
   ]
  },
  {
   "cell_type": "code",
   "execution_count": 22,
   "id": "a2324702-2516-43dd-b6cd-8946f8007019",
   "metadata": {},
   "outputs": [
    {
     "ename": "NameError",
     "evalue": "name 'num1' is not defined",
     "output_type": "error",
     "traceback": [
      "\u001b[1;31m---------------------------------------------------------------------------\u001b[0m",
      "\u001b[1;31mNameError\u001b[0m                                 Traceback (most recent call last)",
      "Cell \u001b[1;32mIn[22], line 1\u001b[0m\n\u001b[1;32m----> 1\u001b[0m c\u001b[38;5;241m=\u001b[39mnum1\u001b[38;5;241m+\u001b[39mnum2\n",
      "\u001b[1;31mNameError\u001b[0m: name 'num1' is not defined"
     ]
    }
   ],
   "source": [
    "c=num1+num2"
   ]
  },
  {
   "cell_type": "code",
   "execution_count": 24,
   "id": "29c38f37-cb9e-4e4e-8bfe-8689d05e8e87",
   "metadata": {},
   "outputs": [
    {
     "ename": "TypeError",
     "evalue": "can't multiply sequence by non-int of type 'str'",
     "output_type": "error",
     "traceback": [
      "\u001b[1;31m---------------------------------------------------------------------------\u001b[0m",
      "\u001b[1;31mTypeError\u001b[0m                                 Traceback (most recent call last)",
      "Cell \u001b[1;32mIn[24], line 1\u001b[0m\n\u001b[1;32m----> 1\u001b[0m \u001b[38;5;124m'\u001b[39m\u001b[38;5;124m2\u001b[39m\u001b[38;5;124m'\u001b[39m\u001b[38;5;241m*\u001b[39m\u001b[38;5;124m'\u001b[39m\u001b[38;5;124m2\u001b[39m\u001b[38;5;124m'\u001b[39m\n",
      "\u001b[1;31mTypeError\u001b[0m: can't multiply sequence by non-int of type 'str'"
     ]
    }
   ],
   "source": [
    "'2'*'2'"
   ]
  },
  {
   "cell_type": "code",
   "execution_count": 26,
   "id": "bb7e26e8-283b-4d79-962d-31ea6027d1c0",
   "metadata": {},
   "outputs": [
    {
     "ename": "IndentationError",
     "evalue": "expected an indented block after 'if' statement on line 1 (3173271649.py, line 2)",
     "output_type": "error",
     "traceback": [
      "\u001b[1;36m  Cell \u001b[1;32mIn[26], line 2\u001b[1;36m\u001b[0m\n\u001b[1;33m    a=10\u001b[0m\n\u001b[1;37m    ^\u001b[0m\n\u001b[1;31mIndentationError\u001b[0m\u001b[1;31m:\u001b[0m expected an indented block after 'if' statement on line 1\n"
     ]
    }
   ],
   "source": [
    "if True:\n",
    "a=10"
   ]
  },
  {
   "cell_type": "code",
   "execution_count": 28,
   "id": "40ea21e5-d383-4f67-b794-e29f5238d78a",
   "metadata": {},
   "outputs": [
    {
     "ename": "TypeError",
     "evalue": "'module' object is not callable. Did you mean: 'random.random(...)'?",
     "output_type": "error",
     "traceback": [
      "\u001b[1;31m---------------------------------------------------------------------------\u001b[0m",
      "\u001b[1;31mTypeError\u001b[0m                                 Traceback (most recent call last)",
      "Cell \u001b[1;32mIn[28], line 1\u001b[0m\n\u001b[1;32m----> 1\u001b[0m random()\n",
      "\u001b[1;31mTypeError\u001b[0m: 'module' object is not callable. Did you mean: 'random.random(...)'?"
     ]
    }
   ],
   "source": [
    "random()"
   ]
  },
  {
   "cell_type": "markdown",
   "id": "e19b1243-37a1-466b-9c61-42e1d455c86b",
   "metadata": {},
   "source": [
    "---"
   ]
  },
  {
   "cell_type": "code",
   "execution_count": 30,
   "id": "8c10ef71-2bb4-4826-8f6b-09a9a64c0a7e",
   "metadata": {},
   "outputs": [
    {
     "ename": "SyntaxError",
     "evalue": "expected ':' (2944978400.py, line 1)",
     "output_type": "error",
     "traceback": [
      "\u001b[1;36m  Cell \u001b[1;32mIn[30], line 1\u001b[1;36m\u001b[0m\n\u001b[1;33m    if True\u001b[0m\n\u001b[1;37m           ^\u001b[0m\n\u001b[1;31mSyntaxError\u001b[0m\u001b[1;31m:\u001b[0m expected ':'\n"
     ]
    }
   ],
   "source": [
    "if True\n",
    "a=10"
   ]
  },
  {
   "cell_type": "code",
   "execution_count": 32,
   "id": "41dbadc5-46dc-45a2-8e5c-d9c988a3d4dc",
   "metadata": {},
   "outputs": [
    {
     "ename": "ModuleNotFoundError",
     "evalue": "No module named 'rrr'",
     "output_type": "error",
     "traceback": [
      "\u001b[1;31m---------------------------------------------------------------------------\u001b[0m",
      "\u001b[1;31mModuleNotFoundError\u001b[0m                       Traceback (most recent call last)",
      "Cell \u001b[1;32mIn[32], line 1\u001b[0m\n\u001b[1;32m----> 1\u001b[0m \u001b[38;5;28;01mimport\u001b[39;00m \u001b[38;5;21;01mrrr\u001b[39;00m\n",
      "\u001b[1;31mModuleNotFoundError\u001b[0m: No module named 'rrr'"
     ]
    }
   ],
   "source": [
    "import rrr"
   ]
  },
  {
   "cell_type": "code",
   "execution_count": 34,
   "id": "d0606b1a-ba64-44e4-8e84-cb1e909bdd5a",
   "metadata": {},
   "outputs": [
    {
     "ename": "AttributeError",
     "evalue": "module 'math' has no attribute 'trigno'",
     "output_type": "error",
     "traceback": [
      "\u001b[1;31m---------------------------------------------------------------------------\u001b[0m",
      "\u001b[1;31mAttributeError\u001b[0m                            Traceback (most recent call last)",
      "Cell \u001b[1;32mIn[34], line 2\u001b[0m\n\u001b[0;32m      1\u001b[0m \u001b[38;5;28;01mimport\u001b[39;00m \u001b[38;5;21;01mmath\u001b[39;00m\n\u001b[1;32m----> 2\u001b[0m math\u001b[38;5;241m.\u001b[39mtrigno\n",
      "\u001b[1;31mAttributeError\u001b[0m: module 'math' has no attribute 'trigno'"
     ]
    }
   ],
   "source": [
    "import math\n",
    "math.trigno"
   ]
  },
  {
   "cell_type": "code",
   "execution_count": 36,
   "id": "9dfebcef-6526-423d-a765-f9be8bde7ae7",
   "metadata": {},
   "outputs": [
    {
     "ename": "TypeError",
     "evalue": "can only concatenate str (not \"int\") to str",
     "output_type": "error",
     "traceback": [
      "\u001b[1;31m---------------------------------------------------------------------------\u001b[0m",
      "\u001b[1;31mTypeError\u001b[0m                                 Traceback (most recent call last)",
      "Cell \u001b[1;32mIn[36], line 1\u001b[0m\n\u001b[1;32m----> 1\u001b[0m \u001b[38;5;124m'\u001b[39m\u001b[38;5;124m10\u001b[39m\u001b[38;5;124m'\u001b[39m\u001b[38;5;241m+\u001b[39m\u001b[38;5;241m10\u001b[39m\n",
      "\u001b[1;31mTypeError\u001b[0m: can only concatenate str (not \"int\") to str"
     ]
    }
   ],
   "source": [
    "'10'+10"
   ]
  },
  {
   "cell_type": "code",
   "execution_count": 44,
   "id": "bfa6f40a-3d87-4eb3-b2c0-756bf454392a",
   "metadata": {},
   "outputs": [
    {
     "ename": "NameError",
     "evalue": "name 'x' is not defined",
     "output_type": "error",
     "traceback": [
      "\u001b[1;31m---------------------------------------------------------------------------\u001b[0m",
      "\u001b[1;31mNameError\u001b[0m                                 Traceback (most recent call last)",
      "Cell \u001b[1;32mIn[44], line 1\u001b[0m\n\u001b[1;32m----> 1\u001b[0m z\u001b[38;5;241m=\u001b[39mx\u001b[38;5;241m+\u001b[39m\u001b[38;5;241m22\u001b[39m\n",
      "\u001b[1;31mNameError\u001b[0m: name 'x' is not defined"
     ]
    }
   ],
   "source": [
    "z=x+22"
   ]
  },
  {
   "cell_type": "code",
   "execution_count": 46,
   "id": "5f37a99b-31a9-4127-9f5b-3da2a5096716",
   "metadata": {},
   "outputs": [
    {
     "ename": "IndentationError",
     "evalue": "expected an indented block after 'if' statement on line 1 (443733516.py, line 2)",
     "output_type": "error",
     "traceback": [
      "\u001b[1;36m  Cell \u001b[1;32mIn[46], line 2\u001b[1;36m\u001b[0m\n\u001b[1;33m    z=1\u001b[0m\n\u001b[1;37m    ^\u001b[0m\n\u001b[1;31mIndentationError\u001b[0m\u001b[1;31m:\u001b[0m expected an indented block after 'if' statement on line 1\n"
     ]
    }
   ],
   "source": [
    "if(100>0):\n",
    "z=1"
   ]
  },
  {
   "cell_type": "code",
   "execution_count": 48,
   "id": "43fe7f2b-32d7-4aac-bde6-b4eddf1e531a",
   "metadata": {},
   "outputs": [
    {
     "ename": "ZeroDivisionError",
     "evalue": "division by zero",
     "output_type": "error",
     "traceback": [
      "\u001b[1;31m---------------------------------------------------------------------------\u001b[0m",
      "\u001b[1;31mZeroDivisionError\u001b[0m                         Traceback (most recent call last)",
      "Cell \u001b[1;32mIn[48], line 1\u001b[0m\n\u001b[1;32m----> 1\u001b[0m \u001b[38;5;28mprint\u001b[39m(a\u001b[38;5;241m/\u001b[39m\u001b[38;5;241m0\u001b[39m)\n",
      "\u001b[1;31mZeroDivisionError\u001b[0m: division by zero"
     ]
    }
   ],
   "source": [
    "print(a/0)"
   ]
  },
  {
   "cell_type": "code",
   "execution_count": 52,
   "id": "c6ae08b0-1a94-4d17-b7c3-81b60ba42d82",
   "metadata": {},
   "outputs": [
    {
     "ename": "TypeError",
     "evalue": "'module' object is not callable",
     "output_type": "error",
     "traceback": [
      "\u001b[1;31m---------------------------------------------------------------------------\u001b[0m",
      "\u001b[1;31mTypeError\u001b[0m                                 Traceback (most recent call last)",
      "Cell \u001b[1;32mIn[52], line 1\u001b[0m\n\u001b[1;32m----> 1\u001b[0m math()\n",
      "\u001b[1;31mTypeError\u001b[0m: 'module' object is not callable"
     ]
    }
   ],
   "source": [
    "math()"
   ]
  },
  {
   "cell_type": "markdown",
   "id": "124ec812-2dc3-4bea-89df-22428a609e4d",
   "metadata": {},
   "source": [
    "---"
   ]
  },
  {
   "cell_type": "code",
   "execution_count": 82,
   "id": "3732e265-dd47-4fc5-aedd-e5d07e3f78ce",
   "metadata": {},
   "outputs": [
    {
     "name": "stdin",
     "output_type": "stream",
     "text": [
      "Enter n1: name\n"
     ]
    },
    {
     "name": "stdout",
     "output_type": "stream",
     "text": [
      "name 'name' is not defined\n"
     ]
    }
   ],
   "source": [
    "try:\n",
    "    n1=eval(input('Enter n1:'))\n",
    "    n2=eval(input('Enter n2:'))\n",
    "    div=n1/n5\n",
    "    print('the div is:',div)\n",
    "except Exception as e:\n",
    "    print(e)"
   ]
  },
  {
   "cell_type": "markdown",
   "id": "59c6ffbd-e1b6-4d57-82e7-f7d12e942941",
   "metadata": {},
   "source": [
    "- syntax error not catching\n",
    "- indentation error not catching"
   ]
  },
  {
   "cell_type": "code",
   "execution_count": null,
   "id": "3dccd498-8013-4a3a-8a70-76c40dff7f6f",
   "metadata": {},
   "outputs": [],
   "source": [
    "# step-1: are you able to write the code without silly mistake\n",
    "# step-2:are you able to understand the logic\n",
    "# step-3:are you able to implement the logic"
   ]
  },
  {
   "cell_type": "code",
   "execution_count": 91,
   "id": "86f48000-460c-4562-a619-5fd3ef6a62db",
   "metadata": {},
   "outputs": [
    {
     "name": "stdin",
     "output_type": "stream",
     "text": [
      "Enter num: 5\n"
     ]
    },
    {
     "name": "stdout",
     "output_type": "stream",
     "text": [
      "integer modulo by zero\n"
     ]
    }
   ],
   "source": [
    "try:\n",
    "    n=eval(input('Enter num:'))\n",
    "    if(n%0==0):\n",
    "        print(f'{n} is even')\n",
    "    else:\n",
    "        print(f'{n} is odd')\n",
    "except Exception as e:\n",
    "    print(e)"
   ]
  },
  {
   "cell_type": "code",
   "execution_count": 101,
   "id": "df8a1cdb-aec1-4c0e-96ae-bffadf18fdb2",
   "metadata": {},
   "outputs": [
    {
     "name": "stdin",
     "output_type": "stream",
     "text": [
      "Enter num: 45\n"
     ]
    },
    {
     "name": "stdout",
     "output_type": "stream",
     "text": [
      "name 'n21' is not defined\n",
      "a+b: 30\n"
     ]
    }
   ],
   "source": [
    "try:\n",
    "    n=eval(input('Enter num:'))\n",
    "    if(n%2==0):\n",
    "        print(f'{n21} is even')\n",
    "    else:\n",
    "        print(f'{n21} is odd')\n",
    "except Exception as e:\n",
    "    print(e)\n",
    "    a=10\n",
    "    b=20\n",
    "    print(\"a+b:\",a+b)"
   ]
  },
  {
   "cell_type": "code",
   "execution_count": null,
   "id": "0818c186-d953-4c4a-9720-1683fda317c8",
   "metadata": {},
   "outputs": [],
   "source": []
  }
 ],
 "metadata": {
  "kernelspec": {
   "display_name": "Python [conda env:base] *",
   "language": "python",
   "name": "conda-base-py"
  },
  "language_info": {
   "codemirror_mode": {
    "name": "ipython",
    "version": 3
   },
   "file_extension": ".py",
   "mimetype": "text/x-python",
   "name": "python",
   "nbconvert_exporter": "python",
   "pygments_lexer": "ipython3",
   "version": "3.12.7"
  }
 },
 "nbformat": 4,
 "nbformat_minor": 5
}
