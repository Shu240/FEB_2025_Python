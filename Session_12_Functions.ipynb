{
 "cells": [
  {
   "cell_type": "markdown",
   "id": "1136a808-d67e-4dde-9693-91e6bb22187f",
   "metadata": {},
   "source": [
    "**Function**\n",
    "- block of code which is executed when called\n",
    "- Reuse of the code block\n",
    "- Function is also called as method\n",
    "- there are several concepts in it:\n",
    "  - function without arguments\n",
    "  - functions with arguments\n",
    "  - functions with default arguments\n",
    "  - functions with keyword arguments(kwargs)\n",
    "  - functions with global and local variable\n",
    "  - function with return\n",
    "  - function in function"
   ]
  },
  {
   "cell_type": "markdown",
   "id": "56cadbce-a277-44f9-8aaf-d16a50246566",
   "metadata": {},
   "source": [
    "---\n",
    "**Function without arguments**"
   ]
  },
  {
   "cell_type": "raw",
   "id": "8e7c5980-20d2-4697-9b86-206b834f3cd7",
   "metadata": {},
   "source": [
    "# syntax\n",
    "# whenever you write function name remove <>\n",
    "def fun1():\n",
    "    <write your lines here>"
   ]
  },
  {
   "cell_type": "code",
   "execution_count": 6,
   "id": "d20775a4-2463-4439-9e12-c1586a258688",
   "metadata": {},
   "outputs": [
    {
     "name": "stdin",
     "output_type": "stream",
     "text": [
      "Enter number1: 100\n",
      "Enter number2: 200\n"
     ]
    },
    {
     "name": "stdout",
     "output_type": "stream",
     "text": [
      "The addition of 100 and 200 is 300.\n"
     ]
    }
   ],
   "source": [
    "num1=eval(input('Enter number1:'))\n",
    "num2=eval(input('Enter number2:'))\n",
    "add=num1+num2\n",
    "print(f'The addition of {num1} and {num2} is {add}.')"
   ]
  },
  {
   "cell_type": "code",
   "execution_count": 8,
   "id": "414c1b97-6960-4b9b-bac5-a4bfe990b12e",
   "metadata": {},
   "outputs": [],
   "source": [
    "def addition():\n",
    "    num1=eval(input('Enter number1:'))\n",
    "    num2=eval(input('Enter number2:'))\n",
    "    add=num1+num2\n",
    "    print(f'The addition of {num1} and {num2} is {add}.')    "
   ]
  },
  {
   "cell_type": "markdown",
   "id": "c5ef765c-6183-41c1-bb58-ca71c2ec3498",
   "metadata": {},
   "source": [
    "**calling the function**"
   ]
  },
  {
   "cell_type": "code",
   "execution_count": 11,
   "id": "34044727-006c-4be9-aaff-cdb0cd851d1d",
   "metadata": {},
   "outputs": [
    {
     "data": {
      "text/plain": [
       "<function __main__.addition()>"
      ]
     },
     "execution_count": 11,
     "metadata": {},
     "output_type": "execute_result"
    }
   ],
   "source": [
    "addition"
   ]
  },
  {
   "cell_type": "code",
   "execution_count": 13,
   "id": "723ccccf-c2ef-41bb-b69a-e7df44903ade",
   "metadata": {},
   "outputs": [
    {
     "name": "stdin",
     "output_type": "stream",
     "text": [
      "Enter number1: 100\n",
      "Enter number2: 500\n"
     ]
    },
    {
     "name": "stdout",
     "output_type": "stream",
     "text": [
      "The addition of 100 and 500 is 600.\n"
     ]
    }
   ],
   "source": [
    "addition()"
   ]
  },
  {
   "cell_type": "code",
   "execution_count": 17,
   "id": "774385db-eccc-442b-94e1-5dfc1414dcf2",
   "metadata": {},
   "outputs": [
    {
     "name": "stdin",
     "output_type": "stream",
     "text": [
      "Enter number1: 5\n",
      "Enter number2: 6\n"
     ]
    },
    {
     "name": "stdout",
     "output_type": "stream",
     "text": [
      "The sum of 5 and 6 is 11.\n"
     ]
    }
   ],
   "source": [
    "def addition():\n",
    "    n1=eval(input(\"Enter number1:\"))\n",
    "    n2=eval(input(\"Enter number2:\"))\n",
    "    add= n1+n2\n",
    "    print(f'The sum of {n1} and {n2} is {add}.')\n",
    "\n",
    "addition()"
   ]
  },
  {
   "cell_type": "markdown",
   "id": "3fed6b39-9838-4312-88f9-3cd7bdf3fc7b",
   "metadata": {},
   "source": [
    "**Note: Function rules are same as variable rules**\n",
    "- No special characters\n",
    "- No numbers before\n",
    "- no space between words etc.\n",
    "- Function name should not be any keywords\n",
    "- Function name should not be any package name\n",
    "- Function name should not be any book/file name\n",
    "- Function name should not be any variable used in that function"
   ]
  },
  {
   "cell_type": "markdown",
   "id": "4c3c10ae-5b83-4ff0-a4f2-b401140caf0a",
   "metadata": {},
   "source": [
    "- **While defining the function we can't know if there is error in code block**\n",
    "- For that we need to call the function"
   ]
  },
  {
   "cell_type": "code",
   "execution_count": 21,
   "id": "f646d0de-d100-43e5-960c-35526b6916b8",
   "metadata": {},
   "outputs": [
    {
     "name": "stdin",
     "output_type": "stream",
     "text": [
      "Enter number1: 5\n",
      "Enter number2: 6\n"
     ]
    },
    {
     "ename": "NameError",
     "evalue": "name 'n11' is not defined",
     "output_type": "error",
     "traceback": [
      "\u001b[1;31m---------------------------------------------------------------------------\u001b[0m",
      "\u001b[1;31mNameError\u001b[0m                                 Traceback (most recent call last)",
      "Cell \u001b[1;32mIn[21], line 7\u001b[0m\n\u001b[0;32m      4\u001b[0m     add2\u001b[38;5;241m=\u001b[39m n11\u001b[38;5;241m+\u001b[39mn4\n\u001b[0;32m      5\u001b[0m     \u001b[38;5;28mprint\u001b[39m(\u001b[38;5;124mf\u001b[39m\u001b[38;5;124m'\u001b[39m\u001b[38;5;124mThe sum of \u001b[39m\u001b[38;5;132;01m{\u001b[39;00mn3\u001b[38;5;132;01m}\u001b[39;00m\u001b[38;5;124m and \u001b[39m\u001b[38;5;132;01m{\u001b[39;00mn4\u001b[38;5;132;01m}\u001b[39;00m\u001b[38;5;124m is \u001b[39m\u001b[38;5;132;01m{\u001b[39;00madd2\u001b[38;5;132;01m}\u001b[39;00m\u001b[38;5;124m.\u001b[39m\u001b[38;5;124m'\u001b[39m)\n\u001b[1;32m----> 7\u001b[0m addition2()\n",
      "Cell \u001b[1;32mIn[21], line 4\u001b[0m, in \u001b[0;36maddition2\u001b[1;34m()\u001b[0m\n\u001b[0;32m      2\u001b[0m n3\u001b[38;5;241m=\u001b[39m\u001b[38;5;28meval\u001b[39m(\u001b[38;5;28minput\u001b[39m(\u001b[38;5;124m\"\u001b[39m\u001b[38;5;124mEnter number1:\u001b[39m\u001b[38;5;124m\"\u001b[39m))\n\u001b[0;32m      3\u001b[0m n4\u001b[38;5;241m=\u001b[39m\u001b[38;5;28meval\u001b[39m(\u001b[38;5;28minput\u001b[39m(\u001b[38;5;124m\"\u001b[39m\u001b[38;5;124mEnter number2:\u001b[39m\u001b[38;5;124m\"\u001b[39m))\n\u001b[1;32m----> 4\u001b[0m add2\u001b[38;5;241m=\u001b[39m n11\u001b[38;5;241m+\u001b[39mn4\n\u001b[0;32m      5\u001b[0m \u001b[38;5;28mprint\u001b[39m(\u001b[38;5;124mf\u001b[39m\u001b[38;5;124m'\u001b[39m\u001b[38;5;124mThe sum of \u001b[39m\u001b[38;5;132;01m{\u001b[39;00mn3\u001b[38;5;132;01m}\u001b[39;00m\u001b[38;5;124m and \u001b[39m\u001b[38;5;132;01m{\u001b[39;00mn4\u001b[38;5;132;01m}\u001b[39;00m\u001b[38;5;124m is \u001b[39m\u001b[38;5;132;01m{\u001b[39;00madd2\u001b[38;5;132;01m}\u001b[39;00m\u001b[38;5;124m.\u001b[39m\u001b[38;5;124m'\u001b[39m)\n",
      "\u001b[1;31mNameError\u001b[0m: name 'n11' is not defined"
     ]
    }
   ],
   "source": [
    "def addition2():\n",
    "    n3=eval(input(\"Enter number1:\"))\n",
    "    n4=eval(input(\"Enter number2:\"))\n",
    "    add2= n11+n4\n",
    "    print(f'The sum of {n3} and {n4} is {add2}.')\n",
    "\n",
    "addition2()"
   ]
  },
  {
   "cell_type": "code",
   "execution_count": 25,
   "id": "3dd975b5-f311-4258-b08d-318aacdcbac4",
   "metadata": {},
   "outputs": [
    {
     "name": "stdin",
     "output_type": "stream",
     "text": [
      "Enter number1: 5\n",
      "Enter number2: 6\n"
     ]
    },
    {
     "ename": "NameError",
     "evalue": "name 'n11' is not defined",
     "output_type": "error",
     "traceback": [
      "\u001b[1;31m---------------------------------------------------------------------------\u001b[0m",
      "\u001b[1;31mNameError\u001b[0m                                 Traceback (most recent call last)",
      "Cell \u001b[1;32mIn[25], line 10\u001b[0m\n\u001b[0;32m      7\u001b[0m \u001b[38;5;28;01mexcept\u001b[39;00m \u001b[38;5;167;01mException\u001b[39;00m \u001b[38;5;28;01mas\u001b[39;00m e:\n\u001b[0;32m      8\u001b[0m     \u001b[38;5;28mprint\u001b[39m(e)\n\u001b[1;32m---> 10\u001b[0m addition3()\n",
      "Cell \u001b[1;32mIn[25], line 5\u001b[0m, in \u001b[0;36maddition3\u001b[1;34m()\u001b[0m\n\u001b[0;32m      3\u001b[0m n1\u001b[38;5;241m=\u001b[39m\u001b[38;5;28meval\u001b[39m(\u001b[38;5;28minput\u001b[39m(\u001b[38;5;124m\"\u001b[39m\u001b[38;5;124mEnter number1:\u001b[39m\u001b[38;5;124m\"\u001b[39m))\n\u001b[0;32m      4\u001b[0m n2\u001b[38;5;241m=\u001b[39m\u001b[38;5;28meval\u001b[39m(\u001b[38;5;28minput\u001b[39m(\u001b[38;5;124m\"\u001b[39m\u001b[38;5;124mEnter number2:\u001b[39m\u001b[38;5;124m\"\u001b[39m))\n\u001b[1;32m----> 5\u001b[0m add\u001b[38;5;241m=\u001b[39m n11\u001b[38;5;241m+\u001b[39mn2\n\u001b[0;32m      6\u001b[0m \u001b[38;5;28mprint\u001b[39m(\u001b[38;5;124mf\u001b[39m\u001b[38;5;124m'\u001b[39m\u001b[38;5;124mThe sum of \u001b[39m\u001b[38;5;132;01m{\u001b[39;00mn1\u001b[38;5;132;01m}\u001b[39;00m\u001b[38;5;124m and \u001b[39m\u001b[38;5;132;01m{\u001b[39;00mn2\u001b[38;5;132;01m}\u001b[39;00m\u001b[38;5;124m is \u001b[39m\u001b[38;5;132;01m{\u001b[39;00madd\u001b[38;5;132;01m}\u001b[39;00m\u001b[38;5;124m.\u001b[39m\u001b[38;5;124m'\u001b[39m)\n",
      "\u001b[1;31mNameError\u001b[0m: name 'n11' is not defined"
     ]
    }
   ],
   "source": [
    "try:\n",
    "    def addition3():\n",
    "        n1=eval(input(\"Enter number1:\"))\n",
    "        n2=eval(input(\"Enter number2:\"))\n",
    "        add= n11+n2\n",
    "        print(f'The sum of {n1} and {n2} is {add}.')\n",
    "except Exception as e:\n",
    "    print(e)\n",
    "\n",
    "addition3()\n",
    "    "
   ]
  },
  {
   "cell_type": "code",
   "execution_count": 29,
   "id": "cf462344-5b1b-4e0e-ab56-e00e8f186dc8",
   "metadata": {},
   "outputs": [
    {
     "name": "stdin",
     "output_type": "stream",
     "text": [
      "Enter number1: 5\n",
      "Enter number2: 4\n"
     ]
    },
    {
     "name": "stdout",
     "output_type": "stream",
     "text": [
      "name 'n11' is not defined\n"
     ]
    }
   ],
   "source": [
    "def addition4():\n",
    "    try:\n",
    "        n1=eval(input(\"Enter number1:\"))\n",
    "        n2=eval(input(\"Enter number2:\"))\n",
    "        add= n11+n2\n",
    "        print(f'The sum of {n1} and {n2} is {add}.')\n",
    "    except Exception as e:\n",
    "        print(e)\n",
    "\n",
    "addition4()"
   ]
  },
  {
   "cell_type": "markdown",
   "id": "71ce15c6-edbd-4d91-b33d-9c39912b9729",
   "metadata": {},
   "source": [
    "**Rule: try and except should be written inside the function**"
   ]
  },
  {
   "cell_type": "code",
   "execution_count": null,
   "id": "cbc3351c-61f5-44c1-9fe5-5fe888defb6a",
   "metadata": {},
   "outputs": [],
   "source": [
    "# 1)wap ask the user enter 3 numbers n1,n2,n3 from ketboard\n",
    "# calculate average\n",
    "\n",
    "# 2)wap ask the user enter name age city\n",
    "# print my name is python im 10 years old and came from hyd\n",
    "\n",
    "# 3)wap ask the user to enter radidus of a circle calculate area of the circle\n",
    "# var: radidus  var: pi=3.14\n",
    "# formuale: pi*radius*radius\n",
    "# print the answers using f string and format\n",
    "\n",
    "# 4)wap ask the user enter breadth and height of a right angle triangle\n",
    "# calculate the area\n",
    "# var1: bredath  var2: height\n",
    "# formuale : 0.5*breadth*heigh\n",
    "\n",
    "# 5)wap ask the user the bill amount and tip amount\n",
    "#   calculate total bill\n",
    "#   var1: bill amount var2: tip amount\n",
    "#   formuale\n",
    "\n",
    "# 6)wap ask the user the bill amount and tip percentage\n",
    "#    take tip percentage as 10\n",
    "#   calculate total bill= bill amount+ bill amount*tip per/100\n",
    "#   var1: bill amount var2: tip amount\n",
    "#    formuale\n",
    "\n",
    "# 7)wap ask the length and breadth of a rectangle calculate area\n",
    "#   var1: length  var2: breadth\n",
    "#   formulae: length * breadth\n",
    "\n",
    "# 8) wap ask the user take the radius and calculate volume of sphere\n",
    "#   formulae: pi*r**3(pi*r*r*r)\n",
    "\n",
    "# 9) wap ask the user enter amount in dollars convert into rupees\n",
    "#     1$=85rs\n",
    "\n",
    "# 10)wap ask the user enter weight in kgs convert into pounds\n",
    "#    1kg= 2.2pounds\n"
   ]
  },
  {
   "cell_type": "code",
   "execution_count": 34,
   "id": "ce969bc1-e648-406f-bab4-3b156840319a",
   "metadata": {},
   "outputs": [
    {
     "name": "stdin",
     "output_type": "stream",
     "text": [
      "Enter number1: 5\n",
      "Enter number2: 4\n",
      "Enter number3: 3\n"
     ]
    },
    {
     "name": "stdout",
     "output_type": "stream",
     "text": [
      "The average of 5, 4 and 3 is 4.0.\n"
     ]
    }
   ],
   "source": [
    "def AVG():\n",
    "    try:\n",
    "        n1=eval(input('Enter number1:'))\n",
    "        n2=eval(input('Enter number2:'))\n",
    "        n3=eval(input('Enter number3:'))\n",
    "        avg= (n1+n2+n3)/3\n",
    "        print(f'The average of {n1}, {n2} and {n3} is {avg}.')\n",
    "    except exception as e:\n",
    "        print(e)\n",
    "AVG()"
   ]
  },
  {
   "cell_type": "code",
   "execution_count": 38,
   "id": "19c626a1-50b6-4a01-ba22-f8835a6ae716",
   "metadata": {},
   "outputs": [
    {
     "name": "stdin",
     "output_type": "stream",
     "text": [
      "Enter name: python\n",
      "Enter age: 10\n",
      "Enter city: hyd\n"
     ]
    },
    {
     "name": "stdout",
     "output_type": "stream",
     "text": [
      "my name is python im 10 years old and came from hyd\n"
     ]
    }
   ],
   "source": [
    "# 2)wap ask the user enter name age city\n",
    "# print my name is python im 10 years old and came from hyd\n",
    "def P2():\n",
    "    try:\n",
    "        name=input(\"Enter name:\")\n",
    "        age=eval(input(\"Enter age:\"))\n",
    "        city=input(\"Enter city:\")\n",
    "        # my name is python im 10 years old and came from hyd\n",
    "        print(f\"my name is {name} im {age} years old and came from {city}\")\n",
    "    except exception as e:\n",
    "        print(e)\n",
    "P2()"
   ]
  },
  {
   "cell_type": "code",
   "execution_count": 40,
   "id": "c2b197c7-1939-461e-9508-8705a6d88751",
   "metadata": {},
   "outputs": [
    {
     "name": "stdin",
     "output_type": "stream",
     "text": [
      "enter radius of circle: 7\n"
     ]
    },
    {
     "name": "stdout",
     "output_type": "stream",
     "text": [
      "The area of the circle with radius 7 is 153.86\n"
     ]
    }
   ],
   "source": [
    "# 3)wap ask the user to enter radidus of a circle calculate area of the circle\n",
    "# var: radidus  var: pi=3.14\n",
    "# formuale: pi*radius*radius\n",
    "# print the answers using f string and format\n",
    "def P3():\n",
    "    try:\n",
    "        radius=eval(input(\"enter radius of circle:\"))\n",
    "        pi=3.14\n",
    "        area= pi*radius*radius\n",
    "        # The area of the circle with radius r is a\n",
    "        print(f\"The area of the circle with radius {radius} is {area}\")\n",
    "    except exception as e:\n",
    "        print(e)\n",
    "P3()"
   ]
  },
  {
   "cell_type": "code",
   "execution_count": null,
   "id": "a4255ecb-d601-41c7-8ab2-c2595addc687",
   "metadata": {},
   "outputs": [],
   "source": [
    "# 4)wap ask the user enter breadth and height of a right angle triangle\n",
    "# calculate the area\n",
    "# var1: bredath  var2: height\n",
    "# formuale : 0.5*breadth*height\n",
    "length=eval(input(\"Enter Length:\"))\n",
    "height=eval(input(\"Enter Height:\"))\n",
    "area= 0.5*length*breadth\n",
    "# The area of the right-angled triangle with length l and height h is a\n",
    "print(\"The area of the right-angled triangle with length {} and height {} is {}\".format(length,height,area))\n",
    "print(f\"The area of the right-angled triangle with length {length} and height {height} is {area}\")"
   ]
  },
  {
   "cell_type": "markdown",
   "id": "08a466a6-2bf1-41cf-9b3c-9437865751d5",
   "metadata": {},
   "source": [
    "---\n",
    "**Function with arguments**"
   ]
  },
  {
   "cell_type": "code",
   "execution_count": null,
   "id": "2f89063a-0110-4945-90d6-79a55b6f8b68",
   "metadata": {},
   "outputs": [],
   "source": [
    "def addition5():\n",
    "    try:\n",
    "        n1=eval(input(\"Enter number1:\"))\n",
    "        n2=eval(input(\"Enter number2:\"))\n",
    "        add= n11+n2\n",
    "        print(f'The sum of {n1} and {n2} is {add}.')\n",
    "    except Exception as e:\n",
    "        print(e)\n",
    "\n",
    "addition5()"
   ]
  },
  {
   "cell_type": "markdown",
   "id": "2195e960-b617-44ed-a09d-89018d6dd3a6",
   "metadata": {},
   "source": [
    "- How many variables are there inside the function\n",
    "  - in above **addition5** function 3 variables are there: n1, n2 and add\n",
    "-  How many input variables are there inside the function\n",
    "  - input variables means the variable access the values from user as input: n1 and n2\n",
    "-  How many output variables are there inside the function\n",
    "  - outpput variables means the variable created because of some operations: **add**\n",
    "- **Dont touch the output variable**"
   ]
  },
  {
   "cell_type": "code",
   "execution_count": 13,
   "id": "a3228e0b-92a5-4b73-ba96-c6467da1e69f",
   "metadata": {},
   "outputs": [
    {
     "ename": "TypeError",
     "evalue": "addition6() missing 2 required positional arguments: 'n1' and 'n2'",
     "output_type": "error",
     "traceback": [
      "\u001b[1;31m---------------------------------------------------------------------------\u001b[0m",
      "\u001b[1;31mTypeError\u001b[0m                                 Traceback (most recent call last)",
      "Cell \u001b[1;32mIn[13], line 10\u001b[0m\n\u001b[0;32m      7\u001b[0m     \u001b[38;5;28;01mexcept\u001b[39;00m \u001b[38;5;167;01mException\u001b[39;00m \u001b[38;5;28;01mas\u001b[39;00m e:\n\u001b[0;32m      8\u001b[0m         \u001b[38;5;28mprint\u001b[39m(e)\n\u001b[1;32m---> 10\u001b[0m addition6()\n",
      "\u001b[1;31mTypeError\u001b[0m: addition6() missing 2 required positional arguments: 'n1' and 'n2'"
     ]
    }
   ],
   "source": [
    "def addition6(n1,n2):\n",
    "    try:\n",
    "        print('n1:',n1)\n",
    "        print('n2:',n2)\n",
    "        add= n1+n2\n",
    "        print(f'The sum of {n1} and {n2} is {add}.')\n",
    "    except Exception as e:\n",
    "        print(e)\n",
    "\n",
    "addition6()"
   ]
  },
  {
   "cell_type": "code",
   "execution_count": 17,
   "id": "05099a66-8f49-497b-956e-fea9e46251de",
   "metadata": {},
   "outputs": [
    {
     "ename": "TypeError",
     "evalue": "addition6() missing 1 required positional argument: 'n2'",
     "output_type": "error",
     "traceback": [
      "\u001b[1;31m---------------------------------------------------------------------------\u001b[0m",
      "\u001b[1;31mTypeError\u001b[0m                                 Traceback (most recent call last)",
      "Cell \u001b[1;32mIn[17], line 1\u001b[0m\n\u001b[1;32m----> 1\u001b[0m addition6(\u001b[38;5;241m100\u001b[39m)\n",
      "\u001b[1;31mTypeError\u001b[0m: addition6() missing 1 required positional argument: 'n2'"
     ]
    }
   ],
   "source": [
    "addition6(100)"
   ]
  },
  {
   "cell_type": "code",
   "execution_count": 19,
   "id": "1a45a299-1311-4a28-aece-c89741f276e2",
   "metadata": {},
   "outputs": [
    {
     "name": "stdout",
     "output_type": "stream",
     "text": [
      "n1: 100\n",
      "n2: 200\n",
      "The sum of 100 and 200 is 300.\n"
     ]
    }
   ],
   "source": [
    "addition6(100,200)"
   ]
  },
  {
   "cell_type": "code",
   "execution_count": 33,
   "id": "96ee7516-eb78-4f10-9991-2d09413b8a70",
   "metadata": {},
   "outputs": [],
   "source": [
    "def addition7(n1,n2):\n",
    "    try:\n",
    "        print('n1:',n1)\n",
    "        print('n2:',n2)\n",
    "        add= n1+n2\n",
    "        print(f'The sum of {n1} and {n2} is {add}.')\n",
    "    except Exception as e:\n",
    "        print(e)\n",
    "\n",
    "\n",
    "#################################################################\n",
    "def addition5():\n",
    "    try:\n",
    "        n1=eval(input(\"Enter number1:\"))\n",
    "        n2=eval(input(\"Enter number2:\"))\n",
    "        add= n1+n2\n",
    "        print(f'The sum of {n1} and {n2} is {add}.')\n",
    "    except Exception as e:\n",
    "        print(e)\n",
    "\n",
    "\n",
    "#################################################################\n",
    "def addition8(n1):\n",
    "    try:\n",
    "        n2=eval(input(\"Enter number2:\"))\n",
    "        add= n1+n2\n",
    "        print(f'The sum of {n1} and {n2} is {add}.')\n",
    "    except Exception as e:\n",
    "        print(e)"
   ]
  },
  {
   "cell_type": "code",
   "execution_count": 35,
   "id": "9cadb971-319c-4057-8f00-f93417aa6df7",
   "metadata": {},
   "outputs": [
    {
     "name": "stdout",
     "output_type": "stream",
     "text": [
      "n1: 100\n",
      "n2: 200\n",
      "The sum of 100 and 200 is 300.\n"
     ]
    },
    {
     "name": "stdin",
     "output_type": "stream",
     "text": [
      "Enter number1: 400\n",
      "Enter number2: 20\n"
     ]
    },
    {
     "name": "stdout",
     "output_type": "stream",
     "text": [
      "The sum of 400 and 20 is 420.\n"
     ]
    },
    {
     "name": "stdin",
     "output_type": "stream",
     "text": [
      "Enter number2: 20\n"
     ]
    },
    {
     "name": "stdout",
     "output_type": "stream",
     "text": [
      "The sum of 400 and 20 is 420.\n"
     ]
    }
   ],
   "source": [
    "addition7(100,200)\n",
    "addition5()\n",
    "addition8(400)"
   ]
  },
  {
   "cell_type": "code",
   "execution_count": 43,
   "id": "e8752f1a-2a51-4d61-b7a7-c25fb1bed1bb",
   "metadata": {},
   "outputs": [
    {
     "name": "stdout",
     "output_type": "stream",
     "text": [
      "AVG with no arguments\n",
      "AVG1 with one arguments\n",
      "AVG with two arguments\n",
      "AVG with three arguments\n"
     ]
    }
   ],
   "source": [
    "print('AVG with no arguments')\n",
    "def AVG():\n",
    "    try:\n",
    "        n1=eval(input('Enter number1:'))\n",
    "        n2=eval(input('Enter number2:'))\n",
    "        n3=eval(input('Enter number3:'))\n",
    "        avg= (n1+n2+n3)/3\n",
    "        print(f'The average of {n1}, {n2} and {n3} is {avg}.')\n",
    "    except exception as e:\n",
    "        print(e)\n",
    "print('AVG1 with one arguments')\n",
    "def AVG1(n1):\n",
    "    try:\n",
    "        n2=eval(input('Enter number2:'))\n",
    "        n3=eval(input('Enter number3:'))\n",
    "        avg= (n1+n2+n3)/3\n",
    "        print(f'The average of {n1}, {n2} and {n3} is {avg}.')\n",
    "    except exception as e:\n",
    "        print(e)\n",
    "print('AVG with two arguments')\n",
    "def AVG2(n1,n2):\n",
    "    try:\n",
    "        n3=eval(input('Enter number3:'))\n",
    "        avg= (n1+n2+n3)/3\n",
    "        print(f'The average of {n1}, {n2} and {n3} is {avg}.')\n",
    "    except exception as e:\n",
    "        print(e)\n",
    "print('AVG with three arguments')\n",
    "def AVG3(n1,n2,n3):\n",
    "    try:\n",
    "        avg= (n1+n2+n3)/3\n",
    "        print(f'The average of {n1}, {n2} and {n3} is {avg}.')\n",
    "    except exception as e:\n",
    "        print(e)"
   ]
  },
  {
   "cell_type": "code",
   "execution_count": 47,
   "id": "06d7303e-d219-4acf-bfda-fe4b8ef6935c",
   "metadata": {},
   "outputs": [
    {
     "name": "stdin",
     "output_type": "stream",
     "text": [
      "Enter number1: 20\n",
      "Enter number2: 30\n",
      "Enter number3: 40\n"
     ]
    },
    {
     "name": "stdout",
     "output_type": "stream",
     "text": [
      "The average of 20, 30 and 40 is 30.0.\n"
     ]
    },
    {
     "name": "stdin",
     "output_type": "stream",
     "text": [
      "Enter number2: 20\n",
      "Enter number3: 5\n"
     ]
    },
    {
     "name": "stdout",
     "output_type": "stream",
     "text": [
      "The average of 100, 20 and 5 is 41.666666666666664.\n"
     ]
    },
    {
     "name": "stdin",
     "output_type": "stream",
     "text": [
      "Enter number3: 80\n"
     ]
    },
    {
     "name": "stdout",
     "output_type": "stream",
     "text": [
      "The average of 200, 300 and 80 is 193.33333333333334.\n",
      "The average of 400, 500 and 600 is 500.0.\n"
     ]
    }
   ],
   "source": [
    "AVG()\n",
    "AVG1(100)\n",
    "AVG2(200,300)\n",
    "AVG3(400,500,600)"
   ]
  },
  {
   "cell_type": "markdown",
   "id": "56320d27-2ca6-4019-9c39-4d06adf7da3b",
   "metadata": {},
   "source": [
    "---\n",
    "**Function with default argument**"
   ]
  },
  {
   "cell_type": "markdown",
   "id": "1c0f34a3-3212-4761-ad7a-7e6c4d15b94f",
   "metadata": {},
   "source": [
    "- In below function the tip_percent is fixed at 20\n",
    "- this is called default arguments\n",
    "- while calling the function no need to provide tip_per again\n",
    "- if you provide again the value will change"
   ]
  },
  {
   "cell_type": "code",
   "execution_count": 53,
   "id": "a3ee21cf-6f8e-4e9a-996d-62c6c994a1cc",
   "metadata": {},
   "outputs": [
    {
     "name": "stdout",
     "output_type": "stream",
     "text": [
      "Bill amount: 5000\n",
      "Tip percent: 20\n",
      "The Bill is 5000 and the tip is 20% so the total amount to be spent is 6000.0\n"
     ]
    }
   ],
   "source": [
    "def P6(bill_amount,tip_percent=20):\n",
    "    try:\n",
    "        print('Bill amount:',bill_amount)\n",
    "        print('Tip percent:',tip_percent)\n",
    "        Total= bill_amount+((tip_percent/100)*bill_amount)\n",
    "        # The Bill is B and the tip is T so the total amount to be spent is T.\n",
    "        print(f\"The Bill is {bill_amount} and the tip is {tip_percent}% so the total amount to be spent is {Total}\")\n",
    "    except Exception as e:\n",
    "        print(e)\n",
    "P6(5000)   "
   ]
  },
  {
   "cell_type": "code",
   "execution_count": 55,
   "id": "74a1b78e-2ae5-4f3d-8a55-9dad0d9397a1",
   "metadata": {},
   "outputs": [
    {
     "name": "stdout",
     "output_type": "stream",
     "text": [
      "Bill amount: 5000\n",
      "Tip percent: 30\n",
      "The Bill is 5000 and the tip is 30% so the total amount to be spent is 6500.0\n"
     ]
    }
   ],
   "source": [
    "P6(5000,30)"
   ]
  },
  {
   "cell_type": "code",
   "execution_count": 57,
   "id": "27f5272b-6896-4b18-825e-0af1a978ca3f",
   "metadata": {},
   "outputs": [],
   "source": [
    "def AVG3(n1,n2,n3=20):\n",
    "    try:\n",
    "        print('n1:',n1)\n",
    "        print('n2:',n2)\n",
    "        print('n3:',n3)\n",
    "        avg= (n1+n2+n3)/3\n",
    "        print(f'The average of {n1}, {n2} and {n3} is {avg}.')\n",
    "    except exception as e:\n",
    "        print(e)"
   ]
  },
  {
   "cell_type": "code",
   "execution_count": 59,
   "id": "6baa43df-e1a4-458a-a19a-4580b1a2f93e",
   "metadata": {},
   "outputs": [
    {
     "name": "stdout",
     "output_type": "stream",
     "text": [
      "n1: 100\n",
      "n2: 27\n",
      "n3: 20\n",
      "The average of 100, 27 and 20 is 49.0.\n"
     ]
    }
   ],
   "source": [
    "AVG3(100,27)"
   ]
  },
  {
   "cell_type": "code",
   "execution_count": 61,
   "id": "1988f9e5-2851-482c-8235-b83bc6258523",
   "metadata": {},
   "outputs": [
    {
     "ename": "SyntaxError",
     "evalue": "parameter without a default follows parameter with a default (3259721953.py, line 1)",
     "output_type": "error",
     "traceback": [
      "\u001b[1;36m  Cell \u001b[1;32mIn[61], line 1\u001b[1;36m\u001b[0m\n\u001b[1;33m    def AVG3(n1,n2=32,n3):\u001b[0m\n\u001b[1;37m                      ^\u001b[0m\n\u001b[1;31mSyntaxError\u001b[0m\u001b[1;31m:\u001b[0m parameter without a default follows parameter with a default\n"
     ]
    }
   ],
   "source": [
    "def AVG3(n1,n2=32,n3):\n",
    "    try:\n",
    "        print('n1:',n1)\n",
    "        print('n2:',n2)\n",
    "        print('n3:',n3)\n",
    "        avg= (n1+n2+n3)/3\n",
    "        print(f'The average of {n1}, {n2} and {n3} is {avg}.')\n",
    "    except exception as e:\n",
    "        print(e)\n",
    "AVG3(100,27)"
   ]
  },
  {
   "cell_type": "markdown",
   "id": "e4de69bf-df14-4bd2-b1e8-6416466efb6f",
   "metadata": {},
   "source": [
    "**Note: Default arguments should always be at last**"
   ]
  },
  {
   "cell_type": "code",
   "execution_count": 64,
   "id": "a4c3294e-b314-4deb-89af-3b8cc498c109",
   "metadata": {},
   "outputs": [
    {
     "name": "stdout",
     "output_type": "stream",
     "text": [
      "n1: 100\n",
      "n2: 32\n",
      "n3: 27\n",
      "The average of 100, 32 and 27 is 53.0.\n"
     ]
    }
   ],
   "source": [
    "def AVG3(n1,n3,n2=32):\n",
    "    try:\n",
    "        print('n1:',n1)\n",
    "        print('n2:',n2)\n",
    "        print('n3:',n3)\n",
    "        avg= (n1+n2+n3)/3\n",
    "        print(f'The average of {n1}, {n2} and {n3} is {avg}.')\n",
    "    except exception as e:\n",
    "        print(e)\n",
    "AVG3(100,27)"
   ]
  },
  {
   "cell_type": "code",
   "execution_count": null,
   "id": "46f2747c-32d3-4088-a94f-095d9b7d1b5a",
   "metadata": {},
   "outputs": [],
   "source": [
    "n1,n2,n3=10 # W\n",
    "n1,n2=10,n3 # F\n",
    "n1=10,n2,n3 # F\n",
    "n1,n2=10,n3=10 # W\n",
    "n1=10,n2,n3=10\n",
    "n1=10,n2=10,n3\n",
    "n1=10,n2=10,n3=10"
   ]
  },
  {
   "cell_type": "code",
   "execution_count": 3,
   "id": "ce6b3f67-047c-4739-9a42-10b75a12fa1e",
   "metadata": {},
   "outputs": [
    {
     "name": "stdout",
     "output_type": "stream",
     "text": [
      "Function without arguments\n"
     ]
    },
    {
     "name": "stdin",
     "output_type": "stream",
     "text": [
      "Enter Salary: 100000\n",
      "Enter tax percent: 20\n"
     ]
    },
    {
     "name": "stdout",
     "output_type": "stream",
     "text": [
      "20000.0\n",
      "Function with arguments\n",
      "20000.0\n",
      "Function with default arguments\n",
      "20000.0\n"
     ]
    }
   ],
   "source": [
    "print('Function without arguments')\n",
    "def tax_cal():\n",
    "    sal=eval(input(\"Enter Salary:\"))\n",
    "    tax_per=eval(input(\"Enter tax percent:\"))\n",
    "    tax_pay= sal*tax_per/100\n",
    "    print(tax_pay)\n",
    "tax_cal()\n",
    "\n",
    "print('Function with arguments')\n",
    "def tax_cal1(sal,tax_per):\n",
    "    tax_pay= sal*tax_per/100\n",
    "    print(tax_pay)\n",
    "tax_cal1(100000,20)\n",
    "\n",
    "print('Function with default arguments')\n",
    "def tax_cal2(sal,tax_per=20):\n",
    "    tax_pay= sal*tax_per/100\n",
    "    print(tax_pay)\n",
    "tax_cal2(100000)"
   ]
  },
  {
   "cell_type": "code",
   "execution_count": 5,
   "id": "7d174d39-fd5a-4f7b-b163-ada9d3313c4f",
   "metadata": {},
   "outputs": [],
   "source": [
    "import random"
   ]
  },
  {
   "cell_type": "code",
   "execution_count": null,
   "id": "3b1960a9-8e12-4d99-b8b2-db2117f7200c",
   "metadata": {},
   "outputs": [],
   "source": [
    "random()\n",
    "tax_cal()\n",
    "random.randint(1,200)\n",
    "tax_cal1(100000,20)"
   ]
  },
  {
   "cell_type": "code",
   "execution_count": 9,
   "id": "1dddaece-4713-4cae-9957-6e6a27af23cd",
   "metadata": {},
   "outputs": [
    {
     "name": "stdout",
     "output_type": "stream",
     "text": [
      "20000.0\n"
     ]
    },
    {
     "data": {
      "text/plain": [
       "(3+4j)"
      ]
     },
     "execution_count": 9,
     "metadata": {},
     "output_type": "execute_result"
    }
   ],
   "source": [
    "tax_cal2(100000)   # here tax_per is default 20\n",
    "complex(3,4)       # here real=0, imag=0 is default"
   ]
  },
  {
   "cell_type": "code",
   "execution_count": 11,
   "id": "15ddbbed-5d69-4f42-83bc-3d0ee41d3883",
   "metadata": {},
   "outputs": [
    {
     "data": {
      "text/plain": [
       "(3+0j)"
      ]
     },
     "execution_count": 11,
     "metadata": {},
     "output_type": "execute_result"
    }
   ],
   "source": [
    "complex(3)"
   ]
  },
  {
   "cell_type": "code",
   "execution_count": 13,
   "id": "c4f23684-ec96-4c9c-8458-4dd984875efc",
   "metadata": {},
   "outputs": [
    {
     "data": {
      "text/plain": [
       "0j"
      ]
     },
     "execution_count": 13,
     "metadata": {},
     "output_type": "execute_result"
    }
   ],
   "source": [
    "complex()"
   ]
  },
  {
   "cell_type": "markdown",
   "id": "166c7487-c668-4fd6-bf6c-aa8580688ab2",
   "metadata": {},
   "source": [
    "---\n",
    "**Case 1**"
   ]
  },
  {
   "cell_type": "code",
   "execution_count": 21,
   "id": "3a4015e6-a5cb-4e04-b403-9f0e24834562",
   "metadata": {},
   "outputs": [
    {
     "name": "stdout",
     "output_type": "stream",
     "text": [
      "a: 10\n",
      "b: 20\n",
      "c: 30\n",
      "the summation of 10,20 and30 is 60\n"
     ]
    }
   ],
   "source": [
    "def add(a,b,c=30):\n",
    "    print('a:',a)\n",
    "    print('b:',b)\n",
    "    print('c:',c)\n",
    "    summ=a+b+c\n",
    "    print(f'the summation of {a},{b} and{c} is {summ}')\n",
    "add(10,20)"
   ]
  },
  {
   "cell_type": "markdown",
   "id": "fea776cc-2c30-4349-ace8-6e9eb10878c5",
   "metadata": {},
   "source": [
    "**Case 2**"
   ]
  },
  {
   "cell_type": "code",
   "execution_count": 24,
   "id": "2c3bd0fd-0f86-4f50-99db-1b4b6f88b841",
   "metadata": {},
   "outputs": [
    {
     "name": "stdout",
     "output_type": "stream",
     "text": [
      "a: 10\n",
      "b: 20\n",
      "c: 60\n",
      "the summation of 10,20 and60 is 90\n"
     ]
    }
   ],
   "source": [
    "def add(a,b,c=30):\n",
    "    print('a:',a)\n",
    "    print('b:',b)\n",
    "    print('c:',c)\n",
    "    summ=a+b+c\n",
    "    print(f'the summation of {a},{b} and{c} is {summ}')\n",
    "add(10,20,60)"
   ]
  },
  {
   "cell_type": "markdown",
   "id": "1a5c88cd-c005-4516-928b-438dbe8466db",
   "metadata": {},
   "source": [
    "- in above case we already provided default value c=30\n",
    "- but while we call the function, c value become 600\n",
    "- Step-1: Define the function: while define what is the value 30\n",
    "- Step-2: Call the function: value 60\n",
    "- Step-3: Run the function: value 60"
   ]
  },
  {
   "cell_type": "code",
   "execution_count": 29,
   "id": "3263e31a-e29d-40f1-b92a-6b9e3e9a5fd3",
   "metadata": {},
   "outputs": [
    {
     "name": "stdout",
     "output_type": "stream",
     "text": [
      "a: 10\n",
      "b: 20\n",
      "c: 100\n",
      "the summation of 10,20 and 100 is 130\n"
     ]
    }
   ],
   "source": [
    "# 1. Define the function\n",
    "def add(a,b,c=30):\n",
    "    # 3. Run the function\n",
    "    c=100\n",
    "    print('a:',a)\n",
    "    print('b:',b)\n",
    "    print('c:',c)\n",
    "    summ=a+b+c\n",
    "    print(f'the summation of {a},{b} and {c} is {summ}')\n",
    "# 2. Call the function\n",
    "add(10,20,60)"
   ]
  },
  {
   "cell_type": "code",
   "execution_count": 31,
   "id": "e283b4b6-0bb9-4afc-81f0-1d7953a6b0e9",
   "metadata": {},
   "outputs": [
    {
     "name": "stdout",
     "output_type": "stream",
     "text": [
      "a: 10\n",
      "b: 20\n",
      "c: 100\n",
      "the summation of 10,20 and 100 is 130\n"
     ]
    }
   ],
   "source": [
    "# 1. Define the function\n",
    "def add(a,b,c=30):\n",
    "    # 3. Run the function\n",
    "    c=100\n",
    "    print('a:',a)\n",
    "    print('b:',b)\n",
    "    print('c:',c)\n",
    "    summ=a+b+c\n",
    "    print(f'the summation of {a},{b} and {c} is {summ}')\n",
    "# 2. Call the function\n",
    "add(10,20,60)"
   ]
  },
  {
   "cell_type": "markdown",
   "id": "cbe5a284-033a-4600-86ff-988e75a4852b",
   "metadata": {},
   "source": [
    "---\n",
    "**Global variable vs Local Variable**\n",
    "- The variables outside the function is called as **Global Variable**\n",
    "  - Global variables can be used anywhere\n",
    "  - global variables can be used inside the function but also outside the function\n",
    "- The variables inside the function is called as **Local Variable**\n",
    "  - Local variables can be use only inside the function\n",
    "  - Local variables can not be used outside the function"
   ]
  },
  {
   "cell_type": "code",
   "execution_count": 38,
   "id": "b257eb38-47d0-49a4-9695-1232bbfe09a7",
   "metadata": {},
   "outputs": [
    {
     "name": "stdout",
     "output_type": "stream",
     "text": [
      "the summation of 20 and 30 is 50\n"
     ]
    },
    {
     "ename": "NameError",
     "evalue": "name 'n1' is not defined",
     "output_type": "error",
     "traceback": [
      "\u001b[1;31m---------------------------------------------------------------------------\u001b[0m",
      "\u001b[1;31mNameError\u001b[0m                                 Traceback (most recent call last)",
      "Cell \u001b[1;32mIn[38], line 10\u001b[0m\n\u001b[0;32m      8\u001b[0m \u001b[38;5;66;03m# 2. Call the function\u001b[39;00m\n\u001b[0;32m      9\u001b[0m addition(\u001b[38;5;241m10\u001b[39m,\u001b[38;5;241m20\u001b[39m)\n\u001b[1;32m---> 10\u001b[0m n1\n",
      "\u001b[1;31mNameError\u001b[0m: name 'n1' is not defined"
     ]
    }
   ],
   "source": [
    "# 1. Define the function\n",
    "def addition(n1,n2):\n",
    "    # 3. Run the function\n",
    "    n1=20 # Local Variable\n",
    "    n2=30 # Local Variable\n",
    "    summ=n1+n2\n",
    "    print(f'the summation of {n1} and {n2} is {summ}')\n",
    "# 2. Call the function\n",
    "addition(10,20)\n",
    "n1"
   ]
  },
  {
   "cell_type": "code",
   "execution_count": 40,
   "id": "de783171-d368-4de7-bb5d-4a900ef5d60b",
   "metadata": {},
   "outputs": [
    {
     "name": "stdout",
     "output_type": "stream",
     "text": [
      "the summation of 10 and 20 is 30\n"
     ]
    }
   ],
   "source": [
    "n1=200 # Global variable\n",
    "n2=300 # Global variable\n",
    "# 1. Define the function\n",
    "def addition(n1,n2):\n",
    "    # 3. Run the function\n",
    "    summ=n1+n2\n",
    "    print(f'the summation of {n1} and {n2} is {summ}')\n",
    "# 2. Call the function\n",
    "addition(10,20)"
   ]
  },
  {
   "cell_type": "markdown",
   "id": "fcb837f9-0b30-4a9e-850f-68ee85fd2d80",
   "metadata": {},
   "source": [
    "**Making a Local variable Global**"
   ]
  },
  {
   "cell_type": "code",
   "execution_count": 47,
   "id": "6f4c6e43-e501-4af8-a3b5-47e2f71893ce",
   "metadata": {},
   "outputs": [
    {
     "name": "stdout",
     "output_type": "stream",
     "text": [
      "the summation of 20 and 30 is 50\n"
     ]
    },
    {
     "data": {
      "text/plain": [
       "50"
      ]
     },
     "execution_count": 47,
     "metadata": {},
     "output_type": "execute_result"
    }
   ],
   "source": [
    "# 1. Define the function\n",
    "def addition(n1,n2):\n",
    "    # 3. Run the function\n",
    "    global summ\n",
    "    n1=20 # Local Variable\n",
    "    n2=30 # Local Variable\n",
    "    summ=n1+n2 # Global Variable\n",
    "    print(f'the summation of {n1} and {n2} is {summ}')\n",
    "# 2. Call the function\n",
    "addition(10,20)\n",
    "summ"
   ]
  },
  {
   "cell_type": "code",
   "execution_count": 49,
   "id": "c991fb41-bdc1-4da4-9ccd-592ace205fdf",
   "metadata": {},
   "outputs": [
    {
     "ename": "UnboundLocalError",
     "evalue": "cannot access local variable 's' where it is not associated with a value",
     "output_type": "error",
     "traceback": [
      "\u001b[1;31m---------------------------------------------------------------------------\u001b[0m",
      "\u001b[1;31mUnboundLocalError\u001b[0m                         Traceback (most recent call last)",
      "Cell \u001b[1;32mIn[49], line 6\u001b[0m\n\u001b[0;32m      4\u001b[0m     s\u001b[38;5;241m=\u001b[39ms\u001b[38;5;241m+\u001b[39mn1\n\u001b[0;32m      5\u001b[0m     \u001b[38;5;28mprint\u001b[39m(s)\n\u001b[1;32m----> 6\u001b[0m add1()\n",
      "Cell \u001b[1;32mIn[49], line 4\u001b[0m, in \u001b[0;36madd1\u001b[1;34m()\u001b[0m\n\u001b[0;32m      2\u001b[0m \u001b[38;5;28;01mdef\u001b[39;00m \u001b[38;5;21madd1\u001b[39m():\n\u001b[0;32m      3\u001b[0m     n1\u001b[38;5;241m=\u001b[39m\u001b[38;5;241m100\u001b[39m\n\u001b[1;32m----> 4\u001b[0m     s\u001b[38;5;241m=\u001b[39ms\u001b[38;5;241m+\u001b[39mn1\n\u001b[0;32m      5\u001b[0m     \u001b[38;5;28mprint\u001b[39m(s)\n",
      "\u001b[1;31mUnboundLocalError\u001b[0m: cannot access local variable 's' where it is not associated with a value"
     ]
    }
   ],
   "source": [
    "s=0\n",
    "def add1():\n",
    "    n1=100\n",
    "    s=s+n1\n",
    "    print(s)\n",
    "add1()"
   ]
  },
  {
   "cell_type": "code",
   "execution_count": 51,
   "id": "187805e1-5416-4893-b4ac-863812b1e27f",
   "metadata": {},
   "outputs": [
    {
     "ename": "UnboundLocalError",
     "evalue": "cannot access local variable 's' where it is not associated with a value",
     "output_type": "error",
     "traceback": [
      "\u001b[1;31m---------------------------------------------------------------------------\u001b[0m",
      "\u001b[1;31mUnboundLocalError\u001b[0m                         Traceback (most recent call last)",
      "Cell \u001b[1;32mIn[51], line 5\u001b[0m\n\u001b[0;32m      3\u001b[0m     s\u001b[38;5;241m=\u001b[39ms\u001b[38;5;241m+\u001b[39mn1\n\u001b[0;32m      4\u001b[0m     \u001b[38;5;28mprint\u001b[39m(s)\n\u001b[1;32m----> 5\u001b[0m add1()\n",
      "Cell \u001b[1;32mIn[51], line 3\u001b[0m, in \u001b[0;36madd1\u001b[1;34m()\u001b[0m\n\u001b[0;32m      1\u001b[0m \u001b[38;5;28;01mdef\u001b[39;00m \u001b[38;5;21madd1\u001b[39m():\n\u001b[0;32m      2\u001b[0m     n1\u001b[38;5;241m=\u001b[39m\u001b[38;5;241m100\u001b[39m\n\u001b[1;32m----> 3\u001b[0m     s\u001b[38;5;241m=\u001b[39ms\u001b[38;5;241m+\u001b[39mn1\n\u001b[0;32m      4\u001b[0m     \u001b[38;5;28mprint\u001b[39m(s)\n",
      "\u001b[1;31mUnboundLocalError\u001b[0m: cannot access local variable 's' where it is not associated with a value"
     ]
    }
   ],
   "source": [
    "def add1():\n",
    "    n1=100\n",
    "    s=s+n1\n",
    "    print(s)\n",
    "add1()\n"
   ]
  },
  {
   "cell_type": "markdown",
   "id": "5b970ae5-0060-4d66-8be8-d28bc80ace67",
   "metadata": {},
   "source": [
    "- here s is not initialised \n",
    "- here we can think it will raise name error\n",
    "- but since it is inside the functin we will get Unbound local error"
   ]
  },
  {
   "cell_type": "code",
   "execution_count": 60,
   "id": "f6dbc300-c644-41dc-bae2-bad6f0d3d8fe",
   "metadata": {},
   "outputs": [
    {
     "ename": "NameError",
     "evalue": "name 'x' is not defined",
     "output_type": "error",
     "traceback": [
      "\u001b[1;31m---------------------------------------------------------------------------\u001b[0m",
      "\u001b[1;31mNameError\u001b[0m                                 Traceback (most recent call last)",
      "Cell \u001b[1;32mIn[60], line 5\u001b[0m\n\u001b[0;32m      3\u001b[0m     s1\u001b[38;5;241m=\u001b[39ms\u001b[38;5;241m+\u001b[39mn1\n\u001b[0;32m      4\u001b[0m     \u001b[38;5;28mprint\u001b[39m(x)\n\u001b[1;32m----> 5\u001b[0m add1()\n",
      "Cell \u001b[1;32mIn[60], line 4\u001b[0m, in \u001b[0;36madd1\u001b[1;34m()\u001b[0m\n\u001b[0;32m      2\u001b[0m n1\u001b[38;5;241m=\u001b[39m\u001b[38;5;241m100\u001b[39m\n\u001b[0;32m      3\u001b[0m s1\u001b[38;5;241m=\u001b[39ms\u001b[38;5;241m+\u001b[39mn1\n\u001b[1;32m----> 4\u001b[0m \u001b[38;5;28mprint\u001b[39m(x)\n",
      "\u001b[1;31mNameError\u001b[0m: name 'x' is not defined"
     ]
    }
   ],
   "source": [
    "def add1():\n",
    "    n1=100\n",
    "    s1=s+n1\n",
    "    print(x)\n",
    "add1()"
   ]
  },
  {
   "cell_type": "markdown",
   "id": "fb800fac-2da8-4d3c-93e3-87d28f0734f6",
   "metadata": {},
   "source": [
    "- **If normally any non initialized variable there then Name Error**\n",
    "- **But if non initialized variable is assigned to itself the Unbound Local Error**\n",
    "  - **To counter it we just assign value to non initialized variable inside the function**"
   ]
  },
  {
   "cell_type": "code",
   "execution_count": 64,
   "id": "e233b9be-358e-4c1b-aa22-330a3ca03fd5",
   "metadata": {},
   "outputs": [
    {
     "name": "stdout",
     "output_type": "stream",
     "text": [
      "400\n"
     ]
    }
   ],
   "source": [
    "def add1():\n",
    "    n1=100\n",
    "    s=300\n",
    "    s=s+n1\n",
    "    print(s)\n",
    "add1()"
   ]
  },
  {
   "cell_type": "code",
   "execution_count": 68,
   "id": "b7dd240c-a275-4c6e-b3b3-1ad8783cc6c3",
   "metadata": {},
   "outputs": [
    {
     "name": "stdout",
     "output_type": "stream",
     "text": [
      "600 200.0\n",
      "600 200.0\n"
     ]
    }
   ],
   "source": [
    "def avg(a,b,c):\n",
    "    global ADD,AVG1\n",
    "    ADD=a+b+c\n",
    "    AVG1=ADD/3\n",
    "    print(ADD,AVG1)\n",
    "avg(100,200,300)\n",
    "print(ADD,AVG1)"
   ]
  },
  {
   "cell_type": "code",
   "execution_count": 5,
   "id": "e4399b33-8879-4ffe-9ce6-fe2b63970bbd",
   "metadata": {},
   "outputs": [
    {
     "name": "stdout",
     "output_type": "stream",
     "text": [
      "Function without arguments\n"
     ]
    },
    {
     "name": "stdin",
     "output_type": "stream",
     "text": [
      "Enter a number: 2025\n"
     ]
    },
    {
     "name": "stdout",
     "output_type": "stream",
     "text": [
      "2025 is odd\n",
      "Function with arguments\n",
      "num: 2025\n",
      "2025 is odd\n",
      "Function with default arguments\n",
      "num: 2025\n",
      "2025 is odd\n"
     ]
    }
   ],
   "source": [
    "# wap ask the user to enter anumber\n",
    "# print it is even or odd\n",
    "\n",
    "print('Function without arguments')\n",
    "def even_odd():\n",
    "    num=eval(input(\"Enter a number:\"))\n",
    "    if num%2==0:\n",
    "        print(f'{num} is even')\n",
    "    else:\n",
    "        print(f'{num} is odd')\n",
    "even_odd()\n",
    "\n",
    "print('Function with arguments')\n",
    "def even_odd1(num):\n",
    "    print('num:',num)\n",
    "    if num%2==0:\n",
    "        print(f'{num} is even')\n",
    "    else:\n",
    "        print(f'{num} is odd')\n",
    "even_odd1(2025)\n",
    "\n",
    "print('Function with default arguments')\n",
    "def even_odd2(num=2025):\n",
    "    print('num:',num)\n",
    "    if num%2==0:\n",
    "        print(f'{num} is even')\n",
    "    else:\n",
    "        print(f'{num} is odd')\n",
    "even_odd2()"
   ]
  },
  {
   "cell_type": "code",
   "execution_count": 7,
   "id": "50e6178f-6a86-4c70-887a-2277318574f5",
   "metadata": {},
   "outputs": [
    {
     "name": "stdout",
     "output_type": "stream",
     "text": [
      "Function with default arguments\n"
     ]
    },
    {
     "ename": "SyntaxError",
     "evalue": "name 'num1' is parameter and global (3930214101.py, line 3)",
     "output_type": "error",
     "traceback": [
      "\u001b[1;36m  Cell \u001b[1;32mIn[7], line 3\u001b[1;36m\u001b[0m\n\u001b[1;33m    global num1\u001b[0m\n\u001b[1;37m    ^\u001b[0m\n\u001b[1;31mSyntaxError\u001b[0m\u001b[1;31m:\u001b[0m name 'num1' is parameter and global\n"
     ]
    }
   ],
   "source": [
    "print('Function with default arguments')\n",
    "def even_odd2(num1=2025):\n",
    "    global num1\n",
    "    print('num:',num1)\n",
    "    if num%2==0:\n",
    "        print(f'{num1} is even')\n",
    "    else:\n",
    "        print(f'{num1} is odd')\n",
    "even_odd2()"
   ]
  },
  {
   "cell_type": "markdown",
   "id": "a9482b97-ff4b-4041-a2ab-b23dbbfe7477",
   "metadata": {},
   "source": [
    "**Parameter vs Variables**\n",
    "- parameters also called as arguments\n",
    "  - this is always inside the function brackets\n",
    "- variables either outside the function or inside the function"
   ]
  },
  {
   "cell_type": "markdown",
   "id": "9f09c1a0-3825-46e7-ab05-b656161af13c",
   "metadata": {},
   "source": [
    "**return**\n",
    "- return means function is giving something to you\n",
    "- we know that local variables cannot use outside the function\n",
    "- in order to use local variables outside the function, we have two methods\n",
    "  - one is using global \n",
    "  - one is using return"
   ]
  },
  {
   "cell_type": "code",
   "execution_count": 26,
   "id": "9cb0f3b1-0244-436a-b677-c08da12a4d6c",
   "metadata": {},
   "outputs": [
    {
     "data": {
      "text/plain": [
       "30"
      ]
     },
     "execution_count": 26,
     "metadata": {},
     "output_type": "execute_result"
    }
   ],
   "source": [
    "def add():\n",
    "    a=10\n",
    "    b=20\n",
    "    c=a+b\n",
    "    return(c)\n",
    "c=add()\n",
    "c"
   ]
  },
  {
   "cell_type": "code",
   "execution_count": 17,
   "id": "090049ea-609e-40f9-91cc-2e80f7c26ef1",
   "metadata": {},
   "outputs": [
    {
     "ename": "TypeError",
     "evalue": "cannot unpack non-iterable int object",
     "output_type": "error",
     "traceback": [
      "\u001b[1;31m---------------------------------------------------------------------------\u001b[0m",
      "\u001b[1;31mTypeError\u001b[0m                                 Traceback (most recent call last)",
      "Cell \u001b[1;32mIn[17], line 5\u001b[0m\n\u001b[0;32m      3\u001b[0m val1,val2\u001b[38;5;241m=\u001b[39m\u001b[38;5;241m10\u001b[39m,\u001b[38;5;241m20\u001b[39m\n\u001b[0;32m      4\u001b[0m val1,val2\n\u001b[1;32m----> 5\u001b[0m val1,val2\u001b[38;5;241m=\u001b[39m\u001b[38;5;241m10\u001b[39m\n\u001b[0;32m      6\u001b[0m val1,val2\n",
      "\u001b[1;31mTypeError\u001b[0m: cannot unpack non-iterable int object"
     ]
    }
   ],
   "source": [
    "value=10,20 # tuple\n",
    "value\n",
    "val1,val2=10,20\n",
    "val1,val2\n",
    "val1,val2=10\n",
    "val1,val2"
   ]
  },
  {
   "cell_type": "code",
   "execution_count": 28,
   "id": "ac74e112-4fa2-4828-a0d4-bfa7e3a71ee9",
   "metadata": {},
   "outputs": [
    {
     "data": {
      "text/plain": [
       "(10, 30)"
      ]
     },
     "execution_count": 28,
     "metadata": {},
     "output_type": "execute_result"
    }
   ],
   "source": [
    "def add():\n",
    "    a=10\n",
    "    b=20\n",
    "    c=a+b\n",
    "    return(a,c)\n",
    "a,c=add()\n",
    "a,c"
   ]
  },
  {
   "cell_type": "code",
   "execution_count": 32,
   "id": "0115800f-e147-4258-9101-d24a21cc41e1",
   "metadata": {},
   "outputs": [
    {
     "name": "stdout",
     "output_type": "stream",
     "text": [
      "60\n",
      "20.0\n"
     ]
    }
   ],
   "source": [
    "def avg(a,b,c):\n",
    "    summ=a+b+c\n",
    "    AVG=summ/3\n",
    "    return(summ,AVG)\n",
    "summ,AVG=avg(10,20,30)\n",
    "print(summ)\n",
    "print(AVG)"
   ]
  },
  {
   "cell_type": "code",
   "execution_count": 42,
   "id": "0b877cd5-8f46-4221-a6c6-1e5b7a7939d6",
   "metadata": {},
   "outputs": [
    {
     "name": "stdout",
     "output_type": "stream",
     "text": [
      "Function without arguments\n"
     ]
    },
    {
     "name": "stdin",
     "output_type": "stream",
     "text": [
      "Enter a number: 20\n"
     ]
    },
    {
     "name": "stdout",
     "output_type": "stream",
     "text": [
      "20 is even\n"
     ]
    },
    {
     "data": {
      "text/plain": [
       "20"
      ]
     },
     "execution_count": 42,
     "metadata": {},
     "output_type": "execute_result"
    }
   ],
   "source": [
    "print('Function without arguments')\n",
    "def even_odd():\n",
    "    num2=eval(input(\"Enter a number:\"))\n",
    "    if num2%2==0:\n",
    "        print(f'{num2} is even')\n",
    "    else:\n",
    "        print(f'{num2} is odd')\n",
    "    return(num2)  # Wrong logic\n",
    "num2=even_odd()\n",
    "num2"
   ]
  },
  {
   "cell_type": "markdown",
   "id": "92be7a7f-0b9e-404d-ba40-73a9294c76aa",
   "metadata": {},
   "source": [
    "- **return always inside the conditionals(if-else)**"
   ]
  },
  {
   "cell_type": "code",
   "execution_count": 40,
   "id": "a770a3c8-e76f-4e5e-bf4d-d0814511a666",
   "metadata": {},
   "outputs": [
    {
     "name": "stdout",
     "output_type": "stream",
     "text": [
      "Function without arguments\n"
     ]
    },
    {
     "name": "stdin",
     "output_type": "stream",
     "text": [
      "Enter a number: 20\n"
     ]
    },
    {
     "data": {
      "text/plain": [
       "'20 is even'"
      ]
     },
     "execution_count": 40,
     "metadata": {},
     "output_type": "execute_result"
    }
   ],
   "source": [
    "print('Function without arguments')\n",
    "def even_odd():\n",
    "    num2=eval(input(\"Enter a number:\"))\n",
    "    if num2%2==0:\n",
    "        return(f'{num2} is even')\n",
    "    else:\n",
    "        return(f'{num2} is odd')\n",
    "\n",
    "num2=even_odd()\n",
    "num2"
   ]
  },
  {
   "cell_type": "code",
   "execution_count": 49,
   "id": "a789f838-a952-490e-9d19-8aac9d72faa1",
   "metadata": {},
   "outputs": [
    {
     "name": "stdout",
     "output_type": "stream",
     "text": [
      "Function without arguments\n"
     ]
    }
   ],
   "source": [
    "print('Function without arguments')\n",
    "def even_odd():\n",
    "    num2=eval(input(\"Enter a number:\"))\n",
    "    if num2%2==0:\n",
    "        val=10\n",
    "        return(f'{num2} is even')\n",
    "    else:\n",
    "        val=20\n",
    "        return(f'{num2} is odd')\n"
   ]
  },
  {
   "cell_type": "markdown",
   "id": "aeedfb6d-d9d6-4217-92b9-934be265ce5c",
   "metadata": {},
   "source": [
    "**Function in Function**"
   ]
  },
  {
   "cell_type": "code",
   "execution_count": 52,
   "id": "b6b15794-383e-48ad-aa63-74b6f671ba65",
   "metadata": {},
   "outputs": [
    {
     "name": "stdout",
     "output_type": "stream",
     "text": [
      "hello good morning\n",
      "hello good night\n"
     ]
    }
   ],
   "source": [
    "def greet1():\n",
    "    print('hello good morning')\n",
    "def greet2():\n",
    "    print('hello good night')\n",
    "greet1()\n",
    "greet2()"
   ]
  },
  {
   "cell_type": "code",
   "execution_count": 54,
   "id": "cad15eb0-389e-481b-b1d5-981c4c9bdd73",
   "metadata": {},
   "outputs": [
    {
     "name": "stdout",
     "output_type": "stream",
     "text": [
      "hello good night\n",
      "hello good morning\n"
     ]
    }
   ],
   "source": [
    "def greet1():\n",
    "    print('hello good morning')\n",
    "def greet2():\n",
    "    print('hello good night')\n",
    "    greet1()\n",
    "greet2()\n"
   ]
  },
  {
   "cell_type": "markdown",
   "id": "e1c090e5-87a1-4ca6-9d5a-1f98f7e0da7e",
   "metadata": {},
   "source": [
    "---\n",
    "**imp**"
   ]
  },
  {
   "cell_type": "code",
   "execution_count": 56,
   "id": "714966ca-cc93-46ce-955a-e3d3abc21ef1",
   "metadata": {},
   "outputs": [
    {
     "name": "stdout",
     "output_type": "stream",
     "text": [
      "hello good morning\n",
      "hello good night\n"
     ]
    }
   ],
   "source": [
    "def greet1():\n",
    "    print('hello good morning')\n",
    "    greet2()\n",
    "def greet2():\n",
    "    print('hello good night')\n",
    "# here there would be no error\n",
    "# as while defining no error occurs\n",
    "# and before calling greet1 we have already defined greet2\n",
    "greet1()"
   ]
  },
  {
   "cell_type": "markdown",
   "id": "fb222616-5e4d-4007-8a53-3e2db5426f1d",
   "metadata": {},
   "source": [
    "---"
   ]
  },
  {
   "cell_type": "code",
   "execution_count": null,
   "id": "e1bb6bca-179b-401b-9894-2cbba1ece179",
   "metadata": {},
   "outputs": [],
   "source": [
    "# infinite loop 1\n",
    "# def greet1():\n",
    "#     print('hello good morning')\n",
    "#     greet2()\n",
    "# def greet2():\n",
    "#     print('hello good night')\n",
    "#     greet1()\n"
   ]
  },
  {
   "cell_type": "code",
   "execution_count": null,
   "id": "2da67a78-0ebf-4ba0-809e-7cf388721fbe",
   "metadata": {},
   "outputs": [],
   "source": [
    "# infinite loop 2\n",
    "# def greet3():\n",
    "#     print('hello good morning')\n",
    "#     greet3()\n",
    "\n",
    "#greet3()"
   ]
  },
  {
   "cell_type": "code",
   "execution_count": 64,
   "id": "79c827e7-2931-4a88-9e3e-a3e9ec5c701e",
   "metadata": {},
   "outputs": [
    {
     "data": {
      "text/plain": [
       "15"
      ]
     },
     "execution_count": 64,
     "metadata": {},
     "output_type": "execute_result"
    }
   ],
   "source": [
    "def add(n):\n",
    "    if n==0:\n",
    "        return(0)\n",
    "    else:\n",
    "        return (n+add(n-1))\n",
    "add(5)"
   ]
  },
  {
   "cell_type": "code",
   "execution_count": 70,
   "id": "2c5f2226-08ab-4058-b60a-867b346a67f8",
   "metadata": {},
   "outputs": [
    {
     "data": {
      "text/plain": [
       "120"
      ]
     },
     "execution_count": 70,
     "metadata": {},
     "output_type": "execute_result"
    }
   ],
   "source": [
    "# Factorial\n",
    "def fact(n):\n",
    "    if n==0:\n",
    "        return(1)\n",
    "    else:\n",
    "        return(n*fact(n-1))       \n",
    "fact(5)"
   ]
  },
  {
   "cell_type": "code",
   "execution_count": null,
   "id": "4ff6b7f2-b1a6-4fbf-81f3-4abc91c2a3cb",
   "metadata": {},
   "outputs": [],
   "source": [
    "# Q2 Calculator\n",
    "# 4 funxtions\n",
    "# like def add(a,b):\n",
    "#     return (a+b)\n",
    "# print some statements\n",
    "# def main()\n",
    "# Q2\n",
    "def add(a,b):\n",
    "    return(a+b)\n",
    "def sub(a,b):\n",
    "    return(a-b)\n",
    "def mul(a,b):\n",
    "    return(a*b)\n",
    "def div(a,b):\n",
    "    return(a/b)\n",
    "print('Enter option 1 for addition')\n",
    "print('Enter option 2 for subtraction')\n",
    "print('Enter option 3 for multiplication')\n",
    "print('Enter option 4 for division')\n",
    "\n",
    "def main():\n",
    "    try:\n",
    "        option=eval(input('Enter the option:'))\n",
    "        if option==1:\n",
    "            a=eval(input('Enter the number:'))\n",
    "            b=eval(input('Enter the number:'))\n",
    "            c=add(a,b)\n",
    "            return(f'Addition of {a} and {b} is {c}')\n",
    "        elif option==2:\n",
    "            a=eval(input('Enter the number:'))\n",
    "            b=eval(input('Enter the number:'))\n",
    "            c=sub(a,b)\n",
    "            return(f'Subtraction of {a} and {b} is {c}')\n",
    "        elif option==3:\n",
    "            a=eval(input('Enter the number:'))\n",
    "            b=eval(input('Enter the number:'))\n",
    "            c=mul(a,b)\n",
    "            return(f'Multiplication of {a} and {b} is {c}')\n",
    "        elif option==4:\n",
    "            a=eval(input('Enter the number:'))\n",
    "            b=eval(input('Enter the number:'))\n",
    "            c=div(a,b)\n",
    "            return(f'Division of {a} and {b} is {c}')\n",
    "        else:\n",
    "            return('Please choose from the given option')\n",
    "    except Exception as e:\n",
    "        print(e)\n",
    "main()"
   ]
  }
 ],
 "metadata": {
  "kernelspec": {
   "display_name": "Python [conda env:base] *",
   "language": "python",
   "name": "conda-base-py"
  },
  "language_info": {
   "codemirror_mode": {
    "name": "ipython",
    "version": 3
   },
   "file_extension": ".py",
   "mimetype": "text/x-python",
   "name": "python",
   "nbconvert_exporter": "python",
   "pygments_lexer": "ipython3",
   "version": "3.12.7"
  }
 },
 "nbformat": 4,
 "nbformat_minor": 5
}
