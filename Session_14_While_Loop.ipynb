{
 "cells": [
  {
   "cell_type": "markdown",
   "id": "87084d68-1d7b-40e4-8321-449166f7c809",
   "metadata": {},
   "source": [
    "**While Loop**\n",
    "\n",
    "- initialization to start\n",
    "- increment or decrement\n",
    "- condition to stop"
   ]
  },
  {
   "cell_type": "code",
   "execution_count": null,
   "id": "eb38908e-37e2-47b1-9195-73d0c3d4e965",
   "metadata": {},
   "outputs": [],
   "source": [
    "<initialization>\n",
    "\n",
    "while <condition>:\n",
    "    #===============python\n",
    "\n",
    "    increment/decremnet"
   ]
  },
  {
   "cell_type": "code",
   "execution_count": 2,
   "id": "bee446be-723d-42d6-bc1d-3eecd810ca90",
   "metadata": {},
   "outputs": [
    {
     "name": "stdout",
     "output_type": "stream",
     "text": [
      "1 2 3 4 5 6 7 8 9 "
     ]
    }
   ],
   "source": [
    "for i in range(1,10):\n",
    "    print(i,end=' ')"
   ]
  },
  {
   "cell_type": "code",
   "execution_count": 14,
   "id": "7c16237e-58de-4440-ac9b-e270f754c6ea",
   "metadata": {},
   "outputs": [
    {
     "name": "stdout",
     "output_type": "stream",
     "text": [
      "1 2 "
     ]
    }
   ],
   "source": [
    "i=1\n",
    "while i<3:\n",
    "    print(i,end=' ')\n",
    "    i=i+1\n",
    "    \n",
    "# Step-1: i=1 while 1<3 True print(1) i=1+1=2\n",
    "# Step-2: i=1 while 2<3 True print(2) i=2+1=3\n",
    "# Step-3: i=1 while 3<3 False "
   ]
  },
  {
   "cell_type": "code",
   "execution_count": 12,
   "id": "949d3999-45dd-4e0e-a279-7396938b5acc",
   "metadata": {},
   "outputs": [
    {
     "name": "stdout",
     "output_type": "stream",
     "text": [
      "25 20 15 10 5 0 -5 -10 "
     ]
    }
   ],
   "source": [
    "i=25\n",
    "while i>-11:\n",
    "    print(i,end=' ')\n",
    "    i=i-5"
   ]
  },
  {
   "cell_type": "code",
   "execution_count": 30,
   "id": "abd7d281-fc5d-42c3-9284-a0e14a29ec9d",
   "metadata": {},
   "outputs": [
    {
     "name": "stdout",
     "output_type": "stream",
     "text": [
      "1 2 3 4 5 6 7 8 9 10 "
     ]
    }
   ],
   "source": [
    "# 1. print 1 to 10\n",
    "i=1\n",
    "while i<11:\n",
    "    print(i,end=' ')\n",
    "    i=i+1\n",
    "  "
   ]
  },
  {
   "cell_type": "code",
   "execution_count": 28,
   "id": "02b27a7d-a1da-41c3-abdd-564b2e6a0d6f",
   "metadata": {},
   "outputs": [
    {
     "name": "stdout",
     "output_type": "stream",
     "text": [
      "10 9 8 7 6 5 4 3 2 1 "
     ]
    }
   ],
   "source": [
    "# 2. print 10 to 1\n",
    "i=10\n",
    "while i>0:\n",
    "    print(i,end=' ')\n",
    "    i=i-1"
   ]
  },
  {
   "cell_type": "code",
   "execution_count": 32,
   "id": "ee7f6b9e-3983-4854-b182-d3a73e900678",
   "metadata": {},
   "outputs": [
    {
     "name": "stdout",
     "output_type": "stream",
     "text": [
      "-1 -2 -3 -4 -5 -6 -7 -8 -9 -10 "
     ]
    }
   ],
   "source": [
    "# 3. print -1 to -10\n",
    "i=-1\n",
    "while i>-11:\n",
    "    print(i,end=' ')\n",
    "    i=i-1\n",
    "    "
   ]
  },
  {
   "cell_type": "code",
   "execution_count": 34,
   "id": "80451398-b2c4-409a-9a31-98ea011c68a1",
   "metadata": {},
   "outputs": [
    {
     "name": "stdout",
     "output_type": "stream",
     "text": [
      "-10 -9 -8 -7 -6 -5 -4 -3 -2 -1 "
     ]
    }
   ],
   "source": [
    "# 4. print -10 to -1\n",
    "i=-10\n",
    "while i<0:\n",
    "    print(i,end=' ')\n",
    "    i=i+1"
   ]
  },
  {
   "cell_type": "code",
   "execution_count": 36,
   "id": "23c15c9e-7ffd-4971-aa6f-746185373a10",
   "metadata": {},
   "outputs": [
    {
     "name": "stdout",
     "output_type": "stream",
     "text": [
      "10 9 8 7 6 5 4 3 2 1 "
     ]
    }
   ],
   "source": [
    "# 2.1 print 10 to 1\n",
    "i=10\n",
    "while True:\n",
    "    print(i,end=' ')\n",
    "    i=i-1\n",
    "    if i==0:\n",
    "        break"
   ]
  },
  {
   "cell_type": "code",
   "execution_count": 3,
   "id": "70908e50-916e-43f3-bf5f-d8ceb3cbd4b4",
   "metadata": {},
   "outputs": [
    {
     "name": "stdout",
     "output_type": "stream",
     "text": [
      "7*1= 7\n",
      "7*2= 14\n",
      "7*3= 21\n",
      "7*4= 28\n",
      "7*5= 35\n",
      "7*6= 42\n",
      "7*7= 49\n",
      "7*8= 56\n",
      "7*9= 63\n",
      "7*10= 70\n"
     ]
    }
   ],
   "source": [
    "i=1\n",
    "while i<11:\n",
    "    print(f'7*{i}= {7*i}')\n",
    "    i=i+1"
   ]
  },
  {
   "cell_type": "code",
   "execution_count": null,
   "id": "f819b0f2-3ac8-420a-bf52-0e94c75a6e63",
   "metadata": {},
   "outputs": [],
   "source": []
  }
 ],
 "metadata": {
  "kernelspec": {
   "display_name": "Python [conda env:base] *",
   "language": "python",
   "name": "conda-base-py"
  },
  "language_info": {
   "codemirror_mode": {
    "name": "ipython",
    "version": 3
   },
   "file_extension": ".py",
   "mimetype": "text/x-python",
   "name": "python",
   "nbconvert_exporter": "python",
   "pygments_lexer": "ipython3",
   "version": "3.12.7"
  }
 },
 "nbformat": 4,
 "nbformat_minor": 5
}
