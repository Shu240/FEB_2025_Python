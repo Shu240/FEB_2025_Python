{
 "cells": [
  {
   "cell_type": "markdown",
   "id": "b58a9659-947c-4153-9c8d-d265bfce1e87",
   "metadata": {},
   "source": [
    "**Basic Representation**\n",
    "- strings in quotes\n",
    "- list elemnets are in square brackets[]"
   ]
  },
  {
   "cell_type": "code",
   "execution_count": 3,
   "id": "83d5dba7-c61b-43c0-b049-9c261b47bace",
   "metadata": {},
   "outputs": [
    {
     "data": {
      "text/plain": [
       "[1, 2, 3, 4]"
      ]
     },
     "execution_count": 3,
     "metadata": {},
     "output_type": "execute_result"
    }
   ],
   "source": [
    "list1=[1,2,3,4]\n",
    "list1"
   ]
  },
  {
   "cell_type": "code",
   "execution_count": 5,
   "id": "7f568ac1-6fff-47fc-9096-dfa15baf5810",
   "metadata": {},
   "outputs": [
    {
     "name": "stdout",
     "output_type": "stream",
     "text": [
      "[1, 2, 3, 4]\n"
     ]
    },
    {
     "data": {
      "text/plain": [
       "list"
      ]
     },
     "execution_count": 5,
     "metadata": {},
     "output_type": "execute_result"
    }
   ],
   "source": [
    "list1=[1,2,3,4]\n",
    "print(list1)\n",
    "type(list1)"
   ]
  },
  {
   "cell_type": "code",
   "execution_count": 11,
   "id": "a17c332c-a39a-4f67-a69e-54e1a78f97af",
   "metadata": {},
   "outputs": [
    {
     "data": {
      "text/plain": [
       "['A', 'B', 'C']"
      ]
     },
     "execution_count": 11,
     "metadata": {},
     "output_type": "execute_result"
    }
   ],
   "source": [
    "list2=['A','B','C']\n",
    "list2"
   ]
  },
  {
   "cell_type": "code",
   "execution_count": 13,
   "id": "3dc5dd96-9e59-4e4e-86d1-d1fa702e9b41",
   "metadata": {},
   "outputs": [
    {
     "data": {
      "text/plain": [
       "[1, 2, 3, 4, 'A', 'B', 'C']"
      ]
     },
     "execution_count": 13,
     "metadata": {},
     "output_type": "execute_result"
    }
   ],
   "source": [
    "list3=[1,2,3,4,'A','B','C']\n",
    "list3"
   ]
  },
  {
   "cell_type": "code",
   "execution_count": 17,
   "id": "e6c2cda2-91d1-4731-8b72-2358ae37e116",
   "metadata": {},
   "outputs": [
    {
     "data": {
      "text/plain": [
       "[1.0, 2.2, True, False, 10, 20, 30, 'A', 'B', 'C']"
      ]
     },
     "execution_count": 17,
     "metadata": {},
     "output_type": "execute_result"
    }
   ],
   "source": [
    "list3=[1.0,2.2,True,False,10,20,30,'A','B','C']\n",
    "list3"
   ]
  },
  {
   "cell_type": "code",
   "execution_count": 19,
   "id": "8ca3ca2a-aeae-4172-9ff5-32d6fc880400",
   "metadata": {},
   "outputs": [
    {
     "data": {
      "text/plain": [
       "[[1, 2, 3, 4], ['A', 'B', 'C']]"
      ]
     },
     "execution_count": 19,
     "metadata": {},
     "output_type": "execute_result"
    }
   ],
   "source": [
    "list3=[list1,list2]\n",
    "list3"
   ]
  },
  {
   "cell_type": "code",
   "execution_count": 25,
   "id": "57d976e7-fc75-4607-ab8b-aa4a4255697b",
   "metadata": {},
   "outputs": [
    {
     "data": {
      "text/plain": [
       "list[[1, 2, 3, 4]]"
      ]
     },
     "execution_count": 25,
     "metadata": {},
     "output_type": "execute_result"
    }
   ],
   "source": [
    "list3=list[list1]\n",
    "list3"
   ]
  },
  {
   "cell_type": "code",
   "execution_count": 27,
   "id": "2f625c22-ea35-443f-b737-d885fa7f86b6",
   "metadata": {},
   "outputs": [
    {
     "data": {
      "text/plain": [
       "[10, 10, 10]"
      ]
     },
     "execution_count": 27,
     "metadata": {},
     "output_type": "execute_result"
    }
   ],
   "source": [
    "list5=[10,10,10]\n",
    "list5"
   ]
  },
  {
   "cell_type": "code",
   "execution_count": 33,
   "id": "f4f7fa9b-10ce-44e5-beff-5c90645113fa",
   "metadata": {},
   "outputs": [
    {
     "data": {
      "text/plain": [
       "['{\"dataframes\": [], \"user\": \"ashis\"}']"
      ]
     },
     "execution_count": 33,
     "metadata": {},
     "output_type": "execute_result"
    }
   ],
   "source": [
    "name='python'\n",
    "list8=[name]\n",
    "list9=[_]\n",
    "list9"
   ]
  },
  {
   "cell_type": "code",
   "execution_count": 35,
   "id": "c66c7d2f-c7ac-4988-9530-ad3f96d14f56",
   "metadata": {},
   "outputs": [],
   "source": [
    "list1=[10,20,30,75]\n",
    "list2=['Apple','apple','Cherry','banana']\n",
    "list3=[10,20,30,75,'Apple','apple','Cherry','banana']"
   ]
  },
  {
   "cell_type": "code",
   "execution_count": 37,
   "id": "29c74156-2e49-4df9-ac65-3f95a04b6c57",
   "metadata": {},
   "outputs": [
    {
     "data": {
      "text/plain": [
       "4"
      ]
     },
     "execution_count": 37,
     "metadata": {},
     "output_type": "execute_result"
    }
   ],
   "source": [
    "len(list1)"
   ]
  },
  {
   "cell_type": "code",
   "execution_count": 39,
   "id": "4fe52f9a-369f-4632-951a-689a0da45bec",
   "metadata": {},
   "outputs": [
    {
     "data": {
      "text/plain": [
       "4"
      ]
     },
     "execution_count": 39,
     "metadata": {},
     "output_type": "execute_result"
    }
   ],
   "source": [
    "len(list2)"
   ]
  },
  {
   "cell_type": "code",
   "execution_count": 41,
   "id": "ed5f706d-8409-4af9-ae61-e52f8cbcd60f",
   "metadata": {},
   "outputs": [
    {
     "data": {
      "text/plain": [
       "8"
      ]
     },
     "execution_count": 41,
     "metadata": {},
     "output_type": "execute_result"
    }
   ],
   "source": [
    "len(list3)"
   ]
  },
  {
   "cell_type": "code",
   "execution_count": 43,
   "id": "7625872f-0c1a-4d06-a7de-2eef398eebde",
   "metadata": {},
   "outputs": [
    {
     "data": {
      "text/plain": [
       "10"
      ]
     },
     "execution_count": 43,
     "metadata": {},
     "output_type": "execute_result"
    }
   ],
   "source": [
    "min(list1)"
   ]
  },
  {
   "cell_type": "code",
   "execution_count": 45,
   "id": "4a472190-98de-493c-bbf9-917139f5bced",
   "metadata": {},
   "outputs": [
    {
     "data": {
      "text/plain": [
       "'Apple'"
      ]
     },
     "execution_count": 45,
     "metadata": {},
     "output_type": "execute_result"
    }
   ],
   "source": [
    "min(list2)"
   ]
  },
  {
   "cell_type": "code",
   "execution_count": 47,
   "id": "4f2099b2-b665-42b0-af6a-f51d3117ddce",
   "metadata": {},
   "outputs": [
    {
     "ename": "TypeError",
     "evalue": "'<' not supported between instances of 'str' and 'int'",
     "output_type": "error",
     "traceback": [
      "\u001b[1;31m---------------------------------------------------------------------------\u001b[0m",
      "\u001b[1;31mTypeError\u001b[0m                                 Traceback (most recent call last)",
      "Cell \u001b[1;32mIn[47], line 1\u001b[0m\n\u001b[1;32m----> 1\u001b[0m \u001b[38;5;28mmin\u001b[39m(list3)\n",
      "\u001b[1;31mTypeError\u001b[0m: '<' not supported between instances of 'str' and 'int'"
     ]
    }
   ],
   "source": [
    "min(list3)"
   ]
  },
  {
   "cell_type": "code",
   "execution_count": 49,
   "id": "ce48ee27-3015-4404-a56f-81338f188869",
   "metadata": {},
   "outputs": [
    {
     "ename": "TypeError",
     "evalue": "'>' not supported between instances of 'str' and 'int'",
     "output_type": "error",
     "traceback": [
      "\u001b[1;31m---------------------------------------------------------------------------\u001b[0m",
      "\u001b[1;31mTypeError\u001b[0m                                 Traceback (most recent call last)",
      "Cell \u001b[1;32mIn[49], line 1\u001b[0m\n\u001b[1;32m----> 1\u001b[0m \u001b[38;5;28mmax\u001b[39m(list3)\n",
      "\u001b[1;31mTypeError\u001b[0m: '>' not supported between instances of 'str' and 'int'"
     ]
    }
   ],
   "source": [
    "max(list3)"
   ]
  },
  {
   "cell_type": "code",
   "execution_count": 51,
   "id": "f87f474e-89d5-4f90-9c41-2cb4bf1f51b6",
   "metadata": {},
   "outputs": [
    {
     "data": {
      "text/plain": [
       "10"
      ]
     },
     "execution_count": 51,
     "metadata": {},
     "output_type": "execute_result"
    }
   ],
   "source": [
    "min(list1)"
   ]
  },
  {
   "cell_type": "code",
   "execution_count": 53,
   "id": "14eba623-8ab2-4550-8cd1-f9f7e59f0e11",
   "metadata": {},
   "outputs": [
    {
     "data": {
      "text/plain": [
       "'Apple'"
      ]
     },
     "execution_count": 53,
     "metadata": {},
     "output_type": "execute_result"
    }
   ],
   "source": [
    "min(list2)"
   ]
  },
  {
   "cell_type": "code",
   "execution_count": 55,
   "id": "5d10555f-3ed7-4a41-a10c-2261293858ec",
   "metadata": {},
   "outputs": [
    {
     "data": {
      "text/plain": [
       "135"
      ]
     },
     "execution_count": 55,
     "metadata": {},
     "output_type": "execute_result"
    }
   ],
   "source": [
    "sum(list1)"
   ]
  },
  {
   "cell_type": "code",
   "execution_count": 57,
   "id": "bf025581-565b-4696-803e-39bf5f899c19",
   "metadata": {},
   "outputs": [
    {
     "ename": "TypeError",
     "evalue": "unsupported operand type(s) for +: 'int' and 'str'",
     "output_type": "error",
     "traceback": [
      "\u001b[1;31m---------------------------------------------------------------------------\u001b[0m",
      "\u001b[1;31mTypeError\u001b[0m                                 Traceback (most recent call last)",
      "Cell \u001b[1;32mIn[57], line 1\u001b[0m\n\u001b[1;32m----> 1\u001b[0m \u001b[38;5;28msum\u001b[39m(list2)\n",
      "\u001b[1;31mTypeError\u001b[0m: unsupported operand type(s) for +: 'int' and 'str'"
     ]
    }
   ],
   "source": [
    "sum(list2)"
   ]
  },
  {
   "cell_type": "code",
   "execution_count": 61,
   "id": "a73b5f16-f031-442a-9674-9b10a4870e39",
   "metadata": {},
   "outputs": [
    {
     "ename": "TypeError",
     "evalue": "unsupported operand type(s) for +: 'int' and 'str'",
     "output_type": "error",
     "traceback": [
      "\u001b[1;31m---------------------------------------------------------------------------\u001b[0m",
      "\u001b[1;31mTypeError\u001b[0m                                 Traceback (most recent call last)",
      "Cell \u001b[1;32mIn[61], line 1\u001b[0m\n\u001b[1;32m----> 1\u001b[0m \u001b[38;5;28msum\u001b[39m(list3)\n",
      "\u001b[1;31mTypeError\u001b[0m: unsupported operand type(s) for +: 'int' and 'str'"
     ]
    }
   ],
   "source": [
    "sum(list3)"
   ]
  },
  {
   "cell_type": "code",
   "execution_count": 63,
   "id": "617afbca-37fd-4ce3-97b6-ece70f524159",
   "metadata": {},
   "outputs": [
    {
     "data": {
      "text/plain": [
       "[10, 20, 30, 75]"
      ]
     },
     "execution_count": 63,
     "metadata": {},
     "output_type": "execute_result"
    }
   ],
   "source": [
    "sorted(list1)"
   ]
  },
  {
   "cell_type": "code",
   "execution_count": 65,
   "id": "bbfc540d-526d-489a-a3ba-dd47629747b5",
   "metadata": {},
   "outputs": [
    {
     "data": {
      "text/plain": [
       "['Apple', 'Cherry', 'apple', 'banana']"
      ]
     },
     "execution_count": 65,
     "metadata": {},
     "output_type": "execute_result"
    }
   ],
   "source": [
    "sorted(list2)"
   ]
  },
  {
   "cell_type": "code",
   "execution_count": 67,
   "id": "2a69f710-f809-414e-88ea-64eff708abb1",
   "metadata": {},
   "outputs": [
    {
     "ename": "TypeError",
     "evalue": "'<' not supported between instances of 'str' and 'int'",
     "output_type": "error",
     "traceback": [
      "\u001b[1;31m---------------------------------------------------------------------------\u001b[0m",
      "\u001b[1;31mTypeError\u001b[0m                                 Traceback (most recent call last)",
      "Cell \u001b[1;32mIn[67], line 1\u001b[0m\n\u001b[1;32m----> 1\u001b[0m \u001b[38;5;28msorted\u001b[39m(list3)\n",
      "\u001b[1;31mTypeError\u001b[0m: '<' not supported between instances of 'str' and 'int'"
     ]
    }
   ],
   "source": [
    "sorted(list3)"
   ]
  },
  {
   "cell_type": "code",
   "execution_count": 69,
   "id": "9e01d081-5cba-4f98-b705-8d42ff5225e9",
   "metadata": {},
   "outputs": [
    {
     "data": {
      "text/plain": [
       "<list_reverseiterator at 0x20c1b162e00>"
      ]
     },
     "execution_count": 69,
     "metadata": {},
     "output_type": "execute_result"
    }
   ],
   "source": [
    "reversed(list3)"
   ]
  },
  {
   "cell_type": "code",
   "execution_count": 73,
   "id": "3456b14e-2f81-4c8e-a72b-bb8dcdee3ca5",
   "metadata": {},
   "outputs": [
    {
     "data": {
      "text/plain": [
       "['banana', 'Cherry', 'apple', 'Apple', 75, 30, 20, 10]"
      ]
     },
     "execution_count": 73,
     "metadata": {},
     "output_type": "execute_result"
    }
   ],
   "source": [
    "list4=reversed(list3)\n",
    "list(list4)"
   ]
  },
  {
   "cell_type": "code",
   "execution_count": 75,
   "id": "6d523977-704a-4d8d-8bcc-60bbfe281d19",
   "metadata": {},
   "outputs": [
    {
     "data": {
      "text/plain": [
       "['banana', 'Cherry', 'apple', 'Apple']"
      ]
     },
     "execution_count": 75,
     "metadata": {},
     "output_type": "execute_result"
    }
   ],
   "source": [
    "list(reversed(list2))"
   ]
  },
  {
   "cell_type": "code",
   "execution_count": 77,
   "id": "846224f2-827c-4bb9-a39d-af85614aeec3",
   "metadata": {},
   "outputs": [
    {
     "data": {
      "text/plain": [
       "[75, 30, 20, 10]"
      ]
     },
     "execution_count": 77,
     "metadata": {},
     "output_type": "execute_result"
    }
   ],
   "source": [
    "list(reversed(list1))"
   ]
  },
  {
   "cell_type": "code",
   "execution_count": 81,
   "id": "e24a980a-8874-49e5-bd15-80db280bef8b",
   "metadata": {},
   "outputs": [
    {
     "name": "stdout",
     "output_type": "stream",
     "text": [
      "banana\n",
      "Cherry\n",
      "apple\n",
      "Apple\n",
      "75\n",
      "30\n",
      "20\n",
      "10\n"
     ]
    }
   ],
   "source": [
    "list5=reversed(list3)\n",
    "for i in list5:\n",
    "    print(i)"
   ]
  },
  {
   "cell_type": "code",
   "execution_count": null,
   "id": "d0aac6e9-dc5c-45e2-bf6b-c7c73c92fe0d",
   "metadata": {},
   "outputs": [],
   "source": [
    "# sort the list without sorted function\n",
    "# find the maximum value without maximum function\n",
    "# find the minimum value without minimum function\n",
    "# reverse without reverse function\n",
    "# sum without sum function"
   ]
  },
  {
   "cell_type": "code",
   "execution_count": 87,
   "id": "129c543b-4447-41aa-9d9e-2c51cb5380b1",
   "metadata": {},
   "outputs": [
    {
     "name": "stdout",
     "output_type": "stream",
     "text": [
      "100\n"
     ]
    }
   ],
   "source": [
    "list1=[10,20,30,40]\n",
    "summ=0\n",
    "for i in list1:\n",
    "    summ=summ+i\n",
    "print(summ)"
   ]
  },
  {
   "cell_type": "code",
   "execution_count": 82,
   "id": "6ec66f76-4c12-434d-89b9-39a42444508b",
   "metadata": {},
   "outputs": [
    {
     "data": {
      "text/plain": [
       "40"
      ]
     },
     "execution_count": 82,
     "metadata": {},
     "output_type": "execute_result"
    }
   ],
   "source": [
    "list1=[10,20,30,40]\n",
    "maxx=0\n",
    "for i in list1:\n",
    "    if maxx<i:\n",
    "        maxx=i\n",
    "maxx"
   ]
  },
  {
   "cell_type": "code",
   "execution_count": 44,
   "id": "91e025c6-f8c2-4f78-adc2-63f2a77936d2",
   "metadata": {},
   "outputs": [
    {
     "data": {
      "text/plain": [
       "10"
      ]
     },
     "execution_count": 44,
     "metadata": {},
     "output_type": "execute_result"
    }
   ],
   "source": [
    "list1=[10,20,30,40]\n",
    "minn=list1[len(list1)-1]\n",
    "for i in list1:\n",
    "    if minn>i:\n",
    "        minn=i\n",
    "minn"
   ]
  },
  {
   "cell_type": "code",
   "execution_count": 34,
   "id": "b49152d1-0278-4561-b673-3db1dfef70ab",
   "metadata": {},
   "outputs": [
    {
     "name": "stdout",
     "output_type": "stream",
     "text": [
      "40 30 20 10 "
     ]
    },
    {
     "data": {
      "text/plain": [
       "[40, 30, 20, 10]"
      ]
     },
     "execution_count": 34,
     "metadata": {},
     "output_type": "execute_result"
    }
   ],
   "source": [
    "list1=[10,20,30,40]\n",
    "list2=[]\n",
    "for i in range(len(list1)-1,-1,-1):\n",
    "    print(list1[i],end=' ')\n",
    "    list2=list2+[list1[i]]\n",
    "list2"
   ]
  },
  {
   "cell_type": "code",
   "execution_count": null,
   "id": "e3573094-71de-4f40-afdf-8aa1be46a3ef",
   "metadata": {},
   "outputs": [],
   "source": []
  },
  {
   "cell_type": "code",
   "execution_count": 46,
   "id": "1b3b8517-ce5e-474d-9e72-56a76f6f8275",
   "metadata": {},
   "outputs": [
    {
     "data": {
      "text/plain": [
       "30"
      ]
     },
     "execution_count": 46,
     "metadata": {},
     "output_type": "execute_result"
    }
   ],
   "source": [
    "# 2nd max\n",
    "list1=[10,20,30,40]\n",
    "maxx1=0\n",
    "for i in list1:\n",
    "    if maxx1<i:\n",
    "        maxx1=i\n",
    "maxx2=0\n",
    "for i in list1:\n",
    "    if maxx2<i and i!=maxx1:\n",
    "        maxx2=i\n",
    "maxx2\n",
    "        "
   ]
  },
  {
   "cell_type": "code",
   "execution_count": 80,
   "id": "86d40c0a-20d7-49d6-a1bd-cc6ad6e19792",
   "metadata": {},
   "outputs": [
    {
     "data": {
      "text/plain": [
       "20"
      ]
     },
     "execution_count": 80,
     "metadata": {},
     "output_type": "execute_result"
    }
   ],
   "source": [
    "# 2nd min\n",
    "list1=[10,20,30,40]\n",
    "minn1=999\n",
    "for i in list1:\n",
    "    if minn1>i:\n",
    "        minn1=i\n",
    "minn2=999\n",
    "for i in list1:\n",
    "    if i<minn2 and i> minn1:\n",
    "        minn2=i\n",
    "minn2"
   ]
  },
  {
   "cell_type": "markdown",
   "id": "f75ffd82-ce93-4626-92ef-76e7888b4e01",
   "metadata": {},
   "source": [
    "**concatenation**"
   ]
  },
  {
   "cell_type": "code",
   "execution_count": 90,
   "id": "4d3af57c-b28c-4bd3-8ff1-5192ea53c71a",
   "metadata": {},
   "outputs": [
    {
     "data": {
      "text/plain": [
       "[10, 20, 30, 40, 'Apple', 'apple', 'Cherry', 'banana']"
      ]
     },
     "execution_count": 90,
     "metadata": {},
     "output_type": "execute_result"
    }
   ],
   "source": [
    "list1+list2"
   ]
  },
  {
   "cell_type": "code",
   "execution_count": 92,
   "id": "f998a242-9291-4472-aa25-c56ea1efdac3",
   "metadata": {},
   "outputs": [
    {
     "ename": "TypeError",
     "evalue": "unsupported operand type(s) for -: 'list' and 'list'",
     "output_type": "error",
     "traceback": [
      "\u001b[1;31m---------------------------------------------------------------------------\u001b[0m",
      "\u001b[1;31mTypeError\u001b[0m                                 Traceback (most recent call last)",
      "Cell \u001b[1;32mIn[92], line 1\u001b[0m\n\u001b[1;32m----> 1\u001b[0m list1\u001b[38;5;241m-\u001b[39mlist2\n",
      "\u001b[1;31mTypeError\u001b[0m: unsupported operand type(s) for -: 'list' and 'list'"
     ]
    }
   ],
   "source": [
    "list1-list2"
   ]
  },
  {
   "cell_type": "code",
   "execution_count": 104,
   "id": "88bc28a5-c96b-4015-828c-bbf6471792e0",
   "metadata": {},
   "outputs": [
    {
     "ename": "TypeError",
     "evalue": "can only concatenate list (not \"int\") to list",
     "output_type": "error",
     "traceback": [
      "\u001b[1;31m---------------------------------------------------------------------------\u001b[0m",
      "\u001b[1;31mTypeError\u001b[0m                                 Traceback (most recent call last)",
      "Cell \u001b[1;32mIn[104], line 1\u001b[0m\n\u001b[1;32m----> 1\u001b[0m list1\u001b[38;5;241m+\u001b[39m\u001b[38;5;241m10\u001b[39m\n",
      "\u001b[1;31mTypeError\u001b[0m: can only concatenate list (not \"int\") to list"
     ]
    }
   ],
   "source": [
    "list1+10"
   ]
  },
  {
   "cell_type": "code",
   "execution_count": 94,
   "id": "fe19e02a-9aeb-4652-9efa-9fdff7f454a9",
   "metadata": {},
   "outputs": [
    {
     "ename": "TypeError",
     "evalue": "can't multiply sequence by non-int of type 'list'",
     "output_type": "error",
     "traceback": [
      "\u001b[1;31m---------------------------------------------------------------------------\u001b[0m",
      "\u001b[1;31mTypeError\u001b[0m                                 Traceback (most recent call last)",
      "Cell \u001b[1;32mIn[94], line 1\u001b[0m\n\u001b[1;32m----> 1\u001b[0m list1\u001b[38;5;241m*\u001b[39mlist2\n",
      "\u001b[1;31mTypeError\u001b[0m: can't multiply sequence by non-int of type 'list'"
     ]
    }
   ],
   "source": [
    "list1*list2"
   ]
  },
  {
   "cell_type": "code",
   "execution_count": 98,
   "id": "3e3e3ec3-a656-4f64-b0c8-2342547ffd4a",
   "metadata": {},
   "outputs": [
    {
     "data": {
      "text/plain": [
       "[10, 20, 30, 40, 10, 20, 30, 40]"
      ]
     },
     "execution_count": 98,
     "metadata": {},
     "output_type": "execute_result"
    }
   ],
   "source": [
    "list1*2"
   ]
  },
  {
   "cell_type": "code",
   "execution_count": 102,
   "id": "61148242-0133-4e03-ba82-6fd29bca9898",
   "metadata": {},
   "outputs": [
    {
     "data": {
      "text/plain": [
       "['Apple', 'apple', 'Cherry', 'banana', 'Apple', 'apple', 'Cherry', 'banana']"
      ]
     },
     "execution_count": 102,
     "metadata": {},
     "output_type": "execute_result"
    }
   ],
   "source": [
    "list2*2"
   ]
  },
  {
   "cell_type": "code",
   "execution_count": 100,
   "id": "b464c535-e211-4a91-8b13-54c0df69ff3c",
   "metadata": {},
   "outputs": [
    {
     "ename": "TypeError",
     "evalue": "unsupported operand type(s) for /: 'list' and 'int'",
     "output_type": "error",
     "traceback": [
      "\u001b[1;31m---------------------------------------------------------------------------\u001b[0m",
      "\u001b[1;31mTypeError\u001b[0m                                 Traceback (most recent call last)",
      "Cell \u001b[1;32mIn[100], line 1\u001b[0m\n\u001b[1;32m----> 1\u001b[0m list1\u001b[38;5;241m/\u001b[39m\u001b[38;5;241m2\u001b[39m\n",
      "\u001b[1;31mTypeError\u001b[0m: unsupported operand type(s) for /: 'list' and 'int'"
     ]
    }
   ],
   "source": [
    "list1/2"
   ]
  },
  {
   "cell_type": "code",
   "execution_count": 106,
   "id": "c70301ac-441e-4c1c-bf22-ced91df1930f",
   "metadata": {},
   "outputs": [
    {
     "ename": "TypeError",
     "evalue": "can't multiply sequence by non-int of type 'list'",
     "output_type": "error",
     "traceback": [
      "\u001b[1;31m---------------------------------------------------------------------------\u001b[0m",
      "\u001b[1;31mTypeError\u001b[0m                                 Traceback (most recent call last)",
      "Cell \u001b[1;32mIn[106], line 1\u001b[0m\n\u001b[1;32m----> 1\u001b[0m list1\u001b[38;5;241m*\u001b[39mlist1\n",
      "\u001b[1;31mTypeError\u001b[0m: can't multiply sequence by non-int of type 'list'"
     ]
    }
   ],
   "source": [
    "list1*list1"
   ]
  },
  {
   "cell_type": "code",
   "execution_count": 108,
   "id": "a926f893-82d3-46aa-83fb-944c0c9f2b20",
   "metadata": {},
   "outputs": [
    {
     "ename": "TypeError",
     "evalue": "unsupported operand type(s) for -: 'list' and 'list'",
     "output_type": "error",
     "traceback": [
      "\u001b[1;31m---------------------------------------------------------------------------\u001b[0m",
      "\u001b[1;31mTypeError\u001b[0m                                 Traceback (most recent call last)",
      "Cell \u001b[1;32mIn[108], line 1\u001b[0m\n\u001b[1;32m----> 1\u001b[0m list1\u001b[38;5;241m-\u001b[39mlist1\n",
      "\u001b[1;31mTypeError\u001b[0m: unsupported operand type(s) for -: 'list' and 'list'"
     ]
    }
   ],
   "source": [
    "list1-list1"
   ]
  },
  {
   "cell_type": "code",
   "execution_count": 110,
   "id": "c0e997e3-7fcd-4345-b03c-9b04992c617c",
   "metadata": {},
   "outputs": [
    {
     "ename": "TypeError",
     "evalue": "unsupported operand type(s) for /: 'list' and 'list'",
     "output_type": "error",
     "traceback": [
      "\u001b[1;31m---------------------------------------------------------------------------\u001b[0m",
      "\u001b[1;31mTypeError\u001b[0m                                 Traceback (most recent call last)",
      "Cell \u001b[1;32mIn[110], line 1\u001b[0m\n\u001b[1;32m----> 1\u001b[0m list1\u001b[38;5;241m/\u001b[39mlist1\n",
      "\u001b[1;31mTypeError\u001b[0m: unsupported operand type(s) for /: 'list' and 'list'"
     ]
    }
   ],
   "source": [
    "list1/list1"
   ]
  },
  {
   "cell_type": "markdown",
   "id": "84470dfe-ef63-4908-ae25-e164947ea394",
   "metadata": {},
   "source": [
    "**index**"
   ]
  },
  {
   "cell_type": "code",
   "execution_count": 113,
   "id": "e7407ae7-52de-46a6-a0e7-ef3a4a4d59bd",
   "metadata": {},
   "outputs": [],
   "source": [
    "#       0  1  2  3   4   5\n",
    "list1=[10,20,30,'A','B','C']\n",
    "#      -6 -5  -4 -3  -2  -1"
   ]
  },
  {
   "cell_type": "code",
   "execution_count": 117,
   "id": "478fc186-6754-43d0-a465-1ee4991436d4",
   "metadata": {},
   "outputs": [
    {
     "data": {
      "text/plain": [
       "10"
      ]
     },
     "execution_count": 117,
     "metadata": {},
     "output_type": "execute_result"
    }
   ],
   "source": [
    "list1[0]"
   ]
  },
  {
   "cell_type": "code",
   "execution_count": 121,
   "id": "8e003a74-6237-4290-81d0-618e6034777b",
   "metadata": {},
   "outputs": [
    {
     "data": {
      "text/plain": [
       "'C'"
      ]
     },
     "execution_count": 121,
     "metadata": {},
     "output_type": "execute_result"
    }
   ],
   "source": [
    "list1[-1]"
   ]
  },
  {
   "cell_type": "code",
   "execution_count": null,
   "id": "31c95730-20a8-4439-96cf-428165032e18",
   "metadata": {},
   "outputs": [],
   "source": [
    "index"
   ]
  },
  {
   "cell_type": "code",
   "execution_count": 127,
   "id": "ecad680d-7db8-49ee-a28c-5c3dd8f46fb8",
   "metadata": {},
   "outputs": [
    {
     "name": "stdout",
     "output_type": "stream",
     "text": [
      "the positive index of 10 is 0\n",
      "the positive index of 20 is 1\n",
      "the positive index of 30 is 2\n",
      "the positive index of A is 3\n",
      "the positive index of B is 4\n",
      "the positive index of C is 5\n"
     ]
    }
   ],
   "source": [
    "list1=[10,20,30,'A','B','C']\n",
    "for i in range(0,len(list1)):\n",
    "    print(f'the positive index of {list1[i]} is {i}')\n",
    "    "
   ]
  },
  {
   "cell_type": "code",
   "execution_count": 129,
   "id": "98251af8-f47f-4f41-bb29-cd72c66145b2",
   "metadata": {},
   "outputs": [
    {
     "name": "stdout",
     "output_type": "stream",
     "text": [
      "the negative index of 10 is -6\n",
      "the negative index of 20 is -5\n",
      "the negative index of 30 is -4\n",
      "the negative index of A is -3\n",
      "the negative index of B is -2\n",
      "the negative index of C is -1\n"
     ]
    }
   ],
   "source": [
    "list1=[10,20,30,'A','B','C']\n",
    "for i in range(0,len(list1)):\n",
    "    print(f'the negative index of {list1[i]} is {i-len(list1)}')"
   ]
  },
  {
   "cell_type": "code",
   "execution_count": 131,
   "id": "b4dc7cd5-6ce7-440c-8729-47799dca1449",
   "metadata": {},
   "outputs": [
    {
     "name": "stdout",
     "output_type": "stream",
     "text": [
      "the positive index of 10 is 0 and the negative index of 10 is -6\n",
      "the positive index of 20 is 1 and the negative index of 20 is -5\n",
      "the positive index of 30 is 2 and the negative index of 30 is -4\n",
      "the positive index of A is 3 and the negative index of A is -3\n",
      "the positive index of B is 4 and the negative index of B is -2\n",
      "the positive index of C is 5 and the negative index of C is -1\n"
     ]
    }
   ],
   "source": [
    "list1=[10,20,30,'A','B','C']\n",
    "for i in range(0,len(list1)):\n",
    "    print(f'the positive index of {list1[i]} is {i} and the negative index of {list1[i]} is {i-len(list1)}')"
   ]
  },
  {
   "cell_type": "code",
   "execution_count": 137,
   "id": "9f7aadeb-0e40-4e5e-b234-affad9eae6d3",
   "metadata": {},
   "outputs": [
    {
     "data": {
      "text/plain": [
       "10"
      ]
     },
     "execution_count": 137,
     "metadata": {},
     "output_type": "execute_result"
    }
   ],
   "source": [
    "list1=[10]\n",
    "list1[0]"
   ]
  },
  {
   "cell_type": "code",
   "execution_count": 139,
   "id": "d0993c5e-a564-4a29-8fe8-4736705a3b19",
   "metadata": {},
   "outputs": [
    {
     "data": {
      "text/plain": [
       "10"
      ]
     },
     "execution_count": 139,
     "metadata": {},
     "output_type": "execute_result"
    }
   ],
   "source": [
    "list1=[[10]]\n",
    "list1[0][0]"
   ]
  },
  {
   "cell_type": "code",
   "execution_count": 143,
   "id": "08686506-30da-43e3-8a29-5f6ae04918be",
   "metadata": {},
   "outputs": [
    {
     "name": "stdout",
     "output_type": "stream",
     "text": [
      "1\n",
      "2\n"
     ]
    }
   ],
   "source": [
    "list1=[[10,20]]\n",
    "list2=[10,20]\n",
    "print(len(list1))\n",
    "print(len(list2))"
   ]
  },
  {
   "cell_type": "code",
   "execution_count": 155,
   "id": "d0047de2-eb67-48a1-bf90-ef2de9e7fe06",
   "metadata": {},
   "outputs": [
    {
     "data": {
      "text/plain": [
       "20"
      ]
     },
     "execution_count": 155,
     "metadata": {},
     "output_type": "execute_result"
    }
   ],
   "source": [
    "list1=[10,[20]]\n",
    "list1[1][0]"
   ]
  },
  {
   "cell_type": "code",
   "execution_count": 157,
   "id": "0ad8c484-f889-4ca0-bde7-3d489582ea52",
   "metadata": {},
   "outputs": [
    {
     "data": {
      "text/plain": [
       "'Cherry'"
      ]
     },
     "execution_count": 157,
     "metadata": {},
     "output_type": "execute_result"
    }
   ],
   "source": [
    "list1=[10,20,30,'A',['Banana','Cherry']]\n",
    "list1[4][1]"
   ]
  },
  {
   "cell_type": "code",
   "execution_count": 159,
   "id": "4c52300b-861a-402f-b98d-31a2dc7e666b",
   "metadata": {},
   "outputs": [
    {
     "data": {
      "text/plain": [
       "'Cherry'"
      ]
     },
     "execution_count": 159,
     "metadata": {},
     "output_type": "execute_result"
    }
   ],
   "source": [
    "list1=['A',['Apple','B',['Banana'],'C',['Cherry']]]\n",
    "list1[1][4][0]"
   ]
  },
  {
   "cell_type": "code",
   "execution_count": 161,
   "id": "bce65393-44b2-4d16-86d2-399eda09d447",
   "metadata": {},
   "outputs": [
    {
     "data": {
      "text/plain": [
       "'Dragon fruite'"
      ]
     },
     "execution_count": 161,
     "metadata": {},
     "output_type": "execute_result"
    }
   ],
   "source": [
    "list1=['A',['Apple','B',['Banana','C',['Cherry','D',['Dragon fruite']]]]]\n",
    "list1[1][2][2][2][0]"
   ]
  },
  {
   "cell_type": "code",
   "execution_count": 177,
   "id": "5b442eb6-08bf-419e-b40f-dc70e2eb56ab",
   "metadata": {},
   "outputs": [
    {
     "data": {
      "text/plain": [
       "'Bat'"
      ]
     },
     "execution_count": 177,
     "metadata": {},
     "output_type": "execute_result"
    }
   ],
   "source": [
    "list1=['Apple',['Kashmir',['India',['Criket',['Bat']]]]]\n",
    "list1[1][1][1][1][0]"
   ]
  },
  {
   "cell_type": "code",
   "execution_count": 1,
   "id": "0152ebf6-d231-4358-a417-609d54da96f7",
   "metadata": {},
   "outputs": [],
   "source": [
    "str1='python'\n",
    "list1=['p','y','t','h','o','n']"
   ]
  },
  {
   "cell_type": "code",
   "execution_count": 3,
   "id": "085d2913-f079-4d2f-aab5-2f3cfc851d8d",
   "metadata": {},
   "outputs": [
    {
     "name": "stdout",
     "output_type": "stream",
     "text": [
      "p\n",
      "y\n",
      "t\n",
      "h\n",
      "o\n",
      "n\n"
     ]
    }
   ],
   "source": [
    "for i in list1:\n",
    "    print(i)"
   ]
  },
  {
   "cell_type": "markdown",
   "id": "64fcb9da-ce8e-42cb-87de-c312cc043642",
   "metadata": {},
   "source": [
    "**range vs in**\n",
    "- when we have use with index then go for range\n",
    "- when we have to use with only element go for in"
   ]
  },
  {
   "cell_type": "markdown",
   "id": "0b8ed039-3a20-4c04-abb9-b078ada62dff",
   "metadata": {},
   "source": [
    "**mutable vs  immutable**"
   ]
  },
  {
   "cell_type": "code",
   "execution_count": 7,
   "id": "ca454074-057a-42b9-ade5-b5fc4c42b975",
   "metadata": {},
   "outputs": [],
   "source": [
    "list1[2]='f'"
   ]
  },
  {
   "cell_type": "code",
   "execution_count": 9,
   "id": "661c6d32-eb80-4f42-9caf-ad167132cf8e",
   "metadata": {},
   "outputs": [
    {
     "data": {
      "text/plain": [
       "['p', 'y', 'f', 'h', 'o', 'n']"
      ]
     },
     "execution_count": 9,
     "metadata": {},
     "output_type": "execute_result"
    }
   ],
   "source": [
    "list1"
   ]
  },
  {
   "cell_type": "code",
   "execution_count": 11,
   "id": "a309a74c-c5f6-4a36-a803-73b8a00bc791",
   "metadata": {},
   "outputs": [
    {
     "ename": "TypeError",
     "evalue": "'str' object does not support item assignment",
     "output_type": "error",
     "traceback": [
      "\u001b[1;31m---------------------------------------------------------------------------\u001b[0m",
      "\u001b[1;31mTypeError\u001b[0m                                 Traceback (most recent call last)",
      "Cell \u001b[1;32mIn[11], line 1\u001b[0m\n\u001b[1;32m----> 1\u001b[0m str1[\u001b[38;5;241m2\u001b[39m]\u001b[38;5;241m=\u001b[39m\u001b[38;5;124m'\u001b[39m\u001b[38;5;124mf\u001b[39m\u001b[38;5;124m'\u001b[39m\n\u001b[0;32m      2\u001b[0m str1\n",
      "\u001b[1;31mTypeError\u001b[0m: 'str' object does not support item assignment"
     ]
    }
   ],
   "source": [
    "str1[2]='f'\n",
    "str1"
   ]
  },
  {
   "cell_type": "markdown",
   "id": "3b67ef26-4d2d-4354-845e-f74fa86793c9",
   "metadata": {},
   "source": [
    "**slice**"
   ]
  },
  {
   "cell_type": "code",
   "execution_count": 14,
   "id": "bd1ea9e5-c294-4d9d-b882-6014c6185cbc",
   "metadata": {},
   "outputs": [
    {
     "data": {
      "text/plain": [
       "[10, 20, 30, 40, 50, 'A', 'B', 'C', 'D', 'E', 'apple', 'banana']"
      ]
     },
     "execution_count": 14,
     "metadata": {},
     "output_type": "execute_result"
    }
   ],
   "source": [
    "l1=[10,20,30,40,50,'A','B','C','D','E','apple','banana']\n",
    "l1[:]"
   ]
  },
  {
   "cell_type": "code",
   "execution_count": 54,
   "id": "22825b3e-472c-4c13-b71a-9b502bcb8ce7",
   "metadata": {},
   "outputs": [],
   "source": [
    "# l1[::] W\n",
    "# l1[::-1] W\n",
    "# l1[2:10:2] W\n",
    "# l1[2:10:-2] F\n",
    "# l1[2:-10:2] F\n",
    "# l1[-2:10:2] F\n",
    "# l1[2:-10:-2] F\n",
    "# l1[-2:10:-2] F\n",
    "# l1[-2:-10:2] F\n",
    "# l1[-2:-10:-2] W\n",
    "# l1[10:2:2] F\n"
   ]
  },
  {
   "cell_type": "code",
   "execution_count": null,
   "id": "587975c2-9c38-48c9-bfcf-cdae3992cc5c",
   "metadata": {},
   "outputs": [],
   "source": [
    "l1[10:2:-2] # W\n",
    "l1[10:-2:2] # F\n",
    "l1[-10:2:-2] # F\n",
    "l1[-10:-2:-2] # F"
   ]
  },
  {
   "cell_type": "code",
   "execution_count": 56,
   "id": "59c81227-5f25-46e5-9464-5980fe75a7af",
   "metadata": {},
   "outputs": [
    {
     "data": {
      "text/plain": [
       "['__add__',\n",
       " '__class__',\n",
       " '__class_getitem__',\n",
       " '__contains__',\n",
       " '__delattr__',\n",
       " '__delitem__',\n",
       " '__dir__',\n",
       " '__doc__',\n",
       " '__eq__',\n",
       " '__format__',\n",
       " '__ge__',\n",
       " '__getattribute__',\n",
       " '__getitem__',\n",
       " '__getstate__',\n",
       " '__gt__',\n",
       " '__hash__',\n",
       " '__iadd__',\n",
       " '__imul__',\n",
       " '__init__',\n",
       " '__init_subclass__',\n",
       " '__iter__',\n",
       " '__le__',\n",
       " '__len__',\n",
       " '__lt__',\n",
       " '__mul__',\n",
       " '__ne__',\n",
       " '__new__',\n",
       " '__reduce__',\n",
       " '__reduce_ex__',\n",
       " '__repr__',\n",
       " '__reversed__',\n",
       " '__rmul__',\n",
       " '__setattr__',\n",
       " '__setitem__',\n",
       " '__sizeof__',\n",
       " '__str__',\n",
       " '__subclasshook__',\n",
       " 'append',\n",
       " 'clear',\n",
       " 'copy',\n",
       " 'count',\n",
       " 'extend',\n",
       " 'index',\n",
       " 'insert',\n",
       " 'pop',\n",
       " 'remove',\n",
       " 'reverse',\n",
       " 'sort']"
      ]
     },
     "execution_count": 56,
     "metadata": {},
     "output_type": "execute_result"
    }
   ],
   "source": [
    "dir([])"
   ]
  },
  {
   "cell_type": "code",
   "execution_count": 72,
   "id": "8eca825a-5698-4986-8e96-acaeaba2b79e",
   "metadata": {},
   "outputs": [
    {
     "data": {
      "text/plain": [
       "[]"
      ]
     },
     "execution_count": 72,
     "metadata": {},
     "output_type": "execute_result"
    }
   ],
   "source": [
    "# Remove all items from list.\n",
    "list1.clear()\n",
    "list1"
   ]
  },
  {
   "cell_type": "code",
   "execution_count": 70,
   "id": "540241fb-fb5f-4899-83bf-a3a2f4018743",
   "metadata": {},
   "outputs": [
    {
     "data": {
      "text/plain": [
       "[10, 20, 30, 40, 50, 'A', 'B', 'C', 'D', 'E', 'apple', 'banana']"
      ]
     },
     "execution_count": 70,
     "metadata": {},
     "output_type": "execute_result"
    }
   ],
   "source": [
    "# Return a shallow copy of the list\n",
    "l1=[10,20,30,40,50,'A','B','C','D','E','apple','banana']\n",
    "l2=l1.copy()\n",
    "l2"
   ]
  },
  {
   "cell_type": "code",
   "execution_count": 76,
   "id": "71d12c2b-d04a-4bb4-83d2-434ab83ef948",
   "metadata": {},
   "outputs": [
    {
     "data": {
      "text/plain": [
       "2"
      ]
     },
     "execution_count": 76,
     "metadata": {},
     "output_type": "execute_result"
    }
   ],
   "source": [
    "# Return number of occurrences of value\n",
    "l1=[10,20,30,40,50,'A','B','C','D','E','apple','banana',10]\n",
    "l1.count(10)"
   ]
  },
  {
   "cell_type": "markdown",
   "id": "6b88ea6f-2e43-4cc2-b15e-54591af861d9",
   "metadata": {},
   "source": [
    "# append #\n",
    "- append is one of the most important method in entitre list\n",
    "- append means adding an element at last"
   ]
  },
  {
   "cell_type": "code",
   "execution_count": 88,
   "id": "9c10786d-eb0f-47a1-808f-c2a9292465a7",
   "metadata": {},
   "outputs": [
    {
     "data": {
      "text/plain": [
       "[10, 20, 30, 'apple']"
      ]
     },
     "execution_count": 88,
     "metadata": {},
     "output_type": "execute_result"
    }
   ],
   "source": [
    "l1=[10,20,30]\n",
    "l1.append('apple')\n",
    "l1"
   ]
  },
  {
   "cell_type": "code",
   "execution_count": 86,
   "id": "1937902a-d7fe-49a1-bb12-76ecd8fe4063",
   "metadata": {},
   "outputs": [
    {
     "data": {
      "text/plain": [
       "[10, 20, 30, 'apple', 'banana']"
      ]
     },
     "execution_count": 86,
     "metadata": {},
     "output_type": "execute_result"
    }
   ],
   "source": [
    "l1=[10,20,30]\n",
    "l1.append('apple')\n",
    "l1.append('banana')\n",
    "l1"
   ]
  },
  {
   "cell_type": "code",
   "execution_count": 90,
   "id": "4e89a148-483b-49dd-988a-8dc827319520",
   "metadata": {},
   "outputs": [
    {
     "ename": "TypeError",
     "evalue": "list.append() takes exactly one argument (2 given)",
     "output_type": "error",
     "traceback": [
      "\u001b[1;31m---------------------------------------------------------------------------\u001b[0m",
      "\u001b[1;31mTypeError\u001b[0m                                 Traceback (most recent call last)",
      "Cell \u001b[1;32mIn[90], line 2\u001b[0m\n\u001b[0;32m      1\u001b[0m l1\u001b[38;5;241m=\u001b[39m[\u001b[38;5;241m10\u001b[39m,\u001b[38;5;241m20\u001b[39m,\u001b[38;5;241m30\u001b[39m]\n\u001b[1;32m----> 2\u001b[0m l1\u001b[38;5;241m.\u001b[39mappend(\u001b[38;5;124m'\u001b[39m\u001b[38;5;124mapple\u001b[39m\u001b[38;5;124m'\u001b[39m,\u001b[38;5;124m'\u001b[39m\u001b[38;5;124mbanana\u001b[39m\u001b[38;5;124m'\u001b[39m)\n\u001b[0;32m      3\u001b[0m l1\n",
      "\u001b[1;31mTypeError\u001b[0m: list.append() takes exactly one argument (2 given)"
     ]
    }
   ],
   "source": [
    "l1=[10,20,30]\n",
    "l1.append('apple','banana')\n",
    "l1"
   ]
  },
  {
   "cell_type": "code",
   "execution_count": 92,
   "id": "9a75d415-e6b0-47fc-ad68-c94b6afa6d62",
   "metadata": {},
   "outputs": [
    {
     "data": {
      "text/plain": [
       "[10, 20, 30, ['apple', 'banana']]"
      ]
     },
     "execution_count": 92,
     "metadata": {},
     "output_type": "execute_result"
    }
   ],
   "source": [
    "l1=[10,20,30]\n",
    "l1.append(['apple','banana'])\n",
    "l1"
   ]
  },
  {
   "cell_type": "markdown",
   "id": "7f0078d3-0dc1-4a9c-a97e-6ee43f94fa0a",
   "metadata": {},
   "source": [
    "**append method is used to store the outputs**"
   ]
  },
  {
   "cell_type": "code",
   "execution_count": 95,
   "id": "febe4c1e-b8f0-4803-a8d8-378fa3fb0436",
   "metadata": {},
   "outputs": [
    {
     "name": "stdout",
     "output_type": "stream",
     "text": [
      "40 30 20 10 "
     ]
    },
    {
     "data": {
      "text/plain": [
       "[40, 30, 20, 10]"
      ]
     },
     "execution_count": 95,
     "metadata": {},
     "output_type": "execute_result"
    }
   ],
   "source": [
    "list1=[10,20,30,40]\n",
    "list2=[]\n",
    "for i in range(len(list1)-1,-1,-1):\n",
    "    print(list1[i],end=' ')\n",
    "    list2.append(list1[i])\n",
    "list2"
   ]
  },
  {
   "cell_type": "code",
   "execution_count": 99,
   "id": "c35a7973-7ba7-4d44-ab00-d1affb6f4591",
   "metadata": {},
   "outputs": [
    {
     "data": {
      "text/plain": [
       "[1, 2, 3, 4, 5]"
      ]
     },
     "execution_count": 99,
     "metadata": {},
     "output_type": "execute_result"
    }
   ],
   "source": [
    "# l=[1,2,3,4,5]\n",
    "\n",
    "l=[]\n",
    "for i in range(1,6):\n",
    "    l.append(i)\n",
    "l    "
   ]
  },
  {
   "cell_type": "code",
   "execution_count": 105,
   "id": "6a418875-f401-4cac-8eed-8297a169f58d",
   "metadata": {},
   "outputs": [
    {
     "name": "stdout",
     "output_type": "stream",
     "text": [
      "[66, 49, 53]\n",
      "[4356, 2401, 2809]\n"
     ]
    }
   ],
   "source": [
    "# wap ask the user enter 3 random numbers and perform the suare of the number andsave it in a list\n",
    "import random\n",
    "l1=[]\n",
    "l2=[]\n",
    "for i in range(3):\n",
    "    n=random.randint(1,100)    \n",
    "    l1.append(n)\n",
    "    m=n**2\n",
    "    l2.append(m)\n",
    "print(l1)\n",
    "print(l2)"
   ]
  },
  {
   "cell_type": "code",
   "execution_count": 111,
   "id": "1d0a521e-03a3-424e-b154-ef6ad6ae8f1d",
   "metadata": {},
   "outputs": [
    {
     "data": {
      "text/plain": [
       "['61:3721', '69:4761', '72:5184']"
      ]
     },
     "execution_count": 111,
     "metadata": {},
     "output_type": "execute_result"
    }
   ],
   "source": [
    "import random\n",
    "l=[]\n",
    "for i in range(3):\n",
    "    n=random.randint(1,100)    \n",
    "    l.append(f'{n}:{n*n}')\n",
    "l"
   ]
  },
  {
   "cell_type": "code",
   "execution_count": 115,
   "id": "20be7f2a-fbb8-4532-8e2b-b6035a65346e",
   "metadata": {},
   "outputs": [
    {
     "name": "stdout",
     "output_type": "stream",
     "text": [
      "Even List: [10, 12]\n",
      "Odd List: [47, 53, 27]\n"
     ]
    }
   ],
   "source": [
    "l=[10,47,53,12,27]\n",
    "e=[]\n",
    "o=[]\n",
    "for i in range(len(l)):\n",
    "    if l[i]%2==0:\n",
    "        e.append(l[i])\n",
    "    else:\n",
    "        o.append(l[i])\n",
    "print('Even List:',e)\n",
    "print('Odd List:',o)"
   ]
  },
  {
   "cell_type": "code",
   "execution_count": 125,
   "id": "38c29969-d30a-46dc-8f5d-2b2ab669f532",
   "metadata": {},
   "outputs": [
    {
     "name": "stdin",
     "output_type": "stream",
     "text": [
      "Enter city: hyd,\n",
      "Enter city: bangalore\n",
      "Enter city: chennai\n",
      "Enter city: pune\n"
     ]
    },
    {
     "name": "stdout",
     "output_type": "stream",
     "text": [
      "Input: ['hyd,', 'bangalore', 'chennai', 'pune']\n",
      "Output: ['Hyd,', 'Bangalore', 'Chennai', 'Pune']\n"
     ]
    }
   ],
   "source": [
    "input1=[]\n",
    "output1=[]\n",
    "for i in range(4):\n",
    "    s=input('Enter city:')\n",
    "    input1.append(s)\n",
    "    output1.append(s.title())\n",
    "print('Input:',input1)\n",
    "print('Output:',output1)"
   ]
  },
  {
   "cell_type": "code",
   "execution_count": 127,
   "id": "1f8e609d-46af-4d19-83ca-f4101e50685a",
   "metadata": {},
   "outputs": [
    {
     "name": "stdin",
     "output_type": "stream",
     "text": [
      "Enter city: hyd\n",
      "Enter city: bangalore\n",
      "Enter city: chennai\n",
      "Enter city: pune\n"
     ]
    },
    {
     "name": "stdout",
     "output_type": "stream",
     "text": [
      "Input: ['hyd', 'bangalore', 'chennai', 'pune']\n",
      "Output: ['Hyd', 'Bangalore', 'Chennai', 'Pune']\n"
     ]
    }
   ],
   "source": [
    "input1=[]\n",
    "output1=[]\n",
    "for i in range(4):\n",
    "    s=input('Enter city:')\n",
    "    input1.append(s)\n",
    "    output1.append(s.capitalize())\n",
    "print('Input:',input1)\n",
    "print('Output:',output1)"
   ]
  },
  {
   "cell_type": "code",
   "execution_count": 129,
   "id": "a22df4f2-2d33-43fe-9a70-129ab83d11c3",
   "metadata": {},
   "outputs": [
    {
     "data": {
      "text/plain": [
       "['__add__',\n",
       " '__class__',\n",
       " '__contains__',\n",
       " '__delattr__',\n",
       " '__dir__',\n",
       " '__doc__',\n",
       " '__eq__',\n",
       " '__format__',\n",
       " '__ge__',\n",
       " '__getattribute__',\n",
       " '__getitem__',\n",
       " '__getnewargs__',\n",
       " '__getstate__',\n",
       " '__gt__',\n",
       " '__hash__',\n",
       " '__init__',\n",
       " '__init_subclass__',\n",
       " '__iter__',\n",
       " '__le__',\n",
       " '__len__',\n",
       " '__lt__',\n",
       " '__mod__',\n",
       " '__mul__',\n",
       " '__ne__',\n",
       " '__new__',\n",
       " '__reduce__',\n",
       " '__reduce_ex__',\n",
       " '__repr__',\n",
       " '__rmod__',\n",
       " '__rmul__',\n",
       " '__setattr__',\n",
       " '__sizeof__',\n",
       " '__str__',\n",
       " '__subclasshook__',\n",
       " 'capitalize',\n",
       " 'casefold',\n",
       " 'center',\n",
       " 'count',\n",
       " 'encode',\n",
       " 'endswith',\n",
       " 'expandtabs',\n",
       " 'find',\n",
       " 'format',\n",
       " 'format_map',\n",
       " 'index',\n",
       " 'isalnum',\n",
       " 'isalpha',\n",
       " 'isascii',\n",
       " 'isdecimal',\n",
       " 'isdigit',\n",
       " 'isidentifier',\n",
       " 'islower',\n",
       " 'isnumeric',\n",
       " 'isprintable',\n",
       " 'isspace',\n",
       " 'istitle',\n",
       " 'isupper',\n",
       " 'join',\n",
       " 'ljust',\n",
       " 'lower',\n",
       " 'lstrip',\n",
       " 'maketrans',\n",
       " 'partition',\n",
       " 'removeprefix',\n",
       " 'removesuffix',\n",
       " 'replace',\n",
       " 'rfind',\n",
       " 'rindex',\n",
       " 'rjust',\n",
       " 'rpartition',\n",
       " 'rsplit',\n",
       " 'rstrip',\n",
       " 'split',\n",
       " 'splitlines',\n",
       " 'startswith',\n",
       " 'strip',\n",
       " 'swapcase',\n",
       " 'title',\n",
       " 'translate',\n",
       " 'upper',\n",
       " 'zfill']"
      ]
     },
     "execution_count": 129,
     "metadata": {},
     "output_type": "execute_result"
    }
   ],
   "source": [
    "dir('')"
   ]
  },
  {
   "cell_type": "code",
   "execution_count": 1,
   "id": "74c4ed57-d5b6-46d3-bd2f-380d52723119",
   "metadata": {},
   "outputs": [
    {
     "name": "stdout",
     "output_type": "stream",
     "text": [
      "Sorted by Length: ['kiwi', 'apple', 'grape', 'banana', 'orange']\n"
     ]
    }
   ],
   "source": [
    "# Original list of strings\n",
    "words = [\"apple\", \"banana\", \"kiwi\", \"orange\", \"grape\"]\n",
    "\n",
    "# Sorting by length using the len() function as the key\n",
    "words.sort(key=len)\n",
    "\n",
    "# Displaying the sorted list\n",
    "print(\"Sorted by Length:\", words)"
   ]
  },
  {
   "cell_type": "code",
   "execution_count": null,
   "id": "fcfce044-3b45-4472-b56e-d7b751e37aef",
   "metadata": {},
   "outputs": [],
   "source": [
    "# Original list of strings\n",
    "words = [\"apple\", \"banana\", \"kiwi\", \"orange\", \"grape\"]\n",
    "\n",
    "# Sorting by length using the len() function as the key\n",
    "words.sort(key=len)\n",
    "\n",
    "# Displaying the sorted list\n",
    "print(\"Sorted by Length:\", words)"
   ]
  },
  {
   "cell_type": "markdown",
   "id": "aaee88ac-e2db-4bec-bb67-bb36e7271f85",
   "metadata": {},
   "source": [
    "**extend**"
   ]
  },
  {
   "cell_type": "code",
   "execution_count": 4,
   "id": "c7b87322-be0e-4483-ab7b-2249dd4c10ef",
   "metadata": {},
   "outputs": [
    {
     "data": {
      "text/plain": [
       "[1, 2, 3, 4, 5, 'A', 'B', 'C', 'D', 'E']"
      ]
     },
     "execution_count": 4,
     "metadata": {},
     "output_type": "execute_result"
    }
   ],
   "source": [
    "l1=[1,2,3,4,5]\n",
    "l2=['A','B','C','D','E']\n",
    "l1.extend(l2)\n",
    "l1"
   ]
  },
  {
   "cell_type": "code",
   "execution_count": 6,
   "id": "62f2c226-9e3b-45c8-9aa4-faa70bb0d817",
   "metadata": {},
   "outputs": [
    {
     "data": {
      "text/plain": [
       "['A', 'B', 'C', 'D', 'E', 1, 2, 3, 4, 5]"
      ]
     },
     "execution_count": 6,
     "metadata": {},
     "output_type": "execute_result"
    }
   ],
   "source": [
    "l1=[1,2,3,4,5]\n",
    "l2=['A','B','C','D','E']\n",
    "l2.extend(l1)\n",
    "l2"
   ]
  },
  {
   "cell_type": "code",
   "execution_count": 14,
   "id": "9434d4ef-7047-4dc9-8c95-0671e0605c75",
   "metadata": {},
   "outputs": [
    {
     "data": {
      "text/plain": [
       "[1, 2, 3, 4, 5, 'A', 'B', 'C', 'D', 'E']"
      ]
     },
     "execution_count": 14,
     "metadata": {},
     "output_type": "execute_result"
    }
   ],
   "source": [
    "l1=[1,2,3,4,5]\n",
    "l2=['A','B','C','D','E']\n",
    "l1=l1+l2\n",
    "l1"
   ]
  },
  {
   "cell_type": "code",
   "execution_count": null,
   "id": "ecd51f14-4a18-497b-bff0-16fbda2af861",
   "metadata": {},
   "outputs": [],
   "source": [
    "# Extend list by appending elements from the iterable\n",
    "# l1.extend()\n",
    "# l1 will be overwrite when we use extend\n",
    "# Append object to the end of the list\n",
    "# l1.append()"
   ]
  },
  {
   "cell_type": "markdown",
   "id": "0e205f2c-73b2-4a41-9d58-70ad65e35fab",
   "metadata": {},
   "source": [
    "**index**\n",
    "- in strings we have 2 methods index and fid\n",
    "- but in list we have only index"
   ]
  },
  {
   "cell_type": "code",
   "execution_count": 25,
   "id": "ec4116ab-e985-41fb-8527-108a89b5cff7",
   "metadata": {},
   "outputs": [
    {
     "data": {
      "text/plain": [
       "3"
      ]
     },
     "execution_count": 25,
     "metadata": {},
     "output_type": "execute_result"
    }
   ],
   "source": [
    "l1=[10,20,30,40,50,'Apple','Banana','Cherry',40,50]\n",
    "i1=l1.index(40)\n",
    "i1"
   ]
  },
  {
   "cell_type": "code",
   "execution_count": 27,
   "id": "6be6ba50-0e94-43d3-b209-81f9b6dca167",
   "metadata": {},
   "outputs": [
    {
     "data": {
      "text/plain": [
       "8"
      ]
     },
     "execution_count": 27,
     "metadata": {},
     "output_type": "execute_result"
    }
   ],
   "source": [
    "l1=[10,20,30,40,50,'Apple','Banana','Cherry',40,50]\n",
    "i1=l1.index(40)\n",
    "i2=l1.index(40,i1+1)\n",
    "i2"
   ]
  },
  {
   "cell_type": "markdown",
   "id": "b6d6f929-b055-4097-b6bd-ad6543e350d0",
   "metadata": {},
   "source": [
    "**insert**"
   ]
  },
  {
   "cell_type": "code",
   "execution_count": 36,
   "id": "99dcef41-6b4c-419f-9e2e-86c0262a2f56",
   "metadata": {},
   "outputs": [
    {
     "data": {
      "text/plain": [
       "['Dog', 10, 20, 30, 40, 50, 'Apple', 'Banana', 'Cherry', 40, 50]"
      ]
     },
     "execution_count": 36,
     "metadata": {},
     "output_type": "execute_result"
    }
   ],
   "source": [
    "# Insert object before index\n",
    "l1=[10,20,30,40,50,'Apple','Banana','Cherry',40,50]\n",
    "l1.insert(0,'Dog')\n",
    "l1"
   ]
  },
  {
   "cell_type": "code",
   "execution_count": 44,
   "id": "bdb519f2-e3d9-4182-94d6-19224c10515a",
   "metadata": {},
   "outputs": [
    {
     "data": {
      "text/plain": [
       "[10, 20, 30, 40, 50, 'Dog', 'Apple', 'Banana', 'Cherry', 40, 50]"
      ]
     },
     "execution_count": 44,
     "metadata": {},
     "output_type": "execute_result"
    }
   ],
   "source": [
    "l1=[10,20,30,40,50,'Apple','Banana','Cherry',40,50]\n",
    "i3=l1.index('Apple')\n",
    "l1.insert(i3,'Dog')\n",
    "l1"
   ]
  },
  {
   "cell_type": "markdown",
   "id": "5e6714d7-4686-4786-8fd4-28a7c874a7b4",
   "metadata": {},
   "source": [
    "**pop vs remove**"
   ]
  },
  {
   "cell_type": "code",
   "execution_count": 49,
   "id": "aacc66cf-ba33-4e61-a3be-503f1218f4e3",
   "metadata": {},
   "outputs": [
    {
     "data": {
      "text/plain": [
       "[10, 20, 30, 40, 50, 'Dog', 'Banana', 'Cherry', 40, 50]"
      ]
     },
     "execution_count": 49,
     "metadata": {},
     "output_type": "execute_result"
    }
   ],
   "source": [
    "i3=l1.index('Apple')\n",
    "l1.pop(i3)\n",
    "l1"
   ]
  },
  {
   "cell_type": "code",
   "execution_count": null,
   "id": "f1882d85-7f98-4d34-9f90-09df171b1efa",
   "metadata": {},
   "outputs": [],
   "source": [
    "l1=[10,20,30,40,50,'Apple','Banana','Cherry',40,50]\n",
    "i3=l1.index('Apple')\n",
    "# Remove first occurrence of value\n",
    "l1.remove()\n",
    "l1"
   ]
  },
  {
   "cell_type": "code",
   "execution_count": 55,
   "id": "f7343e5e-64fc-4026-94d4-622bf1fcc304",
   "metadata": {},
   "outputs": [
    {
     "data": {
      "text/plain": [
       "[10, 20, 30, 40, 50, 'Banana', 'Cherry', 40, 50]"
      ]
     },
     "execution_count": 55,
     "metadata": {},
     "output_type": "execute_result"
    }
   ],
   "source": [
    "# inbult functions\n",
    "l1=[10,20,30,40,50,'Apple','Banana','Cherry',40,50]\n",
    "del(l1[5])\n",
    "l1"
   ]
  },
  {
   "cell_type": "markdown",
   "id": "3b2a7c67-ac90-4995-9dcb-076dabfc86c9",
   "metadata": {},
   "source": [
    "- if we ant to delete any element\n",
    "  - **pop**: based on index\n",
    "  - **remove**:based on value\n",
    "  - **del** is an inbuilt function"
   ]
  },
  {
   "cell_type": "code",
   "execution_count": 60,
   "id": "df722a04-41c8-422f-8dc3-3923ac03ae4a",
   "metadata": {},
   "outputs": [
    {
     "name": "stdout",
     "output_type": "stream",
     "text": [
      "[10, 20, 30, 40, 50, 'Apple', 'Banana', 'Cherry', 40, 50]\n"
     ]
    },
    {
     "ename": "NameError",
     "evalue": "name 'l1' is not defined",
     "output_type": "error",
     "traceback": [
      "\u001b[1;31m---------------------------------------------------------------------------\u001b[0m",
      "\u001b[1;31mNameError\u001b[0m                                 Traceback (most recent call last)",
      "Cell \u001b[1;32mIn[60], line 4\u001b[0m\n\u001b[0;32m      2\u001b[0m \u001b[38;5;28mprint\u001b[39m(l1)\n\u001b[0;32m      3\u001b[0m \u001b[38;5;28;01mdel\u001b[39;00m(l1)\n\u001b[1;32m----> 4\u001b[0m l1\n",
      "\u001b[1;31mNameError\u001b[0m: name 'l1' is not defined"
     ]
    }
   ],
   "source": [
    "l1=[10,20,30,40,50,'Apple','Banana','Cherry',40,50]\n",
    "print(l1)\n",
    "del(l1)\n",
    "l1"
   ]
  },
  {
   "cell_type": "code",
   "execution_count": 62,
   "id": "6cb81478-47b5-49d5-99bb-84f2548d7ddf",
   "metadata": {},
   "outputs": [
    {
     "name": "stdout",
     "output_type": "stream",
     "text": [
      "[10, 20, 30, 40, 50, 'Apple', 'Banana', 'Cherry', 40, 50]\n"
     ]
    },
    {
     "data": {
      "text/plain": [
       "[10, 20, 30, 40, 50, 'Banana', 'Cherry', 40, 50]"
      ]
     },
     "execution_count": 62,
     "metadata": {},
     "output_type": "execute_result"
    }
   ],
   "source": [
    "l1=[10,20,30,40,50,'Apple','Banana','Cherry',40,50]\n",
    "print(l1)\n",
    "del l1[5]\n",
    "l1"
   ]
  },
  {
   "cell_type": "markdown",
   "id": "dd357ce2-ce1c-4081-9628-daae6eaf362b",
   "metadata": {},
   "source": [
    "**reversve vs reversed**\n",
    "- reverse is a method\n",
    "- reversed is an inbuilt function"
   ]
  },
  {
   "cell_type": "code",
   "execution_count": 75,
   "id": "0f2594f2-24a6-4054-a8ec-7a54259ba954",
   "metadata": {},
   "outputs": [
    {
     "name": "stdout",
     "output_type": "stream",
     "text": [
      "[50, 40, 'Cherry', 'Banana', 'Apple', 50, 40, 30, 20, 10]\n"
     ]
    }
   ],
   "source": [
    "l1=[10,20,30,40,50,'Apple','Banana','Cherry',40,50]\n",
    "l1.reverse()\n",
    "print(l1)"
   ]
  },
  {
   "cell_type": "markdown",
   "id": "6ff62e47-32c2-479e-974f-b3c22f8a6037",
   "metadata": {},
   "source": [
    "### in place ###"
   ]
  },
  {
   "cell_type": "markdown",
   "id": "a8dcdc5d-8f6d-4400-b8e7-7296d9ff6aa5",
   "metadata": {},
   "source": [
    "- when we perform the operaations some times the value will not overwrite\n",
    "- if we see **inplace** word or **inplace=True**\n",
    "- this indicates the output will be overwritten in corresponding variable "
   ]
  },
  {
   "cell_type": "code",
   "execution_count": 79,
   "id": "e9909073-7515-46d6-b247-6af5bd31c820",
   "metadata": {},
   "outputs": [
    {
     "name": "stdout",
     "output_type": "stream",
     "text": [
      "[10, 20, 30, 40, 50, 'Apple', 'Banana', 'Cherry', 40, 50]\n"
     ]
    }
   ],
   "source": [
    "l1=[10,20,30,40,50,'Apple','Banana','Cherry',40,50]\n",
    "l1.reverse()\n",
    "l1.reverse()\n",
    "print(l1)"
   ]
  },
  {
   "cell_type": "code",
   "execution_count": 83,
   "id": "d1d88f08-44a6-4550-9cba-d3abd824ba54",
   "metadata": {},
   "outputs": [
    {
     "name": "stdout",
     "output_type": "stream",
     "text": [
      "[10, 20, 30, 40, 50, 'Apple', 'Banana', 'Cherry', 40, 50]\n"
     ]
    }
   ],
   "source": [
    "l1=[10,20,30,40,50,'Apple','Banana','Cherry',40,50]\n",
    "reversed(l1)\n",
    "print(l1)"
   ]
  },
  {
   "cell_type": "code",
   "execution_count": 85,
   "id": "2792c559-3883-4a9d-9e85-16e5078524b3",
   "metadata": {},
   "outputs": [
    {
     "ename": "TypeError",
     "evalue": "'<' not supported between instances of 'str' and 'int'",
     "output_type": "error",
     "traceback": [
      "\u001b[1;31m---------------------------------------------------------------------------\u001b[0m",
      "\u001b[1;31mTypeError\u001b[0m                                 Traceback (most recent call last)",
      "Cell \u001b[1;32mIn[85], line 1\u001b[0m\n\u001b[1;32m----> 1\u001b[0m l1\u001b[38;5;241m.\u001b[39msort()\n",
      "\u001b[1;31mTypeError\u001b[0m: '<' not supported between instances of 'str' and 'int'"
     ]
    }
   ],
   "source": [
    "l1.sort()"
   ]
  },
  {
   "cell_type": "code",
   "execution_count": 91,
   "id": "fa1d1b07-0f17-4cb8-9c04-08152384c523",
   "metadata": {},
   "outputs": [
    {
     "name": "stdout",
     "output_type": "stream",
     "text": [
      "[10, 20, 40, 50, 60]\n"
     ]
    }
   ],
   "source": [
    "l1=[10,20,60,40,50]\n",
    "l1.sort()\n",
    "print(l1)"
   ]
  },
  {
   "cell_type": "code",
   "execution_count": 97,
   "id": "d1d75b01-4adf-4823-b5e5-451d734522f1",
   "metadata": {},
   "outputs": [
    {
     "data": {
      "text/plain": [
       "[10, 20, 40, 50, 60]"
      ]
     },
     "execution_count": 97,
     "metadata": {},
     "output_type": "execute_result"
    }
   ],
   "source": [
    "l1=[10,20,60,40,50]\n",
    "sorted(l1)"
   ]
  },
  {
   "cell_type": "markdown",
   "id": "7f6bf79a-6811-453a-91c0-8ca25125ac46",
   "metadata": {},
   "source": [
    "- **inbuilt finctions applicable for every datatypes**\n",
    "- but methods works wrt datatypes"
   ]
  },
  {
   "cell_type": "code",
   "execution_count": null,
   "id": "10becc04-3e16-4832-b676-4c709de50bea",
   "metadata": {},
   "outputs": [],
   "source": []
  }
 ],
 "metadata": {
  "kernelspec": {
   "display_name": "Python [conda env:base] *",
   "language": "python",
   "name": "conda-base-py"
  },
  "language_info": {
   "codemirror_mode": {
    "name": "ipython",
    "version": 3
   },
   "file_extension": ".py",
   "mimetype": "text/x-python",
   "name": "python",
   "nbconvert_exporter": "python",
   "pygments_lexer": "ipython3",
   "version": "3.12.7"
  }
 },
 "nbformat": 4,
 "nbformat_minor": 5
}
