{
 "cells": [
  {
   "cell_type": "code",
   "execution_count": 1,
   "id": "69bf74c2-edf1-4a97-9ba8-0ec65bc9c5f2",
   "metadata": {},
   "outputs": [
    {
     "data": {
      "text/plain": [
       "10"
      ]
     },
     "execution_count": 1,
     "metadata": {},
     "output_type": "execute_result"
    }
   ],
   "source": [
    "a=10\n",
    "b=10\n",
    "a\n",
    "b"
   ]
  },
  {
   "cell_type": "code",
   "execution_count": 5,
   "id": "61c1df2c-5ac8-4ba3-86cb-bf754bcb9454",
   "metadata": {},
   "outputs": [
    {
     "name": "stdout",
     "output_type": "stream",
     "text": [
      "10\n",
      "20\n"
     ]
    }
   ],
   "source": [
    "a=10\n",
    "b=20\n",
    "print(a)\n",
    "print(b)"
   ]
  },
  {
   "cell_type": "code",
   "execution_count": 7,
   "id": "af59e475-c993-4b15-ae2d-64fa5fe76775",
   "metadata": {},
   "outputs": [
    {
     "name": "stdout",
     "output_type": "stream",
     "text": [
      "10\n",
      "20\n"
     ]
    },
    {
     "data": {
      "text/plain": [
       "(None, None)"
      ]
     },
     "execution_count": 7,
     "metadata": {},
     "output_type": "execute_result"
    }
   ],
   "source": [
    "print(10),print(20)"
   ]
  },
  {
   "cell_type": "code",
   "execution_count": 9,
   "id": "48415d8f-5b8e-4b21-a4ec-0d84f9deb237",
   "metadata": {},
   "outputs": [
    {
     "data": {
      "text/plain": [
       "(10, 20)"
      ]
     },
     "execution_count": 9,
     "metadata": {},
     "output_type": "execute_result"
    }
   ],
   "source": [
    "10,20"
   ]
  },
  {
   "cell_type": "code",
   "execution_count": 11,
   "id": "91653eb4-565e-471f-8692-7c6741feba18",
   "metadata": {},
   "outputs": [
    {
     "name": "stdout",
     "output_type": "stream",
     "text": [
      "10 20\n"
     ]
    }
   ],
   "source": [
    "print(a,b)"
   ]
  },
  {
   "cell_type": "code",
   "execution_count": 15,
   "id": "c8fa3c5d-ead8-4c3c-8e09-0ee58867e357",
   "metadata": {},
   "outputs": [
    {
     "name": "stdout",
     "output_type": "stream",
     "text": [
      "30 NareshIT Hyd\n"
     ]
    }
   ],
   "source": [
    "print(30, 'NareshIT','Hyd')\n",
    "# 3 values"
   ]
  },
  {
   "cell_type": "code",
   "execution_count": 29,
   "id": "b9dcaecc-faaf-4b78-8354-001d0e7aecf0",
   "metadata": {},
   "outputs": [
    {
     "name": "stdout",
     "output_type": "stream",
     "text": [
      "the addition of 100 and 200 is 300\n",
      "the addition of num1 and num2 is 300\n",
      "the addition of 100 and 200 is 300\n"
     ]
    }
   ],
   "source": [
    "num1=100\n",
    "num2=200\n",
    "add=num1+num2\n",
    "# the addition of 100 and 200 is 300\n",
    "print(\"the addition of 100 and 200 is 300\")\n",
    "print(\"the addition of num1 and num2 is 300\")\n",
    "print(\"the addition of\",num1,\"and\",num2,\"is\",add)"
   ]
  },
  {
   "cell_type": "code",
   "execution_count": 33,
   "id": "6fe56372-62b8-4918-a049-c33890bfc629",
   "metadata": {},
   "outputs": [
    {
     "name": "stdout",
     "output_type": "stream",
     "text": [
      "my name is Python im 10  years old and came from Hyd\n"
     ]
    }
   ],
   "source": [
    "name=\"Python\"\n",
    "age=10\n",
    "city=\"Hyd\"\n",
    "# my name is python im 10 years old and came from hyderabad\n",
    "print(\"my name is\",name,\"im\",age,\" years old and came from\",city)"
   ]
  },
  {
   "cell_type": "markdown",
   "id": "879dff7c-173f-49ab-b208-93185fad1322",
   "metadata": {},
   "source": [
    "---\n",
    "### Format Method\n"
   ]
  },
  {
   "cell_type": "code",
   "execution_count": 37,
   "id": "5c788279-ff31-41df-b3f2-96804837b805",
   "metadata": {},
   "outputs": [
    {
     "name": "stdout",
     "output_type": "stream",
     "text": [
      "my name is Python im 10 years old and came from Hyd\n"
     ]
    }
   ],
   "source": [
    "name=\"Python\"\n",
    "age=10\n",
    "city=\"Hyd\"\n",
    "# my name is python im 10 years old and came from hyderabad\n",
    "print(\"my name is {} im {} years old and came from {}\".format(name,age,city))"
   ]
  },
  {
   "cell_type": "code",
   "execution_count": 39,
   "id": "f6b032f0-942b-44b5-b634-67af1873089b",
   "metadata": {},
   "outputs": [
    {
     "name": "stdout",
     "output_type": "stream",
     "text": [
      "the addition of 100 and 200 is 300\n"
     ]
    }
   ],
   "source": [
    "num1=100\n",
    "num2=200\n",
    "add=num1+num2\n",
    "# the addition of 100 and 200 is 300\n",
    "print(\"the addition of {} and {} is {}\".format(num1,num2,add))\n"
   ]
  },
  {
   "cell_type": "code",
   "execution_count": null,
   "id": "a9e40699-417b-4472-a93c-66219c2543a0",
   "metadata": {},
   "outputs": [],
   "source": [
    "# take two number perform\n",
    "# subtraction\n",
    "# multiplication\n",
    "# division\n",
    "\n",
    "# print statement as follows\n"
   ]
  },
  {
   "cell_type": "code",
   "execution_count": 41,
   "id": "38b70de9-c140-44d1-a348-3584f48b0ed6",
   "metadata": {},
   "outputs": [
    {
     "name": "stdout",
     "output_type": "stream",
     "text": [
      "the subtraction of 100 and 200 is -100\n",
      "the mutiplication of 100 and 200 is 20000\n",
      "the division of 100 and 200 is 0.5\n"
     ]
    }
   ],
   "source": [
    "num1=100\n",
    "num2=200\n",
    "sub=100-200\n",
    "mul=100*200\n",
    "div=100/200\n",
    "# the subtraction of 100 and 200 is -100\n",
    "print(\"the subtraction of {} and {} is {}\".format(num1,num2,sub))\n",
    "# the mutiplication of 100 and 200 is 20000\n",
    "print(\"the mutiplication of {} and {} is {}\".format(num1,num2,mul))\n",
    "# the division of 100 and 200 is 0.5\n",
    "print(\"the division of {} and {} is {}\".format(num1,num2,div))\n"
   ]
  },
  {
   "cell_type": "code",
   "execution_count": 43,
   "id": "6c51dbc1-3af3-4ec8-9840-f7423a5d1e4d",
   "metadata": {},
   "outputs": [
    {
     "name": "stdout",
     "output_type": "stream",
     "text": [
      "the average of 100,200,300 is: 200.0\n"
     ]
    }
   ],
   "source": [
    "a=100\n",
    "b=200\n",
    "c=300\n",
    "avg=(a+b+c)/3\n",
    "# the average of a,b,c is: avg\n",
    "print(\"the average of {},{},{} is: {}\".format(a,b,c,avg))"
   ]
  },
  {
   "cell_type": "code",
   "execution_count": 45,
   "id": "4f6146ed-e2af-4c62-85bd-1284269d1cfb",
   "metadata": {},
   "outputs": [
    {
     "name": "stdout",
     "output_type": "stream",
     "text": [
      "========================ADDITION===========================\n",
      "the addition of 100 and 200 is 300\n",
      "========================SUBTRACTION===========================\n",
      "the subtraction of 100 and 200 is -100\n",
      "========================MULTIPLICATION===========================\n",
      "the mutiplication of 100 and 200 is 20000\n",
      "========================DIVISION===========================\n",
      "the division of 100 and 200 is 0.5\n"
     ]
    }
   ],
   "source": [
    "print(\"========================ADDITION===========================\")\n",
    "num1=100\n",
    "num2=200\n",
    "add=num1+num2\n",
    "# the addition of 100 and 200 is 300\n",
    "print(\"the addition of {} and {} is {}\".format(num1,num2,add))\n",
    "\n",
    "print(\"========================SUBTRACTION===========================\")\n",
    "num1=100\n",
    "num2=200\n",
    "sub=100-200\n",
    "# the subtraction of 100 and 200 is -100\n",
    "print(\"the subtraction of {} and {} is {}\".format(num1,num2,sub))\n",
    "\n",
    "print(\"========================MULTIPLICATION===========================\")\n",
    "num1=100\n",
    "num2=200\n",
    "mul=100*200\n",
    "# the mutiplication of 100 and 200 is 20000\n",
    "print(\"the mutiplication of {} and {} is {}\".format(num1,num2,mul))\n",
    "\n",
    "print(\"========================DIVISION===========================\")\n",
    "num1=100\n",
    "num2=200\n",
    "div=100/200\n",
    "# the division of 100 and 200 is 0.5\n",
    "print(\"the division of {} and {} is {}\".format(num1,num2,div))"
   ]
  },
  {
   "cell_type": "markdown",
   "id": "3ceb8e60-110c-4683-a0aa-1cf7157aa42a",
   "metadata": {},
   "source": [
    "**f string: formatted string method**"
   ]
  },
  {
   "cell_type": "code",
   "execution_count": 49,
   "id": "3e296b58-cd03-4e97-91a2-43e942fefc75",
   "metadata": {},
   "outputs": [
    {
     "name": "stdout",
     "output_type": "stream",
     "text": [
      "========================ADDITION===========================\n",
      "the addition of 100 and 200 is 300\n",
      "========================SUBTRACTION===========================\n",
      "the subtraction of 100 and 200 is -100\n",
      "========================MULTIPLICATION===========================\n",
      "the mutiplication of 100 and 200 is 20000\n",
      "========================DIVISION===========================\n",
      "the division of 100 and 200 is 0.5\n"
     ]
    }
   ],
   "source": [
    "print(\"========================ADDITION===========================\")\n",
    "num1=100\n",
    "num2=200\n",
    "add=num1+num2\n",
    "# the addition of 100 and 200 is 300\n",
    "print(f\"the addition of {num1} and {num2} is {add}\")\n",
    "\n",
    "print(\"========================SUBTRACTION===========================\")\n",
    "num1=100\n",
    "num2=200\n",
    "sub=100-200\n",
    "# the subtraction of 100 and 200 is -100\n",
    "print(f\"the subtraction of {num1} and {num2} is {sub}\")\n",
    "\n",
    "print(\"========================MULTIPLICATION===========================\")\n",
    "num1=100\n",
    "num2=200\n",
    "mul=100*200\n",
    "# the mutiplication of 100 and 200 is 20000\n",
    "print(f\"the mutiplication of {num1} and {num2} is {mul}\")\n",
    "\n",
    "print(\"========================DIVISION===========================\")\n",
    "num1=100\n",
    "num2=200\n",
    "div=100/200\n",
    "# the division of 100 and 200 is 0.5\n",
    "print(f\"the division of {num1} and {num2} is {div}\")"
   ]
  },
  {
   "cell_type": "code",
   "execution_count": 51,
   "id": "077c0789-d8ad-4679-89ca-542bbfb35c79",
   "metadata": {},
   "outputs": [
    {
     "name": "stdout",
     "output_type": "stream",
     "text": [
      "the average of 100,200,300 is: 200.0\n"
     ]
    }
   ],
   "source": [
    "a=100\n",
    "b=200\n",
    "c=300\n",
    "avg=(a+b+c)/3\n",
    "# the average of a,b,c is: avg\n",
    "print(f\"the average of {a},{b},{c} is: {avg}\")"
   ]
  },
  {
   "cell_type": "markdown",
   "id": "81ef29a5-0f62-40a8-b6e7-a0ce66c54cdb",
   "metadata": {},
   "source": [
    "**Round**"
   ]
  },
  {
   "cell_type": "code",
   "execution_count": null,
   "id": "e06810d7-d398-47bc-b0ff-654fd36cefa4",
   "metadata": {},
   "outputs": [],
   "source": [
    "# print()\n",
    "# type()\n",
    "# int()\n",
    "# float()\n",
    "# str()\n",
    "# bool()\n",
    "# round()\n",
    "\n",
    "# CTRL+A\n",
    "# CTRL+/"
   ]
  },
  {
   "cell_type": "code",
   "execution_count": 54,
   "id": "6c65f885-0c4c-4aa1-a5fd-5e132d10bb43",
   "metadata": {},
   "outputs": [
    {
     "data": {
      "text/plain": [
       "11"
      ]
     },
     "execution_count": 54,
     "metadata": {},
     "output_type": "execute_result"
    }
   ],
   "source": [
    "round(10.77777)"
   ]
  },
  {
   "cell_type": "code",
   "execution_count": 56,
   "id": "77e65792-0ab6-4e92-8439-fa566132c524",
   "metadata": {},
   "outputs": [
    {
     "data": {
      "text/plain": [
       "10.78"
      ]
     },
     "execution_count": 56,
     "metadata": {},
     "output_type": "execute_result"
    }
   ],
   "source": [
    "round(10.77777,2)"
   ]
  },
  {
   "cell_type": "code",
   "execution_count": 58,
   "id": "ac7232a6-bc8c-46c8-b17b-f33e121fd5ac",
   "metadata": {},
   "outputs": [
    {
     "data": {
      "text/plain": [
       "10.778"
      ]
     },
     "execution_count": 58,
     "metadata": {},
     "output_type": "execute_result"
    }
   ],
   "source": [
    "round(10.77777,3)"
   ]
  },
  {
   "cell_type": "code",
   "execution_count": 60,
   "id": "2ac5ba42-b3e9-4a9e-8674-4227870a0f81",
   "metadata": {},
   "outputs": [
    {
     "name": "stdout",
     "output_type": "stream",
     "text": [
      "11\n",
      "10.78\n",
      "10.778\n"
     ]
    }
   ],
   "source": [
    "print(round(10.777777))\n",
    "print(round(10.777777,2))\n",
    "print(round(10.777777,3))"
   ]
  },
  {
   "cell_type": "code",
   "execution_count": 62,
   "id": "c91c768c-0638-4eb0-b3f2-74a9b90bf128",
   "metadata": {},
   "outputs": [
    {
     "name": "stdout",
     "output_type": "stream",
     "text": [
      "20.33\n"
     ]
    }
   ],
   "source": [
    "a=11\n",
    "b=20\n",
    "c=30\n",
    "avg=(a+b+c)/3\n",
    "# the average of a,b,c is: avg\n",
    "print(round(avg,2))\n"
   ]
  },
  {
   "cell_type": "markdown",
   "id": "de8fcc1c-f8a7-4cff-a436-39b712ec315c",
   "metadata": {},
   "source": [
    "**I have multiple print staements**\n",
    "**but i want to show it in single statement**\n",
    "\n",
    "- end"
   ]
  },
  {
   "cell_type": "code",
   "execution_count": 67,
   "id": "87d2d999-8fc0-47db-a6df-3bc25a0fe438",
   "metadata": {},
   "outputs": [
    {
     "name": "stdout",
     "output_type": "stream",
     "text": [
      "10 20\n"
     ]
    }
   ],
   "source": [
    "print(10,end=\" \")\n",
    "print(20)"
   ]
  },
  {
   "cell_type": "code",
   "execution_count": 69,
   "id": "82d735e9-8bec-47bb-8a6b-5b3585c7c2b6",
   "metadata": {},
   "outputs": [
    {
     "name": "stdout",
     "output_type": "stream",
     "text": [
      "10 20 30\n"
     ]
    }
   ],
   "source": [
    "print(10,end=\" \")\n",
    "print(20,end=\" \")\n",
    "print(30)"
   ]
  },
  {
   "cell_type": "code",
   "execution_count": 73,
   "id": "9f5b6547-8a81-414e-9b97-ee1bd3c30c37",
   "metadata": {},
   "outputs": [
    {
     "name": "stdout",
     "output_type": "stream",
     "text": [
      "hello how are you\n"
     ]
    }
   ],
   "source": [
    "print('hello',end=' ')\n",
    "print('how', end=' ')\n",
    "print('are', end=' ')\n",
    "print('you')"
   ]
  },
  {
   "cell_type": "markdown",
   "id": "63cea0e8-ce25-4b1f-be2a-b756b76e5e27",
   "metadata": {},
   "source": [
    "- I have multiple values in a single print statement\n",
    "  - i want to print them with separation "
   ]
  },
  {
   "cell_type": "code",
   "execution_count": 76,
   "id": "35e431eb-54ba-4c70-9ca3-64ed6f86ae06",
   "metadata": {},
   "outputs": [
    {
     "name": "stdout",
     "output_type": "stream",
     "text": [
      "10 20 30\n"
     ]
    }
   ],
   "source": [
    "print(10,20,30)\n",
    "#10==> 20==> 30"
   ]
  },
  {
   "cell_type": "markdown",
   "id": "68f8baa4-4ced-4e84-8a3f-4b638f5c800e",
   "metadata": {},
   "source": [
    "**sep**"
   ]
  },
  {
   "cell_type": "code",
   "execution_count": 79,
   "id": "fde3a749-1808-4803-9adf-d0fff356a2e6",
   "metadata": {},
   "outputs": [
    {
     "name": "stdout",
     "output_type": "stream",
     "text": [
      "10==>20==>30\n"
     ]
    }
   ],
   "source": [
    "print(10,20,30,sep=\"==>\")"
   ]
  },
  {
   "cell_type": "markdown",
   "id": "636d80fe-3dec-4582-87af-95f314dae941",
   "metadata": {},
   "source": [
    "- basic print statement\n",
    "- format method\n",
    "- f string method\n",
    "- round()\n",
    "- end operator\n",
    "- sep operator"
   ]
  },
  {
   "cell_type": "code",
   "execution_count": 82,
   "id": "b154d22e-4280-4003-bdca-1c72fbfc2a44",
   "metadata": {},
   "outputs": [
    {
     "name": "stdout",
     "output_type": "stream",
     "text": [
      "The area of the circle with radius 7 is 153.86\n",
      "The area of the circle with radius 7 is 153.86\n"
     ]
    }
   ],
   "source": [
    "# write a program take radius of a circle calcilate area of circle\n",
    "\n",
    "radius=7\n",
    "pi=3.14\n",
    "area= pi*radius*radius\n",
    "# The area of the circle with radius r is a\n",
    "print(\"The area of the circle with radius {} is {}\".format(radius,area))\n",
    "print(f\"The area of the circle with radius {radius} is {area}\")"
   ]
  },
  {
   "cell_type": "code",
   "execution_count": 84,
   "id": "c8453a50-2f72-470d-8202-63cb92313b25",
   "metadata": {},
   "outputs": [
    {
     "name": "stdout",
     "output_type": "stream",
     "text": [
      "The area of the right-angled triangle with length 20 and height 20 is 200.0\n",
      "The area of the right-angled triangle with length 20 and height 20 is 200.0\n"
     ]
    }
   ],
   "source": [
    "# wap for area of right angle triangle\n",
    "length= 20\n",
    "height= 20\n",
    "area= 0.5*length*height\n",
    "# The area of the right-angled triangle with length l and height h is a\n",
    "print(\"The area of the right-angled triangle with length {} and height {} is {}\".format(length,height,area))\n",
    "print(f\"The area of the right-angled triangle with length {length} and height {height} is {area}\")"
   ]
  },
  {
   "cell_type": "code",
   "execution_count": 86,
   "id": "d9aacf7c-9035-472c-90fb-45e690b8bea1",
   "metadata": {},
   "outputs": [
    {
     "name": "stdout",
     "output_type": "stream",
     "text": [
      "The area of the right-angled triangle with length 20 and breadth 20 is 400\n",
      "The area of the right-angled triangle with length 20 and breadth 20 is 400\n"
     ]
    }
   ],
   "source": [
    "# wap for area of rectangle\n",
    "length= 20\n",
    "breadth= 20\n",
    "area= length*breadth\n",
    "# The area of the rectangle with length l and breadth b is a\n",
    "print(\"The area of the right-angled triangle with length {} and breadth {} is {}\".format(length,breadth,area))\n",
    "print(f\"The area of the right-angled triangle with length {length} and breadth {breadth} is {area}\")"
   ]
  },
  {
   "cell_type": "code",
   "execution_count": 88,
   "id": "54e0a10d-6696-4a1c-89d3-ab694d9439b5",
   "metadata": {},
   "outputs": [
    {
     "name": "stdout",
     "output_type": "stream",
     "text": [
      "The Bill is 250 and the tip is 50 so the total amount to be spent is 300\n",
      "The Bill is 250 and the tip is 50 so the total amount to be spent is 300\n"
     ]
    }
   ],
   "source": [
    "# wap for bill amount and tip amount and total amount\n",
    "bill=250\n",
    "tip=50\n",
    "total= bill+tip\n",
    "# The Bill is B and the tip is T so the total amount to be spent is T.\n",
    "print(\"The Bill is {} and the tip is {} so the total amount to be spent is {}\".format(bill,tip,total))\n",
    "print(f\"The Bill is {bill} and the tip is {tip} so the total amount to be spent is {total}\")"
   ]
  },
  {
   "cell_type": "markdown",
   "id": "846875cb-c709-49f7-8df7-f6cfa2037f77",
   "metadata": {},
   "source": [
    "---\n",
    "**Input**\n",
    "- in above codes we provided the value\n",
    "- input is inbuilt function\n",
    "- using input the usr can provide any value"
   ]
  },
  {
   "cell_type": "code",
   "execution_count": 5,
   "id": "52dc47d2-5be4-48fb-8ccb-37c6b1a9c552",
   "metadata": {},
   "outputs": [
    {
     "data": {
      "text/plain": [
       "<bound method Kernel.raw_input of <ipykernel.ipkernel.IPythonKernel object at 0x0000027E71E5F6B0>>"
      ]
     },
     "execution_count": 5,
     "metadata": {},
     "output_type": "execute_result"
    }
   ],
   "source": [
    "input"
   ]
  },
  {
   "cell_type": "markdown",
   "id": "395d0ad0-4a89-4069-92d4-e9558cda6b62",
   "metadata": {},
   "source": [
    "- **Note: Whenever we see bound method or function which indicates we forgot the bracket**"
   ]
  },
  {
   "cell_type": "code",
   "execution_count": 11,
   "id": "75871b6d-807c-47b3-8f72-dc529253d35b",
   "metadata": {},
   "outputs": [
    {
     "name": "stdin",
     "output_type": "stream",
     "text": [
      " 100\n"
     ]
    },
    {
     "data": {
      "text/plain": [
       "'100'"
      ]
     },
     "execution_count": 11,
     "metadata": {},
     "output_type": "execute_result"
    }
   ],
   "source": [
    "input()"
   ]
  },
  {
   "cell_type": "code",
   "execution_count": 13,
   "id": "d3c76c68-d297-4777-a9ca-8e94016948e9",
   "metadata": {},
   "outputs": [
    {
     "name": "stdin",
     "output_type": "stream",
     "text": [
      " python\n"
     ]
    },
    {
     "data": {
      "text/plain": [
       "'python'"
      ]
     },
     "execution_count": 13,
     "metadata": {},
     "output_type": "execute_result"
    }
   ],
   "source": [
    "input()"
   ]
  },
  {
   "cell_type": "code",
   "execution_count": 15,
   "id": "93576424-148b-4b92-8f6b-32a4f3faaaab",
   "metadata": {},
   "outputs": [
    {
     "data": {
      "text/plain": [
       "int"
      ]
     },
     "execution_count": 15,
     "metadata": {},
     "output_type": "execute_result"
    }
   ],
   "source": [
    "a=100\n",
    "type(a)"
   ]
  },
  {
   "cell_type": "code",
   "execution_count": 17,
   "id": "cda48252-5823-4a13-ac62-66deaffeb417",
   "metadata": {},
   "outputs": [
    {
     "name": "stdin",
     "output_type": "stream",
     "text": [
      " 200\n"
     ]
    }
   ],
   "source": [
    "b=input()"
   ]
  },
  {
   "cell_type": "code",
   "execution_count": 19,
   "id": "1dc2ad87-95cd-4442-8fd7-d06cb3ae58d8",
   "metadata": {},
   "outputs": [
    {
     "data": {
      "text/plain": [
       "'200'"
      ]
     },
     "execution_count": 19,
     "metadata": {},
     "output_type": "execute_result"
    }
   ],
   "source": [
    "b"
   ]
  },
  {
   "cell_type": "code",
   "execution_count": 21,
   "id": "475f2ee1-1934-4189-a477-529af5b36278",
   "metadata": {},
   "outputs": [
    {
     "name": "stdout",
     "output_type": "stream",
     "text": [
      "<class 'str'>\n"
     ]
    }
   ],
   "source": [
    "print(type(b))"
   ]
  },
  {
   "cell_type": "code",
   "execution_count": 23,
   "id": "f635e52f-112e-4b2a-8bd4-f2be39fec89e",
   "metadata": {},
   "outputs": [
    {
     "name": "stdin",
     "output_type": "stream",
     "text": [
      " NareshIT\n"
     ]
    },
    {
     "name": "stdout",
     "output_type": "stream",
     "text": [
      "NareshIT\n",
      "<class 'str'>\n"
     ]
    }
   ],
   "source": [
    "name=input()\n",
    "print(name)\n",
    "print(type(name))"
   ]
  },
  {
   "cell_type": "code",
   "execution_count": 25,
   "id": "684ffd5b-f46d-4b86-86b7-dada70f39468",
   "metadata": {},
   "outputs": [
    {
     "name": "stdin",
     "output_type": "stream",
     "text": [
      " 100\n",
      " 300\n",
      " 500\n"
     ]
    }
   ],
   "source": [
    "n1=input()\n",
    "n2=input()\n",
    "n3=input()"
   ]
  },
  {
   "cell_type": "code",
   "execution_count": 27,
   "id": "d60c20fb-98da-47b3-8a93-accaabf3464a",
   "metadata": {},
   "outputs": [
    {
     "data": {
      "text/plain": [
       "('100', '300', '500')"
      ]
     },
     "execution_count": 27,
     "metadata": {},
     "output_type": "execute_result"
    }
   ],
   "source": [
    "n1,n2,n3"
   ]
  },
  {
   "cell_type": "code",
   "execution_count": 33,
   "id": "e8a5359b-035d-4eda-98ff-2a12c99dcc55",
   "metadata": {},
   "outputs": [
    {
     "name": "stdin",
     "output_type": "stream",
     "text": [
      "enter the number1: 100\n",
      "enter the number2: 200\n"
     ]
    },
    {
     "data": {
      "text/plain": [
       "'100200'"
      ]
     },
     "execution_count": 33,
     "metadata": {},
     "output_type": "execute_result"
    }
   ],
   "source": [
    "n1=input(\"enter the number1:\") # n1='100'\n",
    "n2=input(\"enter the number2:\") # n2='200'\n",
    "n1+n2 # '100'+'200'='100200'"
   ]
  },
  {
   "cell_type": "markdown",
   "id": "9df59650-37c3-4be1-b5b4-33a1d4d6fafb",
   "metadata": {},
   "source": [
    "**Input value by default are string types**"
   ]
  },
  {
   "cell_type": "code",
   "execution_count": 35,
   "id": "64e6291e-a1f1-4b08-b639-7ff0ed5850bd",
   "metadata": {},
   "outputs": [
    {
     "name": "stdin",
     "output_type": "stream",
     "text": [
      "Enter the number: 200\n"
     ]
    },
    {
     "name": "stdout",
     "output_type": "stream",
     "text": [
      "200\n",
      "<class 'int'>\n"
     ]
    }
   ],
   "source": [
    "n=int(input(\"Enter the number:\"))\n",
    "print(n)\n",
    "print(type(n))"
   ]
  },
  {
   "cell_type": "code",
   "execution_count": 37,
   "id": "7a0b53a9-1b7b-44bb-8aed-0c6e973e492e",
   "metadata": {},
   "outputs": [
    {
     "name": "stdin",
     "output_type": "stream",
     "text": [
      "enter the string1: apple\n",
      "enter the string2: is\n",
      "enter the string3: fruit\n"
     ]
    },
    {
     "data": {
      "text/plain": [
       "'appleisfruit'"
      ]
     },
     "execution_count": 37,
     "metadata": {},
     "output_type": "execute_result"
    }
   ],
   "source": [
    "str1=input(\"enter the string1:\") # str1='apple'\n",
    "str2=input(\"enter the string2:\") # str2='is'\n",
    "str3=input(\"enter the string3:\") # str3='fruit'\n",
    "str1+str2+str3 # 'apple'+'is'+'fruit'='appleisfruit'"
   ]
  },
  {
   "cell_type": "code",
   "execution_count": 39,
   "id": "7dde3ef6-7d0e-496b-8e6c-d431ee1ffbc2",
   "metadata": {},
   "outputs": [
    {
     "name": "stdin",
     "output_type": "stream",
     "text": [
      "enter the number1: 100\n",
      "enter the number2: 200\n"
     ]
    },
    {
     "data": {
      "text/plain": [
       "300"
      ]
     },
     "execution_count": 39,
     "metadata": {},
     "output_type": "execute_result"
    }
   ],
   "source": [
    "n1=int(input(\"enter the number1:\")) # n1=int('100')\n",
    "n2=int(input(\"enter the number2:\")) # n2=int('200')\n",
    "n1+n2 # 100+200=300"
   ]
  },
  {
   "cell_type": "code",
   "execution_count": 41,
   "id": "b8b2ebfd-d189-491b-aeb7-afdedb62049e",
   "metadata": {},
   "outputs": [
    {
     "name": "stdin",
     "output_type": "stream",
     "text": [
      "enter the number1: 100\n",
      "enter the number2: 200\n"
     ]
    },
    {
     "data": {
      "text/plain": [
       "300"
      ]
     },
     "execution_count": 41,
     "metadata": {},
     "output_type": "execute_result"
    }
   ],
   "source": [
    "n1=input(\"enter the number1:\") # n1='100'\n",
    "n2=input(\"enter the number2:\") # n2='200'\n",
    "int(n1)+int(n2) # int('100')+int('200')=300"
   ]
  },
  {
   "cell_type": "markdown",
   "id": "fe6fdb08-6da8-47c6-a287-288357ce138d",
   "metadata": {},
   "source": [
    "**eval**\n",
    "- eval means evaluate\n",
    "- it is realted to maths family\n",
    "- which means it works on number represented as string\n",
    "- it will ot work on english letters\n",
    "- eval will convert the respective datatype which user enter\n",
    "- if user enter 10 in quotes it will convert into 10\n",
    "- if user enter 10.5 in quotes it will convert into 10.5"
   ]
  },
  {
   "cell_type": "code",
   "execution_count": 44,
   "id": "c8caa85a-3018-4299-93cd-cc47073da02e",
   "metadata": {},
   "outputs": [
    {
     "ename": "ValueError",
     "evalue": "invalid literal for int() with base 10: '10.5'",
     "output_type": "error",
     "traceback": [
      "\u001b[1;31m---------------------------------------------------------------------------\u001b[0m",
      "\u001b[1;31mValueError\u001b[0m                                Traceback (most recent call last)",
      "Cell \u001b[1;32mIn[44], line 2\u001b[0m\n\u001b[0;32m      1\u001b[0m \u001b[38;5;28mint\u001b[39m(\u001b[38;5;124m'\u001b[39m\u001b[38;5;124m10\u001b[39m\u001b[38;5;124m'\u001b[39m)\n\u001b[1;32m----> 2\u001b[0m \u001b[38;5;28mint\u001b[39m(\u001b[38;5;124m'\u001b[39m\u001b[38;5;124m10.5\u001b[39m\u001b[38;5;124m'\u001b[39m)\n\u001b[0;32m      4\u001b[0m \u001b[38;5;28mfloat\u001b[39m(\u001b[38;5;124m'\u001b[39m\u001b[38;5;124m10\u001b[39m\u001b[38;5;124m'\u001b[39m)\n\u001b[0;32m      5\u001b[0m \u001b[38;5;28mfloat\u001b[39m(\u001b[38;5;124m'\u001b[39m\u001b[38;5;124m10.5\u001b[39m\u001b[38;5;124m'\u001b[39m)\n",
      "\u001b[1;31mValueError\u001b[0m: invalid literal for int() with base 10: '10.5'"
     ]
    }
   ],
   "source": [
    "int('10') # 10\n",
    "int('10.5') # Error\n",
    "\n",
    "float('10') # 10.0\n",
    "float('10.5') # 10.5"
   ]
  },
  {
   "cell_type": "code",
   "execution_count": 46,
   "id": "8252fbbd-47ed-4402-a7fb-9b057bd020c2",
   "metadata": {},
   "outputs": [
    {
     "data": {
      "text/plain": [
       "(10, 10.5)"
      ]
     },
     "execution_count": 46,
     "metadata": {},
     "output_type": "execute_result"
    }
   ],
   "source": [
    "eval('10'),eval('10.5')"
   ]
  },
  {
   "cell_type": "code",
   "execution_count": 48,
   "id": "72c261a8-4ba1-4bf1-a633-7fc8e2b6c5ba",
   "metadata": {},
   "outputs": [
    {
     "name": "stdin",
     "output_type": "stream",
     "text": [
      "enter the number1: 100\n",
      "enter the number2: 200.0\n"
     ]
    },
    {
     "data": {
      "text/plain": [
       "300.0"
      ]
     },
     "execution_count": 48,
     "metadata": {},
     "output_type": "execute_result"
    }
   ],
   "source": [
    "n1=eval(input(\"enter the number1:\")) # n1=eval('100')\n",
    "n2=eval(input(\"enter the number2:\")) # n2=eval('200.0')\n",
    "n1+n2 # 100+200.0=300.0"
   ]
  },
  {
   "cell_type": "code",
   "execution_count": null,
   "id": "038f0cd9-6a1d-4d8b-aa0b-77e324b867bb",
   "metadata": {},
   "outputs": [],
   "source": [
    "# 1) wap to avg the number"
   ]
  },
  {
   "cell_type": "code",
   "execution_count": null,
   "id": "7c69f470-722c-4063-9360-92c67a77b653",
   "metadata": {},
   "outputs": [],
   "source": [
    "# 2) my name is python my age is 20 and I am from hyderabad"
   ]
  },
  {
   "cell_type": "code",
   "execution_count": 50,
   "id": "eacbc6fd-2c44-4389-8dde-125c948e0eaa",
   "metadata": {},
   "outputs": [
    {
     "name": "stdin",
     "output_type": "stream",
     "text": [
      "enter radius of circle: 4\n"
     ]
    },
    {
     "name": "stdout",
     "output_type": "stream",
     "text": [
      "The area of the circle with radius 4 is 50.24\n",
      "The area of the circle with radius 4 is 50.24\n"
     ]
    }
   ],
   "source": [
    "# 3)wap ask the user to enter radius of circle and calculate the area of circle\n",
    "radius=eval(input(\"enter radius of circle:\"))\n",
    "pi=3.14\n",
    "area= pi*radius*radius\n",
    "# The area of the circle with radius r is a\n",
    "print(\"The area of the circle with radius {} is {}\".format(radius,area))\n",
    "print(f\"The area of the circle with radius {radius} is {area}\")"
   ]
  },
  {
   "cell_type": "code",
   "execution_count": null,
   "id": "cb49d365-50a9-4d07-a6f2-80472b68f600",
   "metadata": {},
   "outputs": [],
   "source": [
    "# 8) wap ask user to take radius and calculate the radius of sphere\n",
    "# 9) wap ask user to take radius and calculate the radius of sphere\n"
   ]
  }
 ],
 "metadata": {
  "kernelspec": {
   "display_name": "Python [conda env:base] *",
   "language": "python",
   "name": "conda-base-py"
  },
  "language_info": {
   "codemirror_mode": {
    "name": "ipython",
    "version": 3
   },
   "file_extension": ".py",
   "mimetype": "text/x-python",
   "name": "python",
   "nbconvert_exporter": "python",
   "pygments_lexer": "ipython3",
   "version": "3.12.7"
  }
 },
 "nbformat": 4,
 "nbformat_minor": 5
}
