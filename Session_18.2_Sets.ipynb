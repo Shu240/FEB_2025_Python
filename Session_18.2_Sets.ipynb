{
 "cells": [
  {
   "cell_type": "markdown",
   "id": "6f7116e8-9785-4953-aa63-9fefaa75dbf6",
   "metadata": {},
   "source": [
    "# *sets* #"
   ]
  },
  {
   "cell_type": "code",
   "execution_count": 16,
   "id": "73137f1a-ccfd-401a-87da-c4d377cffbf6",
   "metadata": {},
   "outputs": [
    {
     "data": {
      "text/plain": [
       "{12, 15, 16, 18, 20}"
      ]
     },
     "execution_count": 16,
     "metadata": {},
     "output_type": "execute_result"
    }
   ],
   "source": [
    "set1={12,15,16,18,12,20}\n",
    "set1"
   ]
  },
  {
   "cell_type": "code",
   "execution_count": 8,
   "id": "e85b1103-4548-46d5-ae3d-b5d889389f80",
   "metadata": {},
   "outputs": [
    {
     "data": {
      "text/plain": [
       "set"
      ]
     },
     "execution_count": 8,
     "metadata": {},
     "output_type": "execute_result"
    }
   ],
   "source": [
    "type(set1)"
   ]
  },
  {
   "cell_type": "code",
   "execution_count": 12,
   "id": "4ee487a4-1095-4d9f-8d9e-503d4938ab4d",
   "metadata": {},
   "outputs": [
    {
     "data": {
      "text/plain": [
       "{(5+6j), 12, 'Ram', True}"
      ]
     },
     "execution_count": 12,
     "metadata": {},
     "output_type": "execute_result"
    }
   ],
   "source": [
    "set2={12,'Ram',True,5+6j}\n",
    "set2"
   ]
  },
  {
   "cell_type": "code",
   "execution_count": 18,
   "id": "6260d375-ae69-44d4-8fb9-e18dd674745e",
   "metadata": {},
   "outputs": [
    {
     "ename": "TypeError",
     "evalue": "unhashable type: 'set'",
     "output_type": "error",
     "traceback": [
      "\u001b[1;31m---------------------------------------------------------------------------\u001b[0m",
      "\u001b[1;31mTypeError\u001b[0m                                 Traceback (most recent call last)",
      "Cell \u001b[1;32mIn[18], line 1\u001b[0m\n\u001b[1;32m----> 1\u001b[0m set1\u001b[38;5;241m=\u001b[39m{\u001b[38;5;241m12\u001b[39m,\u001b[38;5;241m15\u001b[39m,\u001b[38;5;241m16\u001b[39m,\u001b[38;5;241m18\u001b[39m,\u001b[38;5;241m12\u001b[39m,\u001b[38;5;241m20\u001b[39m,{\u001b[38;5;241m12\u001b[39m,\u001b[38;5;124m'\u001b[39m\u001b[38;5;124mRam\u001b[39m\u001b[38;5;124m'\u001b[39m,\u001b[38;5;28;01mTrue\u001b[39;00m,\u001b[38;5;241m5\u001b[39m\u001b[38;5;241m+\u001b[39m\u001b[38;5;241m6\u001b[39mj}}\n\u001b[0;32m      2\u001b[0m set1\n",
      "\u001b[1;31mTypeError\u001b[0m: unhashable type: 'set'"
     ]
    }
   ],
   "source": [
    "set1={12,15,16,18,12,20,{12,'Ram',True,5+6j}}\n",
    "set1"
   ]
  },
  {
   "cell_type": "code",
   "execution_count": 20,
   "id": "4e20ebaa-3c02-496a-be00-981523615be2",
   "metadata": {},
   "outputs": [
    {
     "data": {
      "text/plain": [
       "5"
      ]
     },
     "execution_count": 20,
     "metadata": {},
     "output_type": "execute_result"
    }
   ],
   "source": [
    "len(set1)"
   ]
  },
  {
   "cell_type": "code",
   "execution_count": 22,
   "id": "ea94f1d2-2fb9-4ff9-8ec7-0426d08a3e8f",
   "metadata": {},
   "outputs": [
    {
     "data": {
      "text/plain": [
       "20"
      ]
     },
     "execution_count": 22,
     "metadata": {},
     "output_type": "execute_result"
    }
   ],
   "source": [
    "max(set1)"
   ]
  },
  {
   "cell_type": "code",
   "execution_count": 24,
   "id": "fd5041a0-23c1-4084-91ae-2bd16feadcac",
   "metadata": {},
   "outputs": [
    {
     "data": {
      "text/plain": [
       "12"
      ]
     },
     "execution_count": 24,
     "metadata": {},
     "output_type": "execute_result"
    }
   ],
   "source": [
    "min(set1)"
   ]
  },
  {
   "cell_type": "code",
   "execution_count": 28,
   "id": "ae7d97e4-8c58-4daf-97e6-1a72bd5dbad4",
   "metadata": {},
   "outputs": [
    {
     "data": {
      "text/plain": [
       "81"
      ]
     },
     "execution_count": 28,
     "metadata": {},
     "output_type": "execute_result"
    }
   ],
   "source": [
    "sum(set1)"
   ]
  },
  {
   "cell_type": "code",
   "execution_count": 30,
   "id": "5c63defd-3c62-478a-9e5f-b259a8cdcd86",
   "metadata": {},
   "outputs": [
    {
     "data": {
      "text/plain": [
       "[12, 15, 16, 18, 20]"
      ]
     },
     "execution_count": 30,
     "metadata": {},
     "output_type": "execute_result"
    }
   ],
   "source": [
    "sorted(set1)"
   ]
  },
  {
   "cell_type": "code",
   "execution_count": 34,
   "id": "bebf3db6-b27a-4815-9ed7-24edc62ebceb",
   "metadata": {},
   "outputs": [
    {
     "data": {
      "text/plain": [
       "[20, 18, 16, 15, 12]"
      ]
     },
     "execution_count": 34,
     "metadata": {},
     "output_type": "execute_result"
    }
   ],
   "source": [
    "sorted(set1,reverse=True)"
   ]
  },
  {
   "cell_type": "code",
   "execution_count": 32,
   "id": "7740f821-8a8d-4da2-8e2e-9e2795bb50fd",
   "metadata": {},
   "outputs": [
    {
     "ename": "TypeError",
     "evalue": "'set' object is not reversible",
     "output_type": "error",
     "traceback": [
      "\u001b[1;31m---------------------------------------------------------------------------\u001b[0m",
      "\u001b[1;31mTypeError\u001b[0m                                 Traceback (most recent call last)",
      "Cell \u001b[1;32mIn[32], line 1\u001b[0m\n\u001b[1;32m----> 1\u001b[0m \u001b[38;5;28mreversed\u001b[39m(set1)\n",
      "\u001b[1;31mTypeError\u001b[0m: 'set' object is not reversible"
     ]
    }
   ],
   "source": [
    "reversed(set1)"
   ]
  },
  {
   "cell_type": "code",
   "execution_count": 36,
   "id": "7ecd7bff-cb8f-4444-8bdb-66a2cfaf9670",
   "metadata": {},
   "outputs": [
    {
     "ename": "TypeError",
     "evalue": "unsupported operand type(s) for +: 'set' and 'set'",
     "output_type": "error",
     "traceback": [
      "\u001b[1;31m---------------------------------------------------------------------------\u001b[0m",
      "\u001b[1;31mTypeError\u001b[0m                                 Traceback (most recent call last)",
      "Cell \u001b[1;32mIn[36], line 1\u001b[0m\n\u001b[1;32m----> 1\u001b[0m set1\u001b[38;5;241m+\u001b[39mset2\n",
      "\u001b[1;31mTypeError\u001b[0m: unsupported operand type(s) for +: 'set' and 'set'"
     ]
    }
   ],
   "source": [
    "set1+set2"
   ]
  },
  {
   "cell_type": "code",
   "execution_count": 38,
   "id": "c8a56553-49e8-42a3-8c2b-36d3c7179f7c",
   "metadata": {},
   "outputs": [
    {
     "data": {
      "text/plain": [
       "{15, 16, 18, 20}"
      ]
     },
     "execution_count": 38,
     "metadata": {},
     "output_type": "execute_result"
    }
   ],
   "source": [
    "set1-set2"
   ]
  },
  {
   "cell_type": "code",
   "execution_count": 40,
   "id": "66bd0c6c-36fa-4a5d-83b1-f902e5f953ef",
   "metadata": {},
   "outputs": [
    {
     "ename": "TypeError",
     "evalue": "unsupported operand type(s) for *: 'set' and 'set'",
     "output_type": "error",
     "traceback": [
      "\u001b[1;31m---------------------------------------------------------------------------\u001b[0m",
      "\u001b[1;31mTypeError\u001b[0m                                 Traceback (most recent call last)",
      "Cell \u001b[1;32mIn[40], line 1\u001b[0m\n\u001b[1;32m----> 1\u001b[0m set1\u001b[38;5;241m*\u001b[39mset2\n",
      "\u001b[1;31mTypeError\u001b[0m: unsupported operand type(s) for *: 'set' and 'set'"
     ]
    }
   ],
   "source": [
    "set1*set2"
   ]
  },
  {
   "cell_type": "code",
   "execution_count": 42,
   "id": "a1a84ec7-a042-416e-aa6f-258e299908ce",
   "metadata": {},
   "outputs": [
    {
     "ename": "TypeError",
     "evalue": "unsupported operand type(s) for /: 'set' and 'set'",
     "output_type": "error",
     "traceback": [
      "\u001b[1;31m---------------------------------------------------------------------------\u001b[0m",
      "\u001b[1;31mTypeError\u001b[0m                                 Traceback (most recent call last)",
      "Cell \u001b[1;32mIn[42], line 1\u001b[0m\n\u001b[1;32m----> 1\u001b[0m set1\u001b[38;5;241m/\u001b[39mset2\n",
      "\u001b[1;31mTypeError\u001b[0m: unsupported operand type(s) for /: 'set' and 'set'"
     ]
    }
   ],
   "source": [
    "set1/set2"
   ]
  },
  {
   "cell_type": "code",
   "execution_count": 44,
   "id": "dbfafbeb-bbcc-4a3e-91fd-099903c00737",
   "metadata": {},
   "outputs": [
    {
     "ename": "TypeError",
     "evalue": "unsupported operand type(s) for *: 'set' and 'int'",
     "output_type": "error",
     "traceback": [
      "\u001b[1;31m---------------------------------------------------------------------------\u001b[0m",
      "\u001b[1;31mTypeError\u001b[0m                                 Traceback (most recent call last)",
      "Cell \u001b[1;32mIn[44], line 1\u001b[0m\n\u001b[1;32m----> 1\u001b[0m set1\u001b[38;5;241m*\u001b[39m\u001b[38;5;241m5\u001b[39m\n",
      "\u001b[1;31mTypeError\u001b[0m: unsupported operand type(s) for *: 'set' and 'int'"
     ]
    }
   ],
   "source": [
    "set1*5"
   ]
  },
  {
   "cell_type": "markdown",
   "id": "12bbb795-eb60-4021-b53b-caea8b9c8208",
   "metadata": {},
   "source": [
    "### *index* ###"
   ]
  },
  {
   "cell_type": "code",
   "execution_count": 47,
   "id": "50c5d359-2294-4af2-90e7-424a3c791aec",
   "metadata": {},
   "outputs": [
    {
     "ename": "TypeError",
     "evalue": "'set' object is not subscriptable",
     "output_type": "error",
     "traceback": [
      "\u001b[1;31m---------------------------------------------------------------------------\u001b[0m",
      "\u001b[1;31mTypeError\u001b[0m                                 Traceback (most recent call last)",
      "Cell \u001b[1;32mIn[47], line 1\u001b[0m\n\u001b[1;32m----> 1\u001b[0m set1[\u001b[38;5;241m0\u001b[39m]\n",
      "\u001b[1;31mTypeError\u001b[0m: 'set' object is not subscriptable"
     ]
    }
   ],
   "source": [
    "set1[0]"
   ]
  },
  {
   "cell_type": "code",
   "execution_count": 51,
   "id": "089789d6-4688-4bbb-bd0c-2316fa1be0c1",
   "metadata": {},
   "outputs": [
    {
     "ename": "TypeError",
     "evalue": "'set' object is not subscriptable",
     "output_type": "error",
     "traceback": [
      "\u001b[1;31m---------------------------------------------------------------------------\u001b[0m",
      "\u001b[1;31mTypeError\u001b[0m                                 Traceback (most recent call last)",
      "Cell \u001b[1;32mIn[51], line 2\u001b[0m\n\u001b[0;32m      1\u001b[0m \u001b[38;5;28;01mfor\u001b[39;00m i \u001b[38;5;129;01min\u001b[39;00m \u001b[38;5;28mrange\u001b[39m(\u001b[38;5;28mlen\u001b[39m(set1)):\n\u001b[1;32m----> 2\u001b[0m     \u001b[38;5;28mprint\u001b[39m(set1[i])\n",
      "\u001b[1;31mTypeError\u001b[0m: 'set' object is not subscriptable"
     ]
    }
   ],
   "source": [
    "for i in range(len(set1)):\n",
    "    print(set1[i])"
   ]
  },
  {
   "cell_type": "markdown",
   "id": "cec38f11-848e-45bd-8f58-f25608f962d3",
   "metadata": {},
   "source": [
    "**when to use in operator and when to use range operator**\n",
    "- in operator directly access the elements\n",
    "- range operator access the elements using index or numbers\n",
    "- any problem statement if you need numbers then go for range\n",
    "- otherwise go for in operator directly"
   ]
  },
  {
   "cell_type": "code",
   "execution_count": 73,
   "id": "14979c1a-775a-44b3-9d19-44bbc0a54880",
   "metadata": {},
   "outputs": [
    {
     "name": "stdout",
     "output_type": "stream",
     "text": [
      "{16, 18, 20, 12, 15}\n",
      "16\n",
      "18\n",
      "20\n",
      "12\n",
      "15\n"
     ]
    }
   ],
   "source": [
    "set1={12,15,16,18,12,20}\n",
    "print(set1)\n",
    "for i in set1:\n",
    "    print(i)"
   ]
  },
  {
   "cell_type": "code",
   "execution_count": null,
   "id": "c9af8d89-889d-42e5-aca6-037d66152c14",
   "metadata": {},
   "outputs": [],
   "source": []
  }
 ],
 "metadata": {
  "kernelspec": {
   "display_name": "Python [conda env:base] *",
   "language": "python",
   "name": "conda-base-py"
  },
  "language_info": {
   "codemirror_mode": {
    "name": "ipython",
    "version": 3
   },
   "file_extension": ".py",
   "mimetype": "text/x-python",
   "name": "python",
   "nbconvert_exporter": "python",
   "pygments_lexer": "ipython3",
   "version": "3.12.7"
  }
 },
 "nbformat": 4,
 "nbformat_minor": 5
}
