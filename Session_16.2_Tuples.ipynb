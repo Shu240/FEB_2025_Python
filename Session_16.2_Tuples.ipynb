{
 "cells": [
  {
   "cell_type": "markdown",
   "id": "5525a85f-2c81-4e7d-845c-32f01c272f06",
   "metadata": {},
   "source": [
    "**Basic Representation**\n",
    "- strings in quotes\n",
    "- list elemnets are in square brackets[]\n",
    "- tuple in parenthesis ()"
   ]
  },
  {
   "cell_type": "code",
   "execution_count": 4,
   "id": "1fb003e8-7d2f-4c9a-b852-cff42f470849",
   "metadata": {},
   "outputs": [
    {
     "data": {
      "text/plain": [
       "(1, 2, 3, 4)"
      ]
     },
     "execution_count": 4,
     "metadata": {},
     "output_type": "execute_result"
    }
   ],
   "source": [
    "t1=(1,2,3,4)\n",
    "t1"
   ]
  },
  {
   "cell_type": "code",
   "execution_count": 5,
   "id": "cf0229e8-e254-4899-916a-8e6dea87f934",
   "metadata": {},
   "outputs": [
    {
     "name": "stdout",
     "output_type": "stream",
     "text": [
      "(1, 2, 3, 4)\n"
     ]
    },
    {
     "data": {
      "text/plain": [
       "tuple"
      ]
     },
     "execution_count": 5,
     "metadata": {},
     "output_type": "execute_result"
    }
   ],
   "source": [
    "t1=(1,2,3,4)\n",
    "print(t1)\n",
    "type(t1)"
   ]
  },
  {
   "cell_type": "code",
   "execution_count": 1,
   "id": "2924aed1-5a0d-4101-9df4-1a6362dab2ad",
   "metadata": {},
   "outputs": [
    {
     "data": {
      "text/plain": [
       "('A', 'B', 'C')"
      ]
     },
     "execution_count": 1,
     "metadata": {},
     "output_type": "execute_result"
    }
   ],
   "source": [
    "t2=('A','B','C')\n",
    "t2"
   ]
  },
  {
   "cell_type": "code",
   "execution_count": 10,
   "id": "00cb3fe8-b8b4-4b34-a71e-84b3ae19641b",
   "metadata": {},
   "outputs": [
    {
     "data": {
      "text/plain": [
       "(1.0, 2.2, True, False, 10, 20, 30, 'A', 'B', 'C')"
      ]
     },
     "execution_count": 10,
     "metadata": {},
     "output_type": "execute_result"
    }
   ],
   "source": [
    "t3=(1.0,2.2,True,False,10,20,30,'A','B','C')\n",
    "t3"
   ]
  },
  {
   "cell_type": "markdown",
   "id": "2c1e4329-abb2-4481-8fd7-3d3d76c08e71",
   "metadata": {},
   "source": [
    "**Inbuilt Functions**"
   ]
  },
  {
   "cell_type": "code",
   "execution_count": 13,
   "id": "800fb067-afef-4d5f-b212-2c80f38897db",
   "metadata": {},
   "outputs": [
    {
     "data": {
      "text/plain": [
       "tuple"
      ]
     },
     "execution_count": 13,
     "metadata": {},
     "output_type": "execute_result"
    }
   ],
   "source": [
    "type(t1)"
   ]
  },
  {
   "cell_type": "code",
   "execution_count": 15,
   "id": "bc26fa06-b46a-4003-ad62-e586f68196aa",
   "metadata": {},
   "outputs": [
    {
     "data": {
      "text/plain": [
       "10"
      ]
     },
     "execution_count": 15,
     "metadata": {},
     "output_type": "execute_result"
    }
   ],
   "source": [
    "len(t3)"
   ]
  },
  {
   "cell_type": "code",
   "execution_count": 17,
   "id": "9528735b-2f1c-4db8-84af-74aebcca6629",
   "metadata": {},
   "outputs": [
    {
     "ename": "TypeError",
     "evalue": "'>' not supported between instances of 'str' and 'int'",
     "output_type": "error",
     "traceback": [
      "\u001b[1;31m---------------------------------------------------------------------------\u001b[0m",
      "\u001b[1;31mTypeError\u001b[0m                                 Traceback (most recent call last)",
      "Cell \u001b[1;32mIn[17], line 1\u001b[0m\n\u001b[1;32m----> 1\u001b[0m \u001b[38;5;28mmax\u001b[39m(t3)\n",
      "\u001b[1;31mTypeError\u001b[0m: '>' not supported between instances of 'str' and 'int'"
     ]
    }
   ],
   "source": [
    "max(t3)"
   ]
  },
  {
   "cell_type": "code",
   "execution_count": 19,
   "id": "7029a3d7-1e76-44ef-92dd-56769c525182",
   "metadata": {},
   "outputs": [
    {
     "data": {
      "text/plain": [
       "4"
      ]
     },
     "execution_count": 19,
     "metadata": {},
     "output_type": "execute_result"
    }
   ],
   "source": [
    "max(t1)"
   ]
  },
  {
   "cell_type": "code",
   "execution_count": 21,
   "id": "04e7d17e-78aa-4682-86b1-170b2ff0162b",
   "metadata": {},
   "outputs": [
    {
     "data": {
      "text/plain": [
       "1"
      ]
     },
     "execution_count": 21,
     "metadata": {},
     "output_type": "execute_result"
    }
   ],
   "source": [
    "min(t1)"
   ]
  },
  {
   "cell_type": "code",
   "execution_count": 23,
   "id": "271e7a8e-66aa-4621-8083-784840278a3f",
   "metadata": {},
   "outputs": [
    {
     "data": {
      "text/plain": [
       "10"
      ]
     },
     "execution_count": 23,
     "metadata": {},
     "output_type": "execute_result"
    }
   ],
   "source": [
    "sum(t1)"
   ]
  },
  {
   "cell_type": "code",
   "execution_count": 25,
   "id": "ffff9afc-e9f5-430e-bcfd-b03b062faa80",
   "metadata": {},
   "outputs": [
    {
     "data": {
      "text/plain": [
       "[1, 2, 3, 4]"
      ]
     },
     "execution_count": 25,
     "metadata": {},
     "output_type": "execute_result"
    }
   ],
   "source": [
    "sorted(t1)"
   ]
  },
  {
   "cell_type": "code",
   "execution_count": 27,
   "id": "1d6acd10-e66e-419c-9b2c-ac365b46a9ec",
   "metadata": {},
   "outputs": [
    {
     "data": {
      "text/plain": [
       "[4, 3, 2, 1]"
      ]
     },
     "execution_count": 27,
     "metadata": {},
     "output_type": "execute_result"
    }
   ],
   "source": [
    "sorted(t1,reverse=True)"
   ]
  },
  {
   "cell_type": "code",
   "execution_count": 29,
   "id": "f738012f-6d5e-4197-bdeb-8c45f1c61ba9",
   "metadata": {},
   "outputs": [
    {
     "name": "stdout",
     "output_type": "stream",
     "text": [
      "C B A 30 20 10 False True 2.2 1.0 "
     ]
    }
   ],
   "source": [
    "t4=reversed(t3)\n",
    "for i in t4:\n",
    "    print(i,end=' ')"
   ]
  },
  {
   "cell_type": "markdown",
   "id": "0420b9ba-ef29-446e-a6bd-e33a023699c0",
   "metadata": {},
   "source": [
    "**concatenation**"
   ]
  },
  {
   "cell_type": "code",
   "execution_count": 7,
   "id": "dc5c173d-5993-40e8-ad44-081fe89ee658",
   "metadata": {},
   "outputs": [
    {
     "data": {
      "text/plain": [
       "(1, 2, 3, 4, 'A', 'B', 'C')"
      ]
     },
     "execution_count": 7,
     "metadata": {},
     "output_type": "execute_result"
    }
   ],
   "source": [
    "t1+t2"
   ]
  },
  {
   "cell_type": "code",
   "execution_count": 13,
   "id": "6162d848-1757-457f-bae8-fea02703e61b",
   "metadata": {},
   "outputs": [
    {
     "ename": "TypeError",
     "evalue": "can't multiply sequence by non-int of type 'tuple'",
     "output_type": "error",
     "traceback": [
      "\u001b[1;31m---------------------------------------------------------------------------\u001b[0m",
      "\u001b[1;31mTypeError\u001b[0m                                 Traceback (most recent call last)",
      "Cell \u001b[1;32mIn[13], line 1\u001b[0m\n\u001b[1;32m----> 1\u001b[0m t1\u001b[38;5;241m*\u001b[39mt2\n",
      "\u001b[1;31mTypeError\u001b[0m: can't multiply sequence by non-int of type 'tuple'"
     ]
    }
   ],
   "source": [
    "t1*t2"
   ]
  },
  {
   "cell_type": "code",
   "execution_count": 11,
   "id": "1fa4dce3-3723-4793-a2ad-1081918127fa",
   "metadata": {},
   "outputs": [
    {
     "data": {
      "text/plain": [
       "(1, 2, 3, 4, 1, 2, 3, 4)"
      ]
     },
     "execution_count": 11,
     "metadata": {},
     "output_type": "execute_result"
    }
   ],
   "source": [
    "t1*2"
   ]
  },
  {
   "cell_type": "code",
   "execution_count": 9,
   "id": "e8f809f4-e82e-43fc-9ee2-704a9ac6f953",
   "metadata": {},
   "outputs": [
    {
     "ename": "TypeError",
     "evalue": "unsupported operand type(s) for /: 'tuple' and 'tuple'",
     "output_type": "error",
     "traceback": [
      "\u001b[1;31m---------------------------------------------------------------------------\u001b[0m",
      "\u001b[1;31mTypeError\u001b[0m                                 Traceback (most recent call last)",
      "Cell \u001b[1;32mIn[9], line 1\u001b[0m\n\u001b[1;32m----> 1\u001b[0m t1\u001b[38;5;241m/\u001b[39mt1\n",
      "\u001b[1;31mTypeError\u001b[0m: unsupported operand type(s) for /: 'tuple' and 'tuple'"
     ]
    }
   ],
   "source": [
    "t1/t1"
   ]
  },
  {
   "cell_type": "markdown",
   "id": "ccea161b-d739-42db-a49e-37a62c8914ca",
   "metadata": {},
   "source": [
    "**index**"
   ]
  },
  {
   "cell_type": "code",
   "execution_count": 39,
   "id": "e9726ef4-6b40-4560-bb5c-0419b50ee1ad",
   "metadata": {},
   "outputs": [
    {
     "data": {
      "text/plain": [
       "1"
      ]
     },
     "execution_count": 39,
     "metadata": {},
     "output_type": "execute_result"
    }
   ],
   "source": [
    "t1[0]"
   ]
  },
  {
   "cell_type": "code",
   "execution_count": 41,
   "id": "8fe267cf-6ebf-4a3a-8cf1-0d4f677e6d8f",
   "metadata": {},
   "outputs": [
    {
     "data": {
      "text/plain": [
       "4"
      ]
     },
     "execution_count": 41,
     "metadata": {},
     "output_type": "execute_result"
    }
   ],
   "source": [
    "t1[-1]"
   ]
  },
  {
   "cell_type": "code",
   "execution_count": 45,
   "id": "665ef850-55fd-4dc2-89dc-ed6629823935",
   "metadata": {},
   "outputs": [
    {
     "name": "stdout",
     "output_type": "stream",
     "text": [
      "the positive index of 10 is 0\n",
      "the positive index of 20 is 1\n",
      "the positive index of 30 is 2\n",
      "the positive index of A is 3\n",
      "the positive index of B is 4\n",
      "the positive index of C is 5\n"
     ]
    }
   ],
   "source": [
    "t1=(10,20,30,'A','B','C')\n",
    "for i in range(0,len(t1)):\n",
    "    print(f'the positive index of {t1[i]} is {i}')"
   ]
  },
  {
   "cell_type": "code",
   "execution_count": 49,
   "id": "2416496d-28c7-44ed-bfdf-e16c9c939fb1",
   "metadata": {},
   "outputs": [
    {
     "ename": "TypeError",
     "evalue": "'int' object is not callable",
     "output_type": "error",
     "traceback": [
      "\u001b[1;31m---------------------------------------------------------------------------\u001b[0m",
      "\u001b[1;31mTypeError\u001b[0m                                 Traceback (most recent call last)",
      "Cell \u001b[1;32mIn[49], line 2\u001b[0m\n\u001b[0;32m      1\u001b[0m t1\u001b[38;5;241m=\u001b[39m(\u001b[38;5;241m10\u001b[39m)\n\u001b[1;32m----> 2\u001b[0m t1(\u001b[38;5;241m0\u001b[39m)\n",
      "\u001b[1;31mTypeError\u001b[0m: 'int' object is not callable"
     ]
    }
   ],
   "source": [
    "t1=(10)\n",
    "t1(0)"
   ]
  },
  {
   "cell_type": "markdown",
   "id": "b1140d15-9c67-4377-8810-4dba6ff11a65",
   "metadata": {},
   "source": [
    "**range vs in**\n",
    "- when we have use with index then go for range\n",
    "- when we have to use with only element go for in"
   ]
  },
  {
   "cell_type": "markdown",
   "id": "a8e1fde6-c02c-4101-9e59-39107fbd1db7",
   "metadata": {},
   "source": [
    "**mutable vs  immutable**"
   ]
  },
  {
   "cell_type": "code",
   "execution_count": 53,
   "id": "c13984bf-4aad-43fa-9e31-5a66babf71d2",
   "metadata": {},
   "outputs": [
    {
     "ename": "TypeError",
     "evalue": "'tuple' object does not support item assignment",
     "output_type": "error",
     "traceback": [
      "\u001b[1;31m---------------------------------------------------------------------------\u001b[0m",
      "\u001b[1;31mTypeError\u001b[0m                                 Traceback (most recent call last)",
      "Cell \u001b[1;32mIn[53], line 2\u001b[0m\n\u001b[0;32m      1\u001b[0m t1\u001b[38;5;241m=\u001b[39m(\u001b[38;5;241m10\u001b[39m,\u001b[38;5;241m20\u001b[39m,\u001b[38;5;241m30\u001b[39m,\u001b[38;5;124m'\u001b[39m\u001b[38;5;124mA\u001b[39m\u001b[38;5;124m'\u001b[39m,\u001b[38;5;124m'\u001b[39m\u001b[38;5;124mB\u001b[39m\u001b[38;5;124m'\u001b[39m,\u001b[38;5;124m'\u001b[39m\u001b[38;5;124mC\u001b[39m\u001b[38;5;124m'\u001b[39m)\n\u001b[1;32m----> 2\u001b[0m t1[\u001b[38;5;241m0\u001b[39m]\u001b[38;5;241m=\u001b[39m\u001b[38;5;241m20\u001b[39m\n",
      "\u001b[1;31mTypeError\u001b[0m: 'tuple' object does not support item assignment"
     ]
    }
   ],
   "source": [
    "t1=(10,20,30,'A','B','C')\n",
    "t1[0]=20"
   ]
  },
  {
   "cell_type": "markdown",
   "id": "dd9a92bc-a5a9-4376-9e51-c3f83d670a14",
   "metadata": {},
   "source": [
    "**Tuple is immutable**"
   ]
  },
  {
   "cell_type": "markdown",
   "id": "bfb310a3-e2f3-4c8e-bda2-205dbdd6e2c7",
   "metadata": {},
   "source": [
    "**slice**"
   ]
  },
  {
   "cell_type": "code",
   "execution_count": 57,
   "id": "8de02c14-3cfa-471a-8be6-9e0c4ce3ba63",
   "metadata": {},
   "outputs": [
    {
     "data": {
      "text/plain": [
       "(10, 20, 30, 40, 50, 'A', 'B', 'C', 'D', 'E', 'apple', 'banana')"
      ]
     },
     "execution_count": 57,
     "metadata": {},
     "output_type": "execute_result"
    }
   ],
   "source": [
    "t1=(10,20,30,40,50,'A','B','C','D','E','apple','banana')\n",
    "t1[:]"
   ]
  },
  {
   "cell_type": "code",
   "execution_count": 59,
   "id": "1e5288f1-8278-4128-a2b9-52e5c005c6ec",
   "metadata": {},
   "outputs": [
    {
     "data": {
      "text/plain": [
       "(10, 20, 30, 40, 50, 'A', 'B', 'C', 'D', 'E', 'apple', 'banana')"
      ]
     },
     "execution_count": 59,
     "metadata": {},
     "output_type": "execute_result"
    }
   ],
   "source": [
    "t1[::]"
   ]
  },
  {
   "cell_type": "code",
   "execution_count": 61,
   "id": "3251f79d-ef9e-445c-baba-a55c8b12f8ce",
   "metadata": {},
   "outputs": [
    {
     "data": {
      "text/plain": [
       "('banana', 'apple', 'E', 'D', 'C', 'B', 'A', 50, 40, 30, 20, 10)"
      ]
     },
     "execution_count": 61,
     "metadata": {},
     "output_type": "execute_result"
    }
   ],
   "source": [
    "t1[::-1] \n"
   ]
  },
  {
   "cell_type": "code",
   "execution_count": 63,
   "id": "dc87453c-f11b-4eba-8354-8a727f4b2261",
   "metadata": {},
   "outputs": [
    {
     "data": {
      "text/plain": [
       "(30, 50, 'B', 'D')"
      ]
     },
     "execution_count": 63,
     "metadata": {},
     "output_type": "execute_result"
    }
   ],
   "source": [
    "t1[2:10:2] \n"
   ]
  },
  {
   "cell_type": "code",
   "execution_count": 65,
   "id": "8c4c9d34-42f1-41d1-8629-99e7b82f045d",
   "metadata": {},
   "outputs": [
    {
     "data": {
      "text/plain": [
       "()"
      ]
     },
     "execution_count": 65,
     "metadata": {},
     "output_type": "execute_result"
    }
   ],
   "source": [
    "t1[2:10:-2] \n",
    "\n",
    "\n",
    "\n",
    "\n",
    "\n",
    "\n"
   ]
  },
  {
   "cell_type": "code",
   "execution_count": 67,
   "id": "196d3426-a5de-4cb9-ab35-07b9c8dc938a",
   "metadata": {},
   "outputs": [
    {
     "data": {
      "text/plain": [
       "()"
      ]
     },
     "execution_count": 67,
     "metadata": {},
     "output_type": "execute_result"
    }
   ],
   "source": [
    "t1[2:-10:2] "
   ]
  },
  {
   "cell_type": "code",
   "execution_count": 69,
   "id": "0daa3c40-685d-40f4-8526-00339c039b1f",
   "metadata": {},
   "outputs": [
    {
     "data": {
      "text/plain": [
       "()"
      ]
     },
     "execution_count": 69,
     "metadata": {},
     "output_type": "execute_result"
    }
   ],
   "source": [
    "t1[-2:10:2] "
   ]
  },
  {
   "cell_type": "code",
   "execution_count": 71,
   "id": "46e6b052-c300-4ef6-99b0-e2a09c899bfe",
   "metadata": {},
   "outputs": [
    {
     "data": {
      "text/plain": [
       "()"
      ]
     },
     "execution_count": 71,
     "metadata": {},
     "output_type": "execute_result"
    }
   ],
   "source": [
    "t1[-2:10:-2] "
   ]
  },
  {
   "cell_type": "code",
   "execution_count": 75,
   "id": "2a4439f9-45e1-4374-81ce-a4ddc53f7fb1",
   "metadata": {},
   "outputs": [
    {
     "data": {
      "text/plain": [
       "()"
      ]
     },
     "execution_count": 75,
     "metadata": {},
     "output_type": "execute_result"
    }
   ],
   "source": [
    "t1[-2:-10:2] "
   ]
  },
  {
   "cell_type": "code",
   "execution_count": 73,
   "id": "a97fd515-5b03-472d-89d9-0ccd0601d64d",
   "metadata": {},
   "outputs": [
    {
     "data": {
      "text/plain": [
       "('apple', 'D', 'B', 50)"
      ]
     },
     "execution_count": 73,
     "metadata": {},
     "output_type": "execute_result"
    }
   ],
   "source": [
    "t1[-2:-10:-2] "
   ]
  },
  {
   "cell_type": "code",
   "execution_count": 77,
   "id": "91fe84dd-8981-46ad-9a3b-0b43d83bea13",
   "metadata": {},
   "outputs": [
    {
     "data": {
      "text/plain": [
       "()"
      ]
     },
     "execution_count": 77,
     "metadata": {},
     "output_type": "execute_result"
    }
   ],
   "source": [
    "t1[10:2:2] "
   ]
  },
  {
   "cell_type": "code",
   "execution_count": 79,
   "id": "28b4c274-ec44-423d-a7b4-f32672ee09c8",
   "metadata": {},
   "outputs": [
    {
     "data": {
      "text/plain": [
       "('apple', 'D', 'B', 50)"
      ]
     },
     "execution_count": 79,
     "metadata": {},
     "output_type": "execute_result"
    }
   ],
   "source": [
    "t1[10:2:-2] # W\n"
   ]
  },
  {
   "cell_type": "code",
   "execution_count": 81,
   "id": "72914a90-6092-46b6-b087-452d71c7f375",
   "metadata": {},
   "outputs": [
    {
     "data": {
      "text/plain": [
       "()"
      ]
     },
     "execution_count": 81,
     "metadata": {},
     "output_type": "execute_result"
    }
   ],
   "source": [
    "\n",
    "t1[10:-2:2] # F\n"
   ]
  },
  {
   "cell_type": "code",
   "execution_count": 83,
   "id": "ada24e0c-bdf4-4960-8bca-859b01d3568e",
   "metadata": {},
   "outputs": [
    {
     "data": {
      "text/plain": [
       "()"
      ]
     },
     "execution_count": 83,
     "metadata": {},
     "output_type": "execute_result"
    }
   ],
   "source": [
    "\n",
    "t1[-10:2:-2] # F\n"
   ]
  },
  {
   "cell_type": "code",
   "execution_count": 85,
   "id": "04984940-6af0-4863-9d3d-49c1bb0b7d6c",
   "metadata": {},
   "outputs": [
    {
     "data": {
      "text/plain": [
       "()"
      ]
     },
     "execution_count": 85,
     "metadata": {},
     "output_type": "execute_result"
    }
   ],
   "source": [
    "\n",
    "t1[-10:-2:-2] # F"
   ]
  },
  {
   "cell_type": "code",
   "execution_count": 87,
   "id": "bcec0601-1ee6-414e-8606-1384bf350aa9",
   "metadata": {},
   "outputs": [
    {
     "data": {
      "text/plain": [
       "['__add__',\n",
       " '__class__',\n",
       " '__class_getitem__',\n",
       " '__contains__',\n",
       " '__delattr__',\n",
       " '__dir__',\n",
       " '__doc__',\n",
       " '__eq__',\n",
       " '__format__',\n",
       " '__ge__',\n",
       " '__getattribute__',\n",
       " '__getitem__',\n",
       " '__getnewargs__',\n",
       " '__getstate__',\n",
       " '__gt__',\n",
       " '__hash__',\n",
       " '__init__',\n",
       " '__init_subclass__',\n",
       " '__iter__',\n",
       " '__le__',\n",
       " '__len__',\n",
       " '__lt__',\n",
       " '__mul__',\n",
       " '__ne__',\n",
       " '__new__',\n",
       " '__reduce__',\n",
       " '__reduce_ex__',\n",
       " '__repr__',\n",
       " '__rmul__',\n",
       " '__setattr__',\n",
       " '__sizeof__',\n",
       " '__str__',\n",
       " '__subclasshook__',\n",
       " 'count',\n",
       " 'index']"
      ]
     },
     "execution_count": 87,
     "metadata": {},
     "output_type": "execute_result"
    }
   ],
   "source": [
    "dir(())"
   ]
  },
  {
   "cell_type": "code",
   "execution_count": 89,
   "id": "44663c91-ba41-4e54-8af3-3254ac6f19b3",
   "metadata": {},
   "outputs": [
    {
     "data": {
      "text/plain": [
       "2"
      ]
     },
     "execution_count": 89,
     "metadata": {},
     "output_type": "execute_result"
    }
   ],
   "source": [
    "# Return number of occurrences of value\n",
    "t1=(10,20,30,40,50,'A','B','C','D','E','apple','banana',10)\n",
    "t1.count(10)"
   ]
  },
  {
   "cell_type": "code",
   "execution_count": 93,
   "id": "0394c054-16a0-4fe4-bece-3937a02fe41f",
   "metadata": {},
   "outputs": [
    {
     "data": {
      "text/plain": [
       "3"
      ]
     },
     "execution_count": 93,
     "metadata": {},
     "output_type": "execute_result"
    }
   ],
   "source": [
    "t1=(10,20,30,40,50,'A','B','C','D','E','apple','banana',10)\n",
    "i1=t1.index(40)\n",
    "i1"
   ]
  },
  {
   "cell_type": "code",
   "execution_count": 93,
   "id": "3ca3e9bd-1f94-48e8-b526-3d1d45ad90f3",
   "metadata": {},
   "outputs": [
    {
     "data": {
      "text/plain": [
       "3"
      ]
     },
     "execution_count": 93,
     "metadata": {},
     "output_type": "execute_result"
    }
   ],
   "source": [
    "t1=(10,20,30,40,50,'A','B','C','D','E','apple','banana',10)\n",
    "i1=t1.index(40)\n",
    "i2"
   ]
  },
  {
   "cell_type": "code",
   "execution_count": null,
   "id": "dcbe7387-c658-4ade-969b-6f5586320d13",
   "metadata": {},
   "outputs": [],
   "source": []
  }
 ],
 "metadata": {
  "kernelspec": {
   "display_name": "Python [conda env:base] *",
   "language": "python",
   "name": "conda-base-py"
  },
  "language_info": {
   "codemirror_mode": {
    "name": "ipython",
    "version": 3
   },
   "file_extension": ".py",
   "mimetype": "text/x-python",
   "name": "python",
   "nbconvert_exporter": "python",
   "pygments_lexer": "ipython3",
   "version": "3.12.7"
  }
 },
 "nbformat": 4,
 "nbformat_minor": 5
}
