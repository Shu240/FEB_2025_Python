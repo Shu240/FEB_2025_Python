{
 "cells": [
  {
   "cell_type": "markdown",
   "id": "76339b8e-3218-4450-b4c2-f1b521eee936",
   "metadata": {},
   "source": [
    "**Conditional Statements**\n",
    "- Conditional statements are used to execute the code based on some condition\n",
    "- assume a statement\n",
    "  - if rain comes I will stay at hostel\n",
    "  - if rain comes I will go to play cricket\n",
    "  - if rain comes I will stay at hostel otherwise i will go to ground but if omkar sir call i will go to NareshIt\n",
    "- if rain comes I will stay at hostel else I will go to play cricket     \n",
    "- **if**\n",
    "- **if-else**\n",
    "- **if-elif-else**"
   ]
  },
  {
   "cell_type": "code",
   "execution_count": null,
   "id": "ad7faae1-a209-4439-bbfe-4b962a36f3b5",
   "metadata": {},
   "outputs": [],
   "source": [
    "if <condition>:\n",
    "    # write your code here\n",
    "\n",
    "# whenever the condition is true \n",
    "# then pytho will go inside the if area then the lines will be executed "
   ]
  },
  {
   "cell_type": "code",
   "execution_count": 14,
   "id": "a3e151a1-6603-40a4-a5b2-93c5a13789f7",
   "metadata": {},
   "outputs": [
    {
     "name": "stdout",
     "output_type": "stream",
     "text": [
      "False\n",
      "True\n",
      "False\n",
      "False\n",
      "True\n",
      "True\n"
     ]
    }
   ],
   "source": [
    "num=10 # assgnmet 10 is a value stored in a variable name\n",
    "num==10 # condition check num value equal to 10 or not\n",
    "print(num==100) # F\n",
    "print(num==10) # T\n",
    "print(num<10) # F\n",
    "print(num>10) # F\n",
    "print(num<=10) # T\n",
    "print(num>=10) # T\n"
   ]
  },
  {
   "cell_type": "code",
   "execution_count": 16,
   "id": "dfd5a4a4-75f8-4d36-8b87-b2e62c8db7dc",
   "metadata": {},
   "outputs": [
    {
     "name": "stdout",
     "output_type": "stream",
     "text": [
      "Hello\n"
     ]
    }
   ],
   "source": [
    "if 100>10:\n",
    "    print('Hello')\n",
    "\n",
    "# Step-1: 100>10 True\n",
    "# Step-2: Hello"
   ]
  },
  {
   "cell_type": "markdown",
   "id": "2c002876-4a6e-4552-ae76-3f6b654d8fa7",
   "metadata": {},
   "source": [
    "**Mistake 1**\n",
    "\n",
    "**indentation error**\n",
    "\n",
    "- whenever a line starts with keyword at last \":\" will be there\n",
    "- whenever \":\" Then we have indentation "
   ]
  },
  {
   "cell_type": "code",
   "execution_count": 23,
   "id": "01b50ad2-acd1-4258-8e97-d02e4741ee54",
   "metadata": {},
   "outputs": [
    {
     "ename": "IndentationError",
     "evalue": "expected an indented block after 'if' statement on line 1 (2114561154.py, line 2)",
     "output_type": "error",
     "traceback": [
      "\u001b[1;36m  Cell \u001b[1;32mIn[23], line 2\u001b[1;36m\u001b[0m\n\u001b[1;33m    print('Hello')\u001b[0m\n\u001b[1;37m    ^\u001b[0m\n\u001b[1;31mIndentationError\u001b[0m\u001b[1;31m:\u001b[0m expected an indented block after 'if' statement on line 1\n"
     ]
    }
   ],
   "source": [
    "if 100>10:\n",
    "print('Hello')"
   ]
  },
  {
   "cell_type": "code",
   "execution_count": 25,
   "id": "8bf2f02a-0a36-44e6-81dd-72d9ee4aacfb",
   "metadata": {},
   "outputs": [
    {
     "name": "stdout",
     "output_type": "stream",
     "text": [
      "Hello\n"
     ]
    }
   ],
   "source": [
    "if 100>10:\n",
    "    print('Hello')"
   ]
  },
  {
   "cell_type": "markdown",
   "id": "9db2bdfa-20b4-4e06-8b5c-64fcf649fe4b",
   "metadata": {},
   "source": [
    "---\n",
    "\n",
    "**Mistake 2**\n"
   ]
  },
  {
   "cell_type": "code",
   "execution_count": 30,
   "id": "4c4b5c4a-6af7-4698-a348-518d3ca98de4",
   "metadata": {},
   "outputs": [
    {
     "ename": "SyntaxError",
     "evalue": "expected ':' (407014315.py, line 1)",
     "output_type": "error",
     "traceback": [
      "\u001b[1;36m  Cell \u001b[1;32mIn[30], line 1\u001b[1;36m\u001b[0m\n\u001b[1;33m    if 100>10\u001b[0m\n\u001b[1;37m             ^\u001b[0m\n\u001b[1;31mSyntaxError\u001b[0m\u001b[1;31m:\u001b[0m expected ':'\n"
     ]
    }
   ],
   "source": [
    "if 100>10\n",
    "    print('Hello')"
   ]
  },
  {
   "cell_type": "code",
   "execution_count": 34,
   "id": "5beafda3-0ba9-4c59-aee9-114020d7865f",
   "metadata": {},
   "outputs": [],
   "source": [
    "if 100<10:\n",
    "    print('Hello')\n",
    "\n",
    "# Step-1: 100<10 False\n",
    "# hence the code inside if wont be executed \n",
    "# and the ode wil be empty"
   ]
  },
  {
   "cell_type": "code",
   "execution_count": 38,
   "id": "20be5fd7-d7e2-4b29-be05-b1aad1726992",
   "metadata": {},
   "outputs": [
    {
     "data": {
      "text/plain": [
       "True"
      ]
     },
     "execution_count": 38,
     "metadata": {},
     "output_type": "execute_result"
    }
   ],
   "source": [
    "100>10"
   ]
  },
  {
   "cell_type": "code",
   "execution_count": 40,
   "id": "aef0e8af-6b94-4979-9e49-7cdb354c6b95",
   "metadata": {},
   "outputs": [
    {
     "name": "stdout",
     "output_type": "stream",
     "text": [
      "hello\n"
     ]
    }
   ],
   "source": [
    "if True:\n",
    "    print('hello')"
   ]
  },
  {
   "cell_type": "code",
   "execution_count": 42,
   "id": "b696522c-6fa5-492b-a0b4-80df455f29a9",
   "metadata": {},
   "outputs": [],
   "source": [
    "if False:\n",
    "    print('hello')"
   ]
  },
  {
   "cell_type": "code",
   "execution_count": 44,
   "id": "6f5edb43-74b3-4510-aaf3-d4f1d1c48c19",
   "metadata": {},
   "outputs": [
    {
     "name": "stdout",
     "output_type": "stream",
     "text": [
      "hello\n",
      "hello\n",
      "hello\n"
     ]
    }
   ],
   "source": [
    "if bool(100):\n",
    "    print('hello')\n",
    "\n",
    "if True:\n",
    "    print('hello')\n",
    "\n",
    "if 100>10:\n",
    "    print('hello')\n"
   ]
  },
  {
   "cell_type": "code",
   "execution_count": 46,
   "id": "2d98513b-b810-4082-a0ad-9eee1c06b1ae",
   "metadata": {},
   "outputs": [
    {
     "name": "stdout",
     "output_type": "stream",
     "text": [
      "hello\n",
      "hi\n",
      "bye\n"
     ]
    }
   ],
   "source": [
    "#######################################\n",
    "if 100>10:\n",
    "    print('hello')\n",
    "    print('hi')\n",
    "######################################\n",
    "print('bye')"
   ]
  },
  {
   "cell_type": "code",
   "execution_count": 48,
   "id": "0469b62b-3ca5-40c1-85e9-8f935e1d3719",
   "metadata": {},
   "outputs": [
    {
     "name": "stdout",
     "output_type": "stream",
     "text": [
      "hello\n",
      "hi\n",
      "with condition bye\n",
      "without condition bye\n"
     ]
    }
   ],
   "source": [
    "#######################################\n",
    "if 100>10:\n",
    "    print('hello')\n",
    "    print('hi')\n",
    "    print('with condition bye')\n",
    "######################################\n",
    "print('without condition bye')"
   ]
  },
  {
   "cell_type": "code",
   "execution_count": 50,
   "id": "21adb53e-9203-4583-a4d2-90d9146c7fda",
   "metadata": {},
   "outputs": [
    {
     "name": "stdout",
     "output_type": "stream",
     "text": [
      "without condition bye\n"
     ]
    }
   ],
   "source": [
    "#######################################\n",
    "if 100<10:\n",
    "    print('hello')\n",
    "    print('hi')\n",
    "    print('with condition bye')\n",
    "######################################\n",
    "print('without condition bye')"
   ]
  },
  {
   "cell_type": "code",
   "execution_count": null,
   "id": "869e3b81-4392-4d80-9b3c-4c4bcf8b1b67",
   "metadata": {},
   "outputs": [],
   "source": [
    "#######################################\n",
    "if 100<10:\n",
    "    print('hello')\n",
    "    print('hi')\n",
    "    print('with condition bye')\n",
    "######################################\n",
    "print('without condition bye')"
   ]
  },
  {
   "cell_type": "markdown",
   "id": "1573353a-0edd-46de-9a53-abea04eb1c07",
   "metadata": {},
   "source": [
    "---"
   ]
  },
  {
   "cell_type": "markdown",
   "id": "eaadca87-25c8-4b8d-a26f-026fd898802f",
   "metadata": {},
   "source": [
    "**Case-2: if-else**"
   ]
  },
  {
   "cell_type": "markdown",
   "id": "f3862a84-929c-408b-b154-e5155d3208f4",
   "metadata": {},
   "source": [
    "- if condition is **true** then if statements will execute\n",
    "- if condition is **false** then else statements will execute\n",
    "- one condition two outputs\n",
    "- if needs condition but not else"
   ]
  },
  {
   "cell_type": "code",
   "execution_count": null,
   "id": "61cb4d3f-0343-4af8-b207-ea28921b4951",
   "metadata": {},
   "outputs": [],
   "source": [
    "# syntax\n",
    "if <condition>:\n",
    "    <write your code here>\n",
    "else:\n",
    "    <write your code here>"
   ]
  },
  {
   "cell_type": "code",
   "execution_count": 4,
   "id": "3a4d7a22-9077-4211-ace9-29b128e472d6",
   "metadata": {},
   "outputs": [
    {
     "name": "stdout",
     "output_type": "stream",
     "text": [
      "Hello\n"
     ]
    }
   ],
   "source": [
    "print('Hello')"
   ]
  },
  {
   "cell_type": "code",
   "execution_count": 6,
   "id": "3b182e94-23c1-424a-bb4e-7fa8efe21fed",
   "metadata": {},
   "outputs": [
    {
     "name": "stdout",
     "output_type": "stream",
     "text": [
      "hello\n"
     ]
    }
   ],
   "source": [
    "friend= 'yes'\n",
    "if friend=='yes':\n",
    "    print('hello')\n",
    "else:\n",
    "    print('bye')"
   ]
  },
  {
   "cell_type": "code",
   "execution_count": 8,
   "id": "5b460413-11f7-4fcd-99c9-e46ee7494e89",
   "metadata": {},
   "outputs": [
    {
     "name": "stdout",
     "output_type": "stream",
     "text": [
      "positive number\n"
     ]
    }
   ],
   "source": [
    "if 100>0:\n",
    "    print('positive number')\n",
    "else:\n",
    "    print('negative number')"
   ]
  },
  {
   "cell_type": "code",
   "execution_count": 14,
   "id": "d2e0fe93-ebd7-457b-b50f-4c227951fbdb",
   "metadata": {},
   "outputs": [
    {
     "name": "stdout",
     "output_type": "stream",
     "text": [
      "positive number\n"
     ]
    }
   ],
   "source": [
    "num= 100\n",
    "if num>0:\n",
    "    print('positive number')\n",
    "else:\n",
    "    print('negative number')"
   ]
  },
  {
   "cell_type": "code",
   "execution_count": 16,
   "id": "e34cea73-33ed-4087-9de8-2d99dcc0ca8d",
   "metadata": {},
   "outputs": [
    {
     "name": "stdin",
     "output_type": "stream",
     "text": [
      "Enter number: -12\n"
     ]
    },
    {
     "name": "stdout",
     "output_type": "stream",
     "text": [
      "negative number\n"
     ]
    }
   ],
   "source": [
    "n=eval(input('Enter number:'))\n",
    "if n>0:\n",
    "    print('positive number')\n",
    "else:\n",
    "    print('negative number')"
   ]
  },
  {
   "cell_type": "code",
   "execution_count": 20,
   "id": "57e9255f-634d-4602-86cf-c53a75c30b17",
   "metadata": {},
   "outputs": [
    {
     "name": "stdout",
     "output_type": "stream",
     "text": [
      "-27 is a negative number\n"
     ]
    }
   ],
   "source": [
    "import random\n",
    "n=random.randint(-100,100)\n",
    "if n>0:\n",
    "    print(f'{n} is a positive number')\n",
    "else:\n",
    "    print(f'{n} is a negative number')"
   ]
  },
  {
   "cell_type": "code",
   "execution_count": 22,
   "id": "169937a6-df6a-49b9-85e9-7468ae35023b",
   "metadata": {},
   "outputs": [
    {
     "name": "stdout",
     "output_type": "stream",
     "text": [
      "positive number\n"
     ]
    },
    {
     "name": "stdin",
     "output_type": "stream",
     "text": [
      "Enter number: 200\n"
     ]
    },
    {
     "name": "stdout",
     "output_type": "stream",
     "text": [
      "positive number\n",
      "-64 is a negative number\n"
     ]
    }
   ],
   "source": [
    "num= 100\n",
    "if num>0:\n",
    "    print('positive number')\n",
    "else:\n",
    "    print('negative number')\n",
    "\n",
    "################################################\n",
    "\n",
    "n=eval(input('Enter number:'))\n",
    "if n>0:\n",
    "    print('positive number')\n",
    "else:\n",
    "    print('negative number')\n",
    "\n",
    "#################################################\n",
    "\n",
    "import random\n",
    "n=random.randint(-100,100)\n",
    "if n>0:\n",
    "    print(f'{n} is a positive number')\n",
    "else:\n",
    "    print(f'{n} is a negative number')"
   ]
  },
  {
   "cell_type": "code",
   "execution_count": 39,
   "id": "d9d5559a-2bcc-44d1-9e96-b3f70c7c9763",
   "metadata": {},
   "outputs": [
    {
     "name": "stdout",
     "output_type": "stream",
     "text": [
      "hello\n",
      "negative number\n",
      "Condition is False\n",
      "Bye\n"
     ]
    }
   ],
   "source": [
    "print('hello')\n",
    "if (100<0):\n",
    "    print('positive number')\n",
    "    print(' Condition is True')\n",
    "else:\n",
    "    print('negative number')\n",
    "    print('Condition is False')\n",
    "print('Bye')"
   ]
  },
  {
   "cell_type": "code",
   "execution_count": 37,
   "id": "cc711d12-81d3-4959-b790-136330060c24",
   "metadata": {},
   "outputs": [
    {
     "name": "stdout",
     "output_type": "stream",
     "text": [
      "hello\n",
      "positive number\n",
      "Condition is True\n",
      "Bye\n"
     ]
    }
   ],
   "source": [
    "print('hello')\n",
    "if (100>0):\n",
    "    print('positive number')\n",
    "    print('Condition is True')\n",
    "else:\n",
    "    print('negative number')\n",
    "    print('Condition is False')\n",
    "print('Bye')"
   ]
  },
  {
   "cell_type": "code",
   "execution_count": 35,
   "id": "be532702-3e77-4d54-8958-03d265a92446",
   "metadata": {},
   "outputs": [
    {
     "ename": "SyntaxError",
     "evalue": "invalid syntax (1767992907.py, line 6)",
     "output_type": "error",
     "traceback": [
      "\u001b[1;36m  Cell \u001b[1;32mIn[35], line 6\u001b[1;36m\u001b[0m\n\u001b[1;33m    else:\u001b[0m\n\u001b[1;37m    ^\u001b[0m\n\u001b[1;31mSyntaxError\u001b[0m\u001b[1;31m:\u001b[0m invalid syntax\n"
     ]
    }
   ],
   "source": [
    "print('hello')\n",
    "if (100>0):\n",
    "    print('positive number')\n",
    "    print('Condition is True')\n",
    "print('Dont come between if and else')\n",
    "else:\n",
    "    print('negative number')\n",
    "    print('Condition is False')\n",
    "print('Bye')"
   ]
  },
  {
   "cell_type": "markdown",
   "id": "8b21213e-068d-45dc-bac8-54301c994bbf",
   "metadata": {},
   "source": [
    "- **Don't come between if and else**"
   ]
  },
  {
   "cell_type": "code",
   "execution_count": 41,
   "id": "0d8f975f-6bcb-4849-97c4-a099125ff424",
   "metadata": {},
   "outputs": [
    {
     "name": "stdin",
     "output_type": "stream",
     "text": [
      "Enter number1: -2\n",
      "Enter number2: -5\n"
     ]
    },
    {
     "name": "stdout",
     "output_type": "stream",
     "text": [
      "-2 is greater then -5\n"
     ]
    }
   ],
   "source": [
    "# wap ask the user to enter to two number \n",
    "# find greatest number\n",
    "\n",
    "n1=eval(input('Enter number1:'))\n",
    "n2=eval(input('Enter number2:'))\n",
    "if(n1>n2):\n",
    "    print(f'{n1} is greater then {n2}')\n",
    "else:\n",
    "    print(f'{n2} is greater then {n1}')"
   ]
  },
  {
   "cell_type": "code",
   "execution_count": 45,
   "id": "bdf797fe-d8ba-43a5-94bd-fc8ec753eb9d",
   "metadata": {},
   "outputs": [
    {
     "name": "stdout",
     "output_type": "stream",
     "text": [
      "62 is greater then 33\n"
     ]
    }
   ],
   "source": [
    "# wap ask the user to enter to two number \n",
    "# find greatest number\n",
    "import random\n",
    "n1=random.randint(1,100)\n",
    "n2=random.randint(1,100)\n",
    "if(n1>n2):\n",
    "    print(f'{n1} is greater then {n2}')\n",
    "else:\n",
    "    print(f'{n2} is greater then {n1}')"
   ]
  },
  {
   "cell_type": "code",
   "execution_count": 49,
   "id": "11eeddf7-3eba-48f9-ba9d-fd6ddffa59bd",
   "metadata": {},
   "outputs": [
    {
     "name": "stdin",
     "output_type": "stream",
     "text": [
      "Enter distance: 3\n"
     ]
    },
    {
     "name": "stdout",
     "output_type": "stream",
     "text": [
      "Free Ride\n"
     ]
    }
   ],
   "source": [
    "# wap ask the user to enter distance\n",
    "# if distance greater than 25km\n",
    "# then ask charge per km\n",
    "# then calculate total charge\n",
    "# otherwise print free ride\n",
    "\n",
    "distance=eval(input('Enter distance:'))\n",
    "if (distance>25):\n",
    "    charge=eval(input('what is Charge per km:'))\n",
    "    toatal_charge= charge*distance\n",
    "    print(f'The total charge is {toatal_charge}')\n",
    "else:\n",
    "    print('Free Ride')"
   ]
  },
  {
   "cell_type": "code",
   "execution_count": 53,
   "id": "a977fe33-f16f-4440-bb43-cbecb3c4907e",
   "metadata": {},
   "outputs": [
    {
     "name": "stdout",
     "output_type": "stream",
     "text": [
      "The distance is 18\n",
      "Free Ride\n"
     ]
    }
   ],
   "source": [
    "# wap ask the user to enter distance\n",
    "# if distance greater than 25km\n",
    "# then ask charge per km\n",
    "# then calculate total charge\n",
    "# otherwise print free ride\n",
    "import random\n",
    "distance= random.randint(1,50)\n",
    "print(f'The distance is {distance}')\n",
    "if (distance>25):\n",
    "    charge=eval(input('what is Charge per km:'))\n",
    "    toatal_charge= charge*distance\n",
    "    print(f'The total charge is {toatal_charge}')\n",
    "else:\n",
    "    print('Free Ride')"
   ]
  },
  {
   "cell_type": "code",
   "execution_count": 57,
   "id": "7b65a365-7086-420f-9176-10b3096a0356",
   "metadata": {},
   "outputs": [
    {
     "name": "stdin",
     "output_type": "stream",
     "text": [
      "Enter distance: 50\n",
      "Enter free distance: 25\n",
      "what is Charge per km: 5\n"
     ]
    },
    {
     "name": "stdout",
     "output_type": "stream",
     "text": [
      "The total charge is 125\n"
     ]
    }
   ],
   "source": [
    "# wap ask the user to enter distance\n",
    "# enter the free distance also (assume it is 24)\n",
    "# if distance greater than 25km\n",
    "# then ask charge per km\n",
    "# then calculate total charge\n",
    "# otherwise print free ride\n",
    "\n",
    "distance=eval(input('Enter distance:'))\n",
    "free_distance=eval(input('Enter free distance:'))\n",
    "if (distance>25):\n",
    "    charge=eval(input('what is Charge per km:'))\n",
    "    distance_covered= distance-free_distance\n",
    "    toatal_charge= charge*distance_covered\n",
    "    print(f'The total charge is {toatal_charge}')\n",
    "else:\n",
    "    print('Free Ride')\n"
   ]
  },
  {
   "cell_type": "code",
   "execution_count": 65,
   "id": "0d01ac56-4e92-426b-bb2b-20cafb579226",
   "metadata": {},
   "outputs": [
    {
     "name": "stdout",
     "output_type": "stream",
     "text": [
      "The distance is 50\n"
     ]
    },
    {
     "name": "stdin",
     "output_type": "stream",
     "text": [
      "Enter free distance: 25\n"
     ]
    },
    {
     "name": "stdout",
     "output_type": "stream",
     "text": [
      "The charge is 8\n",
      "The total charge is 200\n"
     ]
    }
   ],
   "source": [
    "import random\n",
    "distance= random.randint(1,50)\n",
    "print(f'The distance is {distance}')\n",
    "free_distance=eval(input('Enter free distance:'))\n",
    "if (distance>free_distance):\n",
    "    charge= random.randint(1,10)\n",
    "    print(f'The charge is {charge}')\n",
    "    distance_covered= distance-free_distance\n",
    "    toatal_charge= charge*distance_covered\n",
    "    print(f'The total charge is {toatal_charge}')\n",
    "else:\n",
    "    print('Free Ride')"
   ]
  },
  {
   "cell_type": "code",
   "execution_count": 71,
   "id": "102d4271-7d3d-4513-aa29-f11d730d6460",
   "metadata": {},
   "outputs": [
    {
     "name": "stdin",
     "output_type": "stream",
     "text": [
      "Enter number: 5\n"
     ]
    },
    {
     "name": "stdout",
     "output_type": "stream",
     "text": [
      "Double Lucky, You Lost\n",
      "The number was 1\n"
     ]
    }
   ],
   "source": [
    "# wap ask the user to enter a number from keyboard\n",
    "# ask the user to guess random number between 1,10\n",
    "# if n1 equals to n2 print you won\n",
    "# other wise print you lost\n",
    "\n",
    "import random\n",
    "n1=eval(input('Enter number:'))\n",
    "n2=random.randint(1,10)\n",
    "if (n1==n2):\n",
    "    print('Lucky, You Won')\n",
    "else:\n",
    "    print('Double Lucky, You Lost')\n",
    "    print(f'The number was {n2}')"
   ]
  },
  {
   "cell_type": "code",
   "execution_count": 79,
   "id": "8d6a7b2a-6e43-4492-bcd8-b1a00ffabeb5",
   "metadata": {},
   "outputs": [
    {
     "name": "stdin",
     "output_type": "stream",
     "text": [
      "Enter the course name: data science\n",
      "Enter institute name: xyz\n"
     ]
    },
    {
     "name": "stdout",
     "output_type": "stream",
     "text": [
      "khatam zindagi\n"
     ]
    }
   ],
   "source": [
    "# Course name is Data Science\n",
    "# Institute name is NareshIt\n",
    "# ask the user enter course name\n",
    "# ask the user enter institute name\n",
    "# if course name = data science & institute name nareshit\n",
    "# print you are at safe place\n",
    "# otherwise\n",
    "# print khatam zindagi\n",
    "\n",
    "course_name=input(\"Enter the course name:\")\n",
    "inst_name=input(\"Enter institute name:\")\n",
    "if (course_name == 'data science' and inst_name=='nareshit'):\n",
    "    print('you are at safe place')\n",
    "else:\n",
    "    print('khatam zindagi')"
   ]
  },
  {
   "cell_type": "code",
   "execution_count": 81,
   "id": "9d85c864-9932-4de0-8832-aa6b96783e88",
   "metadata": {},
   "outputs": [
    {
     "name": "stdin",
     "output_type": "stream",
     "text": [
      "Enter the course name: python\n",
      "Enter institute name: nareshit\n"
     ]
    },
    {
     "name": "stdout",
     "output_type": "stream",
     "text": [
      "you are at safe place\n"
     ]
    }
   ],
   "source": [
    "# Course name is Data Science\n",
    "# Institute name is NareshIt\n",
    "# ask the user enter course name\n",
    "# ask the user enter institute name\n",
    "# if course name = data science & institute name nareshit\n",
    "# print you are at safe place\n",
    "# otherwise\n",
    "# print khatam zindagi\n",
    "\n",
    "course_name=input(\"Enter the course name:\")\n",
    "inst_name=input(\"Enter institute name:\")\n",
    "if (course_name == 'data science' or inst_name=='nareshit'):\n",
    "    print('you are at safe place')\n",
    "else:\n",
    "    print('khatam zindagi')"
   ]
  },
  {
   "cell_type": "code",
   "execution_count": 85,
   "id": "cca18ec6-bb40-4102-afd3-5974c6c9a652",
   "metadata": {},
   "outputs": [
    {
     "name": "stdin",
     "output_type": "stream",
     "text": [
      "Enter the number: 5.0\n"
     ]
    },
    {
     "name": "stdout",
     "output_type": "stream",
     "text": [
      "5.0 is an odd number\n"
     ]
    }
   ],
   "source": [
    "# Even odd program\n",
    "\n",
    "n=eval(input('Enter the number:'))\n",
    "if(n%2==0):\n",
    "    print(f'{n} is an even number')\n",
    "else:\n",
    "    print(f'{n} is an odd number')"
   ]
  },
  {
   "cell_type": "code",
   "execution_count": 87,
   "id": "b5f0dc42-da50-4b02-928b-a362be1342c1",
   "metadata": {},
   "outputs": [
    {
     "name": "stdout",
     "output_type": "stream",
     "text": [
      "1\n",
      "5.5\n",
      "5\n"
     ]
    }
   ],
   "source": [
    "# modulus: %\n",
    "# division: /\n",
    "# floor division: // \n",
    "\n",
    "print(11%2)\n",
    "print(11/2)\n",
    "print(11//2)"
   ]
  },
  {
   "cell_type": "markdown",
   "id": "5d283fe1-daa0-47f2-8486-45c163ef03ea",
   "metadata": {},
   "source": [
    "---\n",
    "- **if-elif-else**\n",
    "- Whenever we have multiple conditions we will do $if-elif-else$\n",
    "- if single condition is there we will go with if-else\n",
    "  - two answers\n",
    "  - if needs condition else doesn't require conditions\n",
    "- if 2 conditions are there we will go with if-elif-else\n",
    "  - three answers\n",
    "  - if and elif will have conditions, else wont have any condition\n",
    "- if 3 conditions are there we will go with if-elif-elif-else\n",
    "  - four answers\n",
    "  - if, elif, elif will have conditions, else wont have any condition"
   ]
  },
  {
   "cell_type": "code",
   "execution_count": null,
   "id": "b24ad8fc-7ec2-455c-a070-5f062e6d1686",
   "metadata": {},
   "outputs": [],
   "source": [
    "# syntax: if-elif-else \n",
    "if <condition>:\n",
    "    <write your code here>\n",
    "elif <condition>:\n",
    "    <write your code here>\n",
    "else:\n",
    "    <write your code here>\n",
    "\n",
    "# syntax: if-elif-elif-else \n",
    "if <condition>:\n",
    "    <write your code here>\n",
    "elif <condition>:\n",
    "    <write your code here>\n",
    "elif <condition>:\n",
    "    <write your code here>\n",
    "else:\n",
    "    <write your code here>\n"
   ]
  },
  {
   "cell_type": "code",
   "execution_count": 11,
   "id": "1e5ace00-cc0c-47c7-86db-f86f4a63cb3d",
   "metadata": {},
   "outputs": [
    {
     "name": "stdin",
     "output_type": "stream",
     "text": [
      "Enter a number: 4\n"
     ]
    },
    {
     "name": "stdout",
     "output_type": "stream",
     "text": [
      "please print a valid number\n"
     ]
    }
   ],
   "source": [
    "# wap ask the user to enter a number\n",
    "# if number equal to one then print one\n",
    "# if number equal to two then print two\n",
    "# if number equal to three then print three\n",
    "# otherwise print enter a valid number\n",
    "\n",
    "n=eval(input(\"Enter a number:\"))\n",
    "if(n==1):\n",
    "    print(\"One\")\n",
    "elif(n==2):\n",
    "    print(\"Two\")\n",
    "elif(n==3):\n",
    "    print(\"Three\")\n",
    "else:\n",
    "    print(\"please print a valid number\")"
   ]
  },
  {
   "cell_type": "code",
   "execution_count": 21,
   "id": "ee66c924-d08a-4b2c-b127-4cb3c343ae34",
   "metadata": {},
   "outputs": [
    {
     "name": "stdin",
     "output_type": "stream",
     "text": [
      "Enter the percentage: 90\n"
     ]
    },
    {
     "name": "stdout",
     "output_type": "stream",
     "text": [
      "B grade\n"
     ]
    }
   ],
   "source": [
    "# wap ask the user enter percentage of marks\n",
    "# if marks greater then print a grade\n",
    "# if marks between 70-90 print b grade\n",
    "# if marks between 50-70 print c grade\n",
    "# if marks between 35-50 print d grade\n",
    "# otherwise print fail\n",
    "\n",
    "n=eval(input(\"Enter the percentage:\"))\n",
    "if(n>90):\n",
    "    print(\"A grade\")\n",
    "elif(n>70 and n<=90):\n",
    "    print(\"B grade\")\n",
    "elif(n>50 and n<=70):\n",
    "    print(\"C grade\")\n",
    "elif(n>35 and n<=50):\n",
    "    print(\"D grade\")\n",
    "else:\n",
    "    print(\"Fail\")\n"
   ]
  },
  {
   "cell_type": "code",
   "execution_count": 27,
   "id": "5657adf9-8324-45cf-a69c-4928a0388307",
   "metadata": {},
   "outputs": [
    {
     "name": "stdin",
     "output_type": "stream",
     "text": [
      "Enter the percentage: 90\n"
     ]
    },
    {
     "name": "stdout",
     "output_type": "stream",
     "text": [
      "A grade\n"
     ]
    }
   ],
   "source": [
    "# Better Approach \n",
    "n=eval(input(\"Enter the percentage:\"))\n",
    "if(n>=90):\n",
    "    print(\"A grade\")\n",
    "elif(n>=70):\n",
    "    print(\"B grade\")\n",
    "elif(n>=50):\n",
    "    print(\"C grade\")\n",
    "elif(n>=35):\n",
    "    print(\"D grade\")\n",
    "else:\n",
    "    print(\"Fail\")"
   ]
  },
  {
   "cell_type": "markdown",
   "id": "d0c4cf7f-640b-4cff-aa13-f765c589195e",
   "metadata": {},
   "source": [
    "- $if-elif$\n",
    "  - if fails === elif\n",
    "- $if-if$\n",
    "  - if fail or pass it will go to next if"
   ]
  },
  {
   "cell_type": "code",
   "execution_count": 32,
   "id": "711a89c4-1f66-45f0-b06d-a5b82e2f0134",
   "metadata": {},
   "outputs": [
    {
     "name": "stdin",
     "output_type": "stream",
     "text": [
      "Enter the age: 50\n"
     ]
    },
    {
     "name": "stdout",
     "output_type": "stream",
     "text": [
      "Middle aged person\n"
     ]
    }
   ],
   "source": [
    "age=eval(input(\"Enter the age:\"))\n",
    "if(age>=100):\n",
    "    print(\"Unlucky Guy\")\n",
    "elif(age>=80):\n",
    "    print(\"Old Guy\")\n",
    "elif(age>=60):\n",
    "    print(\"Senior Citizen\")\n",
    "elif(age>=40):\n",
    "    print(\"Middle aged person\")\n",
    "elif(age>=20):\n",
    "    print(\"Young\")\n",
    "elif(age>=10):\n",
    "    print(\"Teenage\")\n",
    "else:\n",
    "    print(\"Kid\")"
   ]
  },
  {
   "cell_type": "code",
   "execution_count": 38,
   "id": "367a0470-651d-49f9-8d9e-24f2aea2878f",
   "metadata": {},
   "outputs": [
    {
     "name": "stdin",
     "output_type": "stream",
     "text": [
      "Enter your gender: Male\n",
      "Enter the age: 20\n"
     ]
    },
    {
     "name": "stdout",
     "output_type": "stream",
     "text": [
      "Young Man\n"
     ]
    }
   ],
   "source": [
    "# wap ask the user to enter gender\n",
    "# if gender is male\n",
    "#    inside ask the user age\n",
    "#    if age grater then 60 print senior citizen\n",
    "#    if age between 30-60 print ma man\n",
    "#    if age between 15-30 pprint ym\n",
    "#    otherwise print boy\n",
    "# if gender is female\n",
    "#    inside ask the user age\n",
    "#    if age grater then 60 print senior citizen\n",
    "#    if age between 30-60 print ma women\n",
    "#    if age between 15-30 pprint yg\n",
    "#    otherwise print girl\n",
    "# else\n",
    "# print gender\n",
    "\n",
    "gender=input(\"Enter your gender:\")\n",
    "#########################################\n",
    "if(gender=='Male'):\n",
    "    age=eval(input(\"Enter the age:\"))\n",
    "    if(age>=60):\n",
    "        print(\"Senior Citizen\")\n",
    "    elif(age>=30):\n",
    "        print(\"Middle aged man\")\n",
    "    elif(age>=15):\n",
    "        print(\"Young Man\")\n",
    "    else:\n",
    "        print(\"Boy\")\n",
    "#########################################\n",
    "elif(gender=='Female'):\n",
    "    age=eval(input(\"Enter the age:\"))\n",
    "    if(age>=60):\n",
    "        print(\"Senior Citizen\")\n",
    "    elif(age>=30):\n",
    "        print(\"Middle aged woman\")\n",
    "    elif(age>=15):\n",
    "        print(\"Young Woman\")\n",
    "    else:\n",
    "        print(\"Girl\")\n",
    "########################################\n",
    "else:\n",
    "    print(\"enter valid Gender\")\n",
    "    "
   ]
  },
  {
   "cell_type": "code",
   "execution_count": 44,
   "id": "53193e87-4f0b-4249-ac0e-8396fa1babc5",
   "metadata": {},
   "outputs": [
    {
     "name": "stdin",
     "output_type": "stream",
     "text": [
      "Enter the number: 1\n"
     ]
    },
    {
     "name": "stdout",
     "output_type": "stream",
     "text": [
      "+ve num\n"
     ]
    }
   ],
   "source": [
    "# wap ask the user enter a number\n",
    "# if number greater or equal to zero\n",
    "#     if number greater than zero the print positive\n",
    "#     else 0\n",
    "# else print negatve number\n",
    "\n",
    "n=eval(input(\"Enter the number:\"))\n",
    "if(n>=0):\n",
    "    if(n>0):\n",
    "        print(\"+ve num\")\n",
    "    else:\n",
    "        print(\"zero\")\n",
    "else:\n",
    "    print(\"-ve num\")"
   ]
  },
  {
   "cell_type": "code",
   "execution_count": 3,
   "id": "86f3fce6-0bce-4994-bf5d-422ccac122fe",
   "metadata": {},
   "outputs": [
    {
     "name": "stdout",
     "output_type": "stream",
     "text": [
      "enter 1 for add operation\n",
      "enter 2 for sub operation\n",
      "enter 3 for mul operation\n",
      "enter 4 for div operation\n"
     ]
    },
    {
     "name": "stdin",
     "output_type": "stream",
     "text": [
      "Enter the number: 4\n",
      "Enter the number1: 5\n",
      "Enter the number2: 2\n"
     ]
    },
    {
     "name": "stdout",
     "output_type": "stream",
     "text": [
      "The division of number 5 and 2 would be 10.\n"
     ]
    }
   ],
   "source": [
    "# wap ask the user to enter number between 1-4\n",
    "# print some statements like below\n",
    "# print enter 1 for addition\n",
    "# print enter 2 for sub\n",
    "# print enter 3 for mul\n",
    "# print enter 4 for div\n",
    "# ask the user to enter number between 1-4\n",
    "\n",
    "print('enter 1 for add operation')\n",
    "print('enter 2 for sub operation')\n",
    "print('enter 3 for mul operation')\n",
    "print('enter 4 for div operation')\n",
    "op=eval(input(\"Enter the number:\"))\n",
    "if(op==1):\n",
    "    n1=eval(input(\"Enter the number1:\"))\n",
    "    n2=eval(input(\"Enter the number2:\"))\n",
    "    add=n1+n2\n",
    "    print(f\"The addition of number {n1} and {n2} would be {add}.\")\n",
    "elif(op==2):\n",
    "    n1=eval(input(\"Enter the number1:\"))\n",
    "    n2=eval(input(\"Enter the number2:\"))\n",
    "    sub=n1-n2\n",
    "    print(f\"The subtraction of number {n1} and {n2} would be {sub}.\")\n",
    "elif(op==3):\n",
    "    n1=eval(input(\"Enter the number1:\"))\n",
    "    n2=eval(input(\"Enter the number2:\"))\n",
    "    mul=n1*n2\n",
    "    print(f\"The multiplication of number {n1} and {n2} would be {mul}.\")\n",
    "elif(op==4):\n",
    "    n1=eval(input(\"Enter the number1:\"))\n",
    "    n2=eval(input(\"Enter the number2:\"))\n",
    "    div=n1*n2\n",
    "    print(f\"The division of number {n1} and {n2} would be {div}.\")\n",
    "else:\n",
    "    print(\"Choose between given operations\")"
   ]
  },
  {
   "cell_type": "code",
   "execution_count": null,
   "id": "3a36482f-f628-4221-9a0f-2234c47a0e24",
   "metadata": {},
   "outputs": [],
   "source": []
  }
 ],
 "metadata": {
  "kernelspec": {
   "display_name": "Python [conda env:base] *",
   "language": "python",
   "name": "conda-base-py"
  },
  "language_info": {
   "codemirror_mode": {
    "name": "ipython",
    "version": 3
   },
   "file_extension": ".py",
   "mimetype": "text/x-python",
   "name": "python",
   "nbconvert_exporter": "python",
   "pygments_lexer": "ipython3",
   "version": "3.12.7"
  }
 },
 "nbformat": 4,
 "nbformat_minor": 5
}
