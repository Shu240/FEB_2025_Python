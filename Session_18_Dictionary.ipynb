{
 "cells": [
  {
   "cell_type": "code",
   "execution_count": 9,
   "id": "3440dcd4-2a62-4769-8bbd-264a49b103ae",
   "metadata": {},
   "outputs": [
    {
     "name": "stdout",
     "output_type": "stream",
     "text": [
      "Ramesh age is 20\n",
      "Suresh age is 25\n",
      "Sathish age is 30\n"
     ]
    }
   ],
   "source": [
    "name=['Ramesh','Suresh','Sathish']\n",
    "age=[20,25,30]\n",
    "for i in range(len(name)):\n",
    "    print(f'{name[i]} age is {age[i]}')"
   ]
  },
  {
   "cell_type": "markdown",
   "id": "b5a31f5c-4a05-483b-a496-e94a28b6ca26",
   "metadata": {},
   "source": [
    "## *zip operator* ##"
   ]
  },
  {
   "cell_type": "code",
   "execution_count": 23,
   "id": "a6c58df6-a39c-4f66-89c3-5c2c0423f5a0",
   "metadata": {},
   "outputs": [
    {
     "name": "stdout",
     "output_type": "stream",
     "text": [
      "Ramesh 20\n",
      "Ramesh age is 20\n",
      "Suresh 25\n",
      "Suresh age is 25\n",
      "Sathish 30\n",
      "Sathish age is 30\n"
     ]
    }
   ],
   "source": [
    "name=['Ramesh','Suresh','Sathish']\n",
    "age=[20,25,30]\n",
    "for i,j in zip(names,age):\n",
    "    print(i,j)\n",
    "    print(f'{i} age is {j}')"
   ]
  },
  {
   "cell_type": "code",
   "execution_count": 31,
   "id": "10dd7a8d-124e-49e3-abfd-fc3436b4fcfd",
   "metadata": {},
   "outputs": [
    {
     "data": {
      "text/plain": [
       "['name:Ramesh and age:20', 'name:Suresh and age:25', 'name:Sathish and age:30']"
      ]
     },
     "execution_count": 31,
     "metadata": {},
     "output_type": "execute_result"
    }
   ],
   "source": [
    "name=['Ramesh','Suresh','Sathish']\n",
    "age=[20,25,30]\n",
    "l=[f'name:{i} and age:{j}' for i,j in zip(names,age)]\n",
    "l\n"
   ]
  },
  {
   "cell_type": "markdown",
   "id": "f85c17b6-2adb-4035-a822-f11b4d9ff700",
   "metadata": {},
   "source": [
    "# *Dictionary* #"
   ]
  },
  {
   "cell_type": "markdown",
   "id": "84066d62-00d4-4518-a564-56820706248a",
   "metadata": {},
   "source": [
    "- in above example names and age both are together\n",
    "- when both are together we can pair them\n",
    "- This can happen using dictionary\n",
    "- Dictionary is called **key-value** pair\n",
    "- it represents with curly braces: **{key:value}**"
   ]
  },
  {
   "cell_type": "code",
   "execution_count": 35,
   "id": "5cf2e71f-586d-47b9-a71c-79d68eafe7a2",
   "metadata": {},
   "outputs": [
    {
     "data": {
      "text/plain": [
       "{'Ramesh': 20, 'Suresh': 25, 'Satish': 30}"
      ]
     },
     "execution_count": 35,
     "metadata": {},
     "output_type": "execute_result"
    }
   ],
   "source": [
    "d1={'Ramesh':20,'Suresh':25,'Satish':30}\n",
    "d1"
   ]
  },
  {
   "cell_type": "code",
   "execution_count": 43,
   "id": "640f3dc0-e62a-48bc-910c-89aaf5a21c59",
   "metadata": {},
   "outputs": [
    {
     "data": {
      "text/plain": [
       "{'Ramesh': (20+5j), 'Suresh': 7, 'Satish': 3}"
      ]
     },
     "execution_count": 43,
     "metadata": {},
     "output_type": "execute_result"
    }
   ],
   "source": [
    "d2={'Ramesh':20+5j,'Suresh':2+5,'Satish':3-0}\n",
    "d2"
   ]
  },
  {
   "cell_type": "code",
   "execution_count": 46,
   "id": "53fa91c7-e249-41b9-8984-ff8cfde9eaf2",
   "metadata": {},
   "outputs": [
    {
     "data": {
      "text/plain": [
       "{'Ramesh': [(20+5j)], 'Suresh': [7], 'Satish': 3}"
      ]
     },
     "execution_count": 46,
     "metadata": {},
     "output_type": "execute_result"
    }
   ],
   "source": [
    "d2={'Ramesh':[20+5j],'Suresh':[2+5],'Satish':(3-0)}\n",
    "d2"
   ]
  },
  {
   "cell_type": "code",
   "execution_count": 48,
   "id": "61b43426-5e2f-4948-8607-7a3988ad1a1d",
   "metadata": {},
   "outputs": [
    {
     "data": {
      "text/plain": [
       "{'Ramesh': [(20+5j)], 'Suresh': [7], 'Satish': ('1', '2', '3')}"
      ]
     },
     "execution_count": 48,
     "metadata": {},
     "output_type": "execute_result"
    }
   ],
   "source": [
    "d2={'Ramesh':[20+5j],'Suresh':[2+5],'Satish':('1','2','3')}\n",
    "d2"
   ]
  },
  {
   "cell_type": "code",
   "execution_count": 50,
   "id": "e63f1ad4-16a0-4d4d-8f94-4c3e364b4d66",
   "metadata": {},
   "outputs": [
    {
     "data": {
      "text/plain": [
       "{'Ramesh': [(20+5j)], 'Suresh': [7], 'Satish': ('1', '2', '3'), 'Ritesh': True}"
      ]
     },
     "execution_count": 50,
     "metadata": {},
     "output_type": "execute_result"
    }
   ],
   "source": [
    "d3={'Ramesh':[20+5j],'Suresh':[2+5],'Satish':('1','2','3'),'Ritesh':True}\n",
    "d3"
   ]
  },
  {
   "cell_type": "code",
   "execution_count": 56,
   "id": "17a0810e-fef2-4711-8c49-330e61a0ac8e",
   "metadata": {},
   "outputs": [
    {
     "data": {
      "text/plain": [
       "{'Ramesh': [(20+5j)],\n",
       " 'Suresh': [2, 5],\n",
       " 'Satish': ('1', '2', '3'),\n",
       " ('1', '2', '3'): True}"
      ]
     },
     "execution_count": 56,
     "metadata": {},
     "output_type": "execute_result"
    }
   ],
   "source": [
    "d3={'Ramesh':[20+5j],'Suresh':[2,5],'Satish':('1','2','3'),('1','2','3'):True}\n",
    "d3"
   ]
  },
  {
   "cell_type": "code",
   "execution_count": 63,
   "id": "27ba7703-1088-4566-b938-9b3753b86781",
   "metadata": {},
   "outputs": [
    {
     "data": {
      "text/plain": [
       "{'Ramesh': 25, 'Satish': 30}"
      ]
     },
     "execution_count": 63,
     "metadata": {},
     "output_type": "execute_result"
    }
   ],
   "source": [
    "d1={'Ramesh':20,'Ramesh':25,'Satish':30}\n",
    "d1"
   ]
  },
  {
   "cell_type": "markdown",
   "id": "4da50005-8865-44b8-8637-ef44a5db4501",
   "metadata": {},
   "source": [
    "**if both $keys$ are same it will take $latest$ value**"
   ]
  },
  {
   "cell_type": "code",
   "execution_count": 65,
   "id": "1b003618-d81b-4df5-9f4d-f75defaf6d56",
   "metadata": {},
   "outputs": [
    {
     "data": {
      "text/plain": [
       "{'Ramesh': 20, 'Satish': 30}"
      ]
     },
     "execution_count": 65,
     "metadata": {},
     "output_type": "execute_result"
    }
   ],
   "source": [
    "d1={'Ramesh':20,'Ramesh':20,'Satish':30}\n",
    "d1"
   ]
  },
  {
   "cell_type": "markdown",
   "id": "2862112b-3d5f-4a85-9792-11afec294021",
   "metadata": {},
   "source": [
    "**dictionary does not allow duplicates**"
   ]
  },
  {
   "cell_type": "markdown",
   "id": "9c0d1f16-8bbd-4711-91f2-0b469c5cf03e",
   "metadata": {},
   "source": [
    "- **list as key fails because list has a mutable behaviour**\n",
    "- **tuples as key works because tuples has a immutable behaviour**\n",
    "- **in dictionary keys are very-very important**\n",
    "- **keys does not change so when we apply list**\n",
    "- **If both keys are same then it will take latest value**"
   ]
  },
  {
   "cell_type": "code",
   "execution_count": 4,
   "id": "8a062330-8471-48bc-a6df-293994b4c3c8",
   "metadata": {},
   "outputs": [
    {
     "data": {
      "text/plain": [
       "{'Fruits': {'Apple': 20}}"
      ]
     },
     "execution_count": 4,
     "metadata": {},
     "output_type": "execute_result"
    }
   ],
   "source": [
    "d14= {'Fruits':{'Apple':20}}\n",
    "d14"
   ]
  },
  {
   "cell_type": "code",
   "execution_count": 6,
   "id": "87ba1391-e556-4efa-87e8-b4927b019643",
   "metadata": {},
   "outputs": [
    {
     "ename": "TypeError",
     "evalue": "unhashable type: 'dict'",
     "output_type": "error",
     "traceback": [
      "\u001b[1;31m---------------------------------------------------------------------------\u001b[0m",
      "\u001b[1;31mTypeError\u001b[0m                                 Traceback (most recent call last)",
      "Cell \u001b[1;32mIn[6], line 1\u001b[0m\n\u001b[1;32m----> 1\u001b[0m d15\u001b[38;5;241m=\u001b[39m {{\u001b[38;5;124m'\u001b[39m\u001b[38;5;124mApple\u001b[39m\u001b[38;5;124m'\u001b[39m:\u001b[38;5;241m20\u001b[39m}:\u001b[38;5;124m'\u001b[39m\u001b[38;5;124mFruits\u001b[39m\u001b[38;5;124m'\u001b[39m}\n\u001b[0;32m      2\u001b[0m d15\n",
      "\u001b[1;31mTypeError\u001b[0m: unhashable type: 'dict'"
     ]
    }
   ],
   "source": [
    "d15= {{'Apple':20}:'Fruits'}\n",
    "d15"
   ]
  },
  {
   "cell_type": "code",
   "execution_count": 56,
   "id": "89c7cb9e-023a-46ed-9947-84abcd916a3e",
   "metadata": {},
   "outputs": [],
   "source": [
    "dict1={'Apple':20,'Banana':30,'Cherry':50}\n",
    "dict2={'Apple':20,'apple':30}\n",
    "dict3={20:'Apple',30:'Banana',50:'Cherry'}"
   ]
  },
  {
   "cell_type": "code",
   "execution_count": 54,
   "id": "e0d6d6a3-d581-40ca-bcf3-991d53889d82",
   "metadata": {},
   "outputs": [
    {
     "data": {
      "text/plain": [
       "'Apple'"
      ]
     },
     "execution_count": 54,
     "metadata": {},
     "output_type": "execute_result"
    }
   ],
   "source": [
    "min(dict1)"
   ]
  },
  {
   "cell_type": "code",
   "execution_count": 14,
   "id": "4b07b985-6d65-48d7-96dd-158b1cb6a95f",
   "metadata": {},
   "outputs": [
    {
     "data": {
      "text/plain": [
       "'Apple'"
      ]
     },
     "execution_count": 14,
     "metadata": {},
     "output_type": "execute_result"
    }
   ],
   "source": [
    "min(dict2)"
   ]
  },
  {
   "cell_type": "code",
   "execution_count": 16,
   "id": "5e2ff0e5-5021-4629-a24f-001ac2517e18",
   "metadata": {},
   "outputs": [
    {
     "data": {
      "text/plain": [
       "20"
      ]
     },
     "execution_count": 16,
     "metadata": {},
     "output_type": "execute_result"
    }
   ],
   "source": [
    "min(dict3)"
   ]
  },
  {
   "cell_type": "code",
   "execution_count": 18,
   "id": "d0c1e194-98f4-4883-afc1-722d097e17b9",
   "metadata": {},
   "outputs": [
    {
     "data": {
      "text/plain": [
       "'Cherry'"
      ]
     },
     "execution_count": 18,
     "metadata": {},
     "output_type": "execute_result"
    }
   ],
   "source": [
    "max(dict1)"
   ]
  },
  {
   "cell_type": "code",
   "execution_count": 20,
   "id": "c0674468-9be4-4b4d-99a7-69ea221d782e",
   "metadata": {},
   "outputs": [
    {
     "data": {
      "text/plain": [
       "'apple'"
      ]
     },
     "execution_count": 20,
     "metadata": {},
     "output_type": "execute_result"
    }
   ],
   "source": [
    "max(dict2)"
   ]
  },
  {
   "cell_type": "code",
   "execution_count": 24,
   "id": "0a92ee14-6f61-4ec5-9f9d-62ea16a6d33c",
   "metadata": {},
   "outputs": [
    {
     "data": {
      "text/plain": [
       "50"
      ]
     },
     "execution_count": 24,
     "metadata": {},
     "output_type": "execute_result"
    }
   ],
   "source": [
    "max(dict3)"
   ]
  },
  {
   "cell_type": "code",
   "execution_count": 26,
   "id": "10ad679a-01e4-4d1c-a562-e4c2554995b4",
   "metadata": {},
   "outputs": [
    {
     "ename": "TypeError",
     "evalue": "unsupported operand type(s) for +: 'int' and 'str'",
     "output_type": "error",
     "traceback": [
      "\u001b[1;31m---------------------------------------------------------------------------\u001b[0m",
      "\u001b[1;31mTypeError\u001b[0m                                 Traceback (most recent call last)",
      "Cell \u001b[1;32mIn[26], line 1\u001b[0m\n\u001b[1;32m----> 1\u001b[0m \u001b[38;5;28msum\u001b[39m(dict1)\n",
      "\u001b[1;31mTypeError\u001b[0m: unsupported operand type(s) for +: 'int' and 'str'"
     ]
    }
   ],
   "source": [
    "sum(dict1)"
   ]
  },
  {
   "cell_type": "code",
   "execution_count": 28,
   "id": "269ee131-bf9f-42a7-aa68-f828b876bfcf",
   "metadata": {},
   "outputs": [
    {
     "ename": "TypeError",
     "evalue": "unsupported operand type(s) for +: 'int' and 'str'",
     "output_type": "error",
     "traceback": [
      "\u001b[1;31m---------------------------------------------------------------------------\u001b[0m",
      "\u001b[1;31mTypeError\u001b[0m                                 Traceback (most recent call last)",
      "Cell \u001b[1;32mIn[28], line 1\u001b[0m\n\u001b[1;32m----> 1\u001b[0m \u001b[38;5;28msum\u001b[39m(dict2)\n",
      "\u001b[1;31mTypeError\u001b[0m: unsupported operand type(s) for +: 'int' and 'str'"
     ]
    }
   ],
   "source": [
    "sum(dict2)"
   ]
  },
  {
   "cell_type": "code",
   "execution_count": 30,
   "id": "4409b754-f0ee-45c1-8849-f45f6df9b74b",
   "metadata": {},
   "outputs": [
    {
     "data": {
      "text/plain": [
       "100"
      ]
     },
     "execution_count": 30,
     "metadata": {},
     "output_type": "execute_result"
    }
   ],
   "source": [
    "sum(dict3)"
   ]
  },
  {
   "cell_type": "code",
   "execution_count": 32,
   "id": "60f574a6-5236-445d-bc0a-12d4663bd57a",
   "metadata": {},
   "outputs": [
    {
     "data": {
      "text/plain": [
       "['Apple', 'Banana', 'Cherry']"
      ]
     },
     "execution_count": 32,
     "metadata": {},
     "output_type": "execute_result"
    }
   ],
   "source": [
    "sorted(dict1)"
   ]
  },
  {
   "cell_type": "code",
   "execution_count": 34,
   "id": "302d5a6a-0421-43d4-b0b9-89529ac3271d",
   "metadata": {},
   "outputs": [
    {
     "data": {
      "text/plain": [
       "['Apple', 'apple']"
      ]
     },
     "execution_count": 34,
     "metadata": {},
     "output_type": "execute_result"
    }
   ],
   "source": [
    "sorted(dict2)"
   ]
  },
  {
   "cell_type": "code",
   "execution_count": 36,
   "id": "88a6b55c-92a5-492b-95fe-7b5c39f2e2db",
   "metadata": {},
   "outputs": [
    {
     "data": {
      "text/plain": [
       "[20, 30, 50]"
      ]
     },
     "execution_count": 36,
     "metadata": {},
     "output_type": "execute_result"
    }
   ],
   "source": [
    "sorted(dict3)"
   ]
  },
  {
   "cell_type": "code",
   "execution_count": 38,
   "id": "3f409d38-05ed-4157-b3a7-6a5227cb0cde",
   "metadata": {},
   "outputs": [
    {
     "data": {
      "text/plain": [
       "<dict_reversekeyiterator at 0x22007f4e7a0>"
      ]
     },
     "execution_count": 38,
     "metadata": {},
     "output_type": "execute_result"
    }
   ],
   "source": [
    "reversed(dict1)"
   ]
  },
  {
   "cell_type": "code",
   "execution_count": 40,
   "id": "fec7d60f-b3fb-48a6-a187-7653c649f295",
   "metadata": {},
   "outputs": [
    {
     "data": {
      "text/plain": [
       "<dict_reversekeyiterator at 0x2200877dcb0>"
      ]
     },
     "execution_count": 40,
     "metadata": {},
     "output_type": "execute_result"
    }
   ],
   "source": [
    "reversed(dict2)"
   ]
  },
  {
   "cell_type": "code",
   "execution_count": 44,
   "id": "57af60a0-7154-4058-bc0b-81831c374d0a",
   "metadata": {},
   "outputs": [
    {
     "data": {
      "text/plain": [
       "[50, 30, 20]"
      ]
     },
     "execution_count": 44,
     "metadata": {},
     "output_type": "execute_result"
    }
   ],
   "source": [
    "list(reversed(dict3))"
   ]
  },
  {
   "cell_type": "code",
   "execution_count": 46,
   "id": "096aa64b-4850-45fd-adba-e2137db90928",
   "metadata": {},
   "outputs": [
    {
     "data": {
      "text/plain": [
       "3"
      ]
     },
     "execution_count": 46,
     "metadata": {},
     "output_type": "execute_result"
    }
   ],
   "source": [
    "len(dict1)"
   ]
  },
  {
   "cell_type": "code",
   "execution_count": 48,
   "id": "b56e96c3-69e3-4780-9e9a-666e7f5b6cf0",
   "metadata": {},
   "outputs": [
    {
     "data": {
      "text/plain": [
       "2"
      ]
     },
     "execution_count": 48,
     "metadata": {},
     "output_type": "execute_result"
    }
   ],
   "source": [
    "len(dict2)"
   ]
  },
  {
   "cell_type": "code",
   "execution_count": 50,
   "id": "2a461fa0-87c1-4f90-83a5-bc4b864d3a7f",
   "metadata": {},
   "outputs": [
    {
     "data": {
      "text/plain": [
       "3"
      ]
     },
     "execution_count": 50,
     "metadata": {},
     "output_type": "execute_result"
    }
   ],
   "source": [
    "len(dict3)"
   ]
  },
  {
   "cell_type": "code",
   "execution_count": 58,
   "id": "caecdae9-5766-4fd6-914b-edc7705fe651",
   "metadata": {},
   "outputs": [
    {
     "data": {
      "text/plain": [
       "True"
      ]
     },
     "execution_count": 58,
     "metadata": {},
     "output_type": "execute_result"
    }
   ],
   "source": [
    "dict1={'Apple':20,'Banana':30,'Cherry':50}\n",
    "'Apple' in dict1"
   ]
  },
  {
   "cell_type": "code",
   "execution_count": 60,
   "id": "885e2a01-f087-4aea-afba-c48633e837e9",
   "metadata": {},
   "outputs": [
    {
     "data": {
      "text/plain": [
       "False"
      ]
     },
     "execution_count": 60,
     "metadata": {},
     "output_type": "execute_result"
    }
   ],
   "source": [
    "dict1={'Apple':20,'Banana':30,'Cherry':50}\n",
    "20 in dict1"
   ]
  },
  {
   "cell_type": "code",
   "execution_count": 62,
   "id": "93250144-3ea9-46e6-8079-d35d74d1c1f6",
   "metadata": {},
   "outputs": [
    {
     "ename": "SyntaxError",
     "evalue": "illegal target for annotation (164298949.py, line 2)",
     "output_type": "error",
     "traceback": [
      "\u001b[1;36m  Cell \u001b[1;32mIn[62], line 2\u001b[1;36m\u001b[0m\n\u001b[1;33m    'Apple':20 in dict1\u001b[0m\n\u001b[1;37m    ^\u001b[0m\n\u001b[1;31mSyntaxError\u001b[0m\u001b[1;31m:\u001b[0m illegal target for annotation\n"
     ]
    }
   ],
   "source": [
    "dict1={'Apple':20,'Banana':30,'Cherry':50}\n",
    "'Apple':20 in dict1"
   ]
  },
  {
   "cell_type": "code",
   "execution_count": 66,
   "id": "5cf0cbd6-bbbd-40f1-98d4-23e62c315ae1",
   "metadata": {},
   "outputs": [
    {
     "name": "stdout",
     "output_type": "stream",
     "text": [
      "Apple Banana Cherry "
     ]
    }
   ],
   "source": [
    "dict1={'Apple':20,'Banana':30,'Cherry':50}\n",
    "for i in dict1:\n",
    "    print(i,end=' ')"
   ]
  },
  {
   "cell_type": "code",
   "execution_count": 68,
   "id": "84d73ce7-05dd-4c72-bdf7-2083cd361ebb",
   "metadata": {},
   "outputs": [
    {
     "ename": "TypeError",
     "evalue": "'dict' object cannot be interpreted as an integer",
     "output_type": "error",
     "traceback": [
      "\u001b[1;31m---------------------------------------------------------------------------\u001b[0m",
      "\u001b[1;31mTypeError\u001b[0m                                 Traceback (most recent call last)",
      "Cell \u001b[1;32mIn[68], line 1\u001b[0m\n\u001b[1;32m----> 1\u001b[0m \u001b[38;5;28mrange\u001b[39m(dict1)\n",
      "\u001b[1;31mTypeError\u001b[0m: 'dict' object cannot be interpreted as an integer"
     ]
    }
   ],
   "source": [
    "range(dict1)"
   ]
  },
  {
   "cell_type": "code",
   "execution_count": 70,
   "id": "f82f28af-93f3-4cf2-b79e-da3210fff4c6",
   "metadata": {},
   "outputs": [
    {
     "data": {
      "text/plain": [
       "range(0, 3)"
      ]
     },
     "execution_count": 70,
     "metadata": {},
     "output_type": "execute_result"
    }
   ],
   "source": [
    "range(len(dict1))"
   ]
  },
  {
   "cell_type": "code",
   "execution_count": 76,
   "id": "ae86df23-d09f-458c-b107-2ef9a10c71ae",
   "metadata": {},
   "outputs": [
    {
     "name": "stdout",
     "output_type": "stream",
     "text": [
      "0 1 2 "
     ]
    }
   ],
   "source": [
    "dict1={'Apple':20,'Banana':30,'Cherry':50}\n",
    "for i in range(len(dict1)):\n",
    "    print(i,end=' ')"
   ]
  },
  {
   "cell_type": "markdown",
   "id": "b2f68848-c3f7-4e59-8ae9-2ae9991e5c23",
   "metadata": {},
   "source": [
    "# *index* #"
   ]
  },
  {
   "cell_type": "code",
   "execution_count": 79,
   "id": "0a8f1601-6f13-4c90-a557-b522c6b8f1f6",
   "metadata": {},
   "outputs": [
    {
     "ename": "KeyError",
     "evalue": "0",
     "output_type": "error",
     "traceback": [
      "\u001b[1;31m---------------------------------------------------------------------------\u001b[0m",
      "\u001b[1;31mKeyError\u001b[0m                                  Traceback (most recent call last)",
      "Cell \u001b[1;32mIn[79], line 2\u001b[0m\n\u001b[0;32m      1\u001b[0m dict1\u001b[38;5;241m=\u001b[39m{\u001b[38;5;124m'\u001b[39m\u001b[38;5;124mApple\u001b[39m\u001b[38;5;124m'\u001b[39m:\u001b[38;5;241m20\u001b[39m,\u001b[38;5;124m'\u001b[39m\u001b[38;5;124mBanana\u001b[39m\u001b[38;5;124m'\u001b[39m:\u001b[38;5;241m30\u001b[39m,\u001b[38;5;124m'\u001b[39m\u001b[38;5;124mCherry\u001b[39m\u001b[38;5;124m'\u001b[39m:\u001b[38;5;241m50\u001b[39m}\n\u001b[1;32m----> 2\u001b[0m dict1[\u001b[38;5;241m0\u001b[39m]\n",
      "\u001b[1;31mKeyError\u001b[0m: 0"
     ]
    }
   ],
   "source": [
    "dict1={'Apple':20,'Banana':30,'Cherry':50}\n",
    "dict1[0]"
   ]
  },
  {
   "cell_type": "markdown",
   "id": "59fe84cb-4817-487a-b531-ce5287d1c65c",
   "metadata": {
    "jp-MarkdownHeadingCollapsed": true
   },
   "source": [
    "### *how to extract the values* ###\n",
    "- in dictionary we have the concept key:value pair\n",
    "- keys are very important\n",
    "- in order to get the values we need to take keys help"
   ]
  },
  {
   "cell_type": "code",
   "execution_count": 85,
   "id": "f452f397-77ae-4608-b69d-7d7f670e09fb",
   "metadata": {},
   "outputs": [
    {
     "data": {
      "text/plain": [
       "20"
      ]
     },
     "execution_count": 85,
     "metadata": {},
     "output_type": "execute_result"
    }
   ],
   "source": [
    "dict1={'Apple':20,'Banana':30,'Cherry':50}\n",
    "dict1['Apple']"
   ]
  },
  {
   "cell_type": "code",
   "execution_count": 89,
   "id": "25ce95b0-e171-49f6-9795-cc59f6e1f15f",
   "metadata": {},
   "outputs": [
    {
     "name": "stdout",
     "output_type": "stream",
     "text": [
      "Apple 20\n",
      "Banana 30\n",
      "Cherry 50\n"
     ]
    }
   ],
   "source": [
    "for i in dict1:\n",
    "    print(i,dict1[i])"
   ]
  },
  {
   "cell_type": "code",
   "execution_count": 91,
   "id": "16f5f783-1771-45e7-96b9-5add63dd27c6",
   "metadata": {},
   "outputs": [
    {
     "name": "stdout",
     "output_type": "stream",
     "text": [
      "Ramesh age is 20\n",
      "Suresh age is 25\n",
      "Satish age is 30\n"
     ]
    }
   ],
   "source": [
    "names={'Ramesh':20,'Suresh':25,'Satish':30}\n",
    "for i in names:\n",
    "    print(f'{i} age is {names[i]}')"
   ]
  },
  {
   "cell_type": "code",
   "execution_count": 105,
   "id": "316e2069-f5ee-4d82-8e93-1079367899a1",
   "metadata": {},
   "outputs": [
    {
     "data": {
      "text/plain": [
       "'Cherry'"
      ]
     },
     "execution_count": 105,
     "metadata": {},
     "output_type": "execute_result"
    }
   ],
   "source": [
    "d={'Fruits':['Apple','Banana','Cherry']}\n",
    "d['Fruits'][2]"
   ]
  },
  {
   "cell_type": "code",
   "execution_count": 107,
   "id": "56455057-aab2-4c86-8c84-fd5c7ba0c54d",
   "metadata": {},
   "outputs": [
    {
     "data": {
      "text/plain": [
       "'green apple'"
      ]
     },
     "execution_count": 107,
     "metadata": {},
     "output_type": "execute_result"
    }
   ],
   "source": [
    "d={'Fruits':{'Apple':['sweet','sour','green apple']}}\n",
    "d['Fruits']['Apple'][2]"
   ]
  },
  {
   "cell_type": "code",
   "execution_count": 121,
   "id": "5377ad05-80b6-44d0-b045-05516c4a618d",
   "metadata": {},
   "outputs": [
    {
     "data": {
      "text/plain": [
       "50"
      ]
     },
     "execution_count": 121,
     "metadata": {},
     "output_type": "execute_result"
    }
   ],
   "source": [
    "d={'Fruits':[{'cost':[50]}]}\n",
    "d['Fruits'][0]['cost'][0]"
   ]
  },
  {
   "cell_type": "code",
   "execution_count": 141,
   "id": "9f93a548-9dcc-496f-9fc7-4f4cb0ce7d27",
   "metadata": {},
   "outputs": [
    {
     "name": "stdout",
     "output_type": "stream",
     "text": [
      "None 40\n"
     ]
    }
   ],
   "source": [
    "d={'Fruits':['Apple'],'Cost':[{'1kg':[20,30,40],'2kg':None}]}\n",
    "d1=d['Cost'][0]['2kg']\n",
    "d2=d['Cost'][0]['1kg'][2]\n",
    "print(d1,d2)"
   ]
  },
  {
   "cell_type": "code",
   "execution_count": 2,
   "id": "5f1988e8-9e65-47f9-a88a-b182f6199655",
   "metadata": {},
   "outputs": [
    {
     "name": "stdout",
     "output_type": "stream",
     "text": [
      "Shambaji\n"
     ]
    }
   ],
   "source": [
    "d={'Fruites':{'Orange':{'Nagpur':{'MH':{'King':{'Shivaji':{'Shambaji'}}}}}}}\n",
    "x=d['Fruites']['Orange']['Nagpur']['MH']['King']['Shivaji']\n",
    "for i in x:\n",
    "    print(i)"
   ]
  },
  {
   "cell_type": "markdown",
   "id": "96d56a9a-33a8-42a5-b84c-101157d7b9e7",
   "metadata": {},
   "source": [
    "**how to create empty dictionary**\n",
    "- now focus on creating empty lists,strings,tuples and dictionary\n",
    "- for empty *list* **append operation** is used\n",
    "- for empty *string* **concatenation** is used\n",
    "- for empty *dictionary* **key:value pair is** used"
   ]
  },
  {
   "cell_type": "code",
   "execution_count": 162,
   "id": "bec65528-d5a5-4ff0-8aaf-87ec53b5bbed",
   "metadata": {},
   "outputs": [
    {
     "name": "stdout",
     "output_type": "stream",
     "text": [
      "[10, 20, 30, 40, 50]\n"
     ]
    }
   ],
   "source": [
    "# list\n",
    "l=[]\n",
    "for i in range(1,6):\n",
    "    l.append(10*i)\n",
    "print(l)"
   ]
  },
  {
   "cell_type": "code",
   "execution_count": 168,
   "id": "7d162147-1de6-4bc5-bea4-afe6ea6e608a",
   "metadata": {},
   "outputs": [
    {
     "data": {
      "text/plain": [
       "'python'"
      ]
     },
     "execution_count": 168,
     "metadata": {},
     "output_type": "execute_result"
    }
   ],
   "source": [
    "# string\n",
    "s=''\n",
    "s=s+'p'\n",
    "s=s+'y'\n",
    "s=s+'t'\n",
    "s=s+'h'\n",
    "s=s+'o'\n",
    "s=s+'n'\n",
    "s"
   ]
  },
  {
   "cell_type": "code",
   "execution_count": 170,
   "id": "bec8faee-cff6-438b-8c24-51826f778bd9",
   "metadata": {},
   "outputs": [
    {
     "data": {
      "text/plain": [
       "{'Ramesh': 20, 'Suresh': 25, 'Satish': 30}"
      ]
     },
     "execution_count": 170,
     "metadata": {},
     "output_type": "execute_result"
    }
   ],
   "source": [
    "# dictionary\n",
    "\n",
    "d={}\n",
    "d['Ramesh']=20\n",
    "d['Suresh']=25\n",
    "d['Satish']=30\n",
    "d"
   ]
  },
  {
   "cell_type": "markdown",
   "id": "bf66c5a9-3805-4569-83fc-da3fac43aa81",
   "metadata": {},
   "source": [
    "# *list to dictionary* #"
   ]
  },
  {
   "cell_type": "code",
   "execution_count": 174,
   "id": "7cf46e22-386a-4f47-b07d-ba909ccc1ff2",
   "metadata": {},
   "outputs": [
    {
     "data": {
      "text/plain": [
       "{'Ramesh': 20, 'Suresh': 25, 'Satish': 30}"
      ]
     },
     "execution_count": 174,
     "metadata": {},
     "output_type": "execute_result"
    }
   ],
   "source": [
    "names=['Ramesh','Suresh','Satish']\n",
    "age=[20,25,30]\n",
    "d={}\n",
    "for i,j in zip(names,age):\n",
    "    d[i]=j\n",
    "d"
   ]
  },
  {
   "cell_type": "code",
   "execution_count": 178,
   "id": "76010ba5-f4a0-42c4-bc5b-54b993f36d3b",
   "metadata": {},
   "outputs": [
    {
     "data": {
      "text/plain": [
       "{'Dharam': 'sholay', 'Sunny': 'gadar', 'Bobby': 'animal'}"
      ]
     },
     "execution_count": 178,
     "metadata": {},
     "output_type": "execute_result"
    }
   ],
   "source": [
    "names=['Dharam','Sunny','Bobby']\n",
    "work=['sholay','gadar','animal']\n",
    "dict1={}\n",
    "for i,j in zip(names,work):\n",
    "    dict1[i]=j\n",
    "dict1"
   ]
  },
  {
   "cell_type": "markdown",
   "id": "27a57b55-faf7-4dde-8c8f-00bf9e1486f9",
   "metadata": {
    "jp-MarkdownHeadingCollapsed": true
   },
   "source": [
    "# *dictionary compreshension* #\n",
    "- for list comprehension we write everything in list\n",
    "  - output for loop \n",
    "- for dictionary comprehension we write everything in dictionary\n",
    "  - key:vakue for loop"
   ]
  },
  {
   "cell_type": "code",
   "execution_count": 190,
   "id": "00765ba1-7a9b-4e15-8e91-f4b9f106bb47",
   "metadata": {},
   "outputs": [
    {
     "data": {
      "text/plain": [
       "{'Dharam': 'sholay', 'Sunny': 'gadar', 'Bobby': 'animal'}"
      ]
     },
     "execution_count": 190,
     "metadata": {},
     "output_type": "execute_result"
    }
   ],
   "source": [
    "names=['Dharam','Sunny','Bobby']\n",
    "work=['sholay','gadar','animal']\n",
    "{i:j for i,j in zip(names,work)}"
   ]
  },
  {
   "cell_type": "code",
   "execution_count": 192,
   "id": "949bf07b-71f0-4675-97f6-d474ced298de",
   "metadata": {},
   "outputs": [
    {
     "data": {
      "text/plain": [
       "{'Ramesh': 20, 'Suresh': 25, 'Satish': 30}"
      ]
     },
     "execution_count": 192,
     "metadata": {},
     "output_type": "execute_result"
    }
   ],
   "source": [
    "names=['Ramesh','Suresh','Satish']\n",
    "age=[20,25,30]\n",
    "{i:j for i,j in zip(names,age)}"
   ]
  },
  {
   "cell_type": "markdown",
   "id": "9a90f9e6-c4c0-431d-b02d-9cc966de5959",
   "metadata": {},
   "source": [
    "# *mutable-immutable* #\n",
    "- **list are mutable**\n",
    "- **dictionary are mutable**\n",
    "- **strings are immutable**\n",
    "- **tuples are immutable**"
   ]
  },
  {
   "cell_type": "code",
   "execution_count": 198,
   "id": "0d2b0804-6283-4759-b190-1b8da01636ff",
   "metadata": {},
   "outputs": [
    {
     "data": {
      "text/plain": [
       "{'Ramesh': 35, 'Suresh': 25, 'Satish': 30}"
      ]
     },
     "execution_count": 198,
     "metadata": {},
     "output_type": "execute_result"
    }
   ],
   "source": [
    "d={'Ramesh':20,'Suresh':25,'Satish':30}\n",
    "d['Ramesh']=35\n",
    "d"
   ]
  },
  {
   "cell_type": "markdown",
   "id": "43a9390d-f636-4016-b7d1-103690bf057a",
   "metadata": {},
   "source": [
    "# *methods* #"
   ]
  },
  {
   "cell_type": "code",
   "execution_count": 202,
   "id": "0846be5f-ec91-4382-b2a8-85d96e79a85b",
   "metadata": {},
   "outputs": [
    {
     "data": {
      "text/plain": [
       "['__class__',\n",
       " '__class_getitem__',\n",
       " '__contains__',\n",
       " '__delattr__',\n",
       " '__delitem__',\n",
       " '__dir__',\n",
       " '__doc__',\n",
       " '__eq__',\n",
       " '__format__',\n",
       " '__ge__',\n",
       " '__getattribute__',\n",
       " '__getitem__',\n",
       " '__getstate__',\n",
       " '__gt__',\n",
       " '__hash__',\n",
       " '__init__',\n",
       " '__init_subclass__',\n",
       " '__ior__',\n",
       " '__iter__',\n",
       " '__le__',\n",
       " '__len__',\n",
       " '__lt__',\n",
       " '__ne__',\n",
       " '__new__',\n",
       " '__or__',\n",
       " '__reduce__',\n",
       " '__reduce_ex__',\n",
       " '__repr__',\n",
       " '__reversed__',\n",
       " '__ror__',\n",
       " '__setattr__',\n",
       " '__setitem__',\n",
       " '__sizeof__',\n",
       " '__str__',\n",
       " '__subclasshook__',\n",
       " 'clear',\n",
       " 'copy',\n",
       " 'fromkeys',\n",
       " 'get',\n",
       " 'items',\n",
       " 'keys',\n",
       " 'pop',\n",
       " 'popitem',\n",
       " 'setdefault',\n",
       " 'update',\n",
       " 'values']"
      ]
     },
     "execution_count": 202,
     "metadata": {},
     "output_type": "execute_result"
    }
   ],
   "source": [
    "dir({})"
   ]
  },
  {
   "cell_type": "code",
   "execution_count": 108,
   "id": "ceaf81af-9c0b-4bd0-a79f-5128ea67caaa",
   "metadata": {},
   "outputs": [
    {
     "data": {
      "text/plain": [
       "['__add__',\n",
       " '__class__',\n",
       " '__class_getitem__',\n",
       " '__contains__',\n",
       " '__delattr__',\n",
       " '__delitem__',\n",
       " '__dir__',\n",
       " '__doc__',\n",
       " '__eq__',\n",
       " '__format__',\n",
       " '__ge__',\n",
       " '__getattribute__',\n",
       " '__getitem__',\n",
       " '__getstate__',\n",
       " '__gt__',\n",
       " '__hash__',\n",
       " '__iadd__',\n",
       " '__imul__',\n",
       " '__init__',\n",
       " '__init_subclass__',\n",
       " '__iter__',\n",
       " '__le__',\n",
       " '__len__',\n",
       " '__lt__',\n",
       " '__mul__',\n",
       " '__ne__',\n",
       " '__new__',\n",
       " '__reduce__',\n",
       " '__reduce_ex__',\n",
       " '__repr__',\n",
       " '__reversed__',\n",
       " '__rmul__',\n",
       " '__setattr__',\n",
       " '__setitem__',\n",
       " '__sizeof__',\n",
       " '__str__',\n",
       " '__subclasshook__',\n",
       " 'append',\n",
       " 'clear',\n",
       " 'copy',\n",
       " 'count',\n",
       " 'extend',\n",
       " 'index',\n",
       " 'insert',\n",
       " 'pop',\n",
       " 'remove',\n",
       " 'reverse',\n",
       " 'sort']"
      ]
     },
     "execution_count": 108,
     "metadata": {},
     "output_type": "execute_result"
    }
   ],
   "source": [
    "dir([])"
   ]
  },
  {
   "cell_type": "code",
   "execution_count": 6,
   "id": "cc49b52d-1c60-4dd8-8222-4b7a8226c206",
   "metadata": {},
   "outputs": [
    {
     "data": {
      "text/plain": [
       "{}"
      ]
     },
     "execution_count": 6,
     "metadata": {},
     "output_type": "execute_result"
    }
   ],
   "source": [
    "d={'Ramesh':20,'Suresh':25,'Satish':30}\n",
    "d.clear()\n",
    "d"
   ]
  },
  {
   "cell_type": "code",
   "execution_count": 8,
   "id": "8fbd256f-7bb6-4f06-8daa-1584cef299ea",
   "metadata": {},
   "outputs": [
    {
     "data": {
      "text/plain": [
       "{'Ramesh': 20, 'Suresh': 25, 'Satish': 30}"
      ]
     },
     "execution_count": 8,
     "metadata": {},
     "output_type": "execute_result"
    }
   ],
   "source": [
    "d1={'Ramesh':20,'Suresh':25,'Satish':30}\n",
    "d2=d1.copy()\n",
    "d2"
   ]
  },
  {
   "cell_type": "code",
   "execution_count": 14,
   "id": "e508c159-a5e2-40fe-8ecc-a2217ede6235",
   "metadata": {},
   "outputs": [
    {
     "data": {
      "text/plain": [
       "dict_keys(['Ramesh', 'Suresh', 'Satish'])"
      ]
     },
     "execution_count": 14,
     "metadata": {},
     "output_type": "execute_result"
    }
   ],
   "source": [
    "d2.keys()\n"
   ]
  },
  {
   "cell_type": "code",
   "execution_count": 18,
   "id": "287897d8-bdbd-47c4-ac8f-b4c5dec41e49",
   "metadata": {},
   "outputs": [
    {
     "data": {
      "text/plain": [
       "[20, 25, 30]"
      ]
     },
     "execution_count": 18,
     "metadata": {},
     "output_type": "execute_result"
    }
   ],
   "source": [
    "list(d2.values())"
   ]
  },
  {
   "cell_type": "code",
   "execution_count": 20,
   "id": "df5d481b-61e2-4b8c-a95c-a881c8480780",
   "metadata": {},
   "outputs": [
    {
     "data": {
      "text/plain": [
       "['Ramesh', 'Suresh', 'Satish']"
      ]
     },
     "execution_count": 20,
     "metadata": {},
     "output_type": "execute_result"
    }
   ],
   "source": [
    "list(d2.keys())"
   ]
  },
  {
   "cell_type": "code",
   "execution_count": 3,
   "id": "0d607228-0e26-46bd-836b-adf22fddfbcf",
   "metadata": {},
   "outputs": [
    {
     "data": {
      "text/plain": [
       "dict_items([('Ramesh', 20), ('Suresh', 25), ('Satish', 30)])"
      ]
     },
     "execution_count": 3,
     "metadata": {},
     "output_type": "execute_result"
    }
   ],
   "source": [
    "d={'Ramesh':20,'Suresh':25,'Satish':30}\n",
    "d.items()"
   ]
  },
  {
   "cell_type": "markdown",
   "id": "1d05ac23-80e5-461b-bb86-56bef6a21bc6",
   "metadata": {},
   "source": [
    "---\n",
    "- *dictionary object are not of list type*\n",
    "- *if you get confuse try to apply list methods on it*"
   ]
  },
  {
   "cell_type": "markdown",
   "id": "e13e6f4e-0130-4b79-b575-610055cd74fc",
   "metadata": {},
   "source": [
    "### *convert dictionary to list* ###\n",
    "- *in order to convert dictionary to list*\n",
    "- *first we need to **separate** keys and values*\n",
    "- *then apply list type casting*"
   ]
  },
  {
   "cell_type": "code",
   "execution_count": 10,
   "id": "4dcf6cb1-e649-425e-a69e-d3c6a3c24b41",
   "metadata": {},
   "outputs": [
    {
     "data": {
      "text/plain": [
       "['Ramesh', 'Suresh', 'Satish']"
      ]
     },
     "execution_count": 10,
     "metadata": {},
     "output_type": "execute_result"
    }
   ],
   "source": [
    "d={'Ramesh':20,'Suresh':25,'Satish':30}\n",
    "keys=d.keys()\n",
    "key_list=list(keys)\n",
    "key_list"
   ]
  },
  {
   "cell_type": "code",
   "execution_count": 12,
   "id": "ae71ea8b-24a6-44bc-b545-5200b6098761",
   "metadata": {},
   "outputs": [
    {
     "data": {
      "text/plain": [
       "[20, 25, 30]"
      ]
     },
     "execution_count": 12,
     "metadata": {},
     "output_type": "execute_result"
    }
   ],
   "source": [
    "d={'Ramesh':20,'Suresh':25,'Satish':30}\n",
    "values=d.values()\n",
    "value_list=list(values)\n",
    "value_list"
   ]
  },
  {
   "cell_type": "code",
   "execution_count": 14,
   "id": "b898d3a0-6dd7-483a-b95b-6201a18881d3",
   "metadata": {},
   "outputs": [
    {
     "data": {
      "text/plain": [
       "[('Ramesh', 20), ('Suresh', 25), ('Satish', 30)]"
      ]
     },
     "execution_count": 14,
     "metadata": {},
     "output_type": "execute_result"
    }
   ],
   "source": [
    "d={'Ramesh':20,'Suresh':25,'Satish':30}\n",
    "items=d.items()\n",
    "item_list=list(items)\n",
    "item_list"
   ]
  },
  {
   "cell_type": "code",
   "execution_count": 16,
   "id": "974ce016-ed2c-4be2-8418-592e6c23592b",
   "metadata": {},
   "outputs": [
    {
     "data": {
      "text/plain": [
       "(list, dict_keys)"
      ]
     },
     "execution_count": 16,
     "metadata": {},
     "output_type": "execute_result"
    }
   ],
   "source": [
    "type(key_list),type(keys)"
   ]
  },
  {
   "cell_type": "code",
   "execution_count": 18,
   "id": "a30a458f-30ce-462c-9e11-fc68b6f4fae8",
   "metadata": {},
   "outputs": [
    {
     "data": {
      "text/plain": [
       "1"
      ]
     },
     "execution_count": 18,
     "metadata": {},
     "output_type": "execute_result"
    }
   ],
   "source": [
    "key_list.count('Ramesh')"
   ]
  },
  {
   "cell_type": "code",
   "execution_count": 106,
   "id": "a4b662db-4e86-413b-9603-05a857af4667",
   "metadata": {},
   "outputs": [
    {
     "data": {
      "text/plain": [
       "{'fname': ['virat', 'rohit', 'ms'],\n",
       " 'sname': ['kohli', 'sharma', 'dhoni'],\n",
       " 'cname': ['rcb', 'mi', 'csk']}"
      ]
     },
     "execution_count": 106,
     "metadata": {},
     "output_type": "execute_result"
    }
   ],
   "source": [
    "fname=[]\n",
    "sname=[]\n",
    "cname=[]\n",
    "input1='virat.kohli@rcb.com,rohit.sharma@mi.com,ms.dhoni@csk.com'\n",
    "l1=input1.split(',')\n",
    "for i in range(3):\n",
    "    str1=l1[i]\n",
    "    i1=str1.index('.')\n",
    "    f_name=str1[:i1]\n",
    "    fname.append(f_name)\n",
    "    i2=str1.index('@')\n",
    "    s_name=str1[i1+1:i2]\n",
    "    sname.append(s_name)\n",
    "    i3=str1.index('.',i1+1)\n",
    "    c_name=str1[i2+1:i3]\n",
    "    cname.append(c_name)\n",
    "d={}\n",
    "d['fname']=fname\n",
    "d['sname']=sname\n",
    "d['cname']=cname\n",
    "d"
   ]
  },
  {
   "cell_type": "code",
   "execution_count": 104,
   "id": "e60ef295-2f91-4305-93d6-f766b327bb1e",
   "metadata": {},
   "outputs": [
    {
     "data": {
      "text/plain": [
       "56"
      ]
     },
     "execution_count": 104,
     "metadata": {},
     "output_type": "execute_result"
    }
   ],
   "source": [
    "len(input1)"
   ]
  },
  {
   "cell_type": "code",
   "execution_count": 62,
   "id": "88b3e3f9-2be4-4a43-a291-a2f3e7d9b37c",
   "metadata": {},
   "outputs": [
    {
     "data": {
      "text/plain": [
       "{'fname': ['virat', 'rohit', 'ms'],\n",
       " 'sname': ['kohli', 'sharma', 'dhoni'],\n",
       " 'cname': ['rcb', 'mi', 'csk']}"
      ]
     },
     "execution_count": 62,
     "metadata": {},
     "output_type": "execute_result"
    }
   ],
   "source": [
    "fname=[]\n",
    "sname=[]\n",
    "cname=[]\n",
    "input1='virat.kohli@rcb.com,rohit.sharma@mi.com,ms.dhoni@csk.com'\n",
    "l1=input1.split(',')\n",
    "for i in l1:\n",
    "    i1=i.index('.')\n",
    "    f_name=i[:i1]\n",
    "    fname.append(f_name)\n",
    "    i2=i.index('@')\n",
    "    s_name=i[i1+1:i2]\n",
    "    sname.append(s_name)\n",
    "    i3=i.index('.',i2)\n",
    "    c_name=i[i2+1:i3]\n",
    "    cname.append(c_name)\n",
    "d={}\n",
    "d['fname']=fname\n",
    "d['sname']=sname\n",
    "d['cname']=cname\n",
    "d"
   ]
  },
  {
   "cell_type": "code",
   "execution_count": 52,
   "id": "9f7665ce-b011-42de-966c-4ff6752c4b5b",
   "metadata": {},
   "outputs": [
    {
     "name": "stdout",
     "output_type": "stream",
     "text": [
      "{'fname': ['virat', 'rohit', 'ms'], 'sname': ['kohli', 'sharma', 'dhoni'], 'cname': ['rcb', 'mi', 'csk']}\n"
     ]
    }
   ],
   "source": [
    "fname = []\n",
    "sname = []\n",
    "cname = []\n",
    "\n",
    "input1 = 'virat.kohli@rcb.com,rohit.sharma@mi.com,ms.dhoni@csk.com'\n",
    "l1 = input1.split(',')\n",
    "\n",
    "for i in l1:\n",
    "    i1 = i.find('.')  # Find the first dot (.)\n",
    "    i2 = i.find('@')   # Find the @ symbol\n",
    "    i3 = i.find('.', i2)  # Find the next dot after @\n",
    "\n",
    "    f_name = i[:i1]  # Extract first name\n",
    "    s_name = i[i1+1:i2]  # Extract second name\n",
    "    c_name = i[i2+1:i3]  # Extract company name\n",
    "\n",
    "    fname.append(f_name)\n",
    "    sname.append(s_name)\n",
    "    cname.append(c_name)\n",
    "\n",
    "d = {'fname': fname, 'sname': sname, 'cname': cname}\n",
    "print(d)\n"
   ]
  },
  {
   "cell_type": "code",
   "execution_count": 66,
   "id": "a4850ea3-c0ff-47a9-8d0c-62f0f9b710cf",
   "metadata": {},
   "outputs": [
    {
     "data": {
      "text/plain": [
       "20"
      ]
     },
     "execution_count": 66,
     "metadata": {},
     "output_type": "execute_result"
    }
   ],
   "source": [
    "d={'Ramesh':20,'Suresh':25,'Satish':30}\n",
    "d.pop('Ramesh')"
   ]
  },
  {
   "cell_type": "code",
   "execution_count": 70,
   "id": "2329d67e-095c-4e6b-93cf-f58f9ea00aec",
   "metadata": {},
   "outputs": [
    {
     "data": {
      "text/plain": [
       "{'Suresh': 25, 'Satish': 30}"
      ]
     },
     "execution_count": 70,
     "metadata": {},
     "output_type": "execute_result"
    }
   ],
   "source": [
    "d"
   ]
  },
  {
   "cell_type": "markdown",
   "id": "b14dcaee-a8a0-44fe-807a-f63d4c3a5f00",
   "metadata": {},
   "source": [
    "- **pop** in dictionary similarly **remove** in list"
   ]
  },
  {
   "cell_type": "code",
   "execution_count": 73,
   "id": "40db6a62-4ae4-43c3-9de6-27313e620cdb",
   "metadata": {},
   "outputs": [
    {
     "data": {
      "text/plain": [
       "('Satish', 30)"
      ]
     },
     "execution_count": 73,
     "metadata": {},
     "output_type": "execute_result"
    }
   ],
   "source": [
    "d={'Ramesh':20,'Suresh':25,'Satish':30}\n",
    "d.popitem()"
   ]
  },
  {
   "cell_type": "code",
   "execution_count": 75,
   "id": "3a1b13a4-9ed9-4728-b2c9-066f78fead81",
   "metadata": {},
   "outputs": [
    {
     "data": {
      "text/plain": [
       "{'Ramesh': 20, 'Suresh': 25}"
      ]
     },
     "execution_count": 75,
     "metadata": {},
     "output_type": "execute_result"
    }
   ],
   "source": [
    "d"
   ]
  },
  {
   "cell_type": "markdown",
   "id": "137fcb9e-4a08-4140-b373-c3f40d4fe848",
   "metadata": {},
   "source": [
    "- **popitem** in dictionary similarly **pop** in list"
   ]
  },
  {
   "cell_type": "markdown",
   "id": "c55de99d-fee0-48e0-a94d-ce99495a324a",
   "metadata": {},
   "source": [
    "**get**"
   ]
  },
  {
   "cell_type": "code",
   "execution_count": 81,
   "id": "38132f90-dba6-4908-8909-18c8b6bde5f3",
   "metadata": {},
   "outputs": [
    {
     "data": {
      "text/plain": [
       "20"
      ]
     },
     "execution_count": 81,
     "metadata": {},
     "output_type": "execute_result"
    }
   ],
   "source": [
    "d.get('Ramesh')"
   ]
  },
  {
   "cell_type": "code",
   "execution_count": 87,
   "id": "6ccc5718-0d08-4021-9888-5ebfff12f652",
   "metadata": {},
   "outputs": [
    {
     "data": {
      "text/plain": [
       "0"
      ]
     },
     "execution_count": 87,
     "metadata": {},
     "output_type": "execute_result"
    }
   ],
   "source": [
    "d.get('Ram',0)"
   ]
  },
  {
   "cell_type": "code",
   "execution_count": 83,
   "id": "1f14b5b6-afa5-4881-892c-cb275c882bb7",
   "metadata": {},
   "outputs": [
    {
     "data": {
      "text/plain": [
       "{'Ramesh': 20, 'Suresh': 25}"
      ]
     },
     "execution_count": 83,
     "metadata": {},
     "output_type": "execute_result"
    }
   ],
   "source": [
    "d"
   ]
  },
  {
   "cell_type": "code",
   "execution_count": 91,
   "id": "9077dfb8-29f3-4d66-bf74-a14df81f9099",
   "metadata": {},
   "outputs": [
    {
     "data": {
      "text/plain": [
       "20"
      ]
     },
     "execution_count": 91,
     "metadata": {},
     "output_type": "execute_result"
    }
   ],
   "source": [
    "d['Ramesh'] # key as an index"
   ]
  },
  {
   "cell_type": "markdown",
   "id": "b1e048b9-b9d9-45ef-898d-9cce8e45c81a",
   "metadata": {},
   "source": [
    "**update**\n",
    "- *update* is similar to *list extend*\n",
    "- take 2 dictionary and apply update "
   ]
  },
  {
   "cell_type": "code",
   "execution_count": 94,
   "id": "07e746e9-f749-4bc6-b6a3-0e2cbf6fa381",
   "metadata": {},
   "outputs": [],
   "source": [
    "d1={'Suresh': 25, 'Satish': 30}\n",
    "d2={'Ramesh': 25, 'Satya': 30}\n",
    "d1.update(d2)"
   ]
  },
  {
   "cell_type": "code",
   "execution_count": 96,
   "id": "d79060c5-dcb2-4354-8052-ef1762c2b6cc",
   "metadata": {},
   "outputs": [
    {
     "data": {
      "text/plain": [
       "{'Suresh': 25, 'Satish': 30, 'Ramesh': 25, 'Satya': 30}"
      ]
     },
     "execution_count": 96,
     "metadata": {},
     "output_type": "execute_result"
    }
   ],
   "source": [
    "d1"
   ]
  },
  {
   "cell_type": "code",
   "execution_count": 98,
   "id": "dbfa8699-6fe2-4789-8aa2-cef49e8f06b7",
   "metadata": {},
   "outputs": [
    {
     "data": {
      "text/plain": [
       "[10, 20, 30, 2, 4, 6]"
      ]
     },
     "execution_count": 98,
     "metadata": {},
     "output_type": "execute_result"
    }
   ],
   "source": [
    "l1=[10,20,30]\n",
    "l2=[2,4,6]\n",
    "l1.extend(l2)\n",
    "l1"
   ]
  },
  {
   "cell_type": "markdown",
   "id": "336274d2-9e38-4420-a3ab-10f0a7d15fae",
   "metadata": {},
   "source": [
    "**set default**\n",
    "- suppose an already existing dictionary available\n",
    "- we can update the dictionary with new *key : value* pair\n",
    "- it is similar to *list append*"
   ]
  },
  {
   "cell_type": "code",
   "execution_count": 117,
   "id": "d733608e-89e6-4952-85d4-1d73fdaa41cf",
   "metadata": {},
   "outputs": [
    {
     "data": {
      "text/plain": [
       "{'Suresh': 25, 'Satish': 30, 'Ramesh': None, 'Mahesh': 35}"
      ]
     },
     "execution_count": 117,
     "metadata": {},
     "output_type": "execute_result"
    }
   ],
   "source": [
    "d1={'Suresh': 25, 'Satish': 30}\n",
    "d1.setdefault('Ramesh')\n",
    "d1.setdefault('Mahesh',35)\n",
    "d1"
   ]
  },
  {
   "cell_type": "markdown",
   "id": "719b2692-65da-4fd0-8a28-34c72ae267e3",
   "metadata": {},
   "source": [
    "---\n",
    "- always remember dictionary is a key:valu pair concept\n",
    "- it never involves index operations\n",
    "- thats why we dont have any index or find methods\n",
    "- we have get method to extract value from keys"
   ]
  },
  {
   "cell_type": "markdown",
   "id": "1a28f7d7-d244-4e83-8ac0-b1d3b48bb1f8",
   "metadata": {},
   "source": [
    "**fromkeys**\n",
    "- it creates a dictionary with different keys but same value\n",
    "- fromkeys will take an argument **iterator**\n",
    "- try to provide iterator(for ex string,tuple,list)"
   ]
  },
  {
   "cell_type": "code",
   "execution_count": 125,
   "id": "612045ba-d876-4599-85a2-50b17ae44aa2",
   "metadata": {},
   "outputs": [
    {
     "data": {
      "text/plain": [
       "{10: None, 20: None, 30: None}"
      ]
     },
     "execution_count": 125,
     "metadata": {},
     "output_type": "execute_result"
    }
   ],
   "source": [
    "d={}\n",
    "d.fromkeys([10,20,30])"
   ]
  },
  {
   "cell_type": "code",
   "execution_count": 127,
   "id": "3073d4b5-8965-49d1-830b-c0208f4aa36a",
   "metadata": {},
   "outputs": [
    {
     "data": {
      "text/plain": [
       "{10: 50, 20: 50, 30: 50}"
      ]
     },
     "execution_count": 127,
     "metadata": {},
     "output_type": "execute_result"
    }
   ],
   "source": [
    "d={}\n",
    "d.fromkeys([10,20,30],50)"
   ]
  },
  {
   "cell_type": "code",
   "execution_count": 130,
   "id": "a6e8dcd8-5ca8-46fd-a2c4-b5b540fa072c",
   "metadata": {},
   "outputs": [
    {
     "data": {
      "text/plain": [
       "{'p': None, 'y': None, 't': None, 'h': None, 'o': None, 'n': None}"
      ]
     },
     "execution_count": 130,
     "metadata": {},
     "output_type": "execute_result"
    }
   ],
   "source": [
    "d={}\n",
    "d.fromkeys('python')"
   ]
  },
  {
   "cell_type": "markdown",
   "id": "88b5bade-b232-4cd7-9045-d6448b33e307",
   "metadata": {},
   "source": [
    "- *dictionary* does not have **count**\n",
    "  - because *dictionary* does not allow **duplicates**\n",
    "- *string* has **find** but *list* does not have"
   ]
  },
  {
   "cell_type": "code",
   "execution_count": null,
   "id": "ee7e32d0-4996-4638-870c-ebf6c7a3b933",
   "metadata": {},
   "outputs": [],
   "source": []
  }
 ],
 "metadata": {
  "kernelspec": {
   "display_name": "Python [conda env:base] *",
   "language": "python",
   "name": "conda-base-py"
  },
  "language_info": {
   "codemirror_mode": {
    "name": "ipython",
    "version": 3
   },
   "file_extension": ".py",
   "mimetype": "text/x-python",
   "name": "python",
   "nbconvert_exporter": "python",
   "pygments_lexer": "ipython3",
   "version": "3.12.7"
  }
 },
 "nbformat": 4,
 "nbformat_minor": 5
}
