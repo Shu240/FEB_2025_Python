{
 "cells": [
  {
   "cell_type": "markdown",
   "id": "d133af83-5e65-4e8a-b260-e9a222269f39",
   "metadata": {},
   "source": [
    "**Basic Python**\n",
    "- Variables\n",
    "- Data types\n",
    "- type conversion\n",
    "- print\n",
    "- eval input\n",
    "- basic codes\n",
    "- packages\n",
    "- conditionals\n",
    "- try and except\n",
    "- function\n",
    "- loop"
   ]
  },
  {
   "cell_type": "markdown",
   "id": "3f01a2f1-40b8-4c3e-894d-9bb0cb6f84b8",
   "metadata": {},
   "source": [
    "**Intermediate Python**\n",
    "- String\n",
    "- Lists\n",
    "- List comprehensions\n",
    "- Tuple\n",
    "- Sets\n",
    "- Dictionary\n",
    "- Lambda Function\n",
    "- File handling"
   ]
  },
  {
   "cell_type": "markdown",
   "id": "80045def-482a-4592-815a-52d9fd7183a2",
   "metadata": {},
   "source": [
    "- basic Representations\n",
    "- Inbuilt functions\n",
    "  - print\n",
    "  - type\n",
    "  - length\n",
    "  - sum\n",
    "  - max\n",
    "  - min\n",
    "  - sorted\n",
    "  - reversed\n",
    "- concatenation\n",
    "- indexing\n",
    "- mutable or immutable concept\n",
    "- slice\n",
    "- methods\n"
   ]
  },
  {
   "cell_type": "markdown",
   "id": "912099d6-c8fb-4199-b7e5-6ef7bc3a6945",
   "metadata": {},
   "source": [
    "### Basic Representation ###"
   ]
  },
  {
   "cell_type": "code",
   "execution_count": 7,
   "id": "0a280a54-8517-4950-b690-a0d21ac0a35a",
   "metadata": {},
   "outputs": [
    {
     "data": {
      "text/plain": [
       "'python'"
      ]
     },
     "execution_count": 7,
     "metadata": {},
     "output_type": "execute_result"
    }
   ],
   "source": [
    "name='python'\n",
    "name"
   ]
  },
  {
   "cell_type": "code",
   "execution_count": 9,
   "id": "2f07e7a7-eb86-40ea-b472-68a0d622a479",
   "metadata": {},
   "outputs": [
    {
     "name": "stdout",
     "output_type": "stream",
     "text": [
      "python\n"
     ]
    }
   ],
   "source": [
    "print(name)"
   ]
  },
  {
   "cell_type": "code",
   "execution_count": 29,
   "id": "6cdd5a7f-022b-4c26-a332-bfaec83c8d94",
   "metadata": {},
   "outputs": [
    {
     "data": {
      "text/plain": [
       "'python'"
      ]
     },
     "execution_count": 29,
     "metadata": {},
     "output_type": "execute_result"
    }
   ],
   "source": [
    "name=\"python\"\n",
    "name"
   ]
  },
  {
   "cell_type": "markdown",
   "id": "127e08dd-f077-497b-b664-5ca8b217388b",
   "metadata": {},
   "source": [
    "- Python by default gives outpu in **single codes**\n",
    "- when we print the output display without the quotes"
   ]
  },
  {
   "cell_type": "code",
   "execution_count": 16,
   "id": "9222677a-cbc3-49d0-bf7a-7f2c4c11f14a",
   "metadata": {},
   "outputs": [
    {
     "name": "stdout",
     "output_type": "stream",
     "text": [
      "I love 'python'\n"
     ]
    }
   ],
   "source": [
    "str=\"I love 'python'\"\n",
    "print(str)"
   ]
  },
  {
   "cell_type": "code",
   "execution_count": 18,
   "id": "86523e2a-fb27-4e3a-a93a-b6d3d6c526b5",
   "metadata": {},
   "outputs": [
    {
     "name": "stdout",
     "output_type": "stream",
     "text": [
      "I love \"python\"\n"
     ]
    }
   ],
   "source": [
    "str1='I love \"python\"'\n",
    "print(str1)"
   ]
  },
  {
   "cell_type": "markdown",
   "id": "2f4e2e0c-dd1a-4346-94c4-5d312657974b",
   "metadata": {},
   "source": [
    "**Doc string**\n",
    "- Triple quotes also called as doc string\n",
    "- triple quotes means user is trying to convey some information"
   ]
  },
  {
   "cell_type": "code",
   "execution_count": 21,
   "id": "de443816-d4c7-4738-b63b-c5f33a938d71",
   "metadata": {},
   "outputs": [
    {
     "data": {
      "text/plain": [
       "str"
      ]
     },
     "execution_count": 21,
     "metadata": {},
     "output_type": "execute_result"
    }
   ],
   "source": [
    "type(name)"
   ]
  },
  {
   "cell_type": "code",
   "execution_count": 23,
   "id": "bc72bfbe-122d-4fe4-8089-dd681a22746a",
   "metadata": {},
   "outputs": [
    {
     "data": {
      "text/plain": [
       "8"
      ]
     },
     "execution_count": 23,
     "metadata": {},
     "output_type": "execute_result"
    }
   ],
   "source": [
    "len(name)"
   ]
  },
  {
   "cell_type": "code",
   "execution_count": 25,
   "id": "6d32ecaf-8388-4d99-9162-208b50cacbf3",
   "metadata": {},
   "outputs": [
    {
     "data": {
      "text/plain": [
       "'y'"
      ]
     },
     "execution_count": 25,
     "metadata": {},
     "output_type": "execute_result"
    }
   ],
   "source": [
    "max(name)"
   ]
  },
  {
   "cell_type": "code",
   "execution_count": 31,
   "id": "d72847a1-657c-42ef-9fd8-b2805eb68a1c",
   "metadata": {},
   "outputs": [
    {
     "data": {
      "text/plain": [
       "'h'"
      ]
     },
     "execution_count": 31,
     "metadata": {},
     "output_type": "execute_result"
    }
   ],
   "source": [
    "min(name)"
   ]
  },
  {
   "cell_type": "code",
   "execution_count": 51,
   "id": "bffcbe02-08ab-44d9-9611-ab545f8fe16b",
   "metadata": {},
   "outputs": [
    {
     "data": {
      "text/plain": [
       "['h', 'n', 'o', 'p', 't', 'y']"
      ]
     },
     "execution_count": 51,
     "metadata": {},
     "output_type": "execute_result"
    }
   ],
   "source": [
    "sorted(name)"
   ]
  },
  {
   "cell_type": "code",
   "execution_count": 35,
   "id": "7561f0b6-a00c-410e-9f19-63f1ceca50ba",
   "metadata": {},
   "outputs": [
    {
     "data": {
      "text/plain": [
       "<reversed at 0x2a3002311b0>"
      ]
     },
     "execution_count": 35,
     "metadata": {},
     "output_type": "execute_result"
    }
   ],
   "source": [
    "reversed(name)"
   ]
  },
  {
   "cell_type": "code",
   "execution_count": 37,
   "id": "47cfeb04-1a88-4ad0-9500-f1f37855dd7e",
   "metadata": {},
   "outputs": [
    {
     "name": "stdout",
     "output_type": "stream",
     "text": [
      "<reversed object at 0x000002A3017CDA50>\n"
     ]
    }
   ],
   "source": [
    "print(reversed(name))"
   ]
  },
  {
   "cell_type": "code",
   "execution_count": 41,
   "id": "e92d7554-8ba3-41ee-b5b1-b8ebf4d48b75",
   "metadata": {},
   "outputs": [
    {
     "data": {
      "text/plain": [
       "<reversed at 0x2a30205d3c0>"
      ]
     },
     "execution_count": 41,
     "metadata": {},
     "output_type": "execute_result"
    }
   ],
   "source": [
    "reversed(\"python\")"
   ]
  },
  {
   "cell_type": "code",
   "execution_count": 49,
   "id": "c6adeb34-348a-482f-a4ea-38875d6fa54d",
   "metadata": {},
   "outputs": [
    {
     "ename": "TypeError",
     "evalue": "unsupported operand type(s) for +: 'int' and 'str'",
     "output_type": "error",
     "traceback": [
      "\u001b[1;31m---------------------------------------------------------------------------\u001b[0m",
      "\u001b[1;31mTypeError\u001b[0m                                 Traceback (most recent call last)",
      "Cell \u001b[1;32mIn[49], line 1\u001b[0m\n\u001b[1;32m----> 1\u001b[0m \u001b[38;5;28msum\u001b[39m(name)\n",
      "\u001b[1;31mTypeError\u001b[0m: unsupported operand type(s) for +: 'int' and 'str'"
     ]
    }
   ],
   "source": [
    "sum(name)"
   ]
  },
  {
   "cell_type": "code",
   "execution_count": 53,
   "id": "713553e8-423b-4850-8ae2-6a36de59798d",
   "metadata": {},
   "outputs": [
    {
     "data": {
      "text/plain": [
       "['y', 't', 'p', 'o', 'n', 'h']"
      ]
     },
     "execution_count": 53,
     "metadata": {},
     "output_type": "execute_result"
    }
   ],
   "source": [
    "sorted(name,reverse=True)"
   ]
  },
  {
   "cell_type": "markdown",
   "id": "8fb54bc3-64b6-45aa-96f4-1fb153bb6621",
   "metadata": {},
   "source": [
    "- **iterable**: anything thet can be print using loop\n",
    "- **/**"
   ]
  },
  {
   "cell_type": "code",
   "execution_count": 57,
   "id": "7426ada4-c9ca-462e-8d32-dce35c02f36c",
   "metadata": {},
   "outputs": [
    {
     "name": "stdout",
     "output_type": "stream",
     "text": [
      "30\n"
     ]
    }
   ],
   "source": [
    "def add(a,b):\n",
    "    print(a+b)\n",
    "add(10,20)"
   ]
  },
  {
   "cell_type": "code",
   "execution_count": 59,
   "id": "f0863172-6e7b-4625-8701-d5bb10fe9343",
   "metadata": {},
   "outputs": [
    {
     "name": "stdout",
     "output_type": "stream",
     "text": [
      "30\n"
     ]
    }
   ],
   "source": [
    "def add(a,b):\n",
    "    print(a+b)\n",
    "add(a=10,b=20)"
   ]
  },
  {
   "cell_type": "code",
   "execution_count": 61,
   "id": "d03c775a-70d5-4df3-b143-770e6270504f",
   "metadata": {},
   "outputs": [
    {
     "ename": "TypeError",
     "evalue": "add() got some positional-only arguments passed as keyword arguments: 'a'",
     "output_type": "error",
     "traceback": [
      "\u001b[1;31m---------------------------------------------------------------------------\u001b[0m",
      "\u001b[1;31mTypeError\u001b[0m                                 Traceback (most recent call last)",
      "Cell \u001b[1;32mIn[61], line 3\u001b[0m\n\u001b[0;32m      1\u001b[0m \u001b[38;5;28;01mdef\u001b[39;00m \u001b[38;5;21madd\u001b[39m(a,\u001b[38;5;241m/\u001b[39m,b):\n\u001b[0;32m      2\u001b[0m     \u001b[38;5;28mprint\u001b[39m(a\u001b[38;5;241m+\u001b[39mb)\n\u001b[1;32m----> 3\u001b[0m add(a\u001b[38;5;241m=\u001b[39m\u001b[38;5;241m10\u001b[39m,b\u001b[38;5;241m=\u001b[39m\u001b[38;5;241m20\u001b[39m)\n",
      "\u001b[1;31mTypeError\u001b[0m: add() got some positional-only arguments passed as keyword arguments: 'a'"
     ]
    }
   ],
   "source": [
    "def add(a,/,b):\n",
    "    print(a+b)\n",
    "add(a=10,b=20)"
   ]
  },
  {
   "cell_type": "code",
   "execution_count": 63,
   "id": "3b0f31b2-75db-4b5d-8b0b-cae4352b6b8e",
   "metadata": {},
   "outputs": [
    {
     "ename": "SyntaxError",
     "evalue": "positional argument follows keyword argument (2616646309.py, line 3)",
     "output_type": "error",
     "traceback": [
      "\u001b[1;36m  Cell \u001b[1;32mIn[63], line 3\u001b[1;36m\u001b[0m\n\u001b[1;33m    add(a=10,b)\u001b[0m\n\u001b[1;37m              ^\u001b[0m\n\u001b[1;31mSyntaxError\u001b[0m\u001b[1;31m:\u001b[0m positional argument follows keyword argument\n"
     ]
    }
   ],
   "source": [
    "def add(a,/,b):\n",
    "    print(a+b)\n",
    "add(a=10,b)"
   ]
  },
  {
   "cell_type": "code",
   "execution_count": 65,
   "id": "9891b734-022e-455f-9aa4-441548833089",
   "metadata": {},
   "outputs": [
    {
     "name": "stdout",
     "output_type": "stream",
     "text": [
      "30\n"
     ]
    }
   ],
   "source": [
    "def add(a,/,b):\n",
    "    print(a+b)\n",
    "add(10,b=20)"
   ]
  },
  {
   "cell_type": "code",
   "execution_count": 67,
   "id": "2bf80104-c853-4338-a527-139aa784f70c",
   "metadata": {},
   "outputs": [
    {
     "name": "stdout",
     "output_type": "stream",
     "text": [
      "30\n"
     ]
    }
   ],
   "source": [
    "def add(a,/,b):\n",
    "    print(a+b)\n",
    "add(10,20)"
   ]
  },
  {
   "cell_type": "markdown",
   "id": "026e12ff-0606-429e-8e55-83d34b93bedd",
   "metadata": {},
   "source": [
    "**Note**\n",
    "- slash before dont use argument name\n",
    "- slash after you can use argument anme, that is our wish\n",
    "- star(*) indictaes no need to mantain the order of the arguments\n",
    "  - **(*) indicates provide the argument name after the star**\n"
   ]
  },
  {
   "cell_type": "code",
   "execution_count": 71,
   "id": "7e33de79-0488-465f-a37d-5b46ef847c38",
   "metadata": {},
   "outputs": [
    {
     "name": "stdout",
     "output_type": "stream",
     "text": [
      "60\n"
     ]
    }
   ],
   "source": [
    "def add1(a,/,*,b,c):\n",
    "    print(a+b+c)\n",
    "add1(10,b=20,c=30)"
   ]
  },
  {
   "cell_type": "code",
   "execution_count": 73,
   "id": "2997ae7d-920f-4702-ba00-564f4be44947",
   "metadata": {},
   "outputs": [
    {
     "name": "stdout",
     "output_type": "stream",
     "text": [
      "60\n"
     ]
    }
   ],
   "source": [
    "def add1(a,/,*,b,c):\n",
    "    print(a+b+c)\n",
    "add1(10,c=20,b=30)"
   ]
  },
  {
   "cell_type": "code",
   "execution_count": 75,
   "id": "1a8d03da-716c-4973-8383-d4bcdceda5eb",
   "metadata": {},
   "outputs": [
    {
     "ename": "TypeError",
     "evalue": "sorted expected 1 argument, got 0",
     "output_type": "error",
     "traceback": [
      "\u001b[1;31m---------------------------------------------------------------------------\u001b[0m",
      "\u001b[1;31mTypeError\u001b[0m                                 Traceback (most recent call last)",
      "Cell \u001b[1;32mIn[75], line 1\u001b[0m\n\u001b[1;32m----> 1\u001b[0m \u001b[38;5;28msorted\u001b[39m(iterable\u001b[38;5;241m=\u001b[39m\u001b[38;5;124m'\u001b[39m\u001b[38;5;124mpython\u001b[39m\u001b[38;5;124m'\u001b[39m)\n",
      "\u001b[1;31mTypeError\u001b[0m: sorted expected 1 argument, got 0"
     ]
    }
   ],
   "source": [
    "sorted(iterable='python')"
   ]
  },
  {
   "cell_type": "code",
   "execution_count": 77,
   "id": "8ce805fe-e741-4ac6-bc3a-c27987bbc21a",
   "metadata": {},
   "outputs": [
    {
     "ename": "TypeError",
     "evalue": "sorted expected 1 argument, got 0",
     "output_type": "error",
     "traceback": [
      "\u001b[1;31m---------------------------------------------------------------------------\u001b[0m",
      "\u001b[1;31mTypeError\u001b[0m                                 Traceback (most recent call last)",
      "Cell \u001b[1;32mIn[77], line 1\u001b[0m\n\u001b[1;32m----> 1\u001b[0m \u001b[38;5;28msorted\u001b[39m(iterable\u001b[38;5;241m=\u001b[39m\u001b[38;5;124m'\u001b[39m\u001b[38;5;124mpython\u001b[39m\u001b[38;5;124m'\u001b[39m,reverse\u001b[38;5;241m=\u001b[39m\u001b[38;5;28;01mTrue\u001b[39;00m)\n",
      "\u001b[1;31mTypeError\u001b[0m: sorted expected 1 argument, got 0"
     ]
    }
   ],
   "source": [
    "sorted(iterable='python',reverse=True)"
   ]
  },
  {
   "cell_type": "code",
   "execution_count": 79,
   "id": "1f2af45f-8b07-4aac-a700-c08a11de1656",
   "metadata": {},
   "outputs": [
    {
     "ename": "TypeError",
     "evalue": "sorted expected 1 argument, got 2",
     "output_type": "error",
     "traceback": [
      "\u001b[1;31m---------------------------------------------------------------------------\u001b[0m",
      "\u001b[1;31mTypeError\u001b[0m                                 Traceback (most recent call last)",
      "Cell \u001b[1;32mIn[79], line 1\u001b[0m\n\u001b[1;32m----> 1\u001b[0m \u001b[38;5;28msorted\u001b[39m(\u001b[38;5;124m'\u001b[39m\u001b[38;5;124mpython\u001b[39m\u001b[38;5;124m'\u001b[39m,\u001b[38;5;28;01mTrue\u001b[39;00m)\n",
      "\u001b[1;31mTypeError\u001b[0m: sorted expected 1 argument, got 2"
     ]
    }
   ],
   "source": [
    "sorted('python',True)"
   ]
  },
  {
   "cell_type": "code",
   "execution_count": 81,
   "id": "4b7dce37-1eca-449a-98e8-c512edd0d22d",
   "metadata": {},
   "outputs": [
    {
     "data": {
      "text/plain": [
       "['y', 't', 'p', 'o', 'n', 'h']"
      ]
     },
     "execution_count": 81,
     "metadata": {},
     "output_type": "execute_result"
    }
   ],
   "source": [
    "sorted('python',reverse=True)"
   ]
  },
  {
   "cell_type": "markdown",
   "id": "21fbb5a8-2b80-4a5f-89aa-0831100670ba",
   "metadata": {},
   "source": [
    "**reversed**"
   ]
  },
  {
   "cell_type": "code",
   "execution_count": 84,
   "id": "bea224a1-c7bf-4f61-a5c1-986e9f88efd7",
   "metadata": {},
   "outputs": [
    {
     "ename": "TypeError",
     "evalue": "reversed() takes no keyword arguments",
     "output_type": "error",
     "traceback": [
      "\u001b[1;31m---------------------------------------------------------------------------\u001b[0m",
      "\u001b[1;31mTypeError\u001b[0m                                 Traceback (most recent call last)",
      "Cell \u001b[1;32mIn[84], line 1\u001b[0m\n\u001b[1;32m----> 1\u001b[0m \u001b[38;5;28mreversed\u001b[39m(sequence\u001b[38;5;241m=\u001b[39m\u001b[38;5;124m'\u001b[39m\u001b[38;5;124mPrashanth\u001b[39m\u001b[38;5;124m'\u001b[39m)\n",
      "\u001b[1;31mTypeError\u001b[0m: reversed() takes no keyword arguments"
     ]
    }
   ],
   "source": [
    "reversed(sequence='Prashanth')"
   ]
  },
  {
   "cell_type": "code",
   "execution_count": 86,
   "id": "1d719799-698f-4a8d-8d37-115142699d56",
   "metadata": {},
   "outputs": [
    {
     "data": {
      "text/plain": [
       "<reversed at 0x2a37f307ac0>"
      ]
     },
     "execution_count": 86,
     "metadata": {},
     "output_type": "execute_result"
    }
   ],
   "source": [
    "ans=reversed('Shubham')\n",
    "ans"
   ]
  },
  {
   "cell_type": "markdown",
   "id": "a17235a8-557c-494f-af95-eb6cb7a79579",
   "metadata": {},
   "source": [
    "- answer saved in memory lcation\n",
    "- we can see the answer by using for loop or list\n",
    "- whwnver we see greater or less than symbol\n",
    "- try to apply loo[ or list"
   ]
  },
  {
   "cell_type": "code",
   "execution_count": 88,
   "id": "a88e2b4d-e02b-4f6d-9fdc-de3c0f296c6b",
   "metadata": {},
   "outputs": [
    {
     "name": "stdout",
     "output_type": "stream",
     "text": [
      "m\n",
      "a\n",
      "h\n",
      "b\n",
      "u\n",
      "h\n",
      "S\n"
     ]
    }
   ],
   "source": [
    "for i in ans:\n",
    "    print(i)"
   ]
  },
  {
   "cell_type": "code",
   "execution_count": 95,
   "id": "293a0c7c-e087-4b43-9495-150b618e157f",
   "metadata": {},
   "outputs": [
    {
     "data": {
      "text/plain": [
       "['m', 'a', 'h', 'b', 'u', 'h', 'S']"
      ]
     },
     "execution_count": 95,
     "metadata": {},
     "output_type": "execute_result"
    }
   ],
   "source": [
    "ans=reversed('Shubham')\n",
    "list(ans)"
   ]
  },
  {
   "cell_type": "markdown",
   "id": "5446e5b8-1184-4669-80a1-2119d8a93673",
   "metadata": {},
   "source": [
    "### Concatenation ###"
   ]
  },
  {
   "cell_type": "code",
   "execution_count": 98,
   "id": "4c23fd9f-8b30-4244-8595-dde2abc93177",
   "metadata": {},
   "outputs": [
    {
     "data": {
      "text/plain": [
       "'HelloPython'"
      ]
     },
     "execution_count": 98,
     "metadata": {},
     "output_type": "execute_result"
    }
   ],
   "source": [
    "str1='Hello'\n",
    "str2='Python'\n",
    "str1+str2"
   ]
  },
  {
   "cell_type": "code",
   "execution_count": 110,
   "id": "a0a7a876-25d2-4166-9ee4-4c053aab4c2e",
   "metadata": {},
   "outputs": [
    {
     "ename": "TypeError",
     "evalue": "unsupported operand type(s) for -: 'str' and 'str'",
     "output_type": "error",
     "traceback": [
      "\u001b[1;31m---------------------------------------------------------------------------\u001b[0m",
      "\u001b[1;31mTypeError\u001b[0m                                 Traceback (most recent call last)",
      "Cell \u001b[1;32mIn[110], line 1\u001b[0m\n\u001b[1;32m----> 1\u001b[0m str1\u001b[38;5;241m-\u001b[39mstr2\n",
      "\u001b[1;31mTypeError\u001b[0m: unsupported operand type(s) for -: 'str' and 'str'"
     ]
    }
   ],
   "source": [
    "str1-str2 # TypeError: unsupported operand type(s) for -: 'str' and 'str'"
   ]
  },
  {
   "cell_type": "code",
   "execution_count": 112,
   "id": "3c0fa6e1-2c82-40ba-80fc-8cdc2f69c842",
   "metadata": {},
   "outputs": [
    {
     "ename": "TypeError",
     "evalue": "can't multiply sequence by non-int of type 'str'",
     "output_type": "error",
     "traceback": [
      "\u001b[1;31m---------------------------------------------------------------------------\u001b[0m",
      "\u001b[1;31mTypeError\u001b[0m                                 Traceback (most recent call last)",
      "Cell \u001b[1;32mIn[112], line 1\u001b[0m\n\u001b[1;32m----> 1\u001b[0m str1\u001b[38;5;241m*\u001b[39mstr2\n",
      "\u001b[1;31mTypeError\u001b[0m: can't multiply sequence by non-int of type 'str'"
     ]
    }
   ],
   "source": [
    "str1*str2 # TypeError: can't multiply sequence by non-int of type 'str'"
   ]
  },
  {
   "cell_type": "code",
   "execution_count": 114,
   "id": "047f50a2-8b8a-48f7-bbb8-cd7e138174f9",
   "metadata": {},
   "outputs": [
    {
     "ename": "TypeError",
     "evalue": "unsupported operand type(s) for /: 'str' and 'str'",
     "output_type": "error",
     "traceback": [
      "\u001b[1;31m---------------------------------------------------------------------------\u001b[0m",
      "\u001b[1;31mTypeError\u001b[0m                                 Traceback (most recent call last)",
      "Cell \u001b[1;32mIn[114], line 1\u001b[0m\n\u001b[1;32m----> 1\u001b[0m str1\u001b[38;5;241m/\u001b[39mstr2\n",
      "\u001b[1;31mTypeError\u001b[0m: unsupported operand type(s) for /: 'str' and 'str'"
     ]
    }
   ],
   "source": [
    "str1/str2 # TypeError: unsupported operand type(s) for /: 'str' and 'str'"
   ]
  },
  {
   "cell_type": "code",
   "execution_count": 116,
   "id": "0ac19718-5eea-48fc-b88c-fff2f8cc832d",
   "metadata": {},
   "outputs": [
    {
     "ename": "TypeError",
     "evalue": "unsupported operand type(s) for ** or pow(): 'str' and 'int'",
     "output_type": "error",
     "traceback": [
      "\u001b[1;31m---------------------------------------------------------------------------\u001b[0m",
      "\u001b[1;31mTypeError\u001b[0m                                 Traceback (most recent call last)",
      "Cell \u001b[1;32mIn[116], line 1\u001b[0m\n\u001b[1;32m----> 1\u001b[0m str1\u001b[38;5;241m*\u001b[39m\u001b[38;5;241m*\u001b[39m\u001b[38;5;241m4\u001b[39m\n",
      "\u001b[1;31mTypeError\u001b[0m: unsupported operand type(s) for ** or pow(): 'str' and 'int'"
     ]
    }
   ],
   "source": [
    "str1**4"
   ]
  },
  {
   "cell_type": "code",
   "execution_count": 118,
   "id": "6a0ad32a-81fd-415b-bc10-fbbc4b30a2a8",
   "metadata": {},
   "outputs": [
    {
     "data": {
      "text/plain": [
       "'PythonPythonPythonPythonPython'"
      ]
     },
     "execution_count": 118,
     "metadata": {},
     "output_type": "execute_result"
    }
   ],
   "source": [
    "str2*5"
   ]
  },
  {
   "cell_type": "code",
   "execution_count": 120,
   "id": "2c1af15d-d6f0-4179-a709-385e6e3b7be9",
   "metadata": {},
   "outputs": [
    {
     "data": {
      "text/plain": [
       "'HelloHelloPythonPythonPython'"
      ]
     },
     "execution_count": 120,
     "metadata": {},
     "output_type": "execute_result"
    }
   ],
   "source": [
    "str1*2+str2*3"
   ]
  },
  {
   "cell_type": "code",
   "execution_count": 122,
   "id": "3c8b2cac-6e31-4c43-9b52-058f5c8d794d",
   "metadata": {},
   "outputs": [
    {
     "data": {
      "text/plain": [
       "'Hello Python'"
      ]
     },
     "execution_count": 122,
     "metadata": {},
     "output_type": "execute_result"
    }
   ],
   "source": [
    "str1='Hello '\n",
    "str2='Python'\n",
    "str1+str2"
   ]
  },
  {
   "cell_type": "code",
   "execution_count": 124,
   "id": "2575a631-7190-4b44-92c3-c10ebbeead46",
   "metadata": {},
   "outputs": [
    {
     "data": {
      "text/plain": [
       "'Hello Python'"
      ]
     },
     "execution_count": 124,
     "metadata": {},
     "output_type": "execute_result"
    }
   ],
   "source": [
    "str1='Hello'\n",
    "str2=' Python'\n",
    "str1+str2"
   ]
  },
  {
   "cell_type": "code",
   "execution_count": 126,
   "id": "7a84c1c8-d47d-414f-a51f-6df2d89ba21a",
   "metadata": {},
   "outputs": [
    {
     "data": {
      "text/plain": [
       "'Hello Python'"
      ]
     },
     "execution_count": 126,
     "metadata": {},
     "output_type": "execute_result"
    }
   ],
   "source": [
    "str1='Hello'\n",
    "str2='Python'\n",
    "str1+' '+str2"
   ]
  },
  {
   "cell_type": "markdown",
   "id": "2ff2795c-c4e9-4819-9d91-f61a22cdb2ac",
   "metadata": {},
   "source": [
    "**index**"
   ]
  },
  {
   "cell_type": "code",
   "execution_count": 2,
   "id": "50296ef5-f4f0-4262-8edb-675a69751a43",
   "metadata": {},
   "outputs": [
    {
     "data": {
      "text/plain": [
       "'python'"
      ]
     },
     "execution_count": 2,
     "metadata": {},
     "output_type": "execute_result"
    }
   ],
   "source": [
    "str1='python'\n",
    "str1"
   ]
  },
  {
   "cell_type": "code",
   "execution_count": null,
   "id": "7f0dc35a-59fb-4b0a-b51d-620562670832",
   "metadata": {},
   "outputs": [],
   "source": [
    "-6  -5  -4  -3  -2  -1   # negative way\n",
    " p   y   t   h   o   n\n",
    " 0   1   2   3   4   5  # positive way"
   ]
  },
  {
   "cell_type": "markdown",
   "id": "956ec4c4-78e8-47e2-a0c1-fe79425da841",
   "metadata": {},
   "source": [
    "- access the characters or elements use square bracket"
   ]
  },
  {
   "cell_type": "code",
   "execution_count": 5,
   "id": "ebfcff8e-352d-4228-ad35-374c208ccef5",
   "metadata": {},
   "outputs": [
    {
     "data": {
      "text/plain": [
       "('p', 'p')"
      ]
     },
     "execution_count": 5,
     "metadata": {},
     "output_type": "execute_result"
    }
   ],
   "source": [
    "str1[0],str1[-6]"
   ]
  },
  {
   "cell_type": "code",
   "execution_count": 7,
   "id": "bc97e895-3ed3-41de-9168-2bdf95094ad9",
   "metadata": {},
   "outputs": [
    {
     "data": {
      "text/plain": [
       "('y', 'y')"
      ]
     },
     "execution_count": 7,
     "metadata": {},
     "output_type": "execute_result"
    }
   ],
   "source": [
    "str1[1],str1[-5]"
   ]
  },
  {
   "cell_type": "code",
   "execution_count": 9,
   "id": "4d93517e-0f46-48ac-82c3-04e09b2ee82e",
   "metadata": {},
   "outputs": [
    {
     "data": {
      "text/plain": [
       "('t', 't')"
      ]
     },
     "execution_count": 9,
     "metadata": {},
     "output_type": "execute_result"
    }
   ],
   "source": [
    "str1[2],str1[-4]"
   ]
  },
  {
   "cell_type": "code",
   "execution_count": 11,
   "id": "efc7b679-c344-4c29-92f5-d2df59288bc5",
   "metadata": {},
   "outputs": [
    {
     "data": {
      "text/plain": [
       "('h', 'h')"
      ]
     },
     "execution_count": 11,
     "metadata": {},
     "output_type": "execute_result"
    }
   ],
   "source": [
    "str1[3],str1[-3]"
   ]
  },
  {
   "cell_type": "code",
   "execution_count": 13,
   "id": "8bdb4324-be29-45f6-8821-d3ea1c046307",
   "metadata": {},
   "outputs": [
    {
     "data": {
      "text/plain": [
       "('o', 'o')"
      ]
     },
     "execution_count": 13,
     "metadata": {},
     "output_type": "execute_result"
    }
   ],
   "source": [
    "str1[4],str1[-2]"
   ]
  },
  {
   "cell_type": "code",
   "execution_count": 15,
   "id": "94d49be6-071c-4e48-868d-3f0c2570ce33",
   "metadata": {},
   "outputs": [
    {
     "data": {
      "text/plain": [
       "('n', 'n')"
      ]
     },
     "execution_count": 15,
     "metadata": {},
     "output_type": "execute_result"
    }
   ],
   "source": [
    "str1[5],str1[-1]"
   ]
  },
  {
   "cell_type": "code",
   "execution_count": 17,
   "id": "0175ae02-ee7e-449f-83b1-af7d9f1c110a",
   "metadata": {},
   "outputs": [
    {
     "data": {
      "text/plain": [
       "'n'"
      ]
     },
     "execution_count": 17,
     "metadata": {},
     "output_type": "execute_result"
    }
   ],
   "source": [
    "str1[0]\n",
    "str1[1]\n",
    "str1[2]\n",
    "str1[3]\n",
    "str1[4]\n",
    "str1[5]"
   ]
  },
  {
   "cell_type": "code",
   "execution_count": 19,
   "id": "9ddcb53f-4d18-4aed-8bae-959e4a07a8f1",
   "metadata": {},
   "outputs": [
    {
     "name": "stdout",
     "output_type": "stream",
     "text": [
      "p\n",
      "y\n",
      "t\n",
      "h\n",
      "o\n",
      "n\n"
     ]
    }
   ],
   "source": [
    "for i in range(0,6):\n",
    "    print(str1[i])"
   ]
  },
  {
   "cell_type": "code",
   "execution_count": 27,
   "id": "c5f4c747-6a71-40b3-9f91-cbbc182d22fa",
   "metadata": {},
   "outputs": [
    {
     "name": "stdout",
     "output_type": "stream",
     "text": [
      "p\n",
      "y\n",
      "t\n",
      "h\n",
      "o\n",
      "n\n"
     ]
    }
   ],
   "source": [
    "i=0\n",
    "while i<len(str1):\n",
    "    print(str1[i])\n",
    "    i=i+1"
   ]
  },
  {
   "cell_type": "code",
   "execution_count": 29,
   "id": "fa8f2c0d-4b39-4503-b258-77cb6c9b9c7d",
   "metadata": {},
   "outputs": [
    {
     "name": "stdout",
     "output_type": "stream",
     "text": [
      "h\n",
      "e\n",
      "l\n",
      "l\n",
      "o\n",
      " \n",
      "h\n",
      "o\n",
      "w\n",
      " \n",
      "a\n",
      "r\n",
      "e\n",
      " \n",
      "y\n",
      "o\n",
      "u\n"
     ]
    }
   ],
   "source": [
    "str2='hello how are you'\n",
    "for i in range(0,len(str2)):\n",
    "    print(str2[i])"
   ]
  },
  {
   "cell_type": "code",
   "execution_count": 31,
   "id": "de09f405-7e6c-492e-bb91-613b27b39dc7",
   "metadata": {},
   "outputs": [
    {
     "name": "stdout",
     "output_type": "stream",
     "text": [
      "h\n",
      "e\n",
      "l\n",
      "l\n",
      "o\n",
      " \n",
      "h\n",
      "o\n",
      "w\n",
      " \n",
      "a\n",
      "r\n",
      "e\n",
      " \n",
      "y\n",
      "o\n",
      "u\n"
     ]
    }
   ],
   "source": [
    "i=0\n",
    "while i<len(str2):\n",
    "    print(str2[i])\n",
    "    i=i+1"
   ]
  },
  {
   "cell_type": "code",
   "execution_count": 41,
   "id": "d649058b-a920-4df7-b3f6-e30efda2b1cf",
   "metadata": {},
   "outputs": [
    {
     "name": "stdout",
     "output_type": "stream",
     "text": [
      "the positive index of p is 0\n",
      "the positive index of y is 1\n",
      "the positive index of t is 2\n",
      "the positive index of h is 3\n",
      "the positive index of o is 4\n",
      "the positive index of n is 5\n"
     ]
    }
   ],
   "source": [
    "# Q1. \n",
    "# the positive index of p is 0\n",
    "# the positive index of p is 1\n",
    "# the positive index of p is 1\n",
    "\n",
    "str1='python'\n",
    "for i in range(0,len(str1)):\n",
    "    print(f'the positive index of {str1[i]} is {i}')"
   ]
  },
  {
   "cell_type": "code",
   "execution_count": 43,
   "id": "5e816a70-7870-48ab-8dd5-6cee81dc9faf",
   "metadata": {},
   "outputs": [
    {
     "name": "stdout",
     "output_type": "stream",
     "text": [
      "the negative index of p is -6\n",
      "the negative index of y is -5\n",
      "the negative index of t is -4\n",
      "the negative index of h is -3\n",
      "the negative index of o is -2\n",
      "the negative index of n is -1\n"
     ]
    }
   ],
   "source": [
    "str1='python'\n",
    "for i in range(-len(str1),0):\n",
    "    print(f'the negative index of {str1[i]} is {i}')"
   ]
  },
  {
   "cell_type": "code",
   "execution_count": 49,
   "id": "41f4da67-6286-41a1-b3d0-ceffd1f476fe",
   "metadata": {},
   "outputs": [
    {
     "name": "stdout",
     "output_type": "stream",
     "text": [
      "the negative index of p is -6\n",
      "the negative index of y is -5\n",
      "the negative index of t is -4\n",
      "the negative index of h is -3\n",
      "the negative index of o is -2\n",
      "the negative index of n is -1\n"
     ]
    }
   ],
   "source": [
    "str1='python'\n",
    "for i in range(0,len(str1)):\n",
    "    print(f'the negative index of {str1[i]} is {i-len(str1)}')"
   ]
  },
  {
   "cell_type": "code",
   "execution_count": 45,
   "id": "c8ab36d1-e07b-4516-a65b-5e00e8a160b8",
   "metadata": {},
   "outputs": [
    {
     "name": "stdout",
     "output_type": "stream",
     "text": [
      "the positive index of p is 0 and the negative index of p is -6\n",
      "the positive index of y is 1 and the negative index of y is -5\n",
      "the positive index of t is 2 and the negative index of t is -4\n",
      "the positive index of h is 3 and the negative index of h is -3\n",
      "the positive index of o is 4 and the negative index of o is -2\n",
      "the positive index of n is 5 and the negative index of n is -1\n"
     ]
    }
   ],
   "source": [
    "str1='python'\n",
    "n=(-len(str1))\n",
    "for i in range(0,len(str1)):\n",
    "    print(f'the positive index of {str1[i]} is {i} and the negative index of {str1[i]} is {n+i}')"
   ]
  },
  {
   "cell_type": "code",
   "execution_count": 51,
   "id": "3693e57c-0402-4ab1-b05b-8107b5d82934",
   "metadata": {},
   "outputs": [
    {
     "name": "stdout",
     "output_type": "stream",
     "text": [
      "the positive index of p is 0 and the negative index of p is -6\n",
      "the positive index of y is 1 and the negative index of y is -5\n",
      "the positive index of t is 2 and the negative index of t is -4\n",
      "the positive index of h is 3 and the negative index of h is -3\n",
      "the positive index of o is 4 and the negative index of o is -2\n",
      "the positive index of n is 5 and the negative index of n is -1\n"
     ]
    }
   ],
   "source": [
    "str1='python'\n",
    "for i in range(0,len(str1)):\n",
    "    print(f'the positive index of {str1[i]} is {i} and the negative index of {str1[i]} is {i-len(str1)}')"
   ]
  },
  {
   "cell_type": "markdown",
   "id": "1486a227-cbe7-4dd0-94b5-b5294d95e4db",
   "metadata": {},
   "source": [
    "- keep for loop same in most case **i, i-len(str)**"
   ]
  },
  {
   "cell_type": "markdown",
   "id": "61826e18-bd92-4994-a3fe-cf0c22624347",
   "metadata": {},
   "source": [
    "**when to use in operator and when to use range operator**\n",
    "- in operator directly access the elements\n",
    "- range operator access the elements using index or numbers\n",
    "- any problem statement if you need numbers then go for range\n",
    "- otherwise go for in operator directly"
   ]
  },
  {
   "cell_type": "code",
   "execution_count": 56,
   "id": "0f4262f6-2bcd-41ac-9ef0-7561317eeb37",
   "metadata": {},
   "outputs": [
    {
     "name": "stdout",
     "output_type": "stream",
     "text": [
      "p\n",
      "y\n",
      "t\n",
      "h\n",
      "o\n",
      "n\n"
     ]
    }
   ],
   "source": [
    "for i in 'python':\n",
    "    print(i)"
   ]
  },
  {
   "cell_type": "code",
   "execution_count": 60,
   "id": "18df5471-2f1f-46f1-a462-5fb93a737a95",
   "metadata": {},
   "outputs": [
    {
     "name": "stdout",
     "output_type": "stream",
     "text": [
      "p\n",
      "y\n",
      "t\n",
      "h\n",
      "o\n",
      "n\n"
     ]
    }
   ],
   "source": [
    "str1='python'\n",
    "for i in range(0,len(str1)):\n",
    "    print(str1[i])"
   ]
  },
  {
   "cell_type": "code",
   "execution_count": 69,
   "id": "68afcd59-155e-4ceb-b89c-4db33afbc0a2",
   "metadata": {},
   "outputs": [
    {
     "name": "stdout",
     "output_type": "stream",
     "text": [
      "2\n",
      "6\n",
      "10\n"
     ]
    }
   ],
   "source": [
    "# 4\n",
    "str1='ola ola ola'\n",
    "for i in range(0,len(str1)):\n",
    "    if str1[i]=='a':\n",
    "        print(i)\n"
   ]
  },
  {
   "cell_type": "code",
   "execution_count": 73,
   "id": "a6431824-a91c-432d-80c0-cbb65d0aa40f",
   "metadata": {},
   "outputs": [
    {
     "name": "stdout",
     "output_type": "stream",
     "text": [
      "2\n",
      "6\n",
      "10\n",
      "summ:  18\n"
     ]
    }
   ],
   "source": [
    "# 5\n",
    "str1='ola ola ola'\n",
    "summ=0\n",
    "for i in range(0,len(str1)):\n",
    "    if str1[i]=='a':\n",
    "        print(i)\n",
    "        summ=summ+i\n",
    "print('summ: ',summ)\n"
   ]
  },
  {
   "cell_type": "code",
   "execution_count": 79,
   "id": "11ee74c7-8e7d-4594-a11c-260f0f5571ac",
   "metadata": {},
   "outputs": [
    {
     "name": "stdout",
     "output_type": "stream",
     "text": [
      "count:  3\n"
     ]
    }
   ],
   "source": [
    "# 6\n",
    "str1='ola ola ola'\n",
    "count=0\n",
    "for i in range(0,len(str1)):\n",
    "    if str1[i]=='a':\n",
    "        count=count+1\n",
    "print('count: ',count)\n"
   ]
  },
  {
   "cell_type": "code",
   "execution_count": 112,
   "id": "24c49bfd-aa6c-42be-963e-607e93940e49",
   "metadata": {},
   "outputs": [
    {
     "name": "stdout",
     "output_type": "stream",
     "text": [
      "count:  9\n"
     ]
    }
   ],
   "source": [
    "# 7\n",
    "str1='hai hello how are you'\n",
    "count=0\n",
    "for i in range(0,len(str1)):\n",
    "    if str1[i]=='a':\n",
    "        count=count+1\n",
    "    elif str1[i]=='e':\n",
    "        count=count+1\n",
    "    elif str1[i]=='i':\n",
    "        count=count+1\n",
    "    elif str1[i]=='o':\n",
    "        count=count+1\n",
    "    elif str1[i]=='u':\n",
    "        count=count+1\n",
    "    else:\n",
    "        continue\n",
    "print('count: ',count)\n"
   ]
  },
  {
   "cell_type": "code",
   "execution_count": 116,
   "id": "488cb480-0aba-4b43-86a3-c611808cfe39",
   "metadata": {},
   "outputs": [
    {
     "name": "stdout",
     "output_type": "stream",
     "text": [
      "a\n",
      "i\n",
      "e\n",
      "o\n",
      "o\n",
      "a\n",
      "e\n",
      "o\n",
      "u\n",
      "count:  9\n"
     ]
    }
   ],
   "source": [
    "# 7.1\n",
    "str1='hai hello how are you'\n",
    "s1='aeiou'\n",
    "count=0\n",
    "for i in str1:\n",
    "    if i in s1:\n",
    "        print(i)\n",
    "        count=count+1\n",
    "print('count: ',count)"
   ]
  },
  {
   "cell_type": "code",
   "execution_count": 110,
   "id": "0cef2362-d462-46e0-9ddc-f698fc5bf3bd",
   "metadata": {},
   "outputs": [
    {
     "name": "stdout",
     "output_type": "stream",
     "text": [
      "0 2 0 1 0\n"
     ]
    }
   ],
   "source": [
    "# 8\n",
    "str1='helleo'\n",
    "acount=0\n",
    "ecount=0\n",
    "icount=0\n",
    "ocount=0\n",
    "ucount=0\n",
    "for i in range(0,len(str1)):\n",
    "    if str1[i]=='a':\n",
    "        acount=acount+1\n",
    "    elif str1[i]=='e':\n",
    "        ecount=ecount+1\n",
    "    elif str1[i]=='i':\n",
    "        icount=icount+1\n",
    "    elif str1[i]=='o':\n",
    "        ocount=ocount+1\n",
    "    elif str1[i]=='u':\n",
    "        ucount=ucount+1\n",
    "    else:\n",
    "        continue\n",
    "print(acount,ecount,icount,ocount,ucount)    "
   ]
  },
  {
   "cell_type": "code",
   "execution_count": 13,
   "id": "ee502fbb-3733-46e0-9ed4-893e15500c71",
   "metadata": {},
   "outputs": [
    {
     "name": "stdout",
     "output_type": "stream",
     "text": [
      "hae\n"
     ]
    }
   ],
   "source": [
    "# 8.1\n",
    "str1='haaae'\n",
    "s1=''\n",
    "for i in str1:\n",
    "    if i in 'aeiou' and i not in s1:\n",
    "        s1=s1+i\n",
    "    elif i not in 'aeiou' and i not in s1:\n",
    "        s1=s1+i\n",
    "print(s1)"
   ]
  },
  {
   "cell_type": "markdown",
   "id": "47e4d5c0-a58f-4395-82f0-f49ac4dfac6b",
   "metadata": {},
   "source": [
    "**mutable and immutable**"
   ]
  },
  {
   "cell_type": "markdown",
   "id": "7d0c8e36-7abe-412e-b4b3-f9859dd264f5",
   "metadata": {},
   "source": [
    "- mutable means we are able to change  \n",
    "- immutable means we are nat able to change\n",
    "- **we can not change the elements using index operations**\n",
    "- list mutable strings immutable"
   ]
  },
  {
   "cell_type": "code",
   "execution_count": 127,
   "id": "a4a2a54f-7552-4889-b55b-3fc30ced193c",
   "metadata": {},
   "outputs": [
    {
     "ename": "TypeError",
     "evalue": "'str' object does not support item assignment",
     "output_type": "error",
     "traceback": [
      "\u001b[1;31m---------------------------------------------------------------------------\u001b[0m",
      "\u001b[1;31mTypeError\u001b[0m                                 Traceback (most recent call last)",
      "Cell \u001b[1;32mIn[127], line 2\u001b[0m\n\u001b[0;32m      1\u001b[0m str2\u001b[38;5;241m=\u001b[39m\u001b[38;5;124m'\u001b[39m\u001b[38;5;124mhello\u001b[39m\u001b[38;5;124m'\u001b[39m\n\u001b[1;32m----> 2\u001b[0m str2[\u001b[38;5;241m2\u001b[39m]\u001b[38;5;241m=\u001b[39m\u001b[38;5;124m'\u001b[39m\u001b[38;5;124mL\u001b[39m\u001b[38;5;124m'\u001b[39m\n\u001b[0;32m      3\u001b[0m str2\n",
      "\u001b[1;31mTypeError\u001b[0m: 'str' object does not support item assignment"
     ]
    }
   ],
   "source": [
    "str2='hello'\n",
    "str2[2]='L'\n",
    "str2"
   ]
  },
  {
   "cell_type": "code",
   "execution_count": 129,
   "id": "33b1c17b-935f-4a49-ac74-501e73a06d47",
   "metadata": {},
   "outputs": [
    {
     "data": {
      "text/plain": [
       "['1', 200, '3', '4']"
      ]
     },
     "execution_count": 129,
     "metadata": {},
     "output_type": "execute_result"
    }
   ],
   "source": [
    "list1=['1','2','3','4']\n",
    "list1[1]= 200\n",
    "list1"
   ]
  },
  {
   "cell_type": "markdown",
   "id": "f207d30f-7720-4ce0-a8f0-dd07e9e43aca",
   "metadata": {},
   "source": [
    "**slice**\n",
    "- slice means cut into peices\n",
    "- it hs same analogy with for loop range\n",
    "- in for loop range we have start,stop,step\n",
    "- range(start,stop,step)  str[start,stop,step]"
   ]
  },
  {
   "cell_type": "code",
   "execution_count": null,
   "id": "34f222e3-fa7a-4f84-bd53-e70dc7d77d09",
   "metadata": {},
   "outputs": [],
   "source": [
    "# -17 -16 -15 -14 -13 -12 -11 -10 -9 -8 -7 -6 -5 -4 -3 -2 -1\n",
    "#  h   e   l   l   o       h   o   w     a  r  e     y  o  u\n",
    "#  0   1   2   3   4   5   6   7   8  9  10 11 12 13 14 15 16"
   ]
  },
  {
   "cell_type": "markdown",
   "id": "e725f27b-e650-4605-9616-6d3fdcff598a",
   "metadata": {},
   "source": [
    "$Case-1:$\n",
    "**str[:stop]**\n",
    "- by default start=0\n",
    "- by default step= positive direction 1\n",
    "- last=stop-1"
   ]
  },
  {
   "cell_type": "code",
   "execution_count": 7,
   "id": "2c020ce2-4fee-46c4-ab0b-8bfa33db74f3",
   "metadata": {},
   "outputs": [
    {
     "data": {
      "text/plain": [
       "'hello'"
      ]
     },
     "execution_count": 7,
     "metadata": {},
     "output_type": "execute_result"
    }
   ],
   "source": [
    "str1='hello how are you'\n",
    "str1[:5]\n",
    "# start=0 step= positive direction 1 stop=5-1=4"
   ]
  },
  {
   "cell_type": "markdown",
   "id": "ff10daa2-4b0f-4fc3-b50d-294d2fa19080",
   "metadata": {},
   "source": [
    "$Case-2:$\n",
    "**str[start:]**\n",
    "- by default start= start value\n",
    "- by default step= positive direction 1\n",
    "- last=last index"
   ]
  },
  {
   "cell_type": "code",
   "execution_count": 13,
   "id": "bd949c16-d7e3-414d-b1fe-ae283373867c",
   "metadata": {},
   "outputs": [
    {
     "data": {
      "text/plain": [
       "'you'"
      ]
     },
     "execution_count": 13,
     "metadata": {},
     "output_type": "execute_result"
    }
   ],
   "source": [
    "str1='hello how are you'\n",
    "str1[-3:]\n",
    "# start=0 step= positive direction 1 stop=5-1=4"
   ]
  },
  {
   "cell_type": "markdown",
   "id": "76e2f976-be18-4170-a571-154aeef761ca",
   "metadata": {},
   "source": [
    "$Case-3:$\n",
    "**str[start:stop]**\n",
    "- by default start= start value\n",
    "- by default step= positive direction 1\n",
    "- last=stop-1"
   ]
  },
  {
   "cell_type": "code",
   "execution_count": 22,
   "id": "953d13b3-8bf2-41a6-bce7-209b489427c1",
   "metadata": {},
   "outputs": [
    {
     "data": {
      "text/plain": [
       "'are y'"
      ]
     },
     "execution_count": 22,
     "metadata": {},
     "output_type": "execute_result"
    }
   ],
   "source": [
    "str1='hello how are you'\n",
    "str1[10:15]"
   ]
  },
  {
   "cell_type": "code",
   "execution_count": 26,
   "id": "941d2897-1bd5-4420-9837-fe4cd9cb9cae",
   "metadata": {},
   "outputs": [
    {
     "data": {
      "text/plain": [
       "'llo how '"
      ]
     },
     "execution_count": 26,
     "metadata": {},
     "output_type": "execute_result"
    }
   ],
   "source": [
    "# -17 -16 -15 -14 -13 -12 -11 -10 -9 -8 -7 -6 -5 -4 -3 -2 -1\n",
    "#  h   e   l   l   o       h   o   w     a  r  e     y  o  u\n",
    "#  0   1   2   3   4   5   6   7   8  9  10 11 12 13 14 15 16\n",
    "str1[-15:10]"
   ]
  },
  {
   "cell_type": "code",
   "execution_count": 32,
   "id": "175597dc-451a-4f21-af65-3a71f066442a",
   "metadata": {},
   "outputs": [
    {
     "data": {
      "text/plain": [
       "'llo how are y'"
      ]
     },
     "execution_count": 32,
     "metadata": {},
     "output_type": "execute_result"
    }
   ],
   "source": [
    "str1[2:-2]"
   ]
  },
  {
   "cell_type": "code",
   "execution_count": 34,
   "id": "e6ac5468-86d9-4d3a-b9ff-9420e022bacf",
   "metadata": {},
   "outputs": [],
   "source": [
    "for i in range(2,-2):\n",
    "    print(i)"
   ]
  },
  {
   "cell_type": "markdown",
   "id": "deabb240-18eb-4d7a-aba7-02d4ad415ab2",
   "metadata": {},
   "source": [
    "**$Note :$ No answer No error**"
   ]
  },
  {
   "cell_type": "markdown",
   "id": "b6479150-e2eb-41fe-b4c7-53e3a5b3586b",
   "metadata": {},
   "source": [
    "$Case-4:$\n",
    "**str[start:stop]**\n",
    "- by default start= start value\n",
    "- if step= positive direction n\n",
    "  - last=stop-1\n",
    "- step= negative direction n\n",
    "  - last=stop+1"
   ]
  },
  {
   "cell_type": "code",
   "execution_count": 43,
   "id": "fcac2d8d-25d2-4e8a-abe4-b917cb783624",
   "metadata": {},
   "outputs": [
    {
     "data": {
      "text/plain": [
       "'lohwaey'"
      ]
     },
     "execution_count": 43,
     "metadata": {},
     "output_type": "execute_result"
    }
   ],
   "source": [
    "str1[2:-2:2]"
   ]
  },
  {
   "cell_type": "markdown",
   "id": "614dd1e5-c248-4e74-af9a-07354e8a0290",
   "metadata": {},
   "source": [
    "**Special Cases**"
   ]
  },
  {
   "cell_type": "code",
   "execution_count": 49,
   "id": "16b9d659-0734-47c7-ad67-1e07866297d0",
   "metadata": {},
   "outputs": [
    {
     "data": {
      "text/plain": [
       "'llo how are you'"
      ]
     },
     "execution_count": 49,
     "metadata": {},
     "output_type": "execute_result"
    }
   ],
   "source": [
    "str1[2:150]"
   ]
  },
  {
   "cell_type": "code",
   "execution_count": 51,
   "id": "c6e2fe23-8574-40b0-b762-ad6ce1b8850b",
   "metadata": {},
   "outputs": [
    {
     "data": {
      "text/plain": [
       "'hello how are you'"
      ]
     },
     "execution_count": 51,
     "metadata": {},
     "output_type": "execute_result"
    }
   ],
   "source": [
    "str1[:]"
   ]
  },
  {
   "cell_type": "code",
   "execution_count": 53,
   "id": "1cb85a91-a032-48f2-a97f-1ee3607e9977",
   "metadata": {},
   "outputs": [
    {
     "data": {
      "text/plain": [
       "'hello how are you'"
      ]
     },
     "execution_count": 53,
     "metadata": {},
     "output_type": "execute_result"
    }
   ],
   "source": [
    "str1[::]"
   ]
  },
  {
   "cell_type": "code",
   "execution_count": 55,
   "id": "c6224884-328a-450e-8f7f-fa3d53998d52",
   "metadata": {},
   "outputs": [
    {
     "data": {
      "text/plain": [
       "'uoy era woh olleh'"
      ]
     },
     "execution_count": 55,
     "metadata": {},
     "output_type": "execute_result"
    }
   ],
   "source": [
    "str1[::-1]"
   ]
  },
  {
   "cell_type": "code",
   "execution_count": 59,
   "id": "39068ff9-4d12-47bc-ac74-633481a6f504",
   "metadata": {},
   "outputs": [
    {
     "data": {
      "text/plain": [
       "54321"
      ]
     },
     "execution_count": 59,
     "metadata": {},
     "output_type": "execute_result"
    }
   ],
   "source": [
    "num=12345\n",
    "s1=str(num)\n",
    "num=int((s1[::-1]))\n",
    "num"
   ]
  },
  {
   "cell_type": "markdown",
   "id": "bb403dc5-08a1-418c-a040-b8f0e0b79466",
   "metadata": {},
   "source": [
    "**methods**"
   ]
  },
  {
   "cell_type": "code",
   "execution_count": 62,
   "id": "9f655e13-729f-4296-8c3f-71c87a07a22d",
   "metadata": {},
   "outputs": [
    {
     "data": {
      "text/plain": [
       "['__add__',\n",
       " '__class__',\n",
       " '__contains__',\n",
       " '__delattr__',\n",
       " '__dir__',\n",
       " '__doc__',\n",
       " '__eq__',\n",
       " '__format__',\n",
       " '__ge__',\n",
       " '__getattribute__',\n",
       " '__getitem__',\n",
       " '__getnewargs__',\n",
       " '__getstate__',\n",
       " '__gt__',\n",
       " '__hash__',\n",
       " '__init__',\n",
       " '__init_subclass__',\n",
       " '__iter__',\n",
       " '__le__',\n",
       " '__len__',\n",
       " '__lt__',\n",
       " '__mod__',\n",
       " '__mul__',\n",
       " '__ne__',\n",
       " '__new__',\n",
       " '__reduce__',\n",
       " '__reduce_ex__',\n",
       " '__repr__',\n",
       " '__rmod__',\n",
       " '__rmul__',\n",
       " '__setattr__',\n",
       " '__sizeof__',\n",
       " '__str__',\n",
       " '__subclasshook__',\n",
       " 'capitalize',\n",
       " 'casefold',\n",
       " 'center',\n",
       " 'count',\n",
       " 'encode',\n",
       " 'endswith',\n",
       " 'expandtabs',\n",
       " 'find',\n",
       " 'format',\n",
       " 'format_map',\n",
       " 'index',\n",
       " 'isalnum',\n",
       " 'isalpha',\n",
       " 'isascii',\n",
       " 'isdecimal',\n",
       " 'isdigit',\n",
       " 'isidentifier',\n",
       " 'islower',\n",
       " 'isnumeric',\n",
       " 'isprintable',\n",
       " 'isspace',\n",
       " 'istitle',\n",
       " 'isupper',\n",
       " 'join',\n",
       " 'ljust',\n",
       " 'lower',\n",
       " 'lstrip',\n",
       " 'maketrans',\n",
       " 'partition',\n",
       " 'removeprefix',\n",
       " 'removesuffix',\n",
       " 'replace',\n",
       " 'rfind',\n",
       " 'rindex',\n",
       " 'rjust',\n",
       " 'rpartition',\n",
       " 'rsplit',\n",
       " 'rstrip',\n",
       " 'split',\n",
       " 'splitlines',\n",
       " 'startswith',\n",
       " 'strip',\n",
       " 'swapcase',\n",
       " 'title',\n",
       " 'translate',\n",
       " 'upper',\n",
       " 'zfill']"
      ]
     },
     "execution_count": 62,
     "metadata": {},
     "output_type": "execute_result"
    }
   ],
   "source": [
    "dir('')"
   ]
  },
  {
   "cell_type": "code",
   "execution_count": 64,
   "id": "d83a398d-b555-4cc3-a090-776519ff49d7",
   "metadata": {},
   "outputs": [
    {
     "data": {
      "text/plain": [
       "['__add__',\n",
       " '__class__',\n",
       " '__contains__',\n",
       " '__delattr__',\n",
       " '__dir__',\n",
       " '__doc__',\n",
       " '__eq__',\n",
       " '__format__',\n",
       " '__ge__',\n",
       " '__getattribute__',\n",
       " '__getitem__',\n",
       " '__getnewargs__',\n",
       " '__getstate__',\n",
       " '__gt__',\n",
       " '__hash__',\n",
       " '__init__',\n",
       " '__init_subclass__',\n",
       " '__iter__',\n",
       " '__le__',\n",
       " '__len__',\n",
       " '__lt__',\n",
       " '__mod__',\n",
       " '__mul__',\n",
       " '__ne__',\n",
       " '__new__',\n",
       " '__reduce__',\n",
       " '__reduce_ex__',\n",
       " '__repr__',\n",
       " '__rmod__',\n",
       " '__rmul__',\n",
       " '__setattr__',\n",
       " '__sizeof__',\n",
       " '__str__',\n",
       " '__subclasshook__',\n",
       " 'capitalize',\n",
       " 'casefold',\n",
       " 'center',\n",
       " 'count',\n",
       " 'encode',\n",
       " 'endswith',\n",
       " 'expandtabs',\n",
       " 'find',\n",
       " 'format',\n",
       " 'format_map',\n",
       " 'index',\n",
       " 'isalnum',\n",
       " 'isalpha',\n",
       " 'isascii',\n",
       " 'isdecimal',\n",
       " 'isdigit',\n",
       " 'isidentifier',\n",
       " 'islower',\n",
       " 'isnumeric',\n",
       " 'isprintable',\n",
       " 'isspace',\n",
       " 'istitle',\n",
       " 'isupper',\n",
       " 'join',\n",
       " 'ljust',\n",
       " 'lower',\n",
       " 'lstrip',\n",
       " 'maketrans',\n",
       " 'partition',\n",
       " 'removeprefix',\n",
       " 'removesuffix',\n",
       " 'replace',\n",
       " 'rfind',\n",
       " 'rindex',\n",
       " 'rjust',\n",
       " 'rpartition',\n",
       " 'rsplit',\n",
       " 'rstrip',\n",
       " 'split',\n",
       " 'splitlines',\n",
       " 'startswith',\n",
       " 'strip',\n",
       " 'swapcase',\n",
       " 'title',\n",
       " 'translate',\n",
       " 'upper',\n",
       " 'zfill']"
      ]
     },
     "execution_count": 64,
     "metadata": {},
     "output_type": "execute_result"
    }
   ],
   "source": [
    "name='Shubham'\n",
    "dir(name)"
   ]
  },
  {
   "cell_type": "markdown",
   "id": "4ac4bc19-e137-40a6-8701-01806c3fa62f",
   "metadata": {},
   "source": [
    "**upper(): Return a copy of the string converted to uppercase**"
   ]
  },
  {
   "cell_type": "code",
   "execution_count": 87,
   "id": "a62ea415-45cd-4477-8cae-ac3f206bc00a",
   "metadata": {},
   "outputs": [
    {
     "data": {
      "text/plain": [
       "'HI HOW ARE YOU'"
      ]
     },
     "execution_count": 87,
     "metadata": {},
     "output_type": "execute_result"
    }
   ],
   "source": [
    "str1='Hi how are you'\n",
    "str1.upper()"
   ]
  },
  {
   "cell_type": "markdown",
   "id": "c3e12772-8f9f-479b-b624-94439f73e18d",
   "metadata": {},
   "source": [
    "**lower(): Return a copy of the string converted to lowercase.**"
   ]
  },
  {
   "cell_type": "code",
   "execution_count": 89,
   "id": "cc175bbb-3ad1-48af-aa23-6ce9c05e75b2",
   "metadata": {},
   "outputs": [
    {
     "data": {
      "text/plain": [
       "'hi how are you'"
      ]
     },
     "execution_count": 89,
     "metadata": {},
     "output_type": "execute_result"
    }
   ],
   "source": [
    "str1='Hi how are you'\n",
    "str1.lower()"
   ]
  },
  {
   "cell_type": "markdown",
   "id": "af94c534-0a8c-435d-b068-be747f9c9c2c",
   "metadata": {},
   "source": [
    "**title(): words start with uppercased characters and all remaining\n",
    "cased characters have lower case**"
   ]
  },
  {
   "cell_type": "code",
   "execution_count": 91,
   "id": "5d0c882c-f9f1-4bbe-9704-3e91a164a5b5",
   "metadata": {},
   "outputs": [
    {
     "data": {
      "text/plain": [
       "'Hi How Are You'"
      ]
     },
     "execution_count": 91,
     "metadata": {},
     "output_type": "execute_result"
    }
   ],
   "source": [
    "str1='Hi how are you'\n",
    "str1.title()"
   ]
  },
  {
   "cell_type": "markdown",
   "id": "5e023ee0-359e-428a-ac5c-7d4da69b1573",
   "metadata": {},
   "source": [
    "**capitalize():  make the first character have upper case and the rest lower\n",
    "case.**"
   ]
  },
  {
   "cell_type": "code",
   "execution_count": 93,
   "id": "3b0b4c0e-a747-4d36-b994-e8219f7f76a7",
   "metadata": {},
   "outputs": [
    {
     "data": {
      "text/plain": [
       "'Hi how are you'"
      ]
     },
     "execution_count": 93,
     "metadata": {},
     "output_type": "execute_result"
    }
   ],
   "source": [
    "str1='Hi how are you'\n",
    "str1.capitalize()"
   ]
  },
  {
   "cell_type": "markdown",
   "id": "32752990-f2f8-443e-9975-25fb1ce357ad",
   "metadata": {},
   "source": [
    "**casefold():Return a version of the string suitable for caseless comparisons**"
   ]
  },
  {
   "cell_type": "code",
   "execution_count": 95,
   "id": "12e35e34-5c84-4e9c-9e5b-e0053c0be32d",
   "metadata": {},
   "outputs": [
    {
     "data": {
      "text/plain": [
       "'hi how are you'"
      ]
     },
     "execution_count": 95,
     "metadata": {},
     "output_type": "execute_result"
    }
   ],
   "source": [
    "str1='Hi how are you'\n",
    "str1.casefold()"
   ]
  },
  {
   "cell_type": "markdown",
   "id": "2f3a14a3-f560-49d3-b222-2e305a509f21",
   "metadata": {},
   "source": [
    "---\n",
    "- **Difference between *methods* and *functions*:**"
   ]
  },
  {
   "cell_type": "code",
   "execution_count": null,
   "id": "3038100b-a85d-4a07-a080-21cdea3592d7",
   "metadata": {},
   "outputs": [],
   "source": [
    "================================================Inbulit Functions\n",
    "len('python')\n",
    "================================================methods\n",
    "str1.upper"
   ]
  },
  {
   "cell_type": "markdown",
   "id": "c3d43bc1-ccd2-4d6c-af94-de64e42664cc",
   "metadata": {},
   "source": [
    "**center**"
   ]
  },
  {
   "cell_type": "code",
   "execution_count": 106,
   "id": "3b3ccf60-d1e7-4955-825b-0a09768c821a",
   "metadata": {},
   "outputs": [
    {
     "data": {
      "text/plain": [
       "'         python         '"
      ]
     },
     "execution_count": 106,
     "metadata": {},
     "output_type": "execute_result"
    }
   ],
   "source": [
    "str1='python'\n",
    "str1.center(24)"
   ]
  },
  {
   "cell_type": "code",
   "execution_count": 124,
   "id": "3013875d-030f-49d6-9e71-989b085228ad",
   "metadata": {},
   "outputs": [
    {
     "data": {
      "text/plain": [
       "'****python***'"
      ]
     },
     "execution_count": 124,
     "metadata": {},
     "output_type": "execute_result"
    }
   ],
   "source": [
    "str1='python'\n",
    "str1.center(13,'*')\n",
    "\n",
    "# 4* + 6 + 3*\n",
    "# first here 12 means the lengths of the string becomes 12 charactes\n",
    "# already 'python' has 6 characters\n",
    "# so remaining 6 characters padd as *"
   ]
  },
  {
   "cell_type": "markdown",
   "id": "fcb891ea-a780-4bd6-8260-e34d0e4a7467",
   "metadata": {},
   "source": [
    "**$strip-lstrip-rstrip$**\n",
    "- strip will remove the characters both left and right side\n",
    "- lstrip will remove the characters left side\n",
    "- rstrip will remove the characters right side"
   ]
  },
  {
   "cell_type": "code",
   "execution_count": 128,
   "id": "85aa65a5-096d-44c8-8303-bd270c904f59",
   "metadata": {},
   "outputs": [
    {
     "data": {
      "text/plain": [
       "'python'"
      ]
     },
     "execution_count": 128,
     "metadata": {},
     "output_type": "execute_result"
    }
   ],
   "source": [
    "str1=' python '\n",
    "str2='***python****'\n",
    "str3='   python****'\n",
    "str1.strip()"
   ]
  },
  {
   "cell_type": "code",
   "execution_count": 134,
   "id": "6e60e7a0-7d28-4b3c-8a5a-08569dd15f63",
   "metadata": {},
   "outputs": [
    {
     "data": {
      "text/plain": [
       "' python'"
      ]
     },
     "execution_count": 134,
     "metadata": {},
     "output_type": "execute_result"
    }
   ],
   "source": [
    "str1.rstrip()"
   ]
  },
  {
   "cell_type": "code",
   "execution_count": 136,
   "id": "78e8de2d-d823-44ab-94b2-d77d2b20757f",
   "metadata": {},
   "outputs": [
    {
     "data": {
      "text/plain": [
       "'python '"
      ]
     },
     "execution_count": 136,
     "metadata": {},
     "output_type": "execute_result"
    }
   ],
   "source": [
    "str1.lstrip()"
   ]
  },
  {
   "cell_type": "code",
   "execution_count": 130,
   "id": "7de9f842-2df3-4c2b-b89a-ef3fe85ddc6e",
   "metadata": {},
   "outputs": [
    {
     "data": {
      "text/plain": [
       "'***python****'"
      ]
     },
     "execution_count": 130,
     "metadata": {},
     "output_type": "execute_result"
    }
   ],
   "source": [
    "str2.strip()"
   ]
  },
  {
   "cell_type": "code",
   "execution_count": 148,
   "id": "9d16670c-9438-4471-a3aa-5b6a7723bd36",
   "metadata": {},
   "outputs": [
    {
     "data": {
      "text/plain": [
       "'***python****'"
      ]
     },
     "execution_count": 148,
     "metadata": {},
     "output_type": "execute_result"
    }
   ],
   "source": [
    "str2.rstrip()"
   ]
  },
  {
   "cell_type": "code",
   "execution_count": 154,
   "id": "996b1fb3-2cd3-4780-89a7-37eda4738a44",
   "metadata": {},
   "outputs": [
    {
     "data": {
      "text/plain": [
       "'***python'"
      ]
     },
     "execution_count": 154,
     "metadata": {},
     "output_type": "execute_result"
    }
   ],
   "source": [
    "str2.rstrip('*')"
   ]
  },
  {
   "cell_type": "code",
   "execution_count": 156,
   "id": "18e59432-df91-4d0a-b8d9-f669353e7edf",
   "metadata": {},
   "outputs": [
    {
     "data": {
      "text/plain": [
       "'***python****'"
      ]
     },
     "execution_count": 156,
     "metadata": {},
     "output_type": "execute_result"
    }
   ],
   "source": [
    "str2.lstrip()"
   ]
  },
  {
   "cell_type": "code",
   "execution_count": 158,
   "id": "af371e40-c72a-43b2-864e-3f38a6442134",
   "metadata": {},
   "outputs": [
    {
     "data": {
      "text/plain": [
       "'python****'"
      ]
     },
     "execution_count": 158,
     "metadata": {},
     "output_type": "execute_result"
    }
   ],
   "source": [
    "str2.lstrip('*')"
   ]
  },
  {
   "cell_type": "code",
   "execution_count": 162,
   "id": "787b9d0a-5f64-447b-ac1a-b7eaa11b1880",
   "metadata": {},
   "outputs": [
    {
     "data": {
      "text/plain": [
       "'python****'"
      ]
     },
     "execution_count": 162,
     "metadata": {},
     "output_type": "execute_result"
    }
   ],
   "source": [
    "str3.strip()"
   ]
  },
  {
   "cell_type": "code",
   "execution_count": 164,
   "id": "d74998f2-4520-4828-bd54-971fbc38c35a",
   "metadata": {},
   "outputs": [
    {
     "data": {
      "text/plain": [
       "'   python'"
      ]
     },
     "execution_count": 164,
     "metadata": {},
     "output_type": "execute_result"
    }
   ],
   "source": [
    "str3.rstrip('*')"
   ]
  },
  {
   "cell_type": "code",
   "execution_count": 168,
   "id": "bfe1d8d3-b823-4308-965d-22f3dd561987",
   "metadata": {},
   "outputs": [
    {
     "data": {
      "text/plain": [
       "'   python****'"
      ]
     },
     "execution_count": 168,
     "metadata": {},
     "output_type": "execute_result"
    }
   ],
   "source": [
    "str3.lstrip()"
   ]
  },
  {
   "cell_type": "code",
   "execution_count": 172,
   "id": "9ea7bb17-3deb-495f-a28e-2ee1cc7faf0a",
   "metadata": {},
   "outputs": [
    {
     "data": {
      "text/plain": [
       "'python'"
      ]
     },
     "execution_count": 172,
     "metadata": {},
     "output_type": "execute_result"
    }
   ],
   "source": [
    "str3.strip().rstrip('*')"
   ]
  },
  {
   "cell_type": "code",
   "execution_count": 174,
   "id": "5431f41d-f5f1-4670-a666-81550e15b5f2",
   "metadata": {},
   "outputs": [
    {
     "data": {
      "text/plain": [
       "'python'"
      ]
     },
     "execution_count": 174,
     "metadata": {},
     "output_type": "execute_result"
    }
   ],
   "source": [
    "str4='++++++++++python---------------'\n",
    "str4.lstrip('+').rstrip('-')"
   ]
  },
  {
   "cell_type": "markdown",
   "id": "5784ea5e-e3cb-4e7d-9528-f8baa454dff1",
   "metadata": {},
   "source": [
    "- **startswith**"
   ]
  },
  {
   "cell_type": "code",
   "execution_count": 2,
   "id": "0d58c8f0-a35f-435f-9857-4db74f8b18b6",
   "metadata": {},
   "outputs": [
    {
     "data": {
      "text/plain": [
       "True"
      ]
     },
     "execution_count": 2,
     "metadata": {},
     "output_type": "execute_result"
    }
   ],
   "source": [
    "str1='hai how are you'\n",
    "str1.startswith('h')"
   ]
  },
  {
   "cell_type": "code",
   "execution_count": 4,
   "id": "14c897bc-d76b-4874-802e-9c31a090ab87",
   "metadata": {},
   "outputs": [
    {
     "data": {
      "text/plain": [
       "True"
      ]
     },
     "execution_count": 4,
     "metadata": {},
     "output_type": "execute_result"
    }
   ],
   "source": [
    "str1.startswith('hai')"
   ]
  },
  {
   "cell_type": "code",
   "execution_count": 6,
   "id": "8169ebb6-199c-4901-8ad2-d721eefec605",
   "metadata": {},
   "outputs": [
    {
     "data": {
      "text/plain": [
       "True"
      ]
     },
     "execution_count": 6,
     "metadata": {},
     "output_type": "execute_result"
    }
   ],
   "source": [
    "str1.startswith('hai how')"
   ]
  },
  {
   "cell_type": "code",
   "execution_count": 8,
   "id": "df1f0a2a-58d7-4b60-bea1-c34a769fad19",
   "metadata": {},
   "outputs": [
    {
     "data": {
      "text/plain": [
       "True"
      ]
     },
     "execution_count": 8,
     "metadata": {},
     "output_type": "execute_result"
    }
   ],
   "source": [
    "str1.startswith('hai how are')"
   ]
  },
  {
   "cell_type": "code",
   "execution_count": 10,
   "id": "d430e928-570d-4921-9a64-2d6a222e0a3a",
   "metadata": {},
   "outputs": [
    {
     "data": {
      "text/plain": [
       "True"
      ]
     },
     "execution_count": 10,
     "metadata": {},
     "output_type": "execute_result"
    }
   ],
   "source": [
    "str1.startswith(str1)"
   ]
  },
  {
   "cell_type": "markdown",
   "id": "6da48f16-e8a4-4ac3-9e7e-6ee22f20ebad",
   "metadata": {},
   "source": [
    "- **endswith**"
   ]
  },
  {
   "cell_type": "code",
   "execution_count": 13,
   "id": "b1b84f5a-7a86-4b28-975b-7fea17d40ffd",
   "metadata": {},
   "outputs": [
    {
     "data": {
      "text/plain": [
       "True"
      ]
     },
     "execution_count": 13,
     "metadata": {},
     "output_type": "execute_result"
    }
   ],
   "source": [
    "str1.endswith('u')"
   ]
  },
  {
   "cell_type": "code",
   "execution_count": 15,
   "id": "0b222fbb-8036-4672-962f-8dc8b787cd77",
   "metadata": {},
   "outputs": [
    {
     "data": {
      "text/plain": [
       "True"
      ]
     },
     "execution_count": 15,
     "metadata": {},
     "output_type": "execute_result"
    }
   ],
   "source": [
    "str1.endswith('you')"
   ]
  },
  {
   "cell_type": "markdown",
   "id": "a95b41d0-804f-46d1-94fc-3452982e0ea6",
   "metadata": {},
   "source": [
    "- **count**"
   ]
  },
  {
   "cell_type": "code",
   "execution_count": 18,
   "id": "63ff7796-4c33-4f2d-b265-f400f683d759",
   "metadata": {},
   "outputs": [
    {
     "name": "stdout",
     "output_type": "stream",
     "text": [
      "count: 3\n"
     ]
    }
   ],
   "source": [
    "str1='ola ola ola'\n",
    "count=0\n",
    "for i in str1:\n",
    "    if i=='a':\n",
    "        count=count+1\n",
    "print('count:',count)"
   ]
  },
  {
   "cell_type": "code",
   "execution_count": 22,
   "id": "6db0b92b-cefc-42c4-9e8e-a97b65168479",
   "metadata": {},
   "outputs": [
    {
     "name": "stdout",
     "output_type": "stream",
     "text": [
      "count: 3\n"
     ]
    }
   ],
   "source": [
    "str1='ola ola ola'\n",
    "count=0\n",
    "for i in range(len(str1)):\n",
    "    if str1[i]=='a':\n",
    "        count=count+1\n",
    "print('count:',count)"
   ]
  },
  {
   "cell_type": "markdown",
   "id": "3dcf9ce0-b9fe-435f-8b20-5f99f556115d",
   "metadata": {},
   "source": [
    "---\n",
    "- $Case-1$"
   ]
  },
  {
   "cell_type": "code",
   "execution_count": 24,
   "id": "43e7d75d-0cae-4f6f-bbce-d4ca107637f8",
   "metadata": {},
   "outputs": [
    {
     "data": {
      "text/plain": [
       "3"
      ]
     },
     "execution_count": 24,
     "metadata": {},
     "output_type": "execute_result"
    }
   ],
   "source": [
    "str1='ola ola ola'\n",
    "str1.count('a')"
   ]
  },
  {
   "cell_type": "markdown",
   "id": "8fb1b053-906a-4366-8648-5fc76adccd59",
   "metadata": {},
   "source": [
    "- $Case-2$"
   ]
  },
  {
   "cell_type": "code",
   "execution_count": 29,
   "id": "98c3e528-cd39-4b2b-83f1-af5c7c11b14d",
   "metadata": {},
   "outputs": [
    {
     "data": {
      "text/plain": [
       "1"
      ]
     },
     "execution_count": 29,
     "metadata": {},
     "output_type": "execute_result"
    }
   ],
   "source": [
    "# -11 -10 -9 -8 - 7 -6 -5 -4 -3 -2 -1\n",
    "#  o   l   a      o  l  a     o  l  a\n",
    "#  0   1   2 3   4   5  6 7   8  9 10\n",
    "\n",
    "str1.count('a',5,10)"
   ]
  },
  {
   "cell_type": "code",
   "execution_count": 31,
   "id": "18f32d20-854a-426a-a280-46252facae94",
   "metadata": {},
   "outputs": [
    {
     "data": {
      "text/plain": [
       "0"
      ]
     },
     "execution_count": 31,
     "metadata": {},
     "output_type": "execute_result"
    }
   ],
   "source": [
    "str1.count('a',5,-10)"
   ]
  },
  {
   "cell_type": "code",
   "execution_count": 33,
   "id": "7e1d07eb-a163-4013-aef6-f1c2edaad7aa",
   "metadata": {},
   "outputs": [
    {
     "data": {
      "text/plain": [
       "2"
      ]
     },
     "execution_count": 33,
     "metadata": {},
     "output_type": "execute_result"
    }
   ],
   "source": [
    "str1.count('a',2,-2)"
   ]
  },
  {
   "cell_type": "code",
   "execution_count": 35,
   "id": "7e7f0a10-8191-461c-9a45-eb12dd118a5f",
   "metadata": {},
   "outputs": [
    {
     "data": {
      "text/plain": [
       "2"
      ]
     },
     "execution_count": 35,
     "metadata": {},
     "output_type": "execute_result"
    }
   ],
   "source": [
    "str1.count('a',5,11)"
   ]
  },
  {
   "cell_type": "code",
   "execution_count": 39,
   "id": "deb38039-2dec-4ef4-ab5e-bfd531b671a0",
   "metadata": {},
   "outputs": [
    {
     "data": {
      "text/plain": [
       "0"
      ]
     },
     "execution_count": 39,
     "metadata": {},
     "output_type": "execute_result"
    }
   ],
   "source": [
    "str1.count('a',6,-10)"
   ]
  },
  {
   "cell_type": "code",
   "execution_count": 41,
   "id": "8aa42bac-b5b8-4f25-baff-c089ec0e7001",
   "metadata": {},
   "outputs": [
    {
     "data": {
      "text/plain": [
       "0"
      ]
     },
     "execution_count": 41,
     "metadata": {},
     "output_type": "execute_result"
    }
   ],
   "source": [
    "str1.count('a',-1,-10)"
   ]
  },
  {
   "cell_type": "code",
   "execution_count": 43,
   "id": "a4258d7e-87e5-4cb7-9af5-d2189ee24d2c",
   "metadata": {},
   "outputs": [
    {
     "data": {
      "text/plain": [
       "2"
      ]
     },
     "execution_count": 43,
     "metadata": {},
     "output_type": "execute_result"
    }
   ],
   "source": [
    "str1.count('a',-10,-1)"
   ]
  },
  {
   "cell_type": "markdown",
   "id": "f50e510a-0074-413c-b92e-79f6f2eca2d7",
   "metadata": {},
   "source": [
    "**note: if doesnt matching count 0**"
   ]
  },
  {
   "cell_type": "code",
   "execution_count": 46,
   "id": "b6d3b5df-347e-45a1-9153-3c6f20c26973",
   "metadata": {},
   "outputs": [
    {
     "data": {
      "text/plain": [
       "0"
      ]
     },
     "execution_count": 46,
     "metadata": {},
     "output_type": "execute_result"
    }
   ],
   "source": [
    "str1.count('z')"
   ]
  },
  {
   "cell_type": "markdown",
   "id": "0553c0c7-650e-4ae0-84f0-e83f7791421a",
   "metadata": {},
   "source": [
    "---"
   ]
  },
  {
   "cell_type": "markdown",
   "id": "87542dc7-3529-4891-9ad2-c7f76faec21d",
   "metadata": {},
   "source": [
    "- **SLIDING WINDOW LOGIC**\n",
    "  - fix the slice value first\n",
    "    - **str[i:i+3]**\n",
    "  - then increase the slice by 1\n",
    "     - **for i in range(len(str1)):**\n",
    "  - match the string\n",
    "    - **if str1[i:i+3]=='ola'**\n",
    "  - update the count wrapper \n",
    "    "
   ]
  },
  {
   "cell_type": "code",
   "execution_count": 69,
   "id": "64a89b77-7c75-41bf-8a04-5a07c5c2bd47",
   "metadata": {},
   "outputs": [
    {
     "data": {
      "text/plain": [
       "3"
      ]
     },
     "execution_count": 69,
     "metadata": {},
     "output_type": "execute_result"
    }
   ],
   "source": [
    "str1='ola ola ola'\n",
    "count=0\n",
    "for i in range(len(str1)):\n",
    "    if str1[i:i+3]=='ola':\n",
    "        count+=1\n",
    "count\n"
   ]
  },
  {
   "cell_type": "code",
   "execution_count": null,
   "id": "8cce474e-ae8c-4013-afb1-3bb39cbddb1a",
   "metadata": {},
   "outputs": [],
   "source": [
    "# SLIDING WINDOW LOGIC\n",
    "\n",
    "\n",
    "\n",
    "# str1[i:i+3]=='ola'    logiv=c\n",
    "# i=0  0:0+3  0:3  'ola'\n",
    "# i=1  1:1+3  1:4  'la '"
   ]
  },
  {
   "cell_type": "markdown",
   "id": "c923a07b-034a-4331-a752-e4f88cb39731",
   "metadata": {},
   "source": [
    "---\n",
    "- **replace(): Return a copy with all occurrences of substring old replaced by new.**"
   ]
  },
  {
   "cell_type": "code",
   "execution_count": 75,
   "id": "04e5468c-7cff-4435-88be-ec26144ae4d1",
   "metadata": {},
   "outputs": [
    {
     "data": {
      "text/plain": [
       "False"
      ]
     },
     "execution_count": 75,
     "metadata": {},
     "output_type": "execute_result"
    }
   ],
   "source": [
    "str1='welcome' # welcome\n",
    "str1[2]=='L'   # error"
   ]
  },
  {
   "cell_type": "code",
   "execution_count": 79,
   "id": "ed5ccbac-80e0-44c2-9f76-4c095fcea2ff",
   "metadata": {},
   "outputs": [
    {
     "data": {
      "text/plain": [
       "'weLcome'"
      ]
     },
     "execution_count": 79,
     "metadata": {},
     "output_type": "execute_result"
    }
   ],
   "source": [
    "str1='welcome'\n",
    "str1.replace('l','L')"
   ]
  },
  {
   "cell_type": "code",
   "execution_count": 90,
   "id": "282ce829-334d-431f-8d1e-c37e26915757",
   "metadata": {},
   "outputs": [
    {
     "data": {
      "text/plain": [
       "'weLLLLLlllllcome'"
      ]
     },
     "execution_count": 90,
     "metadata": {},
     "output_type": "execute_result"
    }
   ],
   "source": [
    "str1='wellllllllllcome'\n",
    "str1.replace('l','L',5)"
   ]
  },
  {
   "cell_type": "code",
   "execution_count": 92,
   "id": "6ef50623-02a9-44b9-84ef-e611e6421cbf",
   "metadata": {},
   "outputs": [
    {
     "data": {
      "text/plain": [
       "'weLLLLLLLLLLcome'"
      ]
     },
     "execution_count": 92,
     "metadata": {},
     "output_type": "execute_result"
    }
   ],
   "source": [
    "str1='wellllllllllcome'\n",
    "str1.replace('l','L')"
   ]
  },
  {
   "cell_type": "markdown",
   "id": "7a87287d-8b0d-4e42-a3fc-317d9b38240d",
   "metadata": {},
   "source": [
    "**No error**"
   ]
  },
  {
   "cell_type": "code",
   "execution_count": 95,
   "id": "60056fb3-04b9-405e-a5af-16dbe027fe1d",
   "metadata": {},
   "outputs": [
    {
     "data": {
      "text/plain": [
       "'welcome'"
      ]
     },
     "execution_count": 95,
     "metadata": {},
     "output_type": "execute_result"
    }
   ],
   "source": [
    "str1='welcome'\n",
    "str1.replace('z','Z')"
   ]
  },
  {
   "cell_type": "markdown",
   "id": "dc7d81e3-5981-468a-bc7b-3b8d26d1b383",
   "metadata": {},
   "source": [
    "- By default it will replace all the occurences\n",
    "- The users can provide count which indicates how many letters can replace\n",
    "- if substring nt found it will rturn the original string itself"
   ]
  },
  {
   "cell_type": "code",
   "execution_count": 106,
   "id": "4fd5060f-7ccc-4277-86b5-2416c5d27337",
   "metadata": {},
   "outputs": [
    {
     "data": {
      "text/plain": [
       "'resta$t'"
      ]
     },
     "execution_count": 106,
     "metadata": {},
     "output_type": "execute_result"
    }
   ],
   "source": [
    "str1='restart'\n",
    "s1=str1[3:len(str1)]\n",
    "s3=s1.replace('r','$')\n",
    "s2=str1[0:3]\n",
    "s2+s3"
   ]
  },
  {
   "cell_type": "code",
   "execution_count": 108,
   "id": "fc13ba7a-ba4b-4aca-b499-277ad9764953",
   "metadata": {},
   "outputs": [
    {
     "data": {
      "text/plain": [
       "'resta$t'"
      ]
     },
     "execution_count": 108,
     "metadata": {},
     "output_type": "execute_result"
    }
   ],
   "source": [
    "str1='restart'\n",
    "str1[::-1].replace('r','$',1)[::-1]"
   ]
  },
  {
   "cell_type": "markdown",
   "id": "8ff203ed-94ff-49aa-bcf4-aaa101dfc701",
   "metadata": {},
   "source": [
    "**index method()**"
   ]
  },
  {
   "cell_type": "code",
   "execution_count": 113,
   "id": "69208645-228d-4562-8e6d-cfadc566e055",
   "metadata": {},
   "outputs": [
    {
     "data": {
      "text/plain": [
       "0"
      ]
     },
     "execution_count": 113,
     "metadata": {},
     "output_type": "execute_result"
    }
   ],
   "source": [
    "str1='restart restart'\n",
    "str1.index('r')"
   ]
  },
  {
   "cell_type": "markdown",
   "id": "2639c771-672c-4f9a-890d-9e2af1f2afea",
   "metadata": {},
   "source": [
    "**by default first string index will come**"
   ]
  },
  {
   "cell_type": "markdown",
   "id": "8b7c4017-ff61-4075-8c06-58498bc5d519",
   "metadata": {},
   "source": [
    "- $Case-2$"
   ]
  },
  {
   "cell_type": "code",
   "execution_count": 117,
   "id": "2559f6d1-766c-4cd8-80bd-800f51ce3deb",
   "metadata": {},
   "outputs": [
    {
     "ename": "ValueError",
     "evalue": "substring not found",
     "output_type": "error",
     "traceback": [
      "\u001b[1;31m---------------------------------------------------------------------------\u001b[0m",
      "\u001b[1;31mValueError\u001b[0m                                Traceback (most recent call last)",
      "Cell \u001b[1;32mIn[117], line 2\u001b[0m\n\u001b[0;32m      1\u001b[0m str1\u001b[38;5;241m=\u001b[39m\u001b[38;5;124m'\u001b[39m\u001b[38;5;124mrestart restart\u001b[39m\u001b[38;5;124m'\u001b[39m\n\u001b[1;32m----> 2\u001b[0m str1\u001b[38;5;241m.\u001b[39mindex(\u001b[38;5;124m'\u001b[39m\u001b[38;5;124mz\u001b[39m\u001b[38;5;124m'\u001b[39m)\n",
      "\u001b[1;31mValueError\u001b[0m: substring not found"
     ]
    }
   ],
   "source": [
    "str1='restart restart'\n",
    "str1.index('z')"
   ]
  },
  {
   "cell_type": "markdown",
   "id": "bdd9ca1f-ca29-4120-ac71-8196776241d7",
   "metadata": {},
   "source": [
    "- $Case-3$"
   ]
  },
  {
   "cell_type": "code",
   "execution_count": 126,
   "id": "107cdd90-a50f-48c2-91f5-fee28091f388",
   "metadata": {},
   "outputs": [
    {
     "ename": "ValueError",
     "evalue": "substring not found",
     "output_type": "error",
     "traceback": [
      "\u001b[1;31m---------------------------------------------------------------------------\u001b[0m",
      "\u001b[1;31mValueError\u001b[0m                                Traceback (most recent call last)",
      "Cell \u001b[1;32mIn[126], line 6\u001b[0m\n\u001b[0;32m      4\u001b[0m i3\u001b[38;5;241m=\u001b[39mstr1\u001b[38;5;241m.\u001b[39mindex(\u001b[38;5;124m'\u001b[39m\u001b[38;5;124mr\u001b[39m\u001b[38;5;124m'\u001b[39m,i2\u001b[38;5;241m+\u001b[39m\u001b[38;5;241m1\u001b[39m)\n\u001b[0;32m      5\u001b[0m i4\u001b[38;5;241m=\u001b[39mstr1\u001b[38;5;241m.\u001b[39mindex(\u001b[38;5;124m'\u001b[39m\u001b[38;5;124mr\u001b[39m\u001b[38;5;124m'\u001b[39m,i3\u001b[38;5;241m+\u001b[39m\u001b[38;5;241m1\u001b[39m)\n\u001b[1;32m----> 6\u001b[0m i5\u001b[38;5;241m=\u001b[39mstr1\u001b[38;5;241m.\u001b[39mindex(\u001b[38;5;124m'\u001b[39m\u001b[38;5;124mr\u001b[39m\u001b[38;5;124m'\u001b[39m,i4\u001b[38;5;241m+\u001b[39m\u001b[38;5;241m1\u001b[39m)\n\u001b[0;32m      7\u001b[0m i5\n",
      "\u001b[1;31mValueError\u001b[0m: substring not found"
     ]
    }
   ],
   "source": [
    "str1='restart restart'\n",
    "i1=str1.index('r')\n",
    "i2=str1.index('r',i1+1)\n",
    "i3=str1.index('r',i2+1)\n",
    "i4=str1.index('r',i3+1)\n",
    "i5=str1.index('r',i4+1)\n",
    "i5"
   ]
  },
  {
   "cell_type": "markdown",
   "id": "33b3c5be-2cf2-4a45-b9fc-38af8e5e3759",
   "metadata": {},
   "source": [
    "---\n",
    "- **find()**"
   ]
  },
  {
   "cell_type": "code",
   "execution_count": 130,
   "id": "f76af979-c46c-4582-baef-88787254c7c4",
   "metadata": {},
   "outputs": [
    {
     "data": {
      "text/plain": [
       "(0, 5, 8, 13, -1)"
      ]
     },
     "execution_count": 130,
     "metadata": {},
     "output_type": "execute_result"
    }
   ],
   "source": [
    "str1='restart restart'\n",
    "i1=str1.find('r')\n",
    "i2=str1.find('r',i1+1)\n",
    "i3=str1.find('r',i2+1)\n",
    "i4=str1.find('r',i3+1)\n",
    "i5=str1.find('r',i4+1)\n",
    "i1,i2,i3,i4,i5"
   ]
  },
  {
   "cell_type": "code",
   "execution_count": 3,
   "id": "1a6372c3-ef83-4ea2-9dbf-178bbb573711",
   "metadata": {},
   "outputs": [
    {
     "data": {
      "text/plain": [
       "0"
      ]
     },
     "execution_count": 3,
     "metadata": {},
     "output_type": "execute_result"
    }
   ],
   "source": [
    "str1='restart restart'\n",
    "str1.count('z')"
   ]
  },
  {
   "cell_type": "code",
   "execution_count": 7,
   "id": "da49aea9-14f7-4d57-b3c3-d46430b37916",
   "metadata": {},
   "outputs": [
    {
     "data": {
      "text/plain": [
       "'restart restart'"
      ]
     },
     "execution_count": 7,
     "metadata": {},
     "output_type": "execute_result"
    }
   ],
   "source": [
    "str1.replace('z','Z')"
   ]
  },
  {
   "cell_type": "code",
   "execution_count": 9,
   "id": "bff5c48b-c19d-4d60-a10a-e24ea089bfd1",
   "metadata": {},
   "outputs": [
    {
     "ename": "ValueError",
     "evalue": "substring not found",
     "output_type": "error",
     "traceback": [
      "\u001b[1;31m---------------------------------------------------------------------------\u001b[0m",
      "\u001b[1;31mValueError\u001b[0m                                Traceback (most recent call last)",
      "Cell \u001b[1;32mIn[9], line 1\u001b[0m\n\u001b[1;32m----> 1\u001b[0m str1\u001b[38;5;241m.\u001b[39mindex(\u001b[38;5;124m'\u001b[39m\u001b[38;5;124mz\u001b[39m\u001b[38;5;124m'\u001b[39m)\n",
      "\u001b[1;31mValueError\u001b[0m: substring not found"
     ]
    }
   ],
   "source": [
    "str1.index('z')"
   ]
  },
  {
   "cell_type": "code",
   "execution_count": 11,
   "id": "6f6a45d8-8ecb-4e07-a975-feac1478f0a4",
   "metadata": {},
   "outputs": [
    {
     "data": {
      "text/plain": [
       "-1"
      ]
     },
     "execution_count": 11,
     "metadata": {},
     "output_type": "execute_result"
    }
   ],
   "source": [
    "str1.find('z')"
   ]
  },
  {
   "cell_type": "code",
   "execution_count": null,
   "id": "30132f37-3a20-4dcf-bfbe-b7ed2f74733b",
   "metadata": {},
   "outputs": [],
   "source": [
    "str1='virat.kohli@rcb.com'\n",
    "str2='rohit.sharma@mi.com'\n",
    "str3='ms.dhoni@csk.com'\n",
    "# extract first name , second name and company name"
   ]
  },
  {
   "cell_type": "code",
   "execution_count": 21,
   "id": "c2c2b620-c943-4840-8d66-51dafabfcb64",
   "metadata": {},
   "outputs": [
    {
     "name": "stdin",
     "output_type": "stream",
     "text": [
      " ms.dhoni@csk.com\n"
     ]
    },
    {
     "name": "stdout",
     "output_type": "stream",
     "text": [
      "ms\n",
      "dhoni\n",
      "csk\n"
     ]
    }
   ],
   "source": [
    "def name():\n",
    "    try:\n",
    "        for i in range \n",
    "        str1=input()\n",
    "        n=str1.index('.')\n",
    "        str_f=str1[:n]\n",
    "        print(str_f)\n",
    "        n1=str1.index('@')\n",
    "        str_s=str1[n+1:n1]\n",
    "        print(str_s)\n",
    "        n2=str1.index('.',n+1)\n",
    "        str_c=str1[n1+1:n2]\n",
    "        print(str_c)\n",
    "    except Exception as e:\n",
    "        print(e)\n",
    "name()"
   ]
  },
  {
   "cell_type": "code",
   "execution_count": 25,
   "id": "5a4ee86c-8d56-427c-b784-f5f838595083",
   "metadata": {},
   "outputs": [
    {
     "name": "stdin",
     "output_type": "stream",
     "text": [
      " virat.kohli@csk.com\n"
     ]
    },
    {
     "name": "stdout",
     "output_type": "stream",
     "text": [
      "virat\n",
      "kohli\n",
      "csk\n"
     ]
    },
    {
     "name": "stdin",
     "output_type": "stream",
     "text": [
      " ms.dhoni@rcb.com\n"
     ]
    },
    {
     "name": "stdout",
     "output_type": "stream",
     "text": [
      "ms\n",
      "dhoni\n",
      "rcb\n"
     ]
    },
    {
     "name": "stdin",
     "output_type": "stream",
     "text": [
      " rohit.sharma@mi.com\n"
     ]
    },
    {
     "name": "stdout",
     "output_type": "stream",
     "text": [
      "rohit\n",
      "sharma\n",
      "mi\n"
     ]
    },
    {
     "name": "stdin",
     "output_type": "stream",
     "text": [
      " a.b@c.com\n"
     ]
    },
    {
     "name": "stdout",
     "output_type": "stream",
     "text": [
      "a\n",
      "b\n",
      "c\n"
     ]
    }
   ],
   "source": [
    "def name():\n",
    "    try:\n",
    "        for i in range(4): \n",
    "            str1=input()\n",
    "            n=str1.index('.')\n",
    "            str_f=str1[:n]\n",
    "            print(str_f)\n",
    "            n1=str1.index('@')\n",
    "            str_s=str1[n+1:n1]\n",
    "            print(str_s)\n",
    "            n2=str1.index('.',n+1)\n",
    "            str_c=str1[n1+1:n2]\n",
    "            print(str_c)\n",
    "    except Exception as e:\n",
    "        print(e)\n",
    "name()"
   ]
  },
  {
   "cell_type": "markdown",
   "id": "f74dd638-0a6e-481b-9220-0ab752ed4d66",
   "metadata": {},
   "source": [
    "- **split**\n",
    "  - split is used to convert a string to list of elements\n",
    "  - by default it is based on space\n",
    "- **join**\n",
    "  - join is used to convert list of elements to string"
   ]
  },
  {
   "cell_type": "code",
   "execution_count": 30,
   "id": "a44848c8-b1e8-446d-a0a5-379eddc8f3ef",
   "metadata": {},
   "outputs": [
    {
     "data": {
      "text/plain": [
       "['hai', 'how', 'are', 'you']"
      ]
     },
     "execution_count": 30,
     "metadata": {},
     "output_type": "execute_result"
    }
   ],
   "source": [
    "str1='hai how are you'\n",
    "str1.split()"
   ]
  },
  {
   "cell_type": "code",
   "execution_count": 32,
   "id": "b0976d3f-a3ce-403d-8af8-24d186bb582b",
   "metadata": {},
   "outputs": [
    {
     "data": {
      "text/plain": [
       "['hai how', 'are you']"
      ]
     },
     "execution_count": 32,
     "metadata": {},
     "output_type": "execute_result"
    }
   ],
   "source": [
    "str1='hai how,are you'\n",
    "str1.split(',')"
   ]
  },
  {
   "cell_type": "code",
   "execution_count": 34,
   "id": "74da570f-0fe9-4e20-877b-6dacf96a912b",
   "metadata": {},
   "outputs": [
    {
     "data": {
      "text/plain": [
       "['hai h', 'w are y', 'u']"
      ]
     },
     "execution_count": 34,
     "metadata": {},
     "output_type": "execute_result"
    }
   ],
   "source": [
    "str1='hai how are you'\n",
    "str1.split('o')\n",
    "# ['hai h','w are y','u']"
   ]
  },
  {
   "cell_type": "code",
   "execution_count": 38,
   "id": "7c48eb11-0337-416e-94ab-0f9e430f7981",
   "metadata": {},
   "outputs": [
    {
     "name": "stdout",
     "output_type": "stream",
     "text": [
      "['hai', 'how', 'are', 'you']\n"
     ]
    },
    {
     "data": {
      "text/plain": [
       "'hai how are you'"
      ]
     },
     "execution_count": 38,
     "metadata": {},
     "output_type": "execute_result"
    }
   ],
   "source": [
    "str1='hai how are you'\n",
    "l=str1.split()\n",
    "print(l)\n",
    "' '.join(l)"
   ]
  },
  {
   "cell_type": "code",
   "execution_count": 40,
   "id": "e9fa42a9-6d9b-4ef0-be20-2542eab0544e",
   "metadata": {},
   "outputs": [
    {
     "name": "stdout",
     "output_type": "stream",
     "text": [
      "['hai how', 'are you']\n"
     ]
    },
    {
     "data": {
      "text/plain": [
       "'hai how,are you'"
      ]
     },
     "execution_count": 40,
     "metadata": {},
     "output_type": "execute_result"
    }
   ],
   "source": [
    "str1='hai how,are you'\n",
    "m=str1.split(',')\n",
    "print(m)\n",
    "','.join(m)"
   ]
  },
  {
   "cell_type": "code",
   "execution_count": 46,
   "id": "69045e80-0992-4cd6-86a9-cc2a90d6d04c",
   "metadata": {},
   "outputs": [
    {
     "name": "stdout",
     "output_type": "stream",
     "text": [
      "['hai h', 'w are y', 'u']\n"
     ]
    },
    {
     "data": {
      "text/plain": [
       "'hai how are you'"
      ]
     },
     "execution_count": 46,
     "metadata": {},
     "output_type": "execute_result"
    }
   ],
   "source": [
    "str1='hai how are you'\n",
    "k=str1.split('o')\n",
    "print(k)\n",
    "'o'.join(k)"
   ]
  },
  {
   "cell_type": "code",
   "execution_count": 49,
   "id": "679ce1ca-166f-4b22-91d9-5a04577746d6",
   "metadata": {},
   "outputs": [
    {
     "data": {
      "text/plain": [
       "['__add__',\n",
       " '__class__',\n",
       " '__contains__',\n",
       " '__delattr__',\n",
       " '__dir__',\n",
       " '__doc__',\n",
       " '__eq__',\n",
       " '__format__',\n",
       " '__ge__',\n",
       " '__getattribute__',\n",
       " '__getitem__',\n",
       " '__getnewargs__',\n",
       " '__getstate__',\n",
       " '__gt__',\n",
       " '__hash__',\n",
       " '__init__',\n",
       " '__init_subclass__',\n",
       " '__iter__',\n",
       " '__le__',\n",
       " '__len__',\n",
       " '__lt__',\n",
       " '__mod__',\n",
       " '__mul__',\n",
       " '__ne__',\n",
       " '__new__',\n",
       " '__reduce__',\n",
       " '__reduce_ex__',\n",
       " '__repr__',\n",
       " '__rmod__',\n",
       " '__rmul__',\n",
       " '__setattr__',\n",
       " '__sizeof__',\n",
       " '__str__',\n",
       " '__subclasshook__',\n",
       " 'capitalize',\n",
       " 'casefold',\n",
       " 'center',\n",
       " 'count',\n",
       " 'encode',\n",
       " 'endswith',\n",
       " 'expandtabs',\n",
       " 'find',\n",
       " 'format',\n",
       " 'format_map',\n",
       " 'index',\n",
       " 'isalnum',\n",
       " 'isalpha',\n",
       " 'isascii',\n",
       " 'isdecimal',\n",
       " 'isdigit',\n",
       " 'isidentifier',\n",
       " 'islower',\n",
       " 'isnumeric',\n",
       " 'isprintable',\n",
       " 'isspace',\n",
       " 'istitle',\n",
       " 'isupper',\n",
       " 'join',\n",
       " 'ljust',\n",
       " 'lower',\n",
       " 'lstrip',\n",
       " 'maketrans',\n",
       " 'partition',\n",
       " 'removeprefix',\n",
       " 'removesuffix',\n",
       " 'replace',\n",
       " 'rfind',\n",
       " 'rindex',\n",
       " 'rjust',\n",
       " 'rpartition',\n",
       " 'rsplit',\n",
       " 'rstrip',\n",
       " 'split',\n",
       " 'splitlines',\n",
       " 'startswith',\n",
       " 'strip',\n",
       " 'swapcase',\n",
       " 'title',\n",
       " 'translate',\n",
       " 'upper',\n",
       " 'zfill']"
      ]
     },
     "execution_count": 49,
     "metadata": {},
     "output_type": "execute_result"
    }
   ],
   "source": [
    "dir('')"
   ]
  },
  {
   "cell_type": "code",
   "execution_count": null,
   "id": "9db8f074-c8ef-4982-9f47-1109228c78d0",
   "metadata": {},
   "outputs": [],
   "source": []
  }
 ],
 "metadata": {
  "kernelspec": {
   "display_name": "Python [conda env:base] *",
   "language": "python",
   "name": "conda-base-py"
  },
  "language_info": {
   "codemirror_mode": {
    "name": "ipython",
    "version": 3
   },
   "file_extension": ".py",
   "mimetype": "text/x-python",
   "name": "python",
   "nbconvert_exporter": "python",
   "pygments_lexer": "ipython3",
   "version": "3.12.7"
  }
 },
 "nbformat": 4,
 "nbformat_minor": 5
}
