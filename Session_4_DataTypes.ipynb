{
 "cells": [
  {
   "cell_type": "markdown",
   "id": "226e91a6-7e46-46f0-bc0a-bdd2b9b399f5",
   "metadata": {},
   "source": [
    "### DATA TYPES"
   ]
  },
  {
   "cell_type": "markdown",
   "id": "87fe093d-4a6b-4d4d-bc02-6aa924ef4c96",
   "metadata": {},
   "source": [
    "- integer: int\n",
    "- float\n",
    "- string\n",
    "- list\n",
    "- tuple\n",
    "- set\n",
    "  - frozen set\n",
    "- dictionary\n",
    "- bol\n",
    "- complex\n",
    "- range\n",
    "- byte\n",
    "- byte array\n",
    "- memory view\n",
    "- None Type"
   ]
  },
  {
   "cell_type": "markdown",
   "id": "8b9c3684-d27e-4621-8b45-d4cf106011a1",
   "metadata": {},
   "source": [
    "---\n",
    "- myth\n",
    "  - only 14-15 data type available\n",
    "- reality\n",
    "  - many are there\n",
    "---"
   ]
  },
  {
   "cell_type": "markdown",
   "id": "d87d30f2-2015-4d64-a9c2-bd90661b673e",
   "metadata": {},
   "source": [
    "$Integer$"
   ]
  },
  {
   "cell_type": "code",
   "execution_count": 8,
   "id": "adc0da08-1605-4b00-9792-651790fb40c0",
   "metadata": {},
   "outputs": [
    {
     "data": {
      "text/plain": [
       "100"
      ]
     },
     "execution_count": 8,
     "metadata": {},
     "output_type": "execute_result"
    }
   ],
   "source": [
    "number=100\n",
    "number"
   ]
  },
  {
   "cell_type": "code",
   "execution_count": 10,
   "id": "9a77c5ca-e8ae-4dc3-8059-8514fd0b5d04",
   "metadata": {},
   "outputs": [
    {
     "data": {
      "text/plain": [
       "type"
      ]
     },
     "execution_count": 10,
     "metadata": {},
     "output_type": "execute_result"
    }
   ],
   "source": [
    "type"
   ]
  },
  {
   "cell_type": "code",
   "execution_count": 12,
   "id": "d2433ecc-c780-4499-be1b-51560c4f2d1c",
   "metadata": {},
   "outputs": [
    {
     "data": {
      "text/plain": [
       "int"
      ]
     },
     "execution_count": 12,
     "metadata": {},
     "output_type": "execute_result"
    }
   ],
   "source": [
    "type(number)"
   ]
  },
  {
   "cell_type": "markdown",
   "id": "4a395e83-2141-455f-877b-4f01a52d873d",
   "metadata": {},
   "source": [
    "---\n",
    "- on earth== how old are you\n",
    "  - 7 years"
   ]
  },
  {
   "cell_type": "markdown",
   "id": "7871ed4e-f2b9-46e7-80a7-7c15ef3dccea",
   "metadata": {},
   "source": [
    "- on mars == how old are you\n",
    "  - 0b111\n",
    "---"
   ]
  },
  {
   "cell_type": "markdown",
   "id": "c56bb71b-f386-4ed7-8aba-db8a53276ef0",
   "metadata": {},
   "source": [
    "**Number System**\n",
    "- Binary Number System\n",
    "- Decimal Number System\n",
    "- Octa Number System\n",
    "- Hexa Number System"
   ]
  },
  {
   "cell_type": "markdown",
   "id": "8f62a1b2-0ea2-48db-8a1b-b79b7f1c43b1",
   "metadata": {},
   "source": [
    "**Binary Number System**\n",
    "- it us denoted with **ob** or **0B**\n",
    "- Binary means two\n",
    "- we have generally 0-9 digits available\n",
    "- binary means only two digits are allowed : 0 and 1\n",
    "- ex: 0b101 0b111 0b000 0B001\n",
    "- not valid: 0b123 0B00012"
   ]
  },
  {
   "cell_type": "code",
   "execution_count": 18,
   "id": "e702fe7f-1f09-44a4-b29b-a403dc693bc0",
   "metadata": {},
   "outputs": [
    {
     "ename": "SyntaxError",
     "evalue": "invalid digit '2' in binary literal (1599514596.py, line 1)",
     "output_type": "error",
     "traceback": [
      "\u001b[1;36m  Cell \u001b[1;32mIn[18], line 1\u001b[1;36m\u001b[0m\n\u001b[1;33m    0b112\u001b[0m\n\u001b[1;37m        ^\u001b[0m\n\u001b[1;31mSyntaxError\u001b[0m\u001b[1;31m:\u001b[0m invalid digit '2' in binary literal\n"
     ]
    }
   ],
   "source": [
    "0b112 # 2 is there"
   ]
  },
  {
   "cell_type": "code",
   "execution_count": 20,
   "id": "ed781ca5-5780-4a20-9576-2e210fc83452",
   "metadata": {},
   "outputs": [
    {
     "data": {
      "text/plain": [
       "7"
      ]
     },
     "execution_count": 20,
     "metadata": {},
     "output_type": "execute_result"
    }
   ],
   "source": [
    "0b111"
   ]
  },
  {
   "cell_type": "code",
   "execution_count": 22,
   "id": "4b5d00f2-c6a3-480a-aea2-e547e40787ca",
   "metadata": {},
   "outputs": [
    {
     "ename": "NameError",
     "evalue": "name 'ob111' is not defined",
     "output_type": "error",
     "traceback": [
      "\u001b[1;31m---------------------------------------------------------------------------\u001b[0m",
      "\u001b[1;31mNameError\u001b[0m                                 Traceback (most recent call last)",
      "Cell \u001b[1;32mIn[22], line 1\u001b[0m\n\u001b[1;32m----> 1\u001b[0m ob111\n",
      "\u001b[1;31mNameError\u001b[0m: name 'ob111' is not defined"
     ]
    }
   ],
   "source": [
    "ob111 # instead of 0, letter 'o' is there"
   ]
  },
  {
   "cell_type": "code",
   "execution_count": 24,
   "id": "5032e15b-a83f-4639-a582-1e58a2f5abfb",
   "metadata": {},
   "outputs": [
    {
     "data": {
      "text/plain": [
       "29"
      ]
     },
     "execution_count": 24,
     "metadata": {},
     "output_type": "execute_result"
    }
   ],
   "source": [
    "0b11101"
   ]
  },
  {
   "cell_type": "raw",
   "id": "8935aefb-75b8-4611-9df8-ac27caa5c807",
   "metadata": {},
   "source": [
    "2^2 2^1 2^0\n",
    "4    2   1\n",
    "#####################\n",
    "0    0   0    0\n",
    "0    0   1    1\n",
    "0    1   0    2\n",
    "0    1   1    3\n",
    "1    0   0    4\n",
    "1    0   1    5\n",
    "1    1   0    6\n",
    "1    1   1    7"
   ]
  },
  {
   "cell_type": "raw",
   "id": "adae4064-cb08-4fc3-a8df-5024a67ad0f9",
   "metadata": {},
   "source": [
    "2^3 2^2 2^1 2^0\n",
    "8    4    2   1\n",
    "#####################\n",
    "0    0    0   0    0\n",
    "0    0    0   1    1\n",
    "0    0    1   0    2\n",
    "0    0    1   1    3\n",
    "0    1    0   0    4\n",
    "0    1    0   1    5\n",
    "0    1    1   0    6\n",
    "0    1    1   1    7\n",
    "1    0    0   0    8\n",
    "1    0    0   1    9\n",
    "1    0    1   0    10\n",
    "1    0    1   1    11\n",
    "1    1    0   0    12\n",
    "1    1    0   1    13\n",
    "1    1    1   0    14\n",
    "1    1    1   1    15"
   ]
  },
  {
   "cell_type": "markdown",
   "id": "22820e4f-39fc-4fd0-9e37-773f878bdd68",
   "metadata": {},
   "source": [
    "**Octa Number System**\n",
    "- it us denoted with **0o** or **0O**\n",
    "- Octa means 8\n",
    "- we have generally 0-9 digits available\n",
    "- binary means only two digits are allowed : 0 1 2 3 4 5 6 7\n",
    "- ex: 0o101 0o171 0o567 0O672\n",
    "- not valid: 0o786 0O000169"
   ]
  },
  {
   "cell_type": "code",
   "execution_count": 28,
   "id": "7c8e9f41-9bfc-4f7a-a4c7-89b7491b2138",
   "metadata": {},
   "outputs": [
    {
     "data": {
      "text/plain": [
       "83"
      ]
     },
     "execution_count": 28,
     "metadata": {},
     "output_type": "execute_result"
    }
   ],
   "source": [
    "0o123"
   ]
  },
  {
   "cell_type": "code",
   "execution_count": 30,
   "id": "94b4bb91-9931-4524-b659-d5eb79a1b5d5",
   "metadata": {},
   "outputs": [
    {
     "data": {
      "text/plain": [
       "375"
      ]
     },
     "execution_count": 30,
     "metadata": {},
     "output_type": "execute_result"
    }
   ],
   "source": [
    "0o567"
   ]
  },
  {
   "cell_type": "markdown",
   "id": "0b7d5377-60fc-480d-8588-11756ecb151b",
   "metadata": {},
   "source": [
    "**Hexa-Decimal Number System**\n",
    "- it us denoted with **0x** or **0X**\n",
    "- Hexa-Decimal means 16\n",
    "- we have generally 0-9 digits available\n",
    "- binary means only two digits are allowed : 0 1 2 3 4 5 6 7 8 9 A-10 B-11 C-12 D-13 E-14 F-15\n",
    "- ex: 0x101 0xabc 0XA1\n",
    "- not valid: 0xefg"
   ]
  },
  {
   "cell_type": "code",
   "execution_count": 35,
   "id": "8e22d820-8dc3-4be1-97d2-67ec4c069d86",
   "metadata": {},
   "outputs": [
    {
     "data": {
      "text/plain": [
       "2025"
      ]
     },
     "execution_count": 35,
     "metadata": {},
     "output_type": "execute_result"
    }
   ],
   "source": [
    "0b11111101001"
   ]
  },
  {
   "cell_type": "markdown",
   "id": "f0ead82e-dbb9-43b2-9cf8-16f6bddb24fa",
   "metadata": {},
   "source": [
    "---"
   ]
  },
  {
   "cell_type": "markdown",
   "id": "38482bc8-42a0-436c-851c-fe810e7b4186",
   "metadata": {},
   "source": [
    "$Float$"
   ]
  },
  {
   "cell_type": "markdown",
   "id": "61f8aab8-6988-466f-bdfa-0296e899857c",
   "metadata": {},
   "source": [
    "- e-Representation"
   ]
  },
  {
   "cell_type": "code",
   "execution_count": 38,
   "id": "dc539d06-862a-4988-a12b-1e29c72f44f8",
   "metadata": {},
   "outputs": [
    {
     "data": {
      "text/plain": [
       "(10.0, 100.0, 1000.0, 10000.0)"
      ]
     },
     "execution_count": 38,
     "metadata": {},
     "output_type": "execute_result"
    }
   ],
   "source": [
    "1e1,1e2,1e3,1e4"
   ]
  },
  {
   "cell_type": "code",
   "execution_count": 40,
   "id": "cb0ceb2a-710a-49ab-ab8c-a199852f12f2",
   "metadata": {},
   "outputs": [
    {
     "data": {
      "text/plain": [
       "20000.0"
      ]
     },
     "execution_count": 40,
     "metadata": {},
     "output_type": "execute_result"
    }
   ],
   "source": [
    "2e4 #2*10^4"
   ]
  },
  {
   "cell_type": "code",
   "execution_count": 44,
   "id": "3ae5fee7-3de5-4fc8-87ff-a9d3fc8ecd90",
   "metadata": {},
   "outputs": [
    {
     "name": "stdout",
     "output_type": "stream",
     "text": [
      "10.0\n",
      "100.0\n",
      "2000.0\n",
      "40000.0\n"
     ]
    }
   ],
   "source": [
    "print(1e1) #1*10=10.0\n",
    "print(1e2) #1*100=100.0\n",
    "print(2e3) #2*1000=2000.0\n",
    "print(4e4) #4*10000=40000.0"
   ]
  },
  {
   "cell_type": "code",
   "execution_count": 46,
   "id": "6e3e353d-32c4-4d4b-90c5-559a0c98c1f5",
   "metadata": {},
   "outputs": [
    {
     "name": "stdout",
     "output_type": "stream",
     "text": [
      "10.0\n",
      "100.0\n",
      "2000.0\n",
      "40000.0\n"
     ]
    }
   ],
   "source": [
    "print(1e+1) #1*10=10.0\n",
    "print(1e+2) #1*100=100.0\n",
    "print(2e+3) #2*1000=2000.0\n",
    "print(4e+4) #4*10000=40000.0"
   ]
  },
  {
   "cell_type": "code",
   "execution_count": 48,
   "id": "6720d060-8de6-4e48-87cc-f547c5f9523b",
   "metadata": {},
   "outputs": [
    {
     "name": "stdout",
     "output_type": "stream",
     "text": [
      "0.1\n",
      "0.01\n",
      "0.002\n",
      "0.0004\n"
     ]
    }
   ],
   "source": [
    "print(1e-1) #1/10=0.1\n",
    "print(1e-2) #1/100=0.01\n",
    "print(2e-3) #2/1000=0.002\n",
    "print(4e-4) #4/10000=0.0004"
   ]
  },
  {
   "cell_type": "markdown",
   "id": "73818758-c8d6-4c62-bc3e-ed9f0841cf63",
   "metadata": {},
   "source": [
    "---"
   ]
  },
  {
   "cell_type": "markdown",
   "id": "3f1d64ce-4544-4c04-914a-96ca503a2c6e",
   "metadata": {},
   "source": [
    "$Boolean$"
   ]
  },
  {
   "cell_type": "code",
   "execution_count": 12,
   "id": "25167017-5e4a-43c7-9504-b67a340870af",
   "metadata": {},
   "outputs": [
    {
     "data": {
      "text/plain": [
       "True"
      ]
     },
     "execution_count": 12,
     "metadata": {},
     "output_type": "execute_result"
    }
   ],
   "source": [
    "val=True\n",
    "val"
   ]
  },
  {
   "cell_type": "code",
   "execution_count": 14,
   "id": "1206cca4-ef96-4582-8b67-8b68ce7aa444",
   "metadata": {},
   "outputs": [
    {
     "data": {
      "text/plain": [
       "bool"
      ]
     },
     "execution_count": 14,
     "metadata": {},
     "output_type": "execute_result"
    }
   ],
   "source": [
    "type(val)"
   ]
  },
  {
   "cell_type": "code",
   "execution_count": 16,
   "id": "b1ff3599-1434-43f1-a50d-88d71ebf6b50",
   "metadata": {},
   "outputs": [
    {
     "data": {
      "text/plain": [
       "bool"
      ]
     },
     "execution_count": 16,
     "metadata": {},
     "output_type": "execute_result"
    }
   ],
   "source": [
    "val1=False\n",
    "type(val1)"
   ]
  },
  {
   "cell_type": "markdown",
   "id": "8ad22203-dba8-4af4-a7a1-b8a7c447508e",
   "metadata": {},
   "source": [
    "---"
   ]
  },
  {
   "cell_type": "markdown",
   "id": "221744ae-deb8-4e2e-9583-62436b2c11f9",
   "metadata": {},
   "source": [
    "$Strings$"
   ]
  },
  {
   "cell_type": "markdown",
   "id": "582690fa-a30f-4236-843e-381d2ca018b1",
   "metadata": {},
   "source": [
    "- English format representation\n",
    "- string represnt with quotes\n",
    "- we can use single quotes, double quotes, triple quotes\n"
   ]
  },
  {
   "cell_type": "code",
   "execution_count": 23,
   "id": "87ca7b1a-54e1-4d01-ad59-c5504d73af93",
   "metadata": {},
   "outputs": [
    {
     "data": {
      "text/plain": [
       "'python'"
      ]
     },
     "execution_count": 23,
     "metadata": {},
     "output_type": "execute_result"
    }
   ],
   "source": [
    "name='python'\n",
    "name"
   ]
  },
  {
   "cell_type": "code",
   "execution_count": 25,
   "id": "ecc2af83-9f65-4936-8c47-b5d41798dd32",
   "metadata": {},
   "outputs": [
    {
     "data": {
      "text/plain": [
       "str"
      ]
     },
     "execution_count": 25,
     "metadata": {},
     "output_type": "execute_result"
    }
   ],
   "source": [
    "type(name)"
   ]
  },
  {
   "cell_type": "code",
   "execution_count": 27,
   "id": "8023ae71-f021-4d08-a48a-21403ae63a82",
   "metadata": {},
   "outputs": [
    {
     "name": "stdout",
     "output_type": "stream",
     "text": [
      "python\n"
     ]
    }
   ],
   "source": [
    "print(name)\n",
    "# when we print we will not see quotes"
   ]
  },
  {
   "cell_type": "code",
   "execution_count": 29,
   "id": "6dad59e8-b3b5-43ad-a397-be22ceb9fa2e",
   "metadata": {},
   "outputs": [
    {
     "data": {
      "text/plain": [
       "str"
      ]
     },
     "execution_count": 29,
     "metadata": {},
     "output_type": "execute_result"
    }
   ],
   "source": [
    "val='10'\n",
    "type(val)"
   ]
  },
  {
   "cell_type": "code",
   "execution_count": 31,
   "id": "6bd1bfea-1609-41d6-950b-8617ff35c3a5",
   "metadata": {},
   "outputs": [
    {
     "data": {
      "text/plain": [
       "int"
      ]
     },
     "execution_count": 31,
     "metadata": {},
     "output_type": "execute_result"
    }
   ],
   "source": [
    "val1=10\n",
    "type(val1)"
   ]
  },
  {
   "cell_type": "code",
   "execution_count": 33,
   "id": "6482503b-fcc0-4bbe-8c00-6eec0b6ec0ed",
   "metadata": {},
   "outputs": [
    {
     "data": {
      "text/plain": [
       "'Naresh IT'"
      ]
     },
     "execution_count": 33,
     "metadata": {},
     "output_type": "execute_result"
    }
   ],
   "source": [
    "name=\"Naresh IT\"\n",
    "name\n",
    "# but output displayed as single quotes"
   ]
  },
  {
   "cell_type": "code",
   "execution_count": 35,
   "id": "a8632e33-37e0-49a4-b16c-ef4773899113",
   "metadata": {},
   "outputs": [
    {
     "data": {
      "text/plain": [
       "str"
      ]
     },
     "execution_count": 35,
     "metadata": {},
     "output_type": "execute_result"
    }
   ],
   "source": [
    "type(name)"
   ]
  },
  {
   "cell_type": "code",
   "execution_count": 37,
   "id": "20cbb05b-3c87-46a2-9f76-dbff050950d4",
   "metadata": {},
   "outputs": [
    {
     "name": "stdout",
     "output_type": "stream",
     "text": [
      "Naresh IT\n"
     ]
    }
   ],
   "source": [
    "print(name)"
   ]
  },
  {
   "cell_type": "markdown",
   "id": "d86fc6d2-2052-489c-bede-f715f2bc9d08",
   "metadata": {},
   "source": [
    "- Print I love Python and highlight the word with single quote vice versa "
   ]
  },
  {
   "cell_type": "code",
   "execution_count": 39,
   "id": "230f473a-c95f-440b-acde-f0d9699808dc",
   "metadata": {},
   "outputs": [
    {
     "data": {
      "text/plain": [
       "'i love python'"
      ]
     },
     "execution_count": 39,
     "metadata": {},
     "output_type": "execute_result"
    }
   ],
   "source": [
    "\n",
    "str1=\"i love python\"\n",
    "str1"
   ]
  },
  {
   "cell_type": "code",
   "execution_count": 43,
   "id": "02297fb6-e36a-4060-b94b-33adf3075a68",
   "metadata": {},
   "outputs": [
    {
     "name": "stdout",
     "output_type": "stream",
     "text": [
      "i love 'Python'\n"
     ]
    }
   ],
   "source": [
    "str2=\"i love 'Python'\"\n",
    "print(str2)"
   ]
  },
  {
   "cell_type": "code",
   "execution_count": 45,
   "id": "35a7f3b6-6201-4367-bde2-830e90e5f040",
   "metadata": {},
   "outputs": [
    {
     "data": {
      "text/plain": [
       "'i love \"python\"'"
      ]
     },
     "execution_count": 45,
     "metadata": {},
     "output_type": "execute_result"
    }
   ],
   "source": [
    "str1='i love \"python\"'\n",
    "str1"
   ]
  },
  {
   "cell_type": "markdown",
   "id": "5b1119c0-fc2a-4026-b7e2-8cb448bf7584",
   "metadata": {},
   "source": [
    "- triple qoutes (\"\"\" abc \"\"\")\n",
    "  - triple quotes can be used in coding part\n",
    "  - triple quotes means conveying the information\n",
    "  - this process is called as **Doc String**\n",
    "  - because in VS Code/ Pycharm there is no markdown option\n",
    "  - so user will convey the information by providing triple quotes "
   ]
  },
  {
   "cell_type": "code",
   "execution_count": 52,
   "id": "e81544ff-f650-46e2-b240-c4406ae7c58f",
   "metadata": {},
   "outputs": [
    {
     "data": {
      "text/plain": [
       "'hi\\n   Learning python is so easy\\n   enjoy'"
      ]
     },
     "execution_count": 52,
     "metadata": {},
     "output_type": "execute_result"
    }
   ],
   "source": [
    "\"\"\"hi\n",
    "   Learning python is so easy\n",
    "   enjoy\"\"\""
   ]
  },
  {
   "cell_type": "code",
   "execution_count": 54,
   "id": "7c425fbf-8daa-4ae2-9962-264363986706",
   "metadata": {},
   "outputs": [
    {
     "ename": "SyntaxError",
     "evalue": "cannot assign to True (3174758129.py, line 4)",
     "output_type": "error",
     "traceback": [
      "\u001b[1;36m  Cell \u001b[1;32mIn[54], line 4\u001b[1;36m\u001b[0m\n\u001b[1;33m    True=10 # Fails\u001b[0m\n\u001b[1;37m    ^\u001b[0m\n\u001b[1;31mSyntaxError\u001b[0m\u001b[1;31m:\u001b[0m cannot assign to True\n"
     ]
    }
   ],
   "source": [
    "true=True # Works\n",
    "true='True' # works\n",
    "true=10.5 # works\n",
    "True=10 # Fails\n",
    "True=True # Fails"
   ]
  },
  {
   "cell_type": "code",
   "execution_count": null,
   "id": "9ba565ac-b4ae-4491-9b9f-81eb23085e08",
   "metadata": {},
   "outputs": [],
   "source": []
  }
 ],
 "metadata": {
  "kernelspec": {
   "display_name": "Python [conda env:base] *",
   "language": "python",
   "name": "conda-base-py"
  },
  "language_info": {
   "codemirror_mode": {
    "name": "ipython",
    "version": 3
   },
   "file_extension": ".py",
   "mimetype": "text/x-python",
   "name": "python",
   "nbconvert_exporter": "python",
   "pygments_lexer": "ipython3",
   "version": "3.12.7"
  }
 },
 "nbformat": 4,
 "nbformat_minor": 5
}
