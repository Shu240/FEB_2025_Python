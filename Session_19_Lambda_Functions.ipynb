{
 "cells": [
  {
   "cell_type": "markdown",
   "id": "bd18c21c-ca71-4859-9e39-ae076960f036",
   "metadata": {},
   "source": [
    "# *Lambda Functions* #"
   ]
  },
  {
   "cell_type": "code",
   "execution_count": null,
   "id": "f033f40c-1335-4d5b-aff7-2f79c09b6191",
   "metadata": {},
   "outputs": [],
   "source": [
    "List Comprehension\n",
    "\n",
    "Method1: []"
   ]
  },
  {
   "cell_type": "markdown",
   "id": "5efdaa1d-9d8d-41bd-9bdb-bb38e887a941",
   "metadata": {},
   "source": [
    "- lambda functions represent functions in a single line\n",
    "- it is similar analogy to list comprehension\n",
    "- to reduce the time complexity we go for lambda functions"
   ]
  },
  {
   "cell_type": "markdown",
   "id": "4438ceae-5715-4a7b-98d3-1c3a20719b92",
   "metadata": {},
   "source": [
    "---\n",
    "- ### *function with one argument* ###"
   ]
  },
  {
   "cell_type": "code",
   "execution_count": 5,
   "id": "67c133b1-3d08-4d44-aef3-f080a9099b6e",
   "metadata": {},
   "outputs": [
    {
     "data": {
      "text/plain": [
       "100"
      ]
     },
     "execution_count": 5,
     "metadata": {},
     "output_type": "execute_result"
    }
   ],
   "source": [
    "def mul(a):\n",
    "    return(a*a)\n",
    "ans=mul(10)\n",
    "ans"
   ]
  },
  {
   "cell_type": "code",
   "execution_count": 8,
   "id": "3ca83c89-7385-4333-9b81-d3f134af56d5",
   "metadata": {},
   "outputs": [
    {
     "data": {
      "text/plain": [
       "100"
      ]
     },
     "execution_count": 8,
     "metadata": {},
     "output_type": "execute_result"
    }
   ],
   "source": [
    "# syntax\n",
    "# function_name = lambda <argument> : <return output>\n",
    "# in the above\n",
    "# function_name= mul\n",
    "# argument_name= a\n",
    "# return output =a*a\n",
    "\n",
    "mul= lambda a : a*a\n",
    "mul(10)"
   ]
  },
  {
   "cell_type": "code",
   "execution_count": 14,
   "id": "ba1cc66b-3252-4ef1-a3ce-92063f35e188",
   "metadata": {},
   "outputs": [
    {
     "data": {
      "text/plain": [
       "8"
      ]
     },
     "execution_count": 14,
     "metadata": {},
     "output_type": "execute_result"
    }
   ],
   "source": [
    "def cube(a):\n",
    "    return a*a*a\n",
    "ans=cube(2)\n",
    "ans"
   ]
  },
  {
   "cell_type": "code",
   "execution_count": 16,
   "id": "0a8a0bf6-8f67-41b8-8fac-90803158dc43",
   "metadata": {},
   "outputs": [
    {
     "data": {
      "text/plain": [
       "8"
      ]
     },
     "execution_count": 16,
     "metadata": {},
     "output_type": "execute_result"
    }
   ],
   "source": [
    "cube= lambda a: a*a*a\n",
    "cube(2)"
   ]
  },
  {
   "cell_type": "markdown",
   "id": "9749f877-b3e2-4121-ae11-bb8201908d2f",
   "metadata": {},
   "source": [
    "---\n",
    "- ### *function with two arguments* ###"
   ]
  },
  {
   "cell_type": "code",
   "execution_count": null,
   "id": "3b283051-6a09-41e8-a57a-989523b0eec6",
   "metadata": {},
   "outputs": [],
   "source": [
    "# syntax\n",
    "# function_name = lambda <arg1> <arg2> : <return output"
   ]
  },
  {
   "cell_type": "code",
   "execution_count": 19,
   "id": "54bebdf8-fcb2-477c-8702-f94d892458f1",
   "metadata": {},
   "outputs": [
    {
     "data": {
      "text/plain": [
       "30"
      ]
     },
     "execution_count": 19,
     "metadata": {},
     "output_type": "execute_result"
    }
   ],
   "source": [
    "def add(a,b):\n",
    "    return a+b\n",
    "add(10,20)"
   ]
  },
  {
   "cell_type": "code",
   "execution_count": 21,
   "id": "cfe47bff-b106-4cf0-85f6-27ac6de2a35f",
   "metadata": {},
   "outputs": [
    {
     "data": {
      "text/plain": [
       "30"
      ]
     },
     "execution_count": 21,
     "metadata": {},
     "output_type": "execute_result"
    }
   ],
   "source": [
    "add= lambda a,b: a+b\n",
    "add(10,20)"
   ]
  },
  {
   "cell_type": "markdown",
   "id": "a05542d6-35ef-4f9e-94fa-53f818693cca",
   "metadata": {},
   "source": [
    "---\n",
    "- ### *function with three arguments* ###"
   ]
  },
  {
   "cell_type": "code",
   "execution_count": 31,
   "id": "b5556ddd-b349-4b27-9a3f-5bb4890a2169",
   "metadata": {},
   "outputs": [
    {
     "data": {
      "text/plain": [
       "20.67"
      ]
     },
     "execution_count": 31,
     "metadata": {},
     "output_type": "execute_result"
    }
   ],
   "source": [
    "avg= lambda a,b,c: round((a+b+c)/3,2)\n",
    "avg(10,22,30)"
   ]
  },
  {
   "cell_type": "markdown",
   "id": "d7a94a22-920f-4baa-925b-4c403ee65862",
   "metadata": {},
   "source": [
    "---\n",
    "- ### *function with default arguments* ###"
   ]
  },
  {
   "cell_type": "code",
   "execution_count": 33,
   "id": "40dbad01-b74c-4549-92b9-969088efb39f",
   "metadata": {},
   "outputs": [
    {
     "data": {
      "text/plain": [
       "27.33"
      ]
     },
     "execution_count": 33,
     "metadata": {},
     "output_type": "execute_result"
    }
   ],
   "source": [
    "avg= lambda a,b,c=50: round((a+b+c)/3,2)\n",
    "avg(10,22)"
   ]
  },
  {
   "cell_type": "code",
   "execution_count": 42,
   "id": "1f3bf075-5392-416b-9220-4e9541edfa63",
   "metadata": {},
   "outputs": [
    {
     "data": {
      "text/plain": [
       "16"
      ]
     },
     "execution_count": 42,
     "metadata": {},
     "output_type": "execute_result"
    }
   ],
   "source": [
    "# pattern 1\n",
    "mul= lambda a: a**4\n",
    "mul(2)"
   ]
  },
  {
   "cell_type": "code",
   "execution_count": 46,
   "id": "8008b18e-8075-49db-bc1d-eb12085898c4",
   "metadata": {},
   "outputs": [
    {
     "data": {
      "text/plain": [
       "1.2"
      ]
     },
     "execution_count": 46,
     "metadata": {},
     "output_type": "execute_result"
    }
   ],
   "source": [
    "# pattern 2\n",
    "mul= lambda a,b: round((a*b)/(a+b),2)\n",
    "mul(2,3)"
   ]
  },
  {
   "cell_type": "code",
   "execution_count": 48,
   "id": "4eb1ee31-b6e3-44fb-a294-2a94cde0293e",
   "metadata": {},
   "outputs": [
    {
     "data": {
      "text/plain": [
       "3.0"
      ]
     },
     "execution_count": 48,
     "metadata": {},
     "output_type": "execute_result"
    }
   ],
   "source": [
    "# pattern 3\n",
    "mul= lambda a,b,c: round((a*b*c)/(a+b+c),2)\n",
    "mul(2,3,5)"
   ]
  },
  {
   "cell_type": "code",
   "execution_count": 50,
   "id": "db124540-937e-42b2-acf3-5fe77d7f2015",
   "metadata": {},
   "outputs": [
    {
     "data": {
      "text/plain": [
       "4.8"
      ]
     },
     "execution_count": 50,
     "metadata": {},
     "output_type": "execute_result"
    }
   ],
   "source": [
    "# pattern 4\n",
    "mul= lambda a,c,b=20: round((a*b*c)/(a+b+c),2)\n",
    "mul(2,3)"
   ]
  },
  {
   "cell_type": "markdown",
   "id": "86a4756a-0a05-4f31-ba29-b4ae114a0f54",
   "metadata": {},
   "source": [
    "---\n",
    "- ### *list cases* ###\n",
    "  - *step-1: lambda variable: output*\n",
    "  - *step-2: lambda variable: output, iterator*\n",
    "  - *step-3: map(lambda variable: output, iterator)*\n",
    "  - *step-4: list(map(lambda variable: output, iterator))*"
   ]
  },
  {
   "cell_type": "code",
   "execution_count": 54,
   "id": "67cd4a4a-8e53-4881-8cb9-c6c6cf300b2c",
   "metadata": {},
   "outputs": [
    {
     "data": {
      "text/plain": [
       "['Hyd', 'Bengaluru', 'Mumbai', 'Pune']"
      ]
     },
     "execution_count": 54,
     "metadata": {},
     "output_type": "execute_result"
    }
   ],
   "source": [
    "inp=['hyd','bengaluru','mumbai','pune']\n",
    "out=[]\n",
    "for i in inp:\n",
    "    out.append(i.capitalize())\n",
    "out"
   ]
  },
  {
   "cell_type": "code",
   "execution_count": 56,
   "id": "2648844d-70c6-4156-b7d2-93e5501e227c",
   "metadata": {},
   "outputs": [
    {
     "data": {
      "text/plain": [
       "['Hyd', 'Bengaluru', 'Mumbai', 'Pune']"
      ]
     },
     "execution_count": 56,
     "metadata": {},
     "output_type": "execute_result"
    }
   ],
   "source": [
    "out=[i.capitalize() for i in inp]\n",
    "out"
   ]
  },
  {
   "cell_type": "code",
   "execution_count": 58,
   "id": "5dec9562-54fc-495e-88d9-6aabf745e83e",
   "metadata": {},
   "outputs": [
    {
     "data": {
      "text/plain": [
       "<function __main__.<lambda>(i)>"
      ]
     },
     "execution_count": 58,
     "metadata": {},
     "output_type": "execute_result"
    }
   ],
   "source": [
    "# step-1: lambda <variable>: <output>\n",
    "lambda i: i.capitalize()"
   ]
  },
  {
   "cell_type": "code",
   "execution_count": 60,
   "id": "c5426794-4efe-44e2-b0c0-0428aa6bb43c",
   "metadata": {},
   "outputs": [
    {
     "data": {
      "text/plain": [
       "(<function __main__.<lambda>(i)>, ['hyd', 'bengaluru', 'mumbai', 'pune'])"
      ]
     },
     "execution_count": 60,
     "metadata": {},
     "output_type": "execute_result"
    }
   ],
   "source": [
    "# step-2: lambda <variable>: <output>,<iterator>\n",
    "# a=lambda <variable>: <output> & b= <iterator>\n",
    "lambda i: i.capitalize(),inp"
   ]
  },
  {
   "cell_type": "code",
   "execution_count": 62,
   "id": "a4cd6d2a-b71d-4633-9ce2-eddca439916f",
   "metadata": {},
   "outputs": [
    {
     "data": {
      "text/plain": [
       "<map at 0x178e53fded0>"
      ]
     },
     "execution_count": 62,
     "metadata": {},
     "output_type": "execute_result"
    }
   ],
   "source": [
    "# step-3: map(a,b)\n",
    "#        map(lambda <variable>: <output>,<iterator>)\n",
    "map(lambda i: i.capitalize(),inp)"
   ]
  },
  {
   "cell_type": "code",
   "execution_count": 64,
   "id": "1ab383a6-b7cb-4ac2-be05-c5bd088b6498",
   "metadata": {},
   "outputs": [
    {
     "data": {
      "text/plain": [
       "['Hyd', 'Bengaluru', 'Mumbai', 'Pune']"
      ]
     },
     "execution_count": 64,
     "metadata": {},
     "output_type": "execute_result"
    }
   ],
   "source": [
    "# step-3: list(map(a,b))\n",
    "#         list(map(lambda <variable>: <output>,<iterator>))\n",
    "list(map(lambda i: i.capitalize(),inp))"
   ]
  },
  {
   "cell_type": "code",
   "execution_count": 67,
   "id": "17ecdca2-24a7-4027-8ee2-39920a46ce42",
   "metadata": {},
   "outputs": [
    {
     "name": "stdout",
     "output_type": "stream",
     "text": [
      "['HYD', 'BENGALURU', 'MUMBAI', 'PUNE']\n"
     ]
    }
   ],
   "source": [
    "# Q1\n",
    "inp=['hyd','bengaluru','mumbai','pune']\n",
    "out=list(map(lambda i: i.upper(),inp))\n",
    "print(out)"
   ]
  },
  {
   "cell_type": "code",
   "execution_count": 79,
   "id": "5c6fb8a3-6ff6-44d4-8f61-171acb4f7dec",
   "metadata": {},
   "outputs": [
    {
     "name": "stdout",
     "output_type": "stream",
     "text": [
      "[0, 1, 2, 3]\n"
     ]
    }
   ],
   "source": [
    "# Q2\n",
    "inp=['hyd','bengaluru','mumbai','pune']\n",
    "out=list(map(lambda i:inp.index(i),inp))\n",
    "print(out)"
   ]
  },
  {
   "cell_type": "code",
   "execution_count": 77,
   "id": "05d532ae-1fbe-4248-a3a4-ec97a043647b",
   "metadata": {},
   "outputs": [
    {
     "name": "stdout",
     "output_type": "stream",
     "text": [
      "0\n",
      "1\n",
      "2\n",
      "3\n"
     ]
    }
   ],
   "source": [
    "inp=['hyd','bengaluru','mumbai','pune']\n",
    "for i in inp:\n",
    "    print(inp.index(i))"
   ]
  },
  {
   "cell_type": "code",
   "execution_count": 85,
   "id": "4ba08042-93b7-4d71-8a02-2eaa3e3e36fc",
   "metadata": {},
   "outputs": [
    {
     "name": "stdout",
     "output_type": "stream",
     "text": [
      "['Hello', 'How', 'Are', 'You']\n"
     ]
    }
   ],
   "source": [
    "# Q3\n",
    "inp='hello how are you'\n",
    "l1=inp.split()\n",
    "out=list(map(lambda i:i.capitalize(),l1))\n",
    "print(out)"
   ]
  },
  {
   "cell_type": "code",
   "execution_count": 101,
   "id": "b94b3879-cc03-4f81-8a91-e8a4222ad3c8",
   "metadata": {},
   "outputs": [
    {
     "name": "stdout",
     "output_type": "stream",
     "text": [
      "[False, True, True, False]\n"
     ]
    }
   ],
   "source": [
    "# Q4\n",
    "# inp=['hyd','beng#luru','mumb#i','pune']\n",
    "# out=[]\n",
    "# for i in inp:\n",
    "#     if '#' in i:\n",
    "#         out.append(i)\n",
    "# out      \n",
    "\n",
    "inp=['hyd','beng#luru','mumb#i','pune']\n",
    "out=list(map(lambda i:'#' in i,inp))\n",
    "print(out)"
   ]
  },
  {
   "cell_type": "markdown",
   "id": "b5d44441-007e-498a-9e7a-4d8a2b626f88",
   "metadata": {},
   "source": [
    "### *filter* ###\n",
    "\n",
    "- *filter is applied on lambda functions to retrieve the True output*\n",
    "- *map will just map the condition and iterator*\n",
    "- *when we apply condition map will give True False*\n",
    "- *so we use filter instead of map*"
   ]
  },
  {
   "cell_type": "code",
   "execution_count": 109,
   "id": "17081add-1fb8-4f4d-8639-532644ce2482",
   "metadata": {},
   "outputs": [
    {
     "name": "stdout",
     "output_type": "stream",
     "text": [
      "['beng#luru', 'mumb#i']\n"
     ]
    }
   ],
   "source": [
    "# Q4\n",
    "# inp=['hyd','beng#luru','mumb#i','pune']\n",
    "# out=[]\n",
    "# for i in inp:\n",
    "#     if '#' in i:\n",
    "#         out.append(i)\n",
    "# out      \n",
    "\n",
    "inp=['hyd','beng#luru','mumb#i','pune']\n",
    "out=list(filter(lambda i:'#' in i,inp))\n",
    "print(out)"
   ]
  },
  {
   "cell_type": "code",
   "execution_count": 113,
   "id": "d14d49e0-18fd-4db4-bc94-e33018a926f4",
   "metadata": {},
   "outputs": [
    {
     "name": "stdout",
     "output_type": "stream",
     "text": [
      "['hyd', 'pune']\n"
     ]
    }
   ],
   "source": [
    "# Q5\n",
    "inp=['hyd','beng#luru','mumb#i','pune']\n",
    "out=list(filter(lambda i:'#' not in i,inp))\n",
    "print(out)"
   ]
  },
  {
   "cell_type": "markdown",
   "id": "a62772bb-b281-413a-bf87-6e4cc463ef7d",
   "metadata": {},
   "source": [
    "### *reduce* ###\n",
    "\n",
    "- *reduce will help to perform math operations using lambda functions*\n",
    "- *it is a method under a package: functool*"
   ]
  },
  {
   "cell_type": "code",
   "execution_count": 118,
   "id": "5a90e7c9-edf4-4f54-8296-1bd97c8d74b2",
   "metadata": {},
   "outputs": [
    {
     "data": {
      "text/plain": [
       "['GenericAlias',\n",
       " 'RLock',\n",
       " 'WRAPPER_ASSIGNMENTS',\n",
       " 'WRAPPER_UPDATES',\n",
       " '_CacheInfo',\n",
       " '_HashedSeq',\n",
       " '_NOT_FOUND',\n",
       " '__all__',\n",
       " '__builtins__',\n",
       " '__cached__',\n",
       " '__doc__',\n",
       " '__file__',\n",
       " '__loader__',\n",
       " '__name__',\n",
       " '__package__',\n",
       " '__spec__',\n",
       " '_c3_merge',\n",
       " '_c3_mro',\n",
       " '_compose_mro',\n",
       " '_convert',\n",
       " '_find_impl',\n",
       " '_ge_from_gt',\n",
       " '_ge_from_le',\n",
       " '_ge_from_lt',\n",
       " '_gt_from_ge',\n",
       " '_gt_from_le',\n",
       " '_gt_from_lt',\n",
       " '_initial_missing',\n",
       " '_le_from_ge',\n",
       " '_le_from_gt',\n",
       " '_le_from_lt',\n",
       " '_lru_cache_wrapper',\n",
       " '_lt_from_ge',\n",
       " '_lt_from_gt',\n",
       " '_lt_from_le',\n",
       " '_make_key',\n",
       " '_unwrap_partial',\n",
       " 'cache',\n",
       " 'cached_property',\n",
       " 'cmp_to_key',\n",
       " 'get_cache_token',\n",
       " 'lru_cache',\n",
       " 'namedtuple',\n",
       " 'partial',\n",
       " 'partialmethod',\n",
       " 'recursive_repr',\n",
       " 'reduce',\n",
       " 'singledispatch',\n",
       " 'singledispatchmethod',\n",
       " 'total_ordering',\n",
       " 'update_wrapper',\n",
       " 'wraps']"
      ]
     },
     "execution_count": 118,
     "metadata": {},
     "output_type": "execute_result"
    }
   ],
   "source": [
    "import functools\n",
    "dir(functools)"
   ]
  },
  {
   "cell_type": "code",
   "execution_count": 120,
   "id": "38e4e736-cf74-4797-a93a-8f3cff1fab35",
   "metadata": {},
   "outputs": [],
   "source": [
    "list1=[1,2,3,4,5]"
   ]
  },
  {
   "cell_type": "code",
   "execution_count": 122,
   "id": "4020b57f-6a77-4ecb-8665-96358ca1da44",
   "metadata": {},
   "outputs": [
    {
     "data": {
      "text/plain": [
       "15"
      ]
     },
     "execution_count": 122,
     "metadata": {},
     "output_type": "execute_result"
    }
   ],
   "source": [
    "from functools import reduce\n",
    "reduce(lambda summ,i:summ+i,list1)"
   ]
  },
  {
   "cell_type": "code",
   "execution_count": 126,
   "id": "5d9d4ff1-54c3-4229-ba93-1561e7ad5389",
   "metadata": {},
   "outputs": [
    {
     "data": {
      "text/plain": [
       "15"
      ]
     },
     "execution_count": 126,
     "metadata": {},
     "output_type": "execute_result"
    }
   ],
   "source": [
    "from functools import reduce\n",
    "# lambda summ,i\n",
    "# lambda summ,i:summ+i\n",
    "# lambda summ,i:summ+i,list1\n",
    "# lambda args:output,iterator\n",
    "reduce(lambda summ,i:summ+i,list1)"
   ]
  },
  {
   "cell_type": "code",
   "execution_count": 128,
   "id": "8e7b5d4d-1643-4d8c-878f-b10e96ba2326",
   "metadata": {},
   "outputs": [
    {
     "data": {
      "text/plain": [
       "215"
      ]
     },
     "execution_count": 128,
     "metadata": {},
     "output_type": "execute_result"
    }
   ],
   "source": [
    "reduce(lambda summ,i:summ+i,list1,200)"
   ]
  },
  {
   "cell_type": "code",
   "execution_count": 130,
   "id": "96af6087-c0ba-41b6-95e9-c996bbcdc0b8",
   "metadata": {},
   "outputs": [
    {
     "data": {
      "text/plain": [
       "215"
      ]
     },
     "execution_count": 130,
     "metadata": {},
     "output_type": "execute_result"
    }
   ],
   "source": [
    "from functools import reduce\n",
    "# lambda summ,i\n",
    "# lambda summ,i:summ+i\n",
    "# lambda summ,i:summ+i,list1\n",
    "# lambda summ,i:summ+i,list1,200\n",
    "reduce(lambda summ,i:summ+i,list1,200)"
   ]
  },
  {
   "cell_type": "code",
   "execution_count": null,
   "id": "59f33b27-3552-491f-a3cf-d4cc74e2fa0c",
   "metadata": {},
   "outputs": [],
   "source": [
    "ae mere dil to"
   ]
  }
 ],
 "metadata": {
  "kernelspec": {
   "display_name": "Python [conda env:base] *",
   "language": "python",
   "name": "conda-base-py"
  },
  "language_info": {
   "codemirror_mode": {
    "name": "ipython",
    "version": 3
   },
   "file_extension": ".py",
   "mimetype": "text/x-python",
   "name": "python",
   "nbconvert_exporter": "python",
   "pygments_lexer": "ipython3",
   "version": "3.12.7"
  }
 },
 "nbformat": 4,
 "nbformat_minor": 5
}
