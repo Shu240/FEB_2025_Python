{
 "cells": [
  {
   "cell_type": "markdown",
   "id": "b0e13dcc-3d32-4044-9865-63c860794912",
   "metadata": {},
   "source": [
    "## Type Casting\n",
    "- Convert data type into another data type\n",
    "- we learned 4 data types\n",
    "  - integer: int\n",
    "  - float: float\n",
    "  - boolean: bool\n",
    "  - String: str"
   ]
  },
  {
   "cell_type": "markdown",
   "id": "d6824660-9bcb-4acf-b63a-0ac3a443d5a0",
   "metadata": {},
   "source": [
    "---\n",
    "**Integer to other Data Types**"
   ]
  },
  {
   "cell_type": "raw",
   "id": "0ade50f0-71c9-4eeb-87fe-c04551c30953",
   "metadata": {},
   "source": [
    "number=100\n",
    "number"
   ]
  },
  {
   "cell_type": "code",
   "execution_count": 10,
   "id": "2b324edd-c775-47c2-bfd6-d67d1e0e5dd9",
   "metadata": {},
   "outputs": [
    {
     "data": {
      "text/plain": [
       "float"
      ]
     },
     "execution_count": 10,
     "metadata": {},
     "output_type": "execute_result"
    }
   ],
   "source": [
    "# Int to float\n",
    "float_number=float(number)\n",
    "type(float_number)"
   ]
  },
  {
   "cell_type": "code",
   "execution_count": 12,
   "id": "090f76aa-011b-4e0a-936c-d59d8cb29fbf",
   "metadata": {},
   "outputs": [
    {
     "data": {
      "text/plain": [
       "bool"
      ]
     },
     "execution_count": 12,
     "metadata": {},
     "output_type": "execute_result"
    }
   ],
   "source": [
    "# Int to bool\n",
    "bool_number=bool(number)\n",
    "type(bool_number)"
   ]
  },
  {
   "cell_type": "code",
   "execution_count": 14,
   "id": "fffef297-7699-4216-ab8f-9bd789096941",
   "metadata": {},
   "outputs": [
    {
     "data": {
      "text/plain": [
       "str"
      ]
     },
     "execution_count": 14,
     "metadata": {},
     "output_type": "execute_result"
    }
   ],
   "source": [
    "# Int to str\n",
    "str_number=str(number)\n",
    "type(str_number)"
   ]
  },
  {
   "cell_type": "code",
   "execution_count": 16,
   "id": "fbffe6ed-535e-4254-b98c-f8d65cd682dc",
   "metadata": {},
   "outputs": [
    {
     "data": {
      "text/plain": [
       "(100.0, True, '100')"
      ]
     },
     "execution_count": 16,
     "metadata": {},
     "output_type": "execute_result"
    }
   ],
   "source": [
    "float(100),bool(100),str(100)"
   ]
  },
  {
   "cell_type": "code",
   "execution_count": 18,
   "id": "3df9883f-9c26-4586-b98e-eddcd3c9a46f",
   "metadata": {},
   "outputs": [
    {
     "name": "stdout",
     "output_type": "stream",
     "text": [
      "100.0\n",
      "True\n",
      "100\n"
     ]
    }
   ],
   "source": [
    "print(float(100))\n",
    "print(bool(100))\n",
    "print(str(100))"
   ]
  },
  {
   "cell_type": "code",
   "execution_count": 20,
   "id": "efeb88e9-4375-4e8b-a653-6384b58e2d37",
   "metadata": {},
   "outputs": [
    {
     "data": {
      "text/plain": [
       "(-100.0, True, '-100')"
      ]
     },
     "execution_count": 20,
     "metadata": {},
     "output_type": "execute_result"
    }
   ],
   "source": [
    "float(-100),bool(-100),str(-100)"
   ]
  },
  {
   "cell_type": "code",
   "execution_count": 22,
   "id": "49b5272b-e8fc-4893-8ada-bc4dd2a539d9",
   "metadata": {},
   "outputs": [
    {
     "data": {
      "text/plain": [
       "False"
      ]
     },
     "execution_count": 22,
     "metadata": {},
     "output_type": "execute_result"
    }
   ],
   "source": [
    "bool(0)"
   ]
  },
  {
   "cell_type": "markdown",
   "id": "951e1bb9-7d7c-4503-9c12-4866977d9a62",
   "metadata": {},
   "source": [
    "- 0 means Off\n",
    "- False means Off"
   ]
  },
  {
   "cell_type": "markdown",
   "id": "4d720590-4f3f-476b-90db-f180142ab717",
   "metadata": {},
   "source": [
    "---\n",
    "**Float to other Data Types**"
   ]
  },
  {
   "cell_type": "code",
   "execution_count": 26,
   "id": "fb491b46-5935-44da-888f-d8de9d8232a1",
   "metadata": {},
   "outputs": [
    {
     "data": {
      "text/plain": [
       "float"
      ]
     },
     "execution_count": 26,
     "metadata": {},
     "output_type": "execute_result"
    }
   ],
   "source": [
    "number=1.0\n",
    "type(number)"
   ]
  },
  {
   "cell_type": "code",
   "execution_count": 28,
   "id": "c953a3e9-c951-4eee-ac6a-ccb24ee40423",
   "metadata": {},
   "outputs": [
    {
     "name": "stdout",
     "output_type": "stream",
     "text": [
      "1\n"
     ]
    },
    {
     "data": {
      "text/plain": [
       "int"
      ]
     },
     "execution_count": 28,
     "metadata": {},
     "output_type": "execute_result"
    }
   ],
   "source": [
    "# Float to Int\n",
    "int_number=int(number)\n",
    "print(int_number)\n",
    "type(int_number)"
   ]
  },
  {
   "cell_type": "code",
   "execution_count": 30,
   "id": "81fb2c58-fcc6-445f-930e-a3759d2f57a9",
   "metadata": {},
   "outputs": [
    {
     "name": "stdout",
     "output_type": "stream",
     "text": [
      "True\n"
     ]
    },
    {
     "data": {
      "text/plain": [
       "bool"
      ]
     },
     "execution_count": 30,
     "metadata": {},
     "output_type": "execute_result"
    }
   ],
   "source": [
    "# Float to Bool\n",
    "bool_number=bool(number)\n",
    "print(bool_number)\n",
    "type(bool_number)"
   ]
  },
  {
   "cell_type": "code",
   "execution_count": 32,
   "id": "bd4e4435-3059-4e1e-847f-6867ff8414d6",
   "metadata": {},
   "outputs": [
    {
     "name": "stdout",
     "output_type": "stream",
     "text": [
      "1.0\n"
     ]
    },
    {
     "data": {
      "text/plain": [
       "str"
      ]
     },
     "execution_count": 32,
     "metadata": {},
     "output_type": "execute_result"
    }
   ],
   "source": [
    "# Float to Str\n",
    "str_number=str(number)\n",
    "print(str_number)\n",
    "type(str_number)"
   ]
  },
  {
   "cell_type": "code",
   "execution_count": 34,
   "id": "fe8827fe-2bda-4bb3-84d5-22921b0fc712",
   "metadata": {},
   "outputs": [
    {
     "data": {
      "text/plain": [
       "False"
      ]
     },
     "execution_count": 34,
     "metadata": {},
     "output_type": "execute_result"
    }
   ],
   "source": [
    "bool(0.0)"
   ]
  },
  {
   "cell_type": "code",
   "execution_count": 36,
   "id": "9ac1cfb9-cc0f-4170-a89a-06425ffcbbb7",
   "metadata": {},
   "outputs": [
    {
     "data": {
      "text/plain": [
       "True"
      ]
     },
     "execution_count": 36,
     "metadata": {},
     "output_type": "execute_result"
    }
   ],
   "source": [
    "bool(-1)"
   ]
  },
  {
   "cell_type": "markdown",
   "id": "b9bea64b-1962-4587-8c38-29c33500eb24",
   "metadata": {},
   "source": [
    "---\n",
    "**String to other Data Types**"
   ]
  },
  {
   "cell_type": "code",
   "execution_count": 39,
   "id": "9099c3d9-810f-4e14-baa1-1e724e27f1f8",
   "metadata": {},
   "outputs": [
    {
     "ename": "ValueError",
     "evalue": "invalid literal for int() with base 10: 'apple'",
     "output_type": "error",
     "traceback": [
      "\u001b[1;31m---------------------------------------------------------------------------\u001b[0m",
      "\u001b[1;31mValueError\u001b[0m                                Traceback (most recent call last)",
      "Cell \u001b[1;32mIn[39], line 1\u001b[0m\n\u001b[1;32m----> 1\u001b[0m \u001b[38;5;28mint\u001b[39m(\u001b[38;5;124m'\u001b[39m\u001b[38;5;124mapple\u001b[39m\u001b[38;5;124m'\u001b[39m) \u001b[38;5;66;03m# fails\u001b[39;00m\n\u001b[0;32m      2\u001b[0m \u001b[38;5;28mfloat\u001b[39m(\u001b[38;5;124m'\u001b[39m\u001b[38;5;124mapple\u001b[39m\u001b[38;5;124m'\u001b[39m) \u001b[38;5;66;03m# fails\u001b[39;00m\n\u001b[0;32m      3\u001b[0m \u001b[38;5;28mbool\u001b[39m(\u001b[38;5;124m'\u001b[39m\u001b[38;5;124mapple\u001b[39m\u001b[38;5;124m'\u001b[39m)\n",
      "\u001b[1;31mValueError\u001b[0m: invalid literal for int() with base 10: 'apple'"
     ]
    }
   ],
   "source": [
    "int('apple') # fails"
   ]
  },
  {
   "cell_type": "code",
   "execution_count": 41,
   "id": "58a75d16-791c-498c-ae20-709f101290ea",
   "metadata": {},
   "outputs": [
    {
     "ename": "ValueError",
     "evalue": "could not convert string to float: 'apple'",
     "output_type": "error",
     "traceback": [
      "\u001b[1;31m---------------------------------------------------------------------------\u001b[0m",
      "\u001b[1;31mValueError\u001b[0m                                Traceback (most recent call last)",
      "Cell \u001b[1;32mIn[41], line 1\u001b[0m\n\u001b[1;32m----> 1\u001b[0m \u001b[38;5;28mfloat\u001b[39m(\u001b[38;5;124m'\u001b[39m\u001b[38;5;124mapple\u001b[39m\u001b[38;5;124m'\u001b[39m)\n",
      "\u001b[1;31mValueError\u001b[0m: could not convert string to float: 'apple'"
     ]
    }
   ],
   "source": [
    "float('apple') # fails"
   ]
  },
  {
   "cell_type": "code",
   "execution_count": 43,
   "id": "ab421c39-79ac-4bed-93a9-171e6f66a829",
   "metadata": {},
   "outputs": [
    {
     "data": {
      "text/plain": [
       "True"
      ]
     },
     "execution_count": 43,
     "metadata": {},
     "output_type": "execute_result"
    }
   ],
   "source": [
    "bool('apple') # worls"
   ]
  },
  {
   "cell_type": "code",
   "execution_count": 45,
   "id": "97bdd6cb-2d17-44cc-a601-dd6f3450e13f",
   "metadata": {},
   "outputs": [
    {
     "data": {
      "text/plain": [
       "False"
      ]
     },
     "execution_count": 45,
     "metadata": {},
     "output_type": "execute_result"
    }
   ],
   "source": [
    "bool('')"
   ]
  },
  {
   "cell_type": "markdown",
   "id": "f0f9edf5-7b45-4ac3-90bf-5808c0cae9b6",
   "metadata": {},
   "source": [
    "---"
   ]
  },
  {
   "cell_type": "code",
   "execution_count": 47,
   "id": "ad098854-a45b-4891-8b13-1cd0f4629ec9",
   "metadata": {},
   "outputs": [
    {
     "data": {
      "text/plain": [
       "5"
      ]
     },
     "execution_count": 47,
     "metadata": {},
     "output_type": "execute_result"
    }
   ],
   "source": [
    "len('apple')"
   ]
  },
  {
   "cell_type": "code",
   "execution_count": 49,
   "id": "0a8bee1f-b3bf-4ddd-b0d6-79593edc7d5e",
   "metadata": {},
   "outputs": [
    {
     "data": {
      "text/plain": [
       "1"
      ]
     },
     "execution_count": 49,
     "metadata": {},
     "output_type": "execute_result"
    }
   ],
   "source": [
    "len('0')"
   ]
  },
  {
   "cell_type": "code",
   "execution_count": 51,
   "id": "33221718-e9d3-4bbb-a866-80eba14d3a85",
   "metadata": {},
   "outputs": [
    {
     "data": {
      "text/plain": [
       "0"
      ]
     },
     "execution_count": 51,
     "metadata": {},
     "output_type": "execute_result"
    }
   ],
   "source": [
    "len('')"
   ]
  },
  {
   "cell_type": "markdown",
   "id": "daafa503-73f0-41ae-8a11-96f813a47c30",
   "metadata": {},
   "source": [
    "---"
   ]
  },
  {
   "cell_type": "markdown",
   "id": "82247564-7e6c-4dd9-973f-4e5c8509f828",
   "metadata": {},
   "source": [
    "- for number 0 and 0.0 boolaen conversion gives **false**\n",
    "- for strings empty boolean conversion gives **false**"
   ]
  },
  {
   "cell_type": "code",
   "execution_count": 56,
   "id": "b9bd0e3c-5b21-4f0b-9e8e-256dd62d2a14",
   "metadata": {},
   "outputs": [
    {
     "data": {
      "text/plain": [
       "10.0"
      ]
     },
     "execution_count": 56,
     "metadata": {},
     "output_type": "execute_result"
    }
   ],
   "source": [
    "float('10') # works 10.0"
   ]
  },
  {
   "cell_type": "code",
   "execution_count": 58,
   "id": "b12e1e82-b86e-451f-8da6-91add0f92d04",
   "metadata": {},
   "outputs": [
    {
     "data": {
      "text/plain": [
       "True"
      ]
     },
     "execution_count": 58,
     "metadata": {},
     "output_type": "execute_result"
    }
   ],
   "source": [
    "bool('10') # works True"
   ]
  },
  {
   "cell_type": "code",
   "execution_count": 60,
   "id": "b753f9be-a86a-47f7-94a4-86998b0bc89b",
   "metadata": {},
   "outputs": [
    {
     "data": {
      "text/plain": [
       "10"
      ]
     },
     "execution_count": 60,
     "metadata": {},
     "output_type": "execute_result"
    }
   ],
   "source": [
    "int('10') # works 10"
   ]
  },
  {
   "cell_type": "markdown",
   "id": "fb8986bc-f2bf-4302-9707-a601340337ea",
   "metadata": {},
   "source": [
    "**object not callable**\n",
    "- python magic\n",
    "- either open new notebook\n",
    "- or go to kernel and restart it"
   ]
  },
  {
   "cell_type": "code",
   "execution_count": 63,
   "id": "fe38a819-485e-4816-9eef-319806b65028",
   "metadata": {},
   "outputs": [
    {
     "data": {
      "text/plain": [
       "10.5"
      ]
     },
     "execution_count": 63,
     "metadata": {},
     "output_type": "execute_result"
    }
   ],
   "source": [
    "float('10.5')"
   ]
  },
  {
   "cell_type": "code",
   "execution_count": 65,
   "id": "bd5d4be0-f906-478e-96c5-edd04b02b04d",
   "metadata": {},
   "outputs": [
    {
     "data": {
      "text/plain": [
       "True"
      ]
     },
     "execution_count": 65,
     "metadata": {},
     "output_type": "execute_result"
    }
   ],
   "source": [
    "bool('10.5')"
   ]
  },
  {
   "cell_type": "code",
   "execution_count": 67,
   "id": "847fd7fe-6d6d-4c7c-9d95-20f56b7ca78a",
   "metadata": {},
   "outputs": [
    {
     "ename": "ValueError",
     "evalue": "invalid literal for int() with base 10: '10.5'",
     "output_type": "error",
     "traceback": [
      "\u001b[1;31m---------------------------------------------------------------------------\u001b[0m",
      "\u001b[1;31mValueError\u001b[0m                                Traceback (most recent call last)",
      "Cell \u001b[1;32mIn[67], line 1\u001b[0m\n\u001b[1;32m----> 1\u001b[0m \u001b[38;5;28mint\u001b[39m(\u001b[38;5;124m'\u001b[39m\u001b[38;5;124m10.5\u001b[39m\u001b[38;5;124m'\u001b[39m)\n",
      "\u001b[1;31mValueError\u001b[0m: invalid literal for int() with base 10: '10.5'"
     ]
    }
   ],
   "source": [
    "int('10.5')"
   ]
  },
  {
   "cell_type": "markdown",
   "id": "315e8b1d-2257-40aa-a8ca-e3022c5a6620",
   "metadata": {},
   "source": [
    "**float is the boss**\n",
    "- float('10') will work\n",
    "- float('10.5') will work\n",
    "- int('10') will work\n",
    "- but int('10.5') will not work"
   ]
  },
  {
   "cell_type": "markdown",
   "id": "44092539-ea89-46ee-837a-aba344fb8664",
   "metadata": {},
   "source": [
    "---\n",
    "**Boolean to other Data Types**"
   ]
  },
  {
   "cell_type": "code",
   "execution_count": 73,
   "id": "50d21ed5-8c54-459d-b3cd-19a78fc86ea4",
   "metadata": {},
   "outputs": [
    {
     "data": {
      "text/plain": [
       "1"
      ]
     },
     "execution_count": 73,
     "metadata": {},
     "output_type": "execute_result"
    }
   ],
   "source": [
    "# Bool to Int\n",
    "int(True)"
   ]
  },
  {
   "cell_type": "code",
   "execution_count": 75,
   "id": "c9b566ea-299d-42f8-9fa2-33a08b1ed9a7",
   "metadata": {},
   "outputs": [
    {
     "data": {
      "text/plain": [
       "1.0"
      ]
     },
     "execution_count": 75,
     "metadata": {},
     "output_type": "execute_result"
    }
   ],
   "source": [
    "# Bool to Float\n",
    "float(True)"
   ]
  },
  {
   "cell_type": "code",
   "execution_count": 77,
   "id": "1b6d3094-cc49-4c8c-9594-40676ffd73a0",
   "metadata": {},
   "outputs": [
    {
     "data": {
      "text/plain": [
       "'True'"
      ]
     },
     "execution_count": 77,
     "metadata": {},
     "output_type": "execute_result"
    }
   ],
   "source": [
    "# Bool to String\n",
    "str(True)"
   ]
  },
  {
   "cell_type": "code",
   "execution_count": 79,
   "id": "5edd57ad-7fda-4350-8185-c0b27567058b",
   "metadata": {},
   "outputs": [
    {
     "data": {
      "text/plain": [
       "0"
      ]
     },
     "execution_count": 79,
     "metadata": {},
     "output_type": "execute_result"
    }
   ],
   "source": [
    "int(False)"
   ]
  },
  {
   "cell_type": "code",
   "execution_count": 81,
   "id": "4641747e-6585-45be-a706-06499525c665",
   "metadata": {},
   "outputs": [
    {
     "data": {
      "text/plain": [
       "0.0"
      ]
     },
     "execution_count": 81,
     "metadata": {},
     "output_type": "execute_result"
    }
   ],
   "source": [
    "float(False)"
   ]
  },
  {
   "cell_type": "code",
   "execution_count": 83,
   "id": "061e68ba-3886-4e46-95d1-5788e093a384",
   "metadata": {},
   "outputs": [
    {
     "data": {
      "text/plain": [
       "'False'"
      ]
     },
     "execution_count": 83,
     "metadata": {},
     "output_type": "execute_result"
    }
   ],
   "source": [
    "str(False)"
   ]
  },
  {
   "cell_type": "code",
   "execution_count": 1,
   "id": "23fe2b0a-fda5-43e0-8f5e-d6bec4a25c3a",
   "metadata": {},
   "outputs": [
    {
     "name": "stdout",
     "output_type": "stream",
     "text": [
      "10.0\n",
      "10\n",
      "True\n",
      "10.5\n",
      "10.5\n",
      "10\n"
     ]
    }
   ],
   "source": [
    "print(float(10))\n",
    "print(str(10))\n",
    "print(bool(10))\n",
    "print(float(10.5))\n",
    "print(str(10.5))\n",
    "print(int(10.5))\n"
   ]
  },
  {
   "cell_type": "code",
   "execution_count": null,
   "id": "1741b88b-17c1-437d-ac1d-d2dfb0888cfa",
   "metadata": {},
   "outputs": [],
   "source": []
  }
 ],
 "metadata": {
  "kernelspec": {
   "display_name": "Python [conda env:base] *",
   "language": "python",
   "name": "conda-base-py"
  },
  "language_info": {
   "codemirror_mode": {
    "name": "ipython",
    "version": 3
   },
   "file_extension": ".py",
   "mimetype": "text/x-python",
   "name": "python",
   "nbconvert_exporter": "python",
   "pygments_lexer": "ipython3",
   "version": "3.12.7"
  }
 },
 "nbformat": 4,
 "nbformat_minor": 5
}
