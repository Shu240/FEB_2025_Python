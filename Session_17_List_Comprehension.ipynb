{
 "cells": [
  {
   "cell_type": "markdown",
   "id": "64c23db4-c499-407c-97bc-4607bd6d8eb3",
   "metadata": {},
   "source": [
    "- **List Comprehension**\n",
    "  - List comprehension is a way to write list operations in a single line\n",
    "  - when we apply for loop and if-else conditionals then the code compilation becomes slow\n",
    "  - which means time taken is high\n",
    "  - so in order to reduce the time complexity we use list comprehension\n",
    "  - List comprehension is a single line code"
   ]
  },
  {
   "cell_type": "markdown",
   "id": "a0ac01b8-7e01-49a5-965e-c13dd77aa14b",
   "metadata": {},
   "source": [
    "**Case 1: only for loop**"
   ]
  },
  {
   "cell_type": "code",
   "execution_count": 2,
   "id": "065c3f89-4526-4d54-8800-be2714c70e59",
   "metadata": {},
   "outputs": [
    {
     "data": {
      "text/plain": [
       "[0, 1, 2, 3, 4, 5, 6, 7, 8, 9]"
      ]
     },
     "execution_count": 2,
     "metadata": {},
     "output_type": "execute_result"
    }
   ],
   "source": [
    "list1=[]\n",
    "for i in range(10):\n",
    "    list1.append(i)\n",
    "list1"
   ]
  },
  {
   "cell_type": "code",
   "execution_count": null,
   "id": "19ddef94-c975-4e60-961c-a68b71447e0a",
   "metadata": {},
   "outputs": [],
   "source": [
    "list1=[<output variable> <for loop>]\n",
    "# dont use colons"
   ]
  },
  {
   "cell_type": "code",
   "execution_count": 5,
   "id": "f78f9e47-c2f9-4189-b81a-179752123371",
   "metadata": {},
   "outputs": [
    {
     "data": {
      "text/plain": [
       "[0, 1, 2, 3, 4, 5, 6, 7, 8, 9]"
      ]
     },
     "execution_count": 5,
     "metadata": {},
     "output_type": "execute_result"
    }
   ],
   "source": [
    "# using list comprehension\n",
    "\n",
    "list1=[i for i in range(10)]\n",
    "list1"
   ]
  },
  {
   "cell_type": "code",
   "execution_count": 9,
   "id": "ee65c509-a58b-4b52-92cd-e4baba1779d0",
   "metadata": {},
   "outputs": [
    {
     "data": {
      "text/plain": [
       "['Hyd', 'Bengaluru', 'Pune', 'Mumbai']"
      ]
     },
     "execution_count": 9,
     "metadata": {},
     "output_type": "execute_result"
    }
   ],
   "source": [
    "input1=['hyd','bengaluru','pune','mumbai']\n",
    "output1=[i.capitalize() for i in input1]\n",
    "output1"
   ]
  },
  {
   "cell_type": "code",
   "execution_count": 11,
   "id": "740341da-f421-4b71-8631-20ede3252437",
   "metadata": {},
   "outputs": [
    {
     "data": {
      "text/plain": [
       "['HYD', 'BENGALURU', 'PUNE', 'MUMBAI']"
      ]
     },
     "execution_count": 11,
     "metadata": {},
     "output_type": "execute_result"
    }
   ],
   "source": [
    "input1=['hyd','bengaluru','pune','mumbai']\n",
    "output1=[i.upper() for i in input1]\n",
    "output1"
   ]
  },
  {
   "cell_type": "code",
   "execution_count": 19,
   "id": "a1430871-5933-4db2-acc4-fc778d6ba3f0",
   "metadata": {},
   "outputs": [
    {
     "data": {
      "text/plain": [
       "[0, 10, 20, 30]"
      ]
     },
     "execution_count": 19,
     "metadata": {},
     "output_type": "execute_result"
    }
   ],
   "source": [
    "input1=['hyd','bengaluru','pune','mumbai']\n",
    "output=[]\n",
    "for i in range(len(input1)):\n",
    "    n=i*10\n",
    "    output.append(n)\n",
    "output"
   ]
  },
  {
   "cell_type": "code",
   "execution_count": 23,
   "id": "392d4855-bff5-45c4-8b69-7562588e003d",
   "metadata": {},
   "outputs": [
    {
     "data": {
      "text/plain": [
       "[0, 10, 20, 30]"
      ]
     },
     "execution_count": 23,
     "metadata": {},
     "output_type": "execute_result"
    }
   ],
   "source": [
    "input1=['hyd','bengaluru','pune','mumbai']\n",
    "output1=[i*10 for i in range(len(input1))]\n",
    "output1"
   ]
  },
  {
   "cell_type": "code",
   "execution_count": 48,
   "id": "845cd3cb-2ab2-4215-80d2-f7b06702ff26",
   "metadata": {},
   "outputs": [
    {
     "name": "stdin",
     "output_type": "stream",
     "text": [
      " 10\n"
     ]
    },
    {
     "data": {
      "text/plain": [
       "[1, 2, 3, 4, 5, 6, 7, 8, 9, 10]"
      ]
     },
     "execution_count": 48,
     "metadata": {},
     "output_type": "execute_result"
    }
   ],
   "source": [
    "n=eval(input())\n",
    "num=[i for i in range(1,n+1)]\n",
    "num\n"
   ]
  },
  {
   "cell_type": "markdown",
   "id": "816298c8-73b3-480e-a438-ff310406cb37",
   "metadata": {},
   "source": [
    "**walrus operator**"
   ]
  },
  {
   "cell_type": "code",
   "execution_count": 45,
   "id": "14972f98-944d-434f-9a73-7ceade7ffee5",
   "metadata": {},
   "outputs": [
    {
     "data": {
      "text/plain": [
       "55"
      ]
     },
     "execution_count": 45,
     "metadata": {},
     "output_type": "execute_result"
    }
   ],
   "source": [
    "summ=0\n",
    "[summ:=summ+i for i in range(1,11)]\n",
    "summ"
   ]
  },
  {
   "cell_type": "markdown",
   "id": "cec7c1b0-381e-4434-b136-7194910db4ae",
   "metadata": {},
   "source": [
    "**Case-2: for loop if condition**"
   ]
  },
  {
   "cell_type": "code",
   "execution_count": 50,
   "id": "3fcc346c-b1b7-4748-819c-e3b632e36fd4",
   "metadata": {},
   "outputs": [
    {
     "data": {
      "text/plain": [
       "[2, 4, 6, 8]"
      ]
     },
     "execution_count": 50,
     "metadata": {},
     "output_type": "execute_result"
    }
   ],
   "source": [
    "even_list=[i for i in range(1,10) if i%2==0]\n",
    "even_list"
   ]
  },
  {
   "cell_type": "code",
   "execution_count": 62,
   "id": "838948b5-0e91-4e65-b7fb-f71f908a1681",
   "metadata": {},
   "outputs": [
    {
     "name": "stdout",
     "output_type": "stream",
     "text": [
      "beng#aluru\n",
      "mum#bai\n"
     ]
    }
   ],
   "source": [
    "input1=['hyd','beng#aluru','pune','mum#bai']\n",
    "for i in input1:\n",
    "    if '#' in i:\n",
    "        print(i)"
   ]
  },
  {
   "cell_type": "code",
   "execution_count": 64,
   "id": "3b69484a-6309-4180-a366-52197cd9f9c4",
   "metadata": {},
   "outputs": [
    {
     "data": {
      "text/plain": [
       "['beng#aluru', 'mum#bai']"
      ]
     },
     "execution_count": 64,
     "metadata": {},
     "output_type": "execute_result"
    }
   ],
   "source": [
    "input1=['hyd','beng#aluru','pune','mum#bai']\n",
    "output1=[i for i in input1 if '#' in i]\n",
    "output1"
   ]
  },
  {
   "cell_type": "code",
   "execution_count": 66,
   "id": "f39bd32c-4bb8-4550-a727-aabf83d0a668",
   "metadata": {},
   "outputs": [
    {
     "data": {
      "text/plain": [
       "['hyd', 'pune']"
      ]
     },
     "execution_count": 66,
     "metadata": {},
     "output_type": "execute_result"
    }
   ],
   "source": [
    "input1=['hyd','beng#aluru','pune','mum#bai']\n",
    "output1=[i for i in input1 if '#' not in i]\n",
    "output1"
   ]
  },
  {
   "cell_type": "markdown",
   "id": "07686b7a-8fbe-4654-a151-b44086fd2c5f",
   "metadata": {},
   "source": [
    "**Case-3: for loop if else condition**"
   ]
  },
  {
   "cell_type": "code",
   "execution_count": 79,
   "id": "0f22b2e4-4801-4956-b527-87962f0b37c0",
   "metadata": {},
   "outputs": [
    {
     "data": {
      "text/plain": [
       "['odd:1',\n",
       " 'even:2',\n",
       " 'odd:3',\n",
       " 'even:4',\n",
       " 'odd:5',\n",
       " 'even:6',\n",
       " 'odd:7',\n",
       " 'even:8',\n",
       " 'odd:9']"
      ]
     },
     "execution_count": 79,
     "metadata": {},
     "output_type": "execute_result"
    }
   ],
   "source": [
    "list1=[]\n",
    "for i in range(1,10):\n",
    "    if i%2==0:\n",
    "        list1.append(f'even:{i}')\n",
    "    else:\n",
    "        list1.append(f'odd:{i}')\n",
    "list1        "
   ]
  },
  {
   "cell_type": "code",
   "execution_count": 77,
   "id": "500e978f-4d87-4376-afc0-dd10b2378b77",
   "metadata": {},
   "outputs": [
    {
     "data": {
      "text/plain": [
       "['odd:1',\n",
       " 'even:2',\n",
       " 'odd:3',\n",
       " 'even:4',\n",
       " 'odd:5',\n",
       " 'even:6',\n",
       " 'odd:7',\n",
       " 'even:8',\n",
       " 'odd:9']"
      ]
     },
     "execution_count": 77,
     "metadata": {},
     "output_type": "execute_result"
    }
   ],
   "source": [
    "list1=[f'even:{i}' if i%2==0 else f'odd:{i}' for i in range(1,10)]\n",
    "list1"
   ]
  },
  {
   "cell_type": "markdown",
   "id": "693693cf-c877-40cd-b6d4-1a21be05a680",
   "metadata": {},
   "source": [
    "**Case-4: for loop if elif else condition**"
   ]
  },
  {
   "cell_type": "markdown",
   "id": "01537cb1-4ce7-4e60-b8e3-1392a262d26c",
   "metadata": {},
   "source": [
    "- in list comprehension we dont have **elif** representation\n",
    "- elif also represented as **else+if**\n",
    "- in elif we have **elif condition** and **elif output**\n",
    "- **else elif_output elif_condition**"
   ]
  },
  {
   "cell_type": "code",
   "execution_count": 91,
   "id": "f48e82ef-f41d-4c1b-b0a9-0fc7566d9389",
   "metadata": {},
   "outputs": [
    {
     "data": {
      "text/plain": [
       "['41:C grade',\n",
       " '42:C grade',\n",
       " '43:C grade',\n",
       " '44:C grade',\n",
       " '45:C grade',\n",
       " '46:C grade',\n",
       " '47:C grade',\n",
       " '48:C grade',\n",
       " '49:C grade',\n",
       " '50:C grade',\n",
       " '51:C grade',\n",
       " '52:C grade',\n",
       " '53:C grade',\n",
       " '54:C grade',\n",
       " '55:C grade',\n",
       " '56:C grade',\n",
       " '57:C grade',\n",
       " '58:C grade',\n",
       " '59:C grade',\n",
       " '60:C grade',\n",
       " '61:B grade',\n",
       " '62:B grade',\n",
       " '63:B grade',\n",
       " '64:B grade',\n",
       " '65:B grade',\n",
       " '66:B grade',\n",
       " '67:B grade',\n",
       " '68:B grade',\n",
       " '69:B grade',\n",
       " '70:B grade',\n",
       " '71:B grade',\n",
       " '72:B grade',\n",
       " '73:B grade',\n",
       " '74:B grade',\n",
       " '75:B grade',\n",
       " '76:B grade',\n",
       " '77:B grade',\n",
       " '78:B grade',\n",
       " '79:B grade',\n",
       " '80:B grade',\n",
       " '81:B grade',\n",
       " '82:B grade',\n",
       " '83:B grade',\n",
       " '84:B grade',\n",
       " '85:B grade',\n",
       " '86:A grade',\n",
       " '87:A grade',\n",
       " '88:A grade',\n",
       " '89:A grade',\n",
       " '90:A grade',\n",
       " '91:A grade',\n",
       " '92:A grade',\n",
       " '93:A grade',\n",
       " '94:A grade',\n",
       " '95:A grade',\n",
       " '96:A grade',\n",
       " '97:A grade',\n",
       " '98:A grade',\n",
       " '99:A grade']"
      ]
     },
     "execution_count": 91,
     "metadata": {},
     "output_type": "execute_result"
    }
   ],
   "source": [
    "list1=[f'{i}:A grade' if i>85  else f'{i}:B grade' if i>60 else f'{i}:C grade' for i in range(41,100)]\n",
    "list1"
   ]
  },
  {
   "cell_type": "code",
   "execution_count": 95,
   "id": "76bbbd23-3a41-468c-8c8c-59fab0c9955b",
   "metadata": {},
   "outputs": [
    {
     "data": {
      "text/plain": [
       "['45:C grade',\n",
       " '55:C grade',\n",
       " '65:B grade',\n",
       " '75:B grade',\n",
       " '85:B grade',\n",
       " '95:A grade']"
      ]
     },
     "execution_count": 95,
     "metadata": {},
     "output_type": "execute_result"
    }
   ],
   "source": [
    "l=[45,55,65,75,85,95]\n",
    "list1=[f'{i}:A grade' if i>85  else f'{i}:B grade' if i>60 else f'{i}:C grade' for i in l]\n",
    "list1"
   ]
  },
  {
   "cell_type": "code",
   "execution_count": null,
   "id": "41414285-bebf-43ed-aba7-6276a7f74442",
   "metadata": {},
   "outputs": [],
   "source": [
    "# <if output> <if condition> <else> <elif output> <elif condition> <else> <else output> <for loop>"
   ]
  },
  {
   "cell_type": "code",
   "execution_count": 97,
   "id": "bf2fd985-293c-4751-bba1-8dcf45e91aab",
   "metadata": {},
   "outputs": [
    {
     "data": {
      "text/plain": [
       "['45:C grade',\n",
       " '55:C grade',\n",
       " '65:B grade',\n",
       " '75:B grade',\n",
       " '85:B grade',\n",
       " '95:A grade']"
      ]
     },
     "execution_count": 97,
     "metadata": {},
     "output_type": "execute_result"
    }
   ],
   "source": [
    "l=[45,55,65,75,85,95]\n",
    "list1=[f'{i}:A grade' if i>85\\\n",
    "       else f'{i}:B grade' if i>60\\\n",
    "       else f'{i}:C grade' for i in l]\n",
    "list1"
   ]
  },
  {
   "cell_type": "code",
   "execution_count": null,
   "id": "c7c0c79c-b9ad-48d0-908e-2393fe237237",
   "metadata": {},
   "outputs": [],
   "source": []
  }
 ],
 "metadata": {
  "kernelspec": {
   "display_name": "Python [conda env:base] *",
   "language": "python",
   "name": "conda-base-py"
  },
  "language_info": {
   "codemirror_mode": {
    "name": "ipython",
    "version": 3
   },
   "file_extension": ".py",
   "mimetype": "text/x-python",
   "name": "python",
   "nbconvert_exporter": "python",
   "pygments_lexer": "ipython3",
   "version": "3.12.7"
  }
 },
 "nbformat": 4,
 "nbformat_minor": 5
}
