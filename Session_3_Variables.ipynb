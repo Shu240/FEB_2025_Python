{
 "cells": [
  {
   "cell_type": "markdown",
   "id": "711d3272-647e-4e4a-8136-00557e7d3036",
   "metadata": {},
   "source": [
    "# Variables"
   ]
  },
  {
   "cell_type": "markdown",
   "id": "d8fad26a-2841-4669-9bd2-b7835cb95a84",
   "metadata": {},
   "source": [
    "- variables are used to store the data\n",
    "- the data can be changed\n",
    "- These variables can be used to manipulate python code "
   ]
  },
  {
   "cell_type": "code",
   "execution_count": 3,
   "id": "9db401cc-3d16-4483-aded-e5bf1f9c6380",
   "metadata": {},
   "outputs": [
    {
     "data": {
      "text/plain": [
       "100"
      ]
     },
     "execution_count": 3,
     "metadata": {},
     "output_type": "execute_result"
    }
   ],
   "source": [
    "number=100\n",
    "# 100 is stoed in variable called number\n",
    "number"
   ]
  },
  {
   "cell_type": "code",
   "execution_count": 5,
   "id": "a3b741d0-3512-4011-a0ff-66e29cf7edee",
   "metadata": {},
   "outputs": [
    {
     "data": {
      "text/plain": [
       "200"
      ]
     },
     "execution_count": 5,
     "metadata": {},
     "output_type": "execute_result"
    }
   ],
   "source": [
    "NUMBER=200\n",
    "NUMBER"
   ]
  },
  {
   "cell_type": "code",
   "execution_count": 7,
   "id": "f83b4df6-6407-467a-a939-6e4179a78f0f",
   "metadata": {},
   "outputs": [
    {
     "data": {
      "text/plain": [
       "(100, 200)"
      ]
     },
     "execution_count": 7,
     "metadata": {},
     "output_type": "execute_result"
    }
   ],
   "source": [
    "number,NUMBER"
   ]
  },
  {
   "cell_type": "code",
   "execution_count": 9,
   "id": "eafdffb2-89dc-4682-b978-c08ea1522ef3",
   "metadata": {},
   "outputs": [
    {
     "data": {
      "text/plain": [
       "300"
      ]
     },
     "execution_count": 9,
     "metadata": {},
     "output_type": "execute_result"
    }
   ],
   "source": [
    "numBER=300\n",
    "numBER"
   ]
  },
  {
   "cell_type": "code",
   "execution_count": 11,
   "id": "13a14dc1-0845-4d41-ada1-fbc9bfcf87fb",
   "metadata": {},
   "outputs": [
    {
     "data": {
      "text/plain": [
       "(100, 200, 300)"
      ]
     },
     "execution_count": 11,
     "metadata": {},
     "output_type": "execute_result"
    }
   ],
   "source": [
    "number,NUMBER,numBER"
   ]
  },
  {
   "cell_type": "code",
   "execution_count": 13,
   "id": "cb4c4765-7a83-42ec-8687-e85035b37373",
   "metadata": {},
   "outputs": [
    {
     "data": {
      "text/plain": [
       "500"
      ]
     },
     "execution_count": 13,
     "metadata": {},
     "output_type": "execute_result"
    }
   ],
   "source": [
    "num12=500\n",
    "num12"
   ]
  },
  {
   "cell_type": "code",
   "execution_count": 15,
   "id": "dd587daa-7e1f-409e-9e64-dace7fa3f9fa",
   "metadata": {},
   "outputs": [
    {
     "ename": "SyntaxError",
     "evalue": "invalid decimal literal (3919033163.py, line 1)",
     "output_type": "error",
     "traceback": [
      "\u001b[1;36m  Cell \u001b[1;32mIn[15], line 1\u001b[1;36m\u001b[0m\n\u001b[1;33m    123number=50\u001b[0m\n\u001b[1;37m      ^\u001b[0m\n\u001b[1;31mSyntaxError\u001b[0m\u001b[1;31m:\u001b[0m invalid decimal literal\n"
     ]
    }
   ],
   "source": [
    "123number=50\n",
    "123number"
   ]
  },
  {
   "cell_type": "markdown",
   "id": "797bc8f6-7d9d-4817-aa53-30025d8cb7f6",
   "metadata": {},
   "source": [
    "**NOTE**\n",
    "- Variables are generally in black colour\n",
    "- Green colour should not be variables\n",
    "- number as suffix can work\n",
    "- numbers as prefix will fail"
   ]
  },
  {
   "cell_type": "code",
   "execution_count": 18,
   "id": "7ceb99f2-876b-40e8-a4e3-292f8623290e",
   "metadata": {},
   "outputs": [
    {
     "ename": "SyntaxError",
     "evalue": "invalid syntax (988349833.py, line 1)",
     "output_type": "error",
     "traceback": [
      "\u001b[1;36m  Cell \u001b[1;32mIn[18], line 1\u001b[1;36m\u001b[0m\n\u001b[1;33m    number$=600\u001b[0m\n\u001b[1;37m          ^\u001b[0m\n\u001b[1;31mSyntaxError\u001b[0m\u001b[1;31m:\u001b[0m invalid syntax\n"
     ]
    }
   ],
   "source": [
    "number$=600\n",
    "number$"
   ]
  },
  {
   "cell_type": "markdown",
   "id": "bae2a78d-ea92-41b4-8dbd-d2f8c66c9a78",
   "metadata": {},
   "source": [
    "- Special characters are not allowed"
   ]
  },
  {
   "cell_type": "code",
   "execution_count": 21,
   "id": "e933609e-cbc5-43cc-927a-019b36453422",
   "metadata": {},
   "outputs": [
    {
     "ename": "SyntaxError",
     "evalue": "invalid syntax (3486595279.py, line 1)",
     "output_type": "error",
     "traceback": [
      "\u001b[1;36m  Cell \u001b[1;32mIn[21], line 1\u001b[1;36m\u001b[0m\n\u001b[1;33m    number one=200\u001b[0m\n\u001b[1;37m           ^\u001b[0m\n\u001b[1;31mSyntaxError\u001b[0m\u001b[1;31m:\u001b[0m invalid syntax\n"
     ]
    }
   ],
   "source": [
    "number one=200\n",
    "number one"
   ]
  },
  {
   "cell_type": "markdown",
   "id": "42cbe40b-4d39-4615-8cc8-4e41c7a995cb",
   "metadata": {},
   "source": [
    "- 'Space' also a special character"
   ]
  },
  {
   "cell_type": "code",
   "execution_count": 24,
   "id": "933966ac-dab5-4884-9a6b-b551fbc0459c",
   "metadata": {},
   "outputs": [
    {
     "data": {
      "text/plain": [
       "300"
      ]
     },
     "execution_count": 24,
     "metadata": {},
     "output_type": "execute_result"
    }
   ],
   "source": [
    "number_one=300\n",
    "number_one"
   ]
  },
  {
   "cell_type": "code",
   "execution_count": null,
   "id": "5e070cbe-1b69-483b-8b06-ce156f323b6d",
   "metadata": {},
   "outputs": [],
   "source": []
  }
 ],
 "metadata": {
  "kernelspec": {
   "display_name": "Python [conda env:base] *",
   "language": "python",
   "name": "conda-base-py"
  },
  "language_info": {
   "codemirror_mode": {
    "name": "ipython",
    "version": 3
   },
   "file_extension": ".py",
   "mimetype": "text/x-python",
   "name": "python",
   "nbconvert_exporter": "python",
   "pygments_lexer": "ipython3",
   "version": "3.12.7"
  }
 },
 "nbformat": 4,
 "nbformat_minor": 5
}
